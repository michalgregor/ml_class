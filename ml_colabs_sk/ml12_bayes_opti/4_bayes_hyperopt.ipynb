{
 "cells": [
  {
   "cell_type": "markdown",
   "metadata": {
    "tags": [
     "sk"
    ]
   },
   "source": [
    "**POZNÁMKA: Tento notebook je určený pre platformu Google Colab. Je však možné ho spustiť (možno s drobnými úpravami) aj ako štandardný Jupyter notebook.** \n",
    "\n"
   ]
  },
  {
   "cell_type": "code",
   "execution_count": null,
   "metadata": {},
   "outputs": [],
   "source": [
    "#@title -- Installation of Packages -- { display-mode: \"form\" }\n",
    "import sys\n",
    "!{sys.executable} -m pip install hyperopt\n",
    "!{sys.executable} -m pip install git+https://github.com/michalgregor/class_utils.git"
   ]
  },
  {
   "cell_type": "code",
   "execution_count": null,
   "metadata": {
    "colab": {},
    "colab_type": "code",
    "id": "0Ch8q9Pzy1-o"
   },
   "outputs": [],
   "source": [
    "#@title -- Import of Necessary Packages -- { display-mode: \"form\" }\n",
    "import numpy as np\n",
    "import pandas as pd\n",
    "from sklearn.model_selection import train_test_split\n",
    "from sklearn.preprocessing import StandardScaler, OrdinalEncoder\n",
    "from sklearn.impute import SimpleImputer\n",
    "from sklearn.compose import make_column_transformer\n",
    "from sklearn.pipeline import make_pipeline\n",
    "from sklearn.tree import DecisionTreeClassifier\n",
    "from sklearn.metrics import accuracy_score, precision_score, recall_score\n",
    "from hyperopt import hp, tpe\n",
    "from hyperopt.pyll.base import scope\n",
    "from hyperopt.fmin import fmin\n",
    "from hyperopt import space_eval\n",
    "from sklearn.model_selection import cross_validate"
   ]
  },
  {
   "cell_type": "code",
   "execution_count": null,
   "metadata": {
    "colab": {
     "base_uri": "https://localhost:8080/",
     "height": 34
    },
    "colab_type": "code",
    "id": "9tNXv6tWzHfC",
    "outputId": "97bfd8dd-b4db-4a82-dd41-cda5e57c13d1"
   },
   "outputs": [],
   "source": [
    "#@title -- Downloading Data -- { display-mode: \"form\" }\n",
    "from class_utils.download import download_file_maybe_extract\n",
    "download_file_maybe_extract(\"https://www.dropbox.com/s/u8u7vcwy3sosbar/titanic.zip?dl=1\",\n",
    "                            directory=\"data/titanic\")\n",
    "\n",
    "# also create a directory for storing any outputs\n",
    "import os\n",
    "os.makedirs(\"output\", exist_ok=True)"
   ]
  },
  {
   "cell_type": "markdown",
   "metadata": {
    "colab_type": "text",
    "id": "60mD7FJjy1-5",
    "tags": [
     "sk"
    ]
   },
   "source": [
    "## Bayesovská optimalizácia hyperparametrov\n",
    "\n",
    "Ako pomocou balíčka `scikit-learn` zostaviť a natrénovať jednoduchý model už vieme. Vieme tiež, že modely majú hyperparametre: t.j. parametre, ktoré sa neladia počas učenia, ale sa musia nejakým spôsobom nastaviť dopredu alebo sa, v ideálnom prípade, vyberú pomocou niektorej metódy na optimalizáciu hyperparametrov.\n",
    "\n",
    "Tréning modelu je však často veľmi výpočtovo náročný a musí sa opakovať pre mnoho rôznych množín hyperparametrov kým sa nájde optimálna konfigurácia. Práve preto sa na ladenie hyperparametrov často používa bayesovská optimalizácia – ako sme už povedali, je to prístup, ktorého cieľom je nájsť optimum účelovej funkcie pri čo najmenšom počte skutočných dopytov na jej hodnotu.\n",
    "\n",
    "V tomto notebooku ukážeme praktický prístup ku bayesovskej optimalizácii hyperparametrov pomocou populárneho balíčka `hyperopt`.\n",
    "\n",
    "### Načítanie dát a predspracovanie\n",
    "\n",
    "Ako obvykle, začneme načítaním a predspracovaním dát. Budeme pracovať so známou dátovou množinou [Titanic](https://www.kaggle.com/c/titanic). Keďže v našom prípade nebude potrebné proces načítania a predspracovania dát prejsť podrobne, kód nasledujúcej bunky je skrytý.\n",
    "\n"
   ]
  },
  {
   "cell_type": "code",
   "execution_count": null,
   "metadata": {
    "colab": {},
    "colab_type": "code",
    "id": "rAxn47cLy1_A"
   },
   "outputs": [],
   "source": [
    "#@title -- Loading and preprocessing: X_train, Y_train, X_test, Y_test -- { display-mode: \"form\" }\n",
    "df = pd.read_csv(\"data/titanic/train.csv\")\n",
    "df_train, df_test = train_test_split(df, test_size=0.25,\n",
    "                     stratify=df[\"Survived\"], random_state=4)\n",
    "\n",
    "# we split the columns into categorical and numeric inputs and the output\n",
    "categorical_inputs = [\"Pclass\", \"Sex\", \"Embarked\"]\n",
    "numeric_inputs = [\"Age\", \"SibSp\", 'Parch', 'Fare']\n",
    "output = [\"Survived\"]\n",
    "\n",
    "# we create our preprocessing pipeline\n",
    "input_preproc = make_column_transformer(\n",
    "    (make_pipeline(\n",
    "        SimpleImputer(strategy=\"most_frequent\"),\n",
    "        OrdinalEncoder(categories='auto')),\n",
    "     categorical_inputs),\n",
    "    \n",
    "    (make_pipeline(\n",
    "        SimpleImputer(),\n",
    "        StandardScaler()),\n",
    "     numeric_inputs)\n",
    ")\n",
    "\n",
    "# we fit the pipeline on the train set and then apply it to both train and test\n",
    "X_train = input_preproc.fit_transform(df_train[categorical_inputs + numeric_inputs])\n",
    "Y_train = df_train[output]\n",
    "\n",
    "X_test = input_preproc.transform(df_test[categorical_inputs + numeric_inputs])\n",
    "Y_test = df_test[output]"
   ]
  },
  {
   "cell_type": "markdown",
   "metadata": {
    "colab_type": "text",
    "id": "ZY8adwayy1_p",
    "tags": [
     "sk"
    ]
   },
   "source": [
    "### Bayesovská optimalizácia\n",
    "\n",
    "Prvá vec, ktorú bude potrebné urobiť pre samotnou aplikáciou bayesovskej optimalizácie, je samozrejme definovať účelovú funkciu, ktorú bude optimalizácia minimalizovať.\n",
    "\n",
    "Keďže naším cieľom bude nájsť hyperparametre, pri ktorých náš model dosiahne najlepšie výsledky, vstupným argumentom budú tieto hyperparametre. S ich pomocou skonštruujeme model (rozhodovací strom na báze triedy `DecisionTreeClassifier`).\n",
    "\n",
    "Správnosť modelu vyhodnotíme pomocou $k$-násobnej krížovej validácie. (Cross-validation. Tréningové dáta rozdelíme na $k$ častí, pričom zakaždým jednu časť použijeme na testovanie a zvyšné na trénovanie. Keď takto otestujeme model na všetkých kombináciách tréningových a testovacích množín, výslednú správnosť určíme ako priemer správností z jednotlivých behov.)\n",
    "\n"
   ]
  },
  {
   "cell_type": "code",
   "execution_count": null,
   "metadata": {
    "colab": {},
    "colab_type": "code",
    "id": "k1cDccIfy1_4"
   },
   "outputs": [],
   "source": [
    "def objective(params):\n",
    "    model = DecisionTreeClassifier(**params)\n",
    "    \n",
    "    score = cross_validate(model, X_train, Y_train,\n",
    "                           scoring='f1_macro',\n",
    "                           cv=10, n_jobs=10)['test_score'].mean()\n",
    "    print(\"Score {:.3f} params {}\".format(score, params))\n",
    "\n",
    "    # minus because we want the score to be as high as\n",
    "    # possible, but the objective function is to be minimized\n",
    "    return -score"
   ]
  },
  {
   "cell_type": "markdown",
   "metadata": {
    "colab_type": "text",
    "id": "B15a07HTy2AA",
    "tags": [
     "sk"
    ]
   },
   "source": [
    "Ďalej potrebujeme nakonfigurovať prehľadávaný priestor: t.j. špecifikovať, akými hyperparametrami disponuje naša metóda a určiť, aké hodnoty môžu nadobúdať. Začnime teda tým, že si zobrazíme dokumentáciu ku triede `DecisionTreeClassifier`.\n",
    "\n"
   ]
  },
  {
   "cell_type": "code",
   "execution_count": null,
   "metadata": {
    "colab": {},
    "colab_type": "code",
    "id": "j-Cdw2Dsy2AC",
    "outputId": "c5e46b8d-d6f3-4bcb-a183-7789207a2739"
   },
   "outputs": [],
   "source": [
    "?DecisionTreeClassifier"
   ]
  },
  {
   "cell_type": "markdown",
   "metadata": {
    "colab_type": "text",
    "id": "cETQI1uQy2AM",
    "tags": [
     "sk"
    ]
   },
   "source": [
    "---\n",
    "### Úloha 1: Konfigurácia prehľadávaného priestoru\n",
    "\n",
    "**V nasledujúcej bunke definujte prehľadávaný priestor `space` pre hyperparametre rozhodovacieho stromu.** \n",
    "\n",
    "---\n",
    "Priestor sa definuje slovníkom v nasledujúcom tvare:\n",
    "\n",
    "```\n",
    "space = {\n",
    "    # kategorická premenná:\n",
    "    'cat_var': hp.choice(\"cat_var\", [\"opt1\", \"opt2\", \"opt3\"]),\n",
    "\n",
    "    # celočíselná premenná z rovnomerného rozdelenia:\n",
    "    'int_var': scope.int(hp.quniform(\"int_var\", 1, 15, 1)),\n",
    "\n",
    "    # reálnočíselná premenná z rovnomerného rozdelenia:\n",
    "    'float_var': hp.uniform('float_var', 0.2, 1.0),\n",
    "}\n",
    "```\n",
    "Ďalšie možnosti a podrobnejšia dokumentácia ku definovaniu parametrických priestorov sa dajú nájsť na [wiki balíčka hyperopt](https://github.com/hyperopt/hyperopt/wiki/FMin#21-parameter-expressions).\n",
    "\n"
   ]
  },
  {
   "cell_type": "code",
   "execution_count": null,
   "metadata": {
    "tags": [
     "student"
    ]
   },
   "outputs": [],
   "source": [
    "space = {\n",
    "    \n",
    "    \n",
    "    # ---\n",
    "    \n",
    "    \n",
    "}"
   ]
  },
  {
   "cell_type": "markdown",
   "metadata": {
    "colab_type": "text",
    "id": "FAZTQyvDIQ9X",
    "tags": [
     "sk"
    ]
   },
   "source": [
    "### Spustenie optimalizácie\n",
    "\n",
    "Ďalej už môžeme spustiť samotnú optimalizáciu. Špecifikujeme pritom účelovú funkciu, prehľadávaný priestor, maximálny počet vyhodnotení účelovej funkcie a algoritmus. My používame algoritmus `tpe`, tzv. Tree-structured Parzen Estimator. Táto metóda dosahuje pri vysokorozmerných priestoroch lepšie výsledky než gaussovské procesy, základné ciele však sleduje rovnaké.\n",
    "\n"
   ]
  },
  {
   "cell_type": "code",
   "execution_count": null,
   "metadata": {
    "colab": {},
    "colab_type": "code",
    "id": "B2nSn_mLy2AU"
   },
   "outputs": [],
   "source": [
    "best = fmin(fn=objective,\n",
    "            space=space,\n",
    "            algo=tpe.suggest,\n",
    "            max_evals=100\n",
    "        )"
   ]
  },
  {
   "cell_type": "markdown",
   "metadata": {
    "colab_type": "text",
    "id": "D-MoKhZII6Wm",
    "tags": [
     "sk"
    ]
   },
   "source": [
    "Funkcia `fmin` navráti najlepšie nájdené riešenie. Následne ho dekódujeme pomocou funkcie `space_eval`, čím získame reprezentáciu, ktorú je už možné priamo použiť pri vytváraní nášho modelu.\n",
    "\n"
   ]
  },
  {
   "cell_type": "code",
   "execution_count": null,
   "metadata": {
    "colab": {},
    "colab_type": "code",
    "id": "txxTstqAy2Ab"
   },
   "outputs": [],
   "source": [
    "best_params = space_eval(space, best)"
   ]
  },
  {
   "cell_type": "markdown",
   "metadata": {
    "colab_type": "text",
    "id": "sJ-gEfBQy2A5",
    "tags": [
     "sk"
    ]
   },
   "source": [
    "### Tréning modelu s najlepšími hyperparametrami\n",
    "\n",
    "Keď sme identifikovali najlepšie parametre, použijeme ich teraz, aby sme natrénovali nový model: tento raz už s použitím celej tréningovej množiny.\n",
    "\n"
   ]
  },
  {
   "cell_type": "code",
   "execution_count": null,
   "metadata": {
    "colab": {},
    "colab_type": "code",
    "id": "cg4jffZky2A6"
   },
   "outputs": [],
   "source": [
    "model = DecisionTreeClassifier(**best_params)\n",
    "model.fit(X_train, Y_train)"
   ]
  },
  {
   "cell_type": "markdown",
   "metadata": {
    "colab_type": "text",
    "id": "avoKgmxQy2BB",
    "tags": [
     "sk"
    ]
   },
   "source": [
    "### Testovanie\n",
    "\n",
    "Na záver si model otestujeme na testovacích dátach. Zobrazíme si maticu zámen a naše štandardné metriky.\n",
    "\n"
   ]
  },
  {
   "cell_type": "code",
   "execution_count": null,
   "metadata": {
    "colab": {},
    "colab_type": "code",
    "id": "cDVM_08jy2BC"
   },
   "outputs": [],
   "source": [
    "y_test = model.predict(X_test)"
   ]
  },
  {
   "cell_type": "code",
   "execution_count": null,
   "metadata": {
    "colab": {},
    "colab_type": "code",
    "id": "xMWRhiA-y2BI",
    "outputId": "241040d5-250d-48dc-c8d1-b735f1868fa3"
   },
   "outputs": [],
   "source": [
    "cm = pd.crosstab(Y_test.values.reshape(-1), y_test,\n",
    "                 rownames=['actual'],\n",
    "                 colnames=['predicted'])\n",
    "print(cm)"
   ]
  },
  {
   "cell_type": "code",
   "execution_count": null,
   "metadata": {
    "colab": {},
    "colab_type": "code",
    "id": "BiqPdl5Ty2BO",
    "outputId": "37970425-a391-4a47-dddc-27099310f7b2"
   },
   "outputs": [],
   "source": [
    "print(\"Accuracy = {}\".format(accuracy_score(Y_test, y_test)))\n",
    "print(\"Precision = {}\".format(precision_score(Y_test, y_test)))\n",
    "print(\"Recall = {}\".format(recall_score(Y_test, y_test)))"
   ]
  },
  {
   "cell_type": "markdown",
   "metadata": {
    "tags": [
     "sk"
    ]
   },
   "source": [
    "Úspešnosť predikcie by mala byť lepšia než pri predvolených hyperparametroch (aspoň v priemer – kvôli stochasticite je ťažké povedať niečo zmysluplné o jednom konkrétnom behu). Môžeme si to skúsiť aj overiť.\n",
    "\n"
   ]
  },
  {
   "cell_type": "code",
   "execution_count": null,
   "metadata": {},
   "outputs": [],
   "source": [
    "def_model = DecisionTreeClassifier()\n",
    "def_model.fit(X_train, Y_train)\n",
    "y_test = def_model.predict(X_test)\n",
    "\n",
    "print(\"Accuracy = {}\".format(accuracy_score(Y_test, y_test)))\n",
    "print(\"Precision = {}\".format(precision_score(Y_test, y_test)))\n",
    "print(\"Recall = {}\".format(recall_score(Y_test, y_test)))"
   ]
  },
  {
   "cell_type": "markdown",
   "metadata": {
    "colab_type": "text",
    "id": "-m8Vo_Uqy2Ba",
    "tags": [
     "sk"
    ]
   },
   "source": [
    "---\n",
    "### Úloha 2: Optimalizácia hyperparametrov pre XGBoost\n",
    "\n",
    "**Vyskúšajte teraz celý postup zopakovať s inou klasifikačnou metódou: s metódou XGBClassifier z balíčka `xgboost`. Predefinovať bude potrebné najmä metódu `objective`, aby používala nový model a prehľadávaný priestor `space` tak aby zodpovedal hyperparametrom novej metódy.** \n",
    "\n",
    "---\n"
   ]
  },
  {
   "cell_type": "code",
   "execution_count": null,
   "metadata": {
    "colab": {},
    "colab_type": "code",
    "id": "bbUUNGwiy2Bb"
   },
   "outputs": [],
   "source": [
    "from xgboost import XGBClassifier"
   ]
  },
  {
   "cell_type": "code",
   "execution_count": null,
   "metadata": {
    "colab": {},
    "colab_type": "code",
    "id": "-58Jap7Vy2Bf"
   },
   "outputs": [],
   "source": []
  }
 ],
 "metadata": {
  "celltoolbar": "Tags",
  "colab": {
   "collapsed_sections": [],
   "name": "3_bayes_dtree.ipynb",
   "provenance": [],
   "version": "0.3.2"
  },
  "kernelspec": {
   "display_name": "Python 3 (ipykernel)",
   "language": "python",
   "name": "python3"
  },
  "language_info": {
   "codemirror_mode": {
    "name": "ipython",
    "version": 3
   },
   "file_extension": ".py",
   "mimetype": "text/x-python",
   "name": "python",
   "nbconvert_exporter": "python",
   "pygments_lexer": "ipython3",
   "version": "3.9.7"
  }
 },
 "nbformat": 4,
 "nbformat_minor": 1
}
