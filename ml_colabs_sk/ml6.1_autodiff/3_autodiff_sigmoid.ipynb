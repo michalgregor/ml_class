{
 "cells": [
  {
   "cell_type": "markdown",
   "metadata": {
    "colab_type": "text",
    "id": "2cQ_HVhLDW4e",
    "tags": [
     "sk"
    ]
   },
   "source": [
    "**POZNÁMKA: Tento notebook je určený pre platformu Google Colab. Je však možné ho spustiť (možno s drobnými úpravami) aj ako štandardný Jupyter notebook.** \n",
    "\n"
   ]
  },
  {
   "cell_type": "code",
   "execution_count": null,
   "metadata": {},
   "outputs": [],
   "source": [
    "#@title -- Installation of Packages -- { display-mode: \"form\" }\n",
    "import sys\n",
    "!{sys.executable} -m pip install git+https://github.com/michalgregor/class_utils.git"
   ]
  },
  {
   "cell_type": "code",
   "execution_count": null,
   "metadata": {
    "colab": {},
    "colab_type": "code",
    "id": "GdFecj4jDW4s"
   },
   "outputs": [],
   "source": [
    "#@title -- Import of Necessary Packages -- { display-mode: \"form\" }\n",
    "import pandas as pd\n",
    "import numpy as np\n",
    "from sklearn.model_selection import train_test_split\n",
    "from sklearn.impute import SimpleImputer\n",
    "from sklearn.preprocessing import StandardScaler, OrdinalEncoder, KBinsDiscretizer\n",
    "from sklearn.compose import make_column_transformer\n",
    "from sklearn.pipeline import make_pipeline\n",
    "from sklearn.metrics import mean_squared_error, mean_absolute_error\n",
    "from torch.autograd import Variable\n",
    "import matplotlib.pyplot as plt\n",
    "import torch"
   ]
  },
  {
   "cell_type": "code",
   "execution_count": null,
   "metadata": {
    "colab": {
     "base_uri": "https://localhost:8080/",
     "height": 384
    },
    "colab_type": "code",
    "id": "H60bOk4gDW5Q",
    "outputId": "eb28107c-964a-4cb1-e43f-eaf13d3b8602"
   },
   "outputs": [],
   "source": [
    "#@title -- Downloading Data -- { display-mode: \"form\" }\n",
    "from class_utils.download import download_file_maybe_extract\n",
    "download_file_maybe_extract(\"https://www.dropbox.com/s/p5q7gzupa2ndw55/sigmoid_regression_data.csv?dl=1\", directory=\"data\")\n",
    "\n",
    "# also create a directory for storing any outputs\n",
    "import os\n",
    "os.makedirs(\"output\", exist_ok=True)"
   ]
  },
  {
   "cell_type": "markdown",
   "metadata": {
    "colab_type": "text",
    "id": "eIpUv_15DW5y",
    "tags": [
     "sk"
    ]
   },
   "source": [
    "## Sigmoidná regresia pomocou autodiff-u z PyTorch-u\n",
    "\n",
    "Keď sme už ukázali ako v rámci PyTorch funguje automatická diferenciácia (autodiff), môžeme sa ju teraz pokúsiť aplikovať na sigmoidnú regresiu, ktoré sme už raz vyriešili pomocou symbolických gradientov. Začneme načítaním príslušnej dátovej množiny z CSV súboru.\n",
    "\n"
   ]
  },
  {
   "cell_type": "code",
   "execution_count": null,
   "metadata": {
    "colab": {
     "base_uri": "https://localhost:8080/",
     "height": 279
    },
    "colab_type": "code",
    "id": "vcZAHNKxDW54",
    "outputId": "43fd1d35-2f53-48c3-f11e-ab3f756f8d80"
   },
   "outputs": [],
   "source": [
    "#@title -- Loading and Preprocessing the Data: X_train, Y_train, X_test, Y_test -- { display-mode: \"form\" }\n",
    "df = pd.read_csv(\"data/sigmoid_regression_data.csv\")\n",
    "\n",
    "kbins = KBinsDiscretizer(6, encode='ordinal')\n",
    "y_stratify = kbins.fit_transform(df[['y']])\n",
    "\n",
    "df_train, df_test = train_test_split(\n",
    "    df, stratify=y_stratify, test_size=0.3, random_state=4)\n",
    "\n",
    "plt.scatter(df_train['x'], df_train['y'], marker='x', label=\"training data\")\n",
    "plt.scatter(df_test['x'], df_test['y'], c='r', label=\"testing data\")\n",
    "plt.xlabel('x')\n",
    "plt.ylabel('y')\n",
    "plt.grid(ls='--')\n",
    "plt.legend()\n",
    "\n",
    "categorical_inputs = []\n",
    "numeric_inputs = ['x']\n",
    "output = 'y'\n",
    "\n",
    "input_preproc = make_column_transformer(\n",
    "    (make_pipeline(\n",
    "        SimpleImputer(strategy=\"most_frequent\"),\n",
    "        OrdinalEncoder()),\n",
    "     categorical_inputs),\n",
    "    \n",
    "    (make_pipeline(\n",
    "        SimpleImputer(),\n",
    "        StandardScaler()),\n",
    "     numeric_inputs)\n",
    ")\n",
    "\n",
    "X_train = input_preproc.fit_transform(df_train[categorical_inputs+numeric_inputs])\n",
    "Y_train = df_train[[output]].values\n",
    "\n",
    "X_test = input_preproc.transform(df_test[categorical_inputs+numeric_inputs])\n",
    "Y_test = df_test[[output]].values"
   ]
  },
  {
   "cell_type": "markdown",
   "metadata": {
    "colab_type": "text",
    "id": "ot1Z5gz8DW6T",
    "tags": [
     "sk"
    ]
   },
   "source": [
    "Ako vieme, PyTorch operuje s tenzormi a nie s klasickými poľami, preto potrebujeme dáta najprv vhodne obaliť.\n",
    "\n"
   ]
  },
  {
   "cell_type": "code",
   "execution_count": null,
   "metadata": {
    "colab": {},
    "colab_type": "code",
    "id": "7WJouXFeDW6Z"
   },
   "outputs": [],
   "source": [
    "X_train_t = torch.as_tensor(X_train)\n",
    "Y_train_t = torch.as_tensor(Y_train)\n",
    "X_test_t = torch.as_tensor(X_test)\n",
    "Y_test_t = torch.as_tensor(Y_test)"
   ]
  },
  {
   "cell_type": "markdown",
   "metadata": {
    "colab_type": "text",
    "id": "MuuXpHHLDW6w",
    "tags": [
     "sk"
    ]
   },
   "source": [
    "### Sigmoidná funkcia\n",
    "\n",
    "Pripomeňme, že sigmoidná funkcia je definovaná nasledovne:\n",
    "\\begin{equation}\n",
    "\\sigma(x) = \\frac{1}{1 + e^{-x}}.\n",
    "\\end{equation}\n",
    "\n",
    "Keďže naša sigmoida môžem byť posunutá alebo môže mať inú strmosť, aplikujeme na jej vstup najprv lineárnu transformáciu, ktorej parametre $a$ a $c$ sa naučíme z dát. Náš úplný regresný model bude teda vyzerať takto:\n",
    "\\begin{align}\n",
    "u &= ax + c \\\n",
    "\\sigma(u) &= \\frac{1}{1 + e^{-u}}.\n",
    "\\end{align}\n",
    "\n",
    "Alebo ak všetko zložíme do jednej funkcie:\n",
    "\\begin{equation}\n",
    "f(x, a, c) = \\frac{1}{1 + e^{-ax - c}}\n",
    "\\end{equation}\n",
    "\n",
    "Zadefinujme si teraz náš regresný model pomocou PyTorch operácií.\n",
    "\n"
   ]
  },
  {
   "cell_type": "code",
   "execution_count": null,
   "metadata": {
    "colab": {},
    "colab_type": "code",
    "id": "5ya-H6SzDW60"
   },
   "outputs": [],
   "source": [
    "def sigmoid_model(X, a, c):\n",
    "    return torch.sigmoid(X*a + c)"
   ]
  },
  {
   "cell_type": "markdown",
   "metadata": {
    "colab_type": "text",
    "id": "deC0vGbIDW7I",
    "tags": [
     "sk"
    ]
   },
   "source": [
    "### Chybová funkcia a premenné\n",
    "\n",
    "Ako chybovú funkciu použijeme strednú kvadratickú chybu. Definovať ju môžeme takto:\n",
    "\n"
   ]
  },
  {
   "cell_type": "code",
   "execution_count": null,
   "metadata": {
    "colab": {},
    "colab_type": "code",
    "id": "8KYneHLADW7M"
   },
   "outputs": [],
   "source": [
    "def compute_loss(Y, y):\n",
    "    return ((y - Y)**2).mean()"
   ]
  },
  {
   "cell_type": "markdown",
   "metadata": {
    "colab_type": "text",
    "id": "wRBTvp9aDW7e",
    "tags": [
     "sk"
    ]
   },
   "source": [
    "Potrebujeme tiež vytvoriť premenné `a` a `c` (tenzory obalíme ako premenné, pretože budeme ich hodnoty z kódu aktualizovať) a určiť rýchlosť učenia.\n",
    "\n"
   ]
  },
  {
   "cell_type": "code",
   "execution_count": null,
   "metadata": {
    "colab": {},
    "colab_type": "code",
    "id": "rOP_9IsCDW7j"
   },
   "outputs": [],
   "source": [
    "a = Variable(torch.as_tensor(np.random.uniform(0, 1)), requires_grad=True)\n",
    "c = Variable(torch.as_tensor(np.random.uniform(0, 1)), requires_grad=True)\n",
    "learning_rate = 0.1"
   ]
  },
  {
   "cell_type": "markdown",
   "metadata": {
    "colab_type": "text",
    "id": "wM9-6AusDW74",
    "tags": [
     "sk"
    ]
   },
   "source": [
    "### Optimalizácia metódou klesajúceho gradientu\n",
    "\n",
    "Ďalej môžeme napísať slučku, ktorá náš model zoptimalizuje metódou klesajúceho gradientu. Pripomeňme, že gradient sa dá vyrátať jednoducho spustením modelu dopredne a následným volaním metódy `backward()` výstupe – v našom prípade na chybe `loss`.\n",
    "\n",
    "Musíme si však dať pozor, aby:\n",
    "\n",
    "* Sme prestali sledovať gradienty (pomocou `with torch.no_grad():`) keď aktualizujeme parametre `a` a `c`: inak sa PyTorch bude snažiť aj tieto operácie začleniť do výpočtového grafu, čo skončí chybou.\n",
    "* Sme po každej epoche vynulovali gradienty všetkých premenných. Keďže gradienty sa kumulujú, v opačnom prípade by sa nové gradienty len pridali ku hodnotám z predošlej epochy.\n"
   ]
  },
  {
   "cell_type": "code",
   "execution_count": null,
   "metadata": {
    "colab": {
     "base_uri": "https://localhost:8080/",
     "height": 104
    },
    "colab_type": "code",
    "id": "qayygp22DW7-",
    "outputId": "40184a60-bff6-4a02-b98e-78617c6df5ee"
   },
   "outputs": [],
   "source": [
    "for epoch in range(2500):\n",
    "    y = sigmoid_model(X_train_t, a, c)\n",
    "    loss = compute_loss(Y_train_t, y)\n",
    "    loss.backward()\n",
    "    \n",
    "    with torch.no_grad():\n",
    "        a -= learning_rate * a.grad\n",
    "        c -= learning_rate * c.grad\n",
    "        \n",
    "    a.grad.zero_()\n",
    "    c.grad.zero_()\n",
    "    \n",
    "    if epoch % 100 == 0:\n",
    "        print(\"Epoch {}; loss {}.\".format(epoch, loss.item()))"
   ]
  },
  {
   "cell_type": "markdown",
   "metadata": {
    "colab_type": "text",
    "id": "yLwo9a6XDW8P",
    "tags": [
     "sk"
    ]
   },
   "source": [
    "Takto sme získali hodnoty `a` a `c`.\n",
    "\n"
   ]
  },
  {
   "cell_type": "code",
   "execution_count": null,
   "metadata": {
    "colab": {
     "base_uri": "https://localhost:8080/",
     "height": 69
    },
    "colab_type": "code",
    "id": "f8yhW5B_DW8S",
    "outputId": "908be50c-c0a4-4f07-b438-4193d0ca6c61"
   },
   "outputs": [],
   "source": [
    "print(\"a = {}\\nc = {}\\nloss = {}\".format(\n",
    "    a.item(), c.item(), loss.item()))"
   ]
  },
  {
   "cell_type": "markdown",
   "metadata": {
    "colab_type": "text",
    "id": "j8M9ik0gDW8k",
    "tags": [
     "sk"
    ]
   },
   "source": [
    "Pozrime sa, ako bude vyzerať naša regresná krivka.\n",
    "\n"
   ]
  },
  {
   "cell_type": "code",
   "execution_count": null,
   "metadata": {
    "colab": {
     "base_uri": "https://localhost:8080/",
     "height": 296
    },
    "colab_type": "code",
    "id": "2jnAieonDW8o",
    "outputId": "78cc57c5-1e99-4b20-b876-f3539fa11f8b"
   },
   "outputs": [],
   "source": [
    "xx = torch.linspace(-5, 5, 100)\n",
    "yy = torch.sigmoid(xx*a + c)\n",
    "\n",
    "plt.plot(xx.detach().numpy(), yy.detach().numpy())\n",
    "plt.xlabel('x')\n",
    "plt.ylabel('y')\n",
    "plt.grid(ls='--')\n",
    "\n",
    "plt.scatter(X_train, Y_train)"
   ]
  },
  {
   "cell_type": "markdown",
   "metadata": {
    "colab_type": "text",
    "id": "Z_xEeFI9DW86",
    "tags": [
     "sk"
    ]
   },
   "source": [
    "### Použitie vstavaného optimalizátora\n",
    "\n",
    "Našťastie platí, že keď používame PyTorch, nemusíme si ručne písať vlastné optimalizačné procedúry. PyTorch má vstavaných viacero z tých najznámejších optimalizátorov. Keby sme napríklad chceli použiť optimalizátor `Adam`, jednoducho by sme ho inštancializovali pomocou tenzorov, ktoré má aktualizovať a v každej epoche by sme zavolali jeho metódu `step()`.\n",
    "\n",
    "Prirodzene, že bude stále potrebné v každej epoche nulovať gradienty, čo sa bude teraz robiť pomocou metódy optimalizátora `zero_grad()`. Ručne nie je nutné definovať ani stredná kvadratickú chybu: PyTorch má vstavanú aj väčšinu najznámejších chybových funkcií.\n",
    "\n"
   ]
  },
  {
   "cell_type": "code",
   "execution_count": null,
   "metadata": {
    "colab": {},
    "colab_type": "code",
    "id": "EQswgCwFDW8_"
   },
   "outputs": [],
   "source": [
    "a = Variable(torch.as_tensor(np.random.uniform(0, 1)), requires_grad=True)\n",
    "c = Variable(torch.as_tensor(np.random.uniform(0, 1)), requires_grad=True)\n",
    "optimizer = torch.optim.Adam([a, c], lr=0.1)"
   ]
  },
  {
   "cell_type": "code",
   "execution_count": null,
   "metadata": {
    "colab": {
     "base_uri": "https://localhost:8080/",
     "height": 104
    },
    "colab_type": "code",
    "id": "3IFRzMmCDW9L",
    "outputId": "a4428d42-fe5d-45d1-9191-466f0709bef2"
   },
   "outputs": [],
   "source": [
    "for epoch in range(500):\n",
    "    optimizer.zero_grad()\n",
    "    \n",
    "    y = sigmoid_model(X_train_t, a, c)\n",
    "    loss = torch.nn.functional.mse_loss(Y_train_t, y)\n",
    "    loss.backward()\n",
    "    \n",
    "    optimizer.step()\n",
    "    \n",
    "    if epoch % 100 == 0:\n",
    "        print(\"Epoch {}; loss {}.\".format(epoch, loss.item()))"
   ]
  },
  {
   "cell_type": "code",
   "execution_count": null,
   "metadata": {
    "colab": {
     "base_uri": "https://localhost:8080/",
     "height": 69
    },
    "colab_type": "code",
    "id": "5odXYHD2DW9W",
    "outputId": "b6693d9b-8e3e-4689-a739-976b9749104f"
   },
   "outputs": [],
   "source": [
    "print(\"a = {}\\nc = {}\\nloss = {}\".format(\n",
    "    a.item(), c.item(), loss.item()))"
   ]
  },
  {
   "cell_type": "markdown",
   "metadata": {
    "colab_type": "text",
    "id": "whfnbsFoDW9o",
    "tags": [
     "sk"
    ]
   },
   "source": [
    "A znovu si môžeme overiť, ako vyzerá naša regresná krivka.\n",
    "\n"
   ]
  },
  {
   "cell_type": "code",
   "execution_count": null,
   "metadata": {
    "colab": {
     "base_uri": "https://localhost:8080/",
     "height": 296
    },
    "colab_type": "code",
    "id": "LpeCx1AdDW9s",
    "outputId": "4f222068-75f3-4c10-9f6a-cb7349abdbb1"
   },
   "outputs": [],
   "source": [
    "xx = torch.linspace(-5, 5, 100)\n",
    "yy = torch.sigmoid(xx*a + c)\n",
    "\n",
    "plt.plot(xx.detach().numpy(), yy.detach().numpy())\n",
    "plt.xlabel('x')\n",
    "plt.ylabel('y')\n",
    "plt.grid(ls='--')\n",
    "\n",
    "plt.scatter(X_train, Y_train)"
   ]
  },
  {
   "cell_type": "code",
   "execution_count": null,
   "metadata": {
    "colab": {},
    "colab_type": "code",
    "id": "2TiYAmndDW93"
   },
   "outputs": [],
   "source": []
  }
 ],
 "metadata": {
  "celltoolbar": "Tags",
  "colab": {
   "name": "3_autodiff_sigmoid.ipynb",
   "provenance": []
  },
  "kernelspec": {
   "display_name": "Python 3",
   "language": "python",
   "name": "python3"
  },
  "language_info": {
   "codemirror_mode": {
    "name": "ipython",
    "version": 3
   },
   "file_extension": ".py",
   "mimetype": "text/x-python",
   "name": "python",
   "nbconvert_exporter": "python",
   "pygments_lexer": "ipython3",
   "version": "3.8.8"
  }
 },
 "nbformat": 4,
 "nbformat_minor": 1
}
