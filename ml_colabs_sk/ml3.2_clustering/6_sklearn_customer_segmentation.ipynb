{
 "cells": [
  {
   "cell_type": "markdown",
   "metadata": {
    "tags": [
     "sk"
    ]
   },
   "source": [
    "**POZNÁMKA: Tento notebook je určený pre platformu Google Colab. Je však možné ho spustiť (možno s drobnými úpravami) aj ako štandardný Jupyter notebook.** \n",
    "\n"
   ]
  },
  {
   "cell_type": "code",
   "execution_count": null,
   "metadata": {},
   "outputs": [],
   "source": [
    "#@title -- Installation of Packages -- { display-mode: \"form\" }\n",
    "import sys\n",
    "!{sys.executable} -m pip install yellowbrick\n",
    "!{sys.executable} -m pip install --quiet sweetviz\n",
    "!{sys.executable} -m pip install git+https://github.com/michalgregor/class_utils.git"
   ]
  },
  {
   "cell_type": "code",
   "execution_count": null,
   "metadata": {},
   "outputs": [],
   "source": [
    "#@title -- Import of Necessary Packages -- { display-mode: \"form\" }\n",
    "import pandas as pd\n",
    "from sklearn.preprocessing import StandardScaler, OneHotEncoder\n",
    "from sklearn.impute import SimpleImputer\n",
    "from sklearn.pipeline import make_pipeline\n",
    "import matplotlib.pyplot as plt\n",
    "from class_utils.sklearn import (\n",
    "    make_ext_column_transformer, transformer_extensions\n",
    ")\n",
    "from sklearn.cluster import KMeans\n",
    "\n",
    "import sweetviz as sv\n",
    "from class_utils.plots import crosstab_plot, ColGrid, RainCloud\n",
    "import seaborn as sns\n",
    "\n",
    "from yellowbrick.cluster import SilhouetteVisualizer, KElbowVisualizer\n",
    "# revert yellowbrick's invasive changes to matplotlib's\n",
    "# styling; also suppressing deprecation warnings\n",
    "import warnings\n",
    "import yellowbrick\n",
    "\n",
    "with warnings.catch_warnings(record=True) as w:\n",
    "    yellowbrick.style.rcmod.set_aesthetic('reset')\n",
    "    yellowbrick.style.rcmod.reset_orig()\n",
    "    \n",
    "cluster_colors = sns.color_palette()"
   ]
  },
  {
   "cell_type": "code",
   "execution_count": null,
   "metadata": {},
   "outputs": [],
   "source": [
    "#@title -- Downloading Data -- { display-mode: \"form\" }\n",
    "DATA_HOME = \"https://github.com/michalgregor/ml_notebooks/blob/main/data/{}?raw=1\"\n",
    "\n",
    "from class_utils.download import download_file_maybe_extract\n",
    "download_file_maybe_extract(DATA_HOME.format(\"Mall_Customers.csv\"), directory=\"data\")\n",
    "\n",
    "# also create a directory for storing any outputs\n",
    "import os\n",
    "os.makedirs(\"output\", exist_ok=True)"
   ]
  },
  {
   "cell_type": "markdown",
   "metadata": {
    "tags": [
     "sk"
    ]
   },
   "source": [
    "## Segmentácia zákazníkov pomocou zhlukovania\n",
    "\n",
    "Ako ďalší príklad sa pozrieme na dátovú množinu zákazníkov nákupného centra a pokúsime sa identifikovať segmenty zákazníkov, t.j. skupiny zákazníkov, ktoré zdieľajú určité spoločné charakteristiky. Poznať segmenty zákazníkov môže byť veľmi užitočné – umožňuje spoločnostiam napr. používať rôzne marketingové stratégie keď cielia na rôzne segmenty atď.\n",
    "\n",
    "Začnime načítaním dátovej množiny. Ako vidno, nie je príliš zložitá – obsahuje len rod (gender), vek (age), ročný príjem (annual income) a výdavkové skóre (spending score) každého zákazníka. Uvidíme však, že napriek tomu ju stále dokážeme využiť na odhalenie zaujímavých zákonitostí.\n",
    "\n"
   ]
  },
  {
   "cell_type": "code",
   "execution_count": null,
   "metadata": {},
   "outputs": [],
   "source": [
    "df = pd.read_csv(\"data/Mall_Customers.csv\")\n",
    "df.head()"
   ]
  },
  {
   "cell_type": "markdown",
   "metadata": {
    "tags": [
     "sk"
    ]
   },
   "source": [
    "### Exploratívna analýza\n",
    "\n",
    "V prvom kroku nášho procesu budeme na dáta aplikovať ľahkú exploratívnu analýzu. Najprv si môžeme spustiť `sv.analyze`, čím získame základné informácie o typoch a rozdeleniach stĺpcov, ich koreláciách, chýbajúcich dátach a pod.\n",
    "\n"
   ]
  },
  {
   "cell_type": "code",
   "execution_count": null,
   "metadata": {},
   "outputs": [],
   "source": [
    "report = sv.analyze(df, target_feat='Spending Score (1-100)')\n",
    "report.show_notebook()"
   ]
  },
  {
   "cell_type": "markdown",
   "metadata": {
    "tags": [
     "sk"
    ]
   },
   "source": [
    "Následne by sme mohli preskúmať vzťahy medzi rôznymi pármi premenných. Napr. by sme mohli použiť husličkové grafy na zobrazenie rozdelení numerických premenných, podmienené rodom zákazníka.\n",
    "\n"
   ]
  },
  {
   "cell_type": "code",
   "execution_count": null,
   "metadata": {},
   "outputs": [],
   "source": [
    "g = ColGrid(df, 'Gender', [\"Age\", \"Annual Income (k$)\", \"Spending Score (1-100)\"], col_wrap=2)\n",
    "g.map_dataframe(sns.violinplot);\n",
    "plt.gcf().set_size_inches(10, 6)"
   ]
  },
  {
   "cell_type": "markdown",
   "metadata": {
    "tags": [
     "sk"
    ]
   },
   "source": [
    "---\n",
    "### Úloha 1: Vzťahy medzi numerickými premennými a výdavkovým skóre\n",
    "\n",
    "**Aby sme preskúmali závislosti medzi rozličnými numerickými premennými a výdavkovým skóre, vytvorte mriežku bodových diagramov s týmito *numerickými premennými*  na horizontálnej osi a *výdavkovým skóre*  na vertikálnej osi.** \n",
    "\n",
    "---\n"
   ]
  },
  {
   "cell_type": "code",
   "execution_count": null,
   "metadata": {
    "tags": [
     "student"
    ]
   },
   "outputs": [],
   "source": [
    "g = ColGrid(      # ---\n",
    "    \n",
    "# ---"
   ]
  },
  {
   "cell_type": "markdown",
   "metadata": {
    "tags": [
     "sk"
    ]
   },
   "source": [
    "---\n",
    "#### Úloha 2: Opis pozorovaných segmentov\n",
    "\n",
    "Keď ste teraz zobrazili a vizuálne preskúmali bodové diagramy, mali by ste pozorovať 2 zhluky v grafe *age*  vs. *spending score*  a 5 zhlukov v grafe *annual income*  vs. *spending score* . V nasledujúcej bunke **opíšte, čomu by každý tento segment zákazníkov mohol zodpovedať – ako by sa dal interpretovať** .\n",
    "\n",
    "---\n"
   ]
  },
  {
   "cell_type": "markdown",
   "metadata": {
    "tags": [
     "student"
    ]
   },
   "source": []
  },
  {
   "cell_type": "markdown",
   "metadata": {
    "tags": [
     "sk"
    ]
   },
   "source": [
    "### Predspracovanie\n",
    "\n",
    "Keď sme teraz realizovali základnú exploráciu, povedzme, že by sme teraz chceli získať určitý počet interpretovateľných zhlukov a potom možno ďalej preskúmať vlastnosti každého z nich. Už vyššie ste uvažovali nad a v dobrom prípade ste aj poskytli nejakú interpretáciu piatich zhlukov prítomných v grafe annual income vs. spending score. Skúsme teda teraz zachytiť tieto zhluky.\n",
    "\n",
    "Za týmto účelom teraz z dátového rámca odstránime všetky stĺpce okrem `Annual Income (k$)` a `Spending Score (1-100)` a na tieto dva zvyšné aplikujeme určité štandardné predspracovanie.\n",
    "\n"
   ]
  },
  {
   "cell_type": "code",
   "execution_count": null,
   "metadata": {},
   "outputs": [],
   "source": [
    "# all inputs are numeric\n",
    "categorical_inputs = [\n",
    "    # \"Gender\"\n",
    "]\n",
    "\n",
    "numeric_inputs = [\n",
    "    # \"Age\",\n",
    "    \"Annual Income (k$)\", \"Spending Score (1-100)\"\n",
    "]\n",
    "\n",
    "# the preprocessing pipeline\n",
    "input_preproc = make_ext_column_transformer(\n",
    "    (make_pipeline(\n",
    "        transformer_extensions(\n",
    "            SimpleImputer(strategy='constant', fill_value='MISSING')\n",
    "        ),\n",
    "        OneHotEncoder()),\n",
    "     categorical_inputs),\n",
    "    \n",
    "    (make_pipeline(\n",
    "        transformer_extensions(\n",
    "            SimpleImputer()\n",
    "        ),\n",
    "        StandardScaler()),\n",
    "     numeric_inputs),\n",
    "\n",
    "    inverse_dropped='ignore',\n",
    "    verbose_feature_names_out=False\n",
    ")\n",
    "\n",
    "# the preprocessed data and the classes\n",
    "X = input_preproc.fit_transform(df)"
   ]
  },
  {
   "cell_type": "markdown",
   "metadata": {
    "tags": [
     "sk"
    ]
   },
   "source": [
    "---\n",
    "### Úloha 3: Aplikácia metódy $k$-means na dáta\n",
    "\n",
    "**Ako ďalšiu úlohu aplikujte na dáta $k$-means zhlukovanie. Výsledné identifikátory zhlukov priraďte do stĺpca `clust` v dátovom rámci `df`.**  Poznámka: Aby nasledujúce bunky správne fungovali, priraďte okrem toho `KMeans` objektu identifikátor `model`.\n",
    "\n",
    "---\n"
   ]
  },
  {
   "cell_type": "code",
   "execution_count": null,
   "metadata": {
    "tags": [
     "student"
    ]
   },
   "outputs": [],
   "source": [
    "model = # ---\n",
    "\n",
    "\n",
    "df[\"clust\"] = # ---\n"
   ]
  },
  {
   "cell_type": "markdown",
   "metadata": {
    "tags": [
     "sk"
    ]
   },
   "source": [
    "Jednou z užitočných vlastností $k$-means je, že zhluky sú guľovitého tvaru, vďaka čomu sa dajú ľahko reprezentovať ťažiskami a preto sú relatívne dobre interpretovateľné. Keď používame `KMeans` objekt z balíčka scikit-learn, môžeme extrahovať stredy zhlukov pomocou `model.cluster_centers_`.\n",
    "\n",
    "Tieto stredy zhlukov sú, samozrejme, už štandardizované, čo nemusí byť dobré ak sa ich snažíme interpretovať. Použijeme preto objekt `input_preproc` a transformujeme ich späť do pôvodnej škály (k$ pre ročný príjem a 1-100 pre výdavkové skóre) skôr než ich zobrazíme.\n",
    "\n"
   ]
  },
  {
   "cell_type": "code",
   "execution_count": null,
   "metadata": {},
   "outputs": [],
   "source": [
    "cluster_centers = input_preproc.inverse_transform(model.cluster_centers_)\n",
    "cluster_centers"
   ]
  },
  {
   "cell_type": "markdown",
   "metadata": {
    "tags": [
     "sk"
    ]
   },
   "source": [
    "### Analýza objavených zhlukov\n",
    "\n",
    "Keď sme získali identifikátory zhlukov, môžeme realizovať ďalšie analýzy, aby sme sa dozvedeli viac o zákazníkov patriacich do každého z nich. Keďže sme sa snažili zachytiť 5 zhlukov viditeľných v grafe annual income vs. spending score, najprv sa uistime, že sa nám to korektne podarilo.\n",
    "\n"
   ]
  },
  {
   "cell_type": "code",
   "execution_count": null,
   "metadata": {},
   "outputs": [],
   "source": [
    "sns.scatterplot(x=\"Annual Income (k$)\", y=\"Spending Score (1-100)\", data=df, s=20, hue=\"clust\", palette=cluster_colors[:cluster_centers.shape[0]])\n",
    "sns.scatterplot(x=\"Annual Income (k$)\", y=\"Spending Score (1-100)\", data=cluster_centers, s=100, color='k')\n",
    "plt.grid(ls='--')\n",
    "plt.gca().set_axisbelow(True)"
   ]
  },
  {
   "cell_type": "markdown",
   "metadata": {
    "tags": [
     "sk"
    ]
   },
   "source": [
    "Ďalej sa môžeme pozrieť na vzťahy medzi číslom zhluku a ďalšími premennými – obdobným spôsobom ako to robíme v rámci exploratívnej analýzy. Zobrazme si husličkové grafy zhlukov vs. trom číselným premenným, ktoré máme.\n",
    "\n",
    "Jedna vec, ktorú si môžeme všimnúť, je, že rozdelenie veku je v dvoch z týchto zhlukov viacej koncentrované než v ostatných. Napr. v skupine, ktorá má vysoké príjmy a veľa míňa je medián veku 32, minimum 27 a maximum 40. V skupine ktorá míňa veľa napriek tomu, že má nízky príjem, sú veky podstatne nižšie – medián je 23.5 a maximum je 35. Ostatné zhluky pokrývajú viac menej celý vekový rozsah.\n",
    "\n",
    "Ako vidno, toto nám už hovorí viacero užitočných vecí – ukazuje to napríklad, že v rámci našej vzorky majú starší ľudia nižšiu tendenciu míňať nezodpovedne než mladší ľudia.\n",
    "\n"
   ]
  },
  {
   "cell_type": "code",
   "execution_count": null,
   "metadata": {},
   "outputs": [],
   "source": [
    "g = ColGrid(df, 'clust', [\"Age\", \"Annual Income (k$)\", \"Spending Score (1-100)\"], col_wrap=2)\n",
    "g.map_dataframe(sns.violinplot);\n",
    "plt.gcf().set_size_inches([12, 8])"
   ]
  },
  {
   "cell_type": "markdown",
   "metadata": {
    "tags": [
     "sk"
    ]
   },
   "source": [
    "Môžeme si tiež zobraziť maticu vzťahov medzi rodom a jednotlivými zhlukmi. Čo v tomto prípade môže človeku udrieť do očí je, že v dvoch z našich zhlukov je podstatne menej mužov než žien a že ide o zhluky zodpovedajúce zákazníkom z nízkym príjmom.\n",
    "\n"
   ]
  },
  {
   "cell_type": "code",
   "execution_count": null,
   "metadata": {},
   "outputs": [],
   "source": [
    "plt.figure(figsize=(5, 5))\n",
    "crosstab_plot(x='Gender', y='clust', data=df);"
   ]
  },
  {
   "cell_type": "markdown",
   "metadata": {
    "tags": [
     "sk"
    ]
   },
   "source": [
    "Zdá sa, že v rámci našej vzorky majú ženy o niečo vyššiu pravdepodobnosť mať nízky príjem než muži (v nízkopríjmových zhlukoch je o niečo viac žien než mužov). Aby sme to analyzovali podrobnejšie, môžeme sa pozrieť na dáta o zákazníkoch zarábajúcich menej než 40k. Vyfiltrujme si ich a určme početnosť mužov a žien. Z toho naozaj uvidíme, že v danej kategórii je mužov menej než žien.\n",
    "\n"
   ]
  },
  {
   "cell_type": "code",
   "execution_count": null,
   "metadata": {},
   "outputs": [],
   "source": [
    "df_low = df[df[\"Annual Income (k$)\"] < 40]\n",
    "df_low_male = df_low[df_low[\"Gender\"] == \"Male\"]\n",
    "df_low_female = df_low[df_low[\"Gender\"] == \"Female\"]\n",
    "\n",
    "print(\n",
    "    f\"Number of males with <40k income: {len(df_low_male)};\\n\"\n",
    "    f\"Number of females with <40k income: {len(df_low_female)};\\n\"\n",
    "    f\"The ratio of males vs. females is: {len(df_low_male) / len(df_low_female)}\"\n",
    ")"
   ]
  },
  {
   "cell_type": "markdown",
   "metadata": {
    "tags": [
     "sk"
    ]
   },
   "source": [
    "Môžeme si dokonca zobraziť aj raincloud graf, aby sme získali úplnejšiu predstavu o rozdelení medzi mužmi/ženami v rámci tohto rozsahu príjmov.\n",
    "\n"
   ]
  },
  {
   "cell_type": "code",
   "execution_count": null,
   "metadata": {},
   "outputs": [],
   "source": [
    "RainCloud(x=\"Gender\", y=\"Annual Income (k$)\", data=df_low)"
   ]
  },
  {
   "cell_type": "code",
   "execution_count": null,
   "metadata": {},
   "outputs": [],
   "source": []
  }
 ],
 "metadata": {
  "celltoolbar": "Tags",
  "interpreter": {
   "hash": "b08d363ebb8492a302c7076da18bf168d910622d9da13f07c6e53914cde27110"
  },
  "kernelspec": {
   "display_name": "Python 3 (ipykernel)",
   "language": "python",
   "name": "python3"
  },
  "language_info": {
   "codemirror_mode": {
    "name": "ipython",
    "version": 3
   },
   "file_extension": ".py",
   "mimetype": "text/x-python",
   "name": "python",
   "nbconvert_exporter": "python",
   "pygments_lexer": "ipython3",
   "version": "3.9.7"
  }
 },
 "nbformat": 4,
 "nbformat_minor": 2
}
