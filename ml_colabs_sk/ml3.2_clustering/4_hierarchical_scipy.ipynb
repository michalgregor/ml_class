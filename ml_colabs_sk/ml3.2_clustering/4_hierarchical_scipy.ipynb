{
 "cells": [
  {
   "cell_type": "markdown",
   "metadata": {
    "tags": [
     "sk"
    ]
   },
   "source": [
    "**POZNÁMKA: Tento notebook je určený pre platformu Google Colab. Je však možné ho spustiť (možno s drobnými úpravami) aj ako štandardný Jupyter notebook.** \n",
    "\n"
   ]
  },
  {
   "cell_type": "code",
   "execution_count": null,
   "metadata": {},
   "outputs": [],
   "source": [
    "#@title -- Installation of Packages -- { display-mode: \"form\" }\n",
    "import sys\n",
    "!{sys.executable} -m pip install yellowbrick\n",
    "!{sys.executable} -m pip install git+https://github.com/michalgregor/class_utils.git"
   ]
  },
  {
   "cell_type": "code",
   "execution_count": null,
   "metadata": {},
   "outputs": [],
   "source": [
    "#@title -- Import of Necessary Packages -- { display-mode: \"form\" }\n",
    "import numpy as np\n",
    "import pandas as pd\n",
    "\n",
    "from sklearn import datasets\n",
    "from sklearn.preprocessing import StandardScaler, OneHotEncoder\n",
    "from sklearn.impute import SimpleImputer\n",
    "from sklearn.pipeline import make_pipeline\n",
    "\n",
    "from class_utils.sklearn import (\n",
    "    make_ext_column_transformer, transformer_extensions\n",
    ")\n",
    "\n",
    "import scipy.cluster.hierarchy as sch\n",
    "from scipy.spatial.distance import pdist, squareform\n",
    "\n",
    "import seaborn as sns\n",
    "import matplotlib.pyplot as plt\n",
    "import matplotlib.lines as mlines"
   ]
  },
  {
   "cell_type": "code",
   "execution_count": null,
   "metadata": {},
   "outputs": [],
   "source": [
    "#@title -- Downloading Data -- { display-mode: \"form\" }\n",
    "\n",
    "# create a directory for storing any outputs\n",
    "import os\n",
    "os.makedirs(\"data\", exist_ok=True)\n",
    "os.makedirs(\"output\", exist_ok=True)\n",
    "\n",
    "# create a synthetic dataset\n",
    "_blobs, _labels = datasets.make_blobs(\n",
    "    n_samples=600, random_state=3,\n",
    "    cluster_std=0.75, centers=5\n",
    ")\n",
    "\n",
    "_df_blobs = pd.DataFrame(np.hstack([_blobs, _labels.reshape(-1, 1)]),\n",
    "                         columns=['x', 'y', 'label'])\n",
    "_df_blobs['y'] *= 100\n",
    "_df_blobs.to_csv(\"data/blobs_2d.csv\", index=False)\n",
    "\n",
    "del _blobs\n",
    "del _labels\n",
    "del _df_blobs"
   ]
  },
  {
   "cell_type": "code",
   "execution_count": null,
   "metadata": {},
   "outputs": [],
   "source": [
    "#@title -- Auxiliary Functions -- { display-mode: \"form\" }\n",
    "cluster_colors = sns.color_palette()[1:]\n",
    "\n",
    "def scatter_legend(ax, sc, labels, num_colors, color_array,\n",
    "                   s, edgecolor):\n",
    "    handles = []\n",
    "    \n",
    "    for i in range(num_colors):\n",
    "        h = mlines.Line2D([0], [0], ls=\"\", color=color_array[i],\n",
    "                          ms=s, marker=sc.get_paths()[0],\n",
    "                          markeredgecolor=edgecolor)\n",
    "        handles.append(h)\n",
    "\n",
    "    ax.legend(handles=handles, labels=labels)\n",
    "\n",
    "def plot_data(\n",
    "    data, cluster_centres=None, color='b', ax=None,\n",
    "    cluster_colors=cluster_colors,\n",
    "    edgecolors='k', labels=None,\n",
    "    center_color='orange', center_size=200,\n",
    "    legend=True\n",
    "):\n",
    "    if ax is None:\n",
    "        ax = plt.gca()\n",
    "        \n",
    "    if labels is None:\n",
    "        ax.scatter(data[:, 0], data[:, 1], s=50,\n",
    "                   color=color, edgecolors=edgecolors)\n",
    "    else:\n",
    "        c = np.asarray(cluster_colors)[labels]\n",
    "        \n",
    "        sc = ax.scatter(data[:, 0], data[:, 1], s=50,\n",
    "                        c=c, edgecolors=edgecolors,\n",
    "                        #cmap=plt.cm.get_cmap('category10', np.max(labels)+1)\n",
    "                       )\n",
    "        \n",
    "        if legend:\n",
    "            nclusts = np.max(labels)+1\n",
    "            scatter_legend(ax, sc, ['$c_{}$'.format(i) for i in range(nclusts)],\n",
    "                           nclusts, cluster_colors, s=6, edgecolor='k')\n",
    "        \n",
    "    if not cluster_centres is None:\n",
    "        ax.scatter(cluster_centres[:, 0],\n",
    "                   cluster_centres[:, 1],\n",
    "            s=center_size, c=center_color,\n",
    "            edgecolors=edgecolors)\n",
    "\n",
    "    ax.grid(ls='--')\n",
    "    ax.set_xlabel(\"x\")\n",
    "    ax.set_ylabel(\"y\")\n",
    "    ax.set_axisbelow(True)"
   ]
  },
  {
   "cell_type": "markdown",
   "metadata": {
    "tags": [
     "sk"
    ]
   },
   "source": [
    "## Hierarchické zhlukovanie pomocou SciPy\n",
    "\n",
    "Ďalej sa pozrieme na praktický príklad aplikácie hierarchického zhlukovania na jednoduchá dátovú množinu 2D bodov. To nám umožní ilustrovať princípy a rozhrania a zároveň nám umožní ľahko porovnať výsledky zhlukovania s 2D grafom pôvodných dát.\n",
    "\n",
    "### Načítanie a prespracovanie dátovej množiny\n",
    "\n",
    "V prvom kroku načítame dáta z CSV súboru a predspracujeme ich. Budeme počítať vzdialenosti (v našom prípade euklidovské) a bude preto veľmi podstatné, aby sme dáta najprv štandardizovali.\n",
    "\n"
   ]
  },
  {
   "cell_type": "code",
   "execution_count": null,
   "metadata": {},
   "outputs": [],
   "source": [
    "# we load the data from the CSV\n",
    "df = pd.read_csv(\"data/blobs_2d.csv\")\n",
    "\n",
    "# all inputs are numeric\n",
    "categorical_inputs = []\n",
    "numeric_inputs = list(df.columns[:-1])\n",
    "\n",
    "# the preprocessing pipeline\n",
    "input_preproc = make_ext_column_transformer(\n",
    "    (make_pipeline(\n",
    "        transformer_extensions(\n",
    "            SimpleImputer(strategy='constant', fill_value='MISSING')\n",
    "        ),\n",
    "        OneHotEncoder()),\n",
    "     categorical_inputs),\n",
    "    \n",
    "    (make_pipeline(\n",
    "        transformer_extensions(\n",
    "            SimpleImputer()\n",
    "        ),\n",
    "        StandardScaler()),\n",
    "     numeric_inputs),\n",
    "\n",
    "    return_dataframe=True,\n",
    "    verbose_feature_names_out=False\n",
    ")\n",
    "\n",
    "# the preprocessed data and the classes\n",
    "df_X = input_preproc.fit_transform(df[categorical_inputs+numeric_inputs])\n",
    "X = df_X.values\n",
    "labels = df[\"label\"]\n",
    "\n",
    "# let's also keep the unnormalized data\n",
    "X_unnorm = df[categorical_inputs+numeric_inputs].values\n",
    "\n",
    "# plot the data\n",
    "plt.figure(figsize=(6, 5))\n",
    "plot_data(X)"
   ]
  },
  {
   "cell_type": "markdown",
   "metadata": {
    "tags": [
     "sk"
    ]
   },
   "source": [
    "### Výpočet vzdialeností a linkage\n",
    "\n",
    "Na realizáciu hierarchického zhlukovania budeme používať balíček `scipy.cluster.hierarchy` – skrátane `sch`. Mohli by sme namiesto neho použiť aj triedu `AgglomerativeClustering` z balíčka scikit-learn; implementácia v `scipy` je však lepšie intregrovaná s rôznymi vizualizačnými nástrojmi, ktoré budeme používať.\n",
    "\n",
    "Rozhranie bude vyzerať trochu inak než sme si zvykli pri používaní balíčka scikit-learn, ale celý proces bude stále jednoduchý. Bude sa realizovať v dvoch krokoch:\n",
    "\n",
    "# Najprv vypočítame vzdialenosti medzi všetkými pármi bodov pomocou funkcie `pdist` (pri použití predvolených argumentov sa vypočíta euklidovská vzdialenosť, sú však k dispozícii aj iné možnosti).\n",
    "# Ďalej zostavíme linkage objekt pomocou funkcie `sch.linkage`, pričom špecifikujeme, aká linkage metóda sa má použiť. Tu použijeme metódu `ward`, ktorá sa snaží minimalizovať rozptyl vo novovzniknutých zhlukoch.\n",
    "Získaný \"linkage\" objekt je štruktúra reprezentujúca hierarchické vzťahy medzi všetkými podzhlukmi identifikovanými v našich dátach.\n",
    "\n"
   ]
  },
  {
   "cell_type": "code",
   "execution_count": null,
   "metadata": {},
   "outputs": [],
   "source": [
    "D = pdist(X)\n",
    "L = sch.linkage(D, method='ward')"
   ]
  },
  {
   "cell_type": "markdown",
   "metadata": {
    "tags": [
     "sk"
    ]
   },
   "source": [
    "### Vykreslenie dendrogramu\n",
    "\n",
    "Pomocou linkage objektu môžeme realizovať rôzne operácie, napr. vykresliť vizuálnu reprezentáciu hierarchických vzťahov, ktorá sa označuje ako **dendrogram** . Vykonať to môžeme volaním funkcie `sch.dendrogram`. Keďže pracujeme s pomerne veľkým počtom bodov, špecifikujeme pri volaní `no_labels=True` – popiskov by bolo toľko, že by boli tak či tak nečitateľné.\n",
    "\n",
    "Keď si dendrogram vykreslíte a pozorne ho preskúmate, všimnete si, že výška jednotlivých vetiev v grafe je rôzna. Je to tak preto, lebo indikuje vzdialenosť medzi dvoma podzhlukmi, ktoré spája. Ako vidno, vzdialenosť (v zmysle zvolenej linkage metódy) medzi vysokoúrovňovými zhlukmi je omnoho väčšia než na spodnej úrovni stromu.\n",
    "\n"
   ]
  },
  {
   "cell_type": "code",
   "execution_count": null,
   "metadata": {},
   "outputs": [],
   "source": [
    "G = sch.dendrogram(L, no_labels=True)\n",
    "plt.xlabel(\"samples\")\n",
    "plt.ylabel(\"distance\")\n",
    "\n",
    "plt.savefig(\"output/hierarchical_scipy_dendrogram.svg\", bbox_inches='tight', pad_inches=0)"
   ]
  },
  {
   "cell_type": "markdown",
   "metadata": {
    "tags": [
     "sk"
    ]
   },
   "source": [
    "Všimnite si, že keď realizujeme hierarchické zhlukovanie, výstupom nie je množina plochých (flat) zhlukov – výstupom zhlukovacieho algoritmu je linkage štruktúra, ktorú sme si práve vizualizovali. Získať množinu plochých zhlukov je však ľahké – stačí, aby sme si zvolili určitú prahovú úroveň, na ktorej dendrogram rozrežeme – body pod každou vetvou môžeme potom považovať za plochý zhluk. Jeden taký rez už ilustruje náš dendrogram – body pod ľavou vetvou sú zafarbené na oranžovo (zhluk 1) a body pod pravou vetvou zafarbené na zeleno (zhluk 2).\n",
    "\n",
    "Skúsme si zvoliť inú prahovú úroveň, napr. `5` – získame inú množinu plochých zhlukov.\n",
    "\n"
   ]
  },
  {
   "cell_type": "code",
   "execution_count": null,
   "metadata": {},
   "outputs": [],
   "source": [
    "G = sch.dendrogram(L, no_labels=True, color_threshold=5)\n",
    "plt.xlabel(\"samples\")\n",
    "plt.ylabel(\"distance\")\n",
    "\n",
    "plt.savefig(\"output/hierarchical_scipy_dendrogram_thresh5.svg\", bbox_inches='tight', pad_inches=0)"
   ]
  },
  {
   "cell_type": "markdown",
   "metadata": {
    "tags": [
     "sk"
    ]
   },
   "source": [
    "### Priradenie bodov do plochých zhlukov\n",
    "\n",
    "Ak chceme získať priradenie každého bodu z našej dátovej množiny do plochého zhluku, môžeme použiť metódu `sch.fcluster`, pričom špecifikujeme linkage objekt, prahovú úroveň a kritérium (t.j. čo prahujeme). Ak chceme replikovať ploché zhluky, ktoré sme vizualizovali vyššie, špecifikujeme, že prahujeme `distance` (vzdialenosť) a prahovú úroveň nastavíme znovu na 5.\n",
    "\n",
    "Ak sa chcete dozvedieť viac o ďalších kritériách, preštudujte si docstring funkcie `sch.fcluster` (napr. tak, že v bunke spustíte príkaz `?sch.fcluster`).\n",
    "\n",
    "Všimnite si tiež, že funkcia `sch.fcluster` má drobnú zvláštnosť v tom, že **číslovanie zhlukov začína od 1** . Tu sa s tým vysporiadame tak, že od čísel **odčítame 1** , aby sme získali číslovanie začínajúce od 0).\n",
    "\n"
   ]
  },
  {
   "cell_type": "code",
   "execution_count": null,
   "metadata": {},
   "outputs": [],
   "source": [
    "clusts = sch.fcluster(L, t=5, criterion='distance') - 1"
   ]
  },
  {
   "cell_type": "markdown",
   "metadata": {
    "tags": [
     "sk"
    ]
   },
   "source": [
    "Teraz si môžeme opäť vykresliť všetky pôvodné body a zafarbiť ich podľa vypočítaných čísel plochých zhlukov.\n",
    "\n"
   ]
  },
  {
   "cell_type": "code",
   "execution_count": null,
   "metadata": {},
   "outputs": [],
   "source": [
    "plt.figure(figsize=(6, 5))\n",
    "plot_data(X, labels=clusts)"
   ]
  },
  {
   "cell_type": "markdown",
   "metadata": {
    "tags": [
     "sk"
    ]
   },
   "source": [
    "### Vykreslenie heatmapy s dendrogramami\n",
    "\n",
    "Ako sme už videli, hierchické zhlukovanie nám umožňuje vizualizovať si dendrogram a tým nám poskytuje silný nástroj na vizualizáciu štruktúry dátovej množiny. Ďalšia vizualizácia, ktorá vie byť veľmi užitočná, je hierarchicky zhlukovaná heatmapa.\n",
    "\n",
    "Princíp spočíva v tom, že sa vypočítajú vzdialenosti medzi všetkými dvojicami bodov z dátovej množiny a vizualizujú sa vo forme heatmapy – zároveň sa však aplikuje hierarchické zhlukovanie na riadky aj stĺpce heatmapy, čo má za následok, že podobné body majú tendenciu sa v heatmape zoskupiť. Tento typ vizualizácie poskytuje ešte lepšiu predstavu o priestorovej štruktúre dátovej množinu než vie poskytnúť samotný dendrogram.\n",
    "\n",
    "Aby bola vizualizácia robustnejšia, typicky sa pre riadky a pre stĺpce robí rozdielne zhlukovanie – tu budeme pre jedny používať `ward` linkage a pre druhé `single` linkage.\n",
    "\n"
   ]
  },
  {
   "cell_type": "code",
   "execution_count": null,
   "metadata": {},
   "outputs": [],
   "source": [
    "L1 = sch.linkage(D, method='ward')\n",
    "L2 = sch.linkage(D, method='single')"
   ]
  },
  {
   "cell_type": "markdown",
   "metadata": {
    "tags": [
     "sk"
    ]
   },
   "source": [
    "Existujú rôzne spôsoby ako realizovať samotné vykreslenie heatmapy, azda najjednoduchším je však využitie funkcie `clustermap` z balíčka `seaborn`. Stačí jej len postúpiť maticu vzdialeností a linkage objekty a funkcia sa postará o všetko ostatné.\n",
    "\n"
   ]
  },
  {
   "cell_type": "code",
   "execution_count": null,
   "metadata": {},
   "outputs": [],
   "source": [
    "cg = sns.clustermap(squareform(D), row_linkage=L1, col_linkage=L2, rasterized=True)\n",
    "cg.ax_cbar.set_ylabel(\"$L_2$ distance\")\n",
    "cg.ax_heatmap.set_xlabel(\"sample\")\n",
    "cg.ax_heatmap.set_ylabel(\"sample\")\n",
    "\n",
    "plt.savefig(\"output/hierarchical_dendrogram_heatmap.svg\",\n",
    "    bbox_inches='tight', pad_inches=0, dpi=300\n",
    ")"
   ]
  },
  {
   "cell_type": "markdown",
   "metadata": {
    "tags": [
     "sk"
    ]
   },
   "source": [
    "### Vykreslenie zhlukovej mapy\n",
    "\n",
    "Všimnite si, že aby sme vyššie vytvorili heatmapu, zavolali sme funkciu `clustermap` s maticou vzdialeností a s vopred vypočítanými linkage objektmi. Keď zavoláme tú istú funkciu priamo na pôvodnom dátovom rámci a s predvolenými argumentami, vytvorí iný typ grafu nazývaný zhluková mapa.\n",
    "\n",
    "V tejto zhlukovej mape sú riadky zhlukované tak ako predtým, ale stĺpce teraz zodpovedajú stĺpcom z dátového rámca. V tomto syntetickom príklade pravdepodobne nebude hneď zrejmé, kde by mohla takáto vizualizácia byť užitočná. Uvedieme si preto aj malý príklad na inej dátovej množine, kde to vysvetlíme úplnejším spôsobom.\n",
    "\n"
   ]
  },
  {
   "cell_type": "code",
   "execution_count": null,
   "metadata": {},
   "outputs": [],
   "source": [
    "cg = sns.clustermap(df_X)\n",
    "cg.ax_cbar.set_ylabel(\"coordinate value\")\n",
    "cg.ax_heatmap.set_xlabel(\"coordinate\")\n",
    "cg.ax_heatmap.set_ylabel(\"sample\")"
   ]
  },
  {
   "cell_type": "markdown",
   "metadata": {
    "tags": [
     "sk"
    ]
   },
   "source": [
    "### Zhluková mapa s otočenými dátami\n",
    "\n",
    "Aby bolo možné lepšie porozumieť tomu, na čo môže poslúžiť zhluková mapa, odvoláme sa na príklad prezentovaný v [[medium_cluster_map]](#medium_cluster_map), ktorý využívať dátovú množinu \"flights\" dostupnú cez rozhranie balíčka `seaborn`. Načítajme si ju.\n",
    "\n"
   ]
  },
  {
   "cell_type": "code",
   "execution_count": null,
   "metadata": {},
   "outputs": [],
   "source": [
    "df = sns.load_dataset('flights')\n",
    "df.head()"
   ]
  },
  {
   "cell_type": "markdown",
   "metadata": {
    "tags": [
     "sk"
    ]
   },
   "source": [
    "Ako vidno, dátová množina má 3 stĺpce. Každý riadok indikuje počet leteckých pasažierov v danom mesiaci a danom roku. Dajme tomu, že chceme teraz preskúmať štruktúru týchto dát – konkrétne porozumieť, kedy sa najviac lieta, ktoré mesiace a roky sú si vzájomne podobné atď. Zdá sa, že ak to chceme urobiť, najlepšie by bolo dátovú množinu transformovať do maticového tvaru, kde každý riadok bude zodpovedať mesiacu, každú stĺpec roku a samotné hodnoty budú predstavovať počty pasažierov.\n",
    "\n",
    "Tento typ reprezentácie vieme získať otočením (angl. pivoting) dátového rámca:\n",
    "\n"
   ]
  },
  {
   "cell_type": "code",
   "execution_count": null,
   "metadata": {},
   "outputs": [],
   "source": [
    "df_pivot = df.pivot_table(index=\"month\", columns=\"year\", values=\"passengers\")"
   ]
  },
  {
   "cell_type": "markdown",
   "metadata": {
    "tags": [
     "sk"
    ]
   },
   "source": [
    "#### Otočená zhluková mapa bez zhlukovania\n",
    "\n",
    "Skúsme si teraz zobraziť zhlukovú mapu nášho otočeného dátového rámca (zatiaľ ešte bez zhlukovania). Čo vidíme okamžite je, že najviac sa lieta v júli a auguste a tiež, že v počte pasažierov bol za dané obdobie jasný rastúci trend.\n",
    "\n"
   ]
  },
  {
   "cell_type": "code",
   "execution_count": null,
   "metadata": {},
   "outputs": [],
   "source": [
    "cg = sns.clustermap(df_pivot, col_cluster=False, row_cluster=False)\n",
    "cg.ax_cbar.set_ylabel(\"passengers\")"
   ]
  },
  {
   "cell_type": "markdown",
   "metadata": {
    "tags": [
     "sk"
    ]
   },
   "source": [
    "#### Otočená zhluková mapa so zhlukovaním\n",
    "\n",
    "Dajme tomu, že teraz chceme lepšie porozumieť podobnostiam, medzi jednotlivými mesiacmi a rokmi. Stačí nám zavolať funkciu `clustermap` so zapnutým zhlukovaním (t.j. bez ďalších argumentov – len s dátovým rámcom).\n",
    "\n"
   ]
  },
  {
   "cell_type": "code",
   "execution_count": null,
   "metadata": {},
   "outputs": [],
   "source": [
    "cg = sns.clustermap(df_pivot)\n",
    "cg.ax_cbar.set_ylabel(\"passengers\")"
   ]
  },
  {
   "cell_type": "markdown",
   "metadata": {
    "tags": [
     "sk"
    ]
   },
   "source": [
    "#### Otočená mapa zhlukov so zhlukovaním a štandardizáciou\n",
    "\n",
    "Hoci vyššie zobrazená zhluková mapa nám dátva predstavu o tom, ktoré mesiace a roky sa na seba navzájom podobajú a aké medzi nimi z tohto pohľadu existujú skupiny, môžeme ísť ešte o krok ďalej.\n",
    "\n",
    "Povedzme, že čomu chceme naozaj porozumieť je, ktoré mesiace sú si vzájomne podobné a aké skupiny existujú medzi nimi. V tom prípade budú meniace sa celkové počty pasažierov v jednotlivých rokoch tieto vzťahy zahmlievať. Aby sme tento vplyv eliminovali, môžeme si dáta pre každý rok preškálovať do intervalu od 0 po 1. Taká funkcionalita je už vstavaná, takže nám stačí pri volaní špecifikovať `standard_scale=1`. Keďže sa teraz už zaujímame len o vzájomné vzťahy medzi mesiacmi a nie medzdi rokmi, bude okrem toho asi dobrý nápad vypnúť zhlukovanie pre stĺpce a roky vykresliť v prirodzenom poradí: špecifikujeme teda `col_cluster=False`.\n",
    "\n",
    "Teraz vidno vzťahy ešte jasnejšie. Je zrejmé, že vo všeobecnosti sa najviac lieta v letných mesiacoch – osobitne v júli a v auguste, ale v menšej miere aj v júni a v septembri. V rámci pozorovaného obdobia bolo omnoho menej pasažierov v zimných mesiacoch – v novembri, januári a februári; december bol výnimkou, pravdepdobne kvôli sviatkom. Zvyšné mesiace sú (spoločne s decembrom) kdesi uprostred.\n",
    "\n"
   ]
  },
  {
   "cell_type": "code",
   "execution_count": null,
   "metadata": {},
   "outputs": [],
   "source": [
    "cg = sns.clustermap(df_pivot, standard_scale=1, col_cluster=False)\n",
    "cg.ax_cbar.set_ylabel(\"passengers\")"
   ]
  },
  {
   "cell_type": "markdown",
   "metadata": {},
   "source": [
    "### References\n",
    "\n",
    "<a id=\"medium_cluster_map\">[medium_cluster_map]</a> Keith Brooks. Day (4) — Data Visualization — How to use Seaborn for Heatmaps. URL: <https://medium.com/@kbrook10/day-4-data-visualization-how-to-use-seaborn-for-heatmaps-bf8070e3846e>.\n",
    "\n"
   ]
  }
 ],
 "metadata": {
  "celltoolbar": "Tags",
  "kernelspec": {
   "display_name": "base",
   "language": "python",
   "name": "python3"
  },
  "language_info": {
   "codemirror_mode": {
    "name": "ipython",
    "version": 3
   },
   "file_extension": ".py",
   "mimetype": "text/x-python",
   "name": "python",
   "nbconvert_exporter": "python",
   "pygments_lexer": "ipython3",
   "version": "3.9.13 (main, Aug 25 2022, 23:51:50) [MSC v.1916 64 bit (AMD64)]"
  },
  "vscode": {
   "interpreter": {
    "hash": "a351393365bb1b108989afa08de3243f72f5e58927baf5d192f3cca79a41cbc4"
   }
  }
 },
 "nbformat": 4,
 "nbformat_minor": 2
}
