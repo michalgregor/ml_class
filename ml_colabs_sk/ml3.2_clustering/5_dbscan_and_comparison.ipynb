{
 "cells": [
  {
   "cell_type": "markdown",
   "metadata": {
    "tags": [
     "sk"
    ]
   },
   "source": [
    "**POZNÁMKA: Tento notebook je určený pre platformu Google Colab. Je však možné ho spustiť (možno s drobnými úpravami) aj ako štandardný Jupyter notebook.** \n",
    "\n"
   ]
  },
  {
   "cell_type": "code",
   "execution_count": null,
   "metadata": {},
   "outputs": [],
   "source": [
    "#@title -- Import of Necessary Packages -- { display-mode: \"form\" }\n",
    "from sklearn import datasets\n",
    "from sklearn.cluster import MiniBatchKMeans, DBSCAN, AgglomerativeClustering\n",
    "from scipy.spatial.distance import pdist, squareform\n",
    "from collections import defaultdict\n",
    "import numpy as np\n",
    "\n",
    "import matplotlib.pyplot as plt\n",
    "import matplotlib.patches as mpatches\n",
    "from matplotlib.animation import FuncAnimation\n",
    "from IPython.display import display, HTML, SVG\n",
    "from IPython.utils.capture import capture_output\n",
    "from io import BytesIO\n",
    "\n",
    "# get matplotblib's default color cycle\n",
    "colors = plt.rcParams['axes.prop_cycle'].by_key()['color']"
   ]
  },
  {
   "cell_type": "code",
   "execution_count": null,
   "metadata": {},
   "outputs": [],
   "source": [
    "#@title -- Downloading Data -- { display-mode: \"form\" }\n",
    "# also create a directory for storing any outputs\n",
    "import os\n",
    "os.makedirs(\"output\", exist_ok=True)"
   ]
  },
  {
   "cell_type": "code",
   "execution_count": null,
   "metadata": {},
   "outputs": [],
   "source": [
    "#@title -- Auxiliary Functions -- { display-mode: \"form\" }\n",
    "\n",
    "def plot_clust(\n",
    "    X, clusts, is_core=None, iclust=None, legend=True, ax=None,\n",
    "    core_point_size=100, other_point_size=50, rasterized=False\n",
    "):\n",
    "    if ax is None:\n",
    "        ax = plt.gca()\n",
    "\n",
    "    if is_core is None:\n",
    "        is_core = np.full(len(X), False)\n",
    "\n",
    "    if iclust is None:\n",
    "        iclust = np.max(clusts)\n",
    "\n",
    "    index = clusts >= 0\n",
    "    regular = np.where(index)[0]\n",
    "    out_of_cluster = np.where(~index)[0]\n",
    "\n",
    "    c = [colors[i] for i in clusts[regular]]\n",
    "    s = [core_point_size if is_core[i] else other_point_size for i in regular]\n",
    "\n",
    "    ax.scatter(X[regular, 0], X[regular, 1], c=c, s=s, rasterized=rasterized)\n",
    "    ax.scatter(X[out_of_cluster, 0], X[out_of_cluster, 1], c='black',\n",
    "        s=other_point_size, rasterized=rasterized)\n",
    "\n",
    "    if legend:\n",
    "        legend_patches = [mpatches.Patch(color=colors[i], label='Cluster {}'.format(i)) for i in range(iclust+1)]\n",
    "        if len(out_of_cluster):\n",
    "            legend_patches.append(mpatches.Patch(color='black', label='Out of cluster'))\n",
    "        ax.legend(handles=legend_patches)\n",
    "\n",
    "    ax.grid(ls='--')\n",
    "    ax.set_xlabel('x')\n",
    "    ax.set_ylabel('y')\n",
    "\n",
    "class DBScanAnimation:\n",
    "    def __init__(\n",
    "        self, X, min_pts=5, eps=0.5,\n",
    "        fig=None, ax=None,\n",
    "        highlight_pt=True, pt_circle=True,\n",
    "        plot_callback=plot_clust,\n",
    "        core_point_size=100,\n",
    "        other_point_size=25,\n",
    "        keep_ax_lims=True,\n",
    "        **kwargs\n",
    "    ):\n",
    "        self.X = X\n",
    "        self.min_pts = min_pts\n",
    "        self.eps = eps\n",
    "\n",
    "        self.highlight_pt = highlight_pt\n",
    "        self.pt_circle = pt_circle\n",
    "        self.core_point_size = core_point_size\n",
    "        self.other_point_size = other_point_size\n",
    "\n",
    "        self.keep_ax_lims = keep_ax_lims\n",
    "        self.plot_callback = plot_callback\n",
    "        self.kwargs = kwargs\n",
    "\n",
    "        with capture_output() as io:\n",
    "            if fig is None:\n",
    "                self.fig = plt.figure()\n",
    "            else:\n",
    "                self.fig = fig\n",
    "\n",
    "            if ax is None:\n",
    "                self.ax = self.fig.gca()\n",
    "            else:\n",
    "                self.ax = ax\n",
    "\n",
    "            plt.show()\n",
    "\n",
    "        self.iclust = None\n",
    "        self.is_core = None\n",
    "        self.clusts = None\n",
    "        self.clust_candidates = None\n",
    "        self.clust_set = None\n",
    "        self.cpt = None\n",
    "        self.D = None\n",
    "        self.lims = None\n",
    "\n",
    "    def plot_func(\n",
    "        self, cpt=None, cpt_size=None, cpt_color=None,\n",
    "        circle_color='red', ax=None\n",
    "    ):\n",
    "        if ax is None:\n",
    "            ax = self.ax\n",
    "\n",
    "        if cpt_size is None:\n",
    "            cpt_size = self.core_point_size\n",
    "\n",
    "        if cpt_color is None:\n",
    "            cpt_color = 'red'\n",
    "\n",
    "        ax.clear()\n",
    "        \n",
    "        self.plot_callback(\n",
    "            X=self.X, clusts=self.clusts, is_core=self.is_core,\n",
    "            iclust=self.iclust, ax=ax,\n",
    "            core_point_size=self.core_point_size,\n",
    "            other_point_size=self.other_point_size,\n",
    "            **self.kwargs\n",
    "        )\n",
    "        \n",
    "        if self.highlight_pt and not cpt is None:\n",
    "            ax.scatter(self.X[cpt, 0], self.X[cpt, 1], c=cpt_color, s=cpt_size)\n",
    "\n",
    "            if self.pt_circle:\n",
    "                circle = plt.Circle(\n",
    "                    (X[cpt, 0], X[cpt, 1]),\n",
    "                    self.eps, color=circle_color, fill=False, linewidth=3\n",
    "                )\n",
    "\n",
    "                ax.add_patch(circle)\n",
    "\n",
    "        if self.keep_ax_lims and not self.lims is None:\n",
    "            ax.set_xlim(self.lims[0])\n",
    "            ax.set_ylim(self.lims[1])\n",
    "\n",
    "    def __call__(self):\n",
    "        self.iclust = -1\n",
    "        self.clusts = np.full(len(self.X), -1)\n",
    "        self.is_core = np.full(len(self.X), False)\n",
    "        self.clust_candidates = set(range(len(self.X)))\n",
    "        self.D = squareform(pdist(X))\n",
    "        self.lims = None\n",
    "\n",
    "        self.plot_func()\n",
    "        self.lims = self.ax.get_xlim(), self.ax.get_ylim()\n",
    "        yield\n",
    "\n",
    "        self.iclust = 0\n",
    "\n",
    "        while len(self.clust_candidates):\n",
    "            self.cpt = self.clust_candidates.pop()\n",
    "            nbrs = np.where((self.D[self.cpt] < self.eps) & (self.clusts == -1))[0]\n",
    "\n",
    "            if len(nbrs) < self.min_pts:\n",
    "                continue\n",
    "            \n",
    "            self.is_core[self.cpt] = True\n",
    "            self.clusts[self.cpt] = self.iclust\n",
    "\n",
    "            self.clusts[nbrs] = self.iclust\n",
    "            self.clust_candidates.difference_update(nbrs)\n",
    "            self.clust_set = set(nbrs)\n",
    "\n",
    "            self.plot_func(self.cpt)\n",
    "            yield\n",
    "\n",
    "            while len(self.clust_set):\n",
    "                self.cpt = self.clust_set.pop()\n",
    "                self.clusts[self.cpt] = self.iclust\n",
    "\n",
    "                neighbours_index = self.D[self.cpt] < self.eps\n",
    "                not_in_clust_index = self.clusts == -1\n",
    "                in_same_clust_index = self.clusts == self.iclust\n",
    "\n",
    "                if (neighbours_index & (not_in_clust_index | in_same_clust_index)).sum() < self.min_pts:\n",
    "                    continue\n",
    "\n",
    "                nbrs = np.where(neighbours_index & not_in_clust_index)[0]\n",
    "\n",
    "                self.is_core[self.cpt] = True\n",
    "                self.clusts[nbrs] = self.iclust\n",
    "                self.clust_candidates.difference_update(nbrs)    \n",
    "                self.clust_set.update(nbrs)\n",
    "\n",
    "                if len(nbrs):\n",
    "                    self.plot_func(self.cpt)\n",
    "                    yield\n",
    "\n",
    "            self.iclust += 1\n",
    "\n",
    "        self.iclust -= 1\n",
    "        self.plot_func()\n",
    "        yield\n",
    "\n",
    "        return self.clusts, self.is_core\n",
    "\n",
    "    def save_images(self, image_filename_tpl=\"output/dbscan_{step}.svg\"):\n",
    "        for istep, _ in enumerate(self()):\n",
    "            self.fig.savefig(\n",
    "                image_filename_tpl.format(step=istep),\n",
    "                bbox_inches='tight'\n",
    "            )\n",
    "            \n",
    "    def grab_frame(self, format='svg'):\n",
    "        file = BytesIO()\n",
    "        dbscan_ani.fig.savefig(fname=file, format=format)\n",
    "        file.seek(0)\n",
    "        image_str = file.read()\n",
    "        return image_str\n",
    "            \n",
    "    def make_all_frames(self, format='svg'):\n",
    "        gen = self()\n",
    "        return [self.grab_frame(format=format) for _ in gen]\n",
    "\n",
    "    def make_animation(self, interval=500):\n",
    "        ani = FuncAnimation(\n",
    "            self.fig, lambda x: [], frames=self,\n",
    "            interval=interval, repeat=False\n",
    "        )\n",
    "        \n",
    "        return ani\n",
    "\n",
    "    def animate(self, interval=500):\n",
    "        ani = self.make_animation(interval=interval)\n",
    "        return self.show_animation(ani)\n",
    "    \n",
    "    def show_animation(self, ani):\n",
    "        html = HTML(ani.to_jshtml())\n",
    "        return html\n",
    "    \n",
    "# algos and hyperparams for the comparison of methods\n",
    "algos = [\n",
    "    ('kmeans', MiniBatchKMeans),\n",
    "    ('hierarchical, ward', AgglomerativeClustering),\n",
    "    ('hierarchical, single', AgglomerativeClustering),\n",
    "    ('DBSCAN', DBSCAN)\n",
    "]\n",
    "\n",
    "hyperparams = defaultdict(dict)\n",
    "hyperparams['kmeans']['circles'] = {'n_clusters': 2}\n",
    "hyperparams['kmeans']['moons'] = {'n_clusters': 2}\n",
    "hyperparams['kmeans']['blobs'] = {'n_clusters': 3}\n",
    "hyperparams['kmeans']['varied_blobs'] = {'n_clusters': 3}\n",
    "\n",
    "hyperparams['hierarchical, ward']['circles'] = {'n_clusters': 2, 'linkage': 'ward'}\n",
    "hyperparams['hierarchical, ward']['moons'] = {'n_clusters': 2, 'linkage': 'ward'}\n",
    "hyperparams['hierarchical, ward']['blobs'] = {'n_clusters': 3, 'linkage': 'ward'}\n",
    "hyperparams['hierarchical, ward']['varied_blobs'] = {'distance_threshold': 75, 'n_clusters': None, 'linkage': 'ward'}\n",
    "\n",
    "hyperparams['hierarchical, single']['circles'] = {'n_clusters': 2, 'linkage': 'single'}\n",
    "hyperparams['hierarchical, single']['moons'] = {'n_clusters': 2, 'linkage': 'single'}\n",
    "hyperparams['hierarchical, single']['blobs'] = {'n_clusters': 3, 'linkage': 'single'}\n",
    "hyperparams['hierarchical, single']['varied_blobs'] = {'distance_threshold': 1.55, 'n_clusters': None, 'linkage': 'single'}\n",
    "\n",
    "hyperparams['DBSCAN']['circles'] = {'eps': 0.15, 'min_samples': 5}\n",
    "hyperparams['DBSCAN']['moons'] = {'eps': 0.18, 'min_samples': 5}\n",
    "hyperparams['DBSCAN']['blobs'] = {'eps': 1.5, 'min_samples': 5}\n",
    "hyperparams['DBSCAN']['varied_blobs'] = {'eps': 5.0, 'min_samples': 5}"
   ]
  },
  {
   "attachments": {},
   "cell_type": "markdown",
   "metadata": {
    "tags": [
     "sk"
    ]
   },
   "source": [
    "## DBSCAN: Zhlukovanie na báze hustoty\n",
    "\n",
    "DBSCAN [[dbscan1996]](#dbscan1996) je známa metóda zhlukovania založená na hustote. Na rozdiel od metódy $k$-means či od hierarchického zhlukovania, počet zhlukov nie je potrebné špecifikovať vopred (explicitne ani implicitne špecifikovaním hladiny, kde rozrezať dendrogram). Hlavná myšlienka je takáto:\n",
    "\n",
    "* Ak má bod aspoň $\\textrm{min\\_pts}$ susedov vzdialených $\\leq \\epsilon$, je to **jadrový bod**  (angl. core point) zhluku;\n",
    "\n",
    "\n",
    "* Všetky ďalšie body vzdialené $\\leq \\epsilon$ sú s ním spojené a patria do toho istého zhluku;\n",
    "\n",
    "\n",
    "* Ak sú tieto pripojené body:\n",
    "\n",
    "\n",
    "* *Tiež jadrové body* , potom to isté platí aj o bodoch vzdialených $\\leq \\epsilon$ od nich, atď.;\n",
    "\n",
    "\n",
    "* *Nie jadrové body* , potom sa nazývajú **hraničné body**  (border points) a nedajú sa cez ne do zhluku pripojiť už žiadne ďalšie body.\n",
    "\n",
    "\n",
    "\n",
    "Pomocou týchto princípov je DBSCAN schopný objaviť zhluky. Keď sa bez DBSCAN-u skončí, niektoré body môžu zostať izolované, t.j. nie sú pripojené ku žiadnemu zhluku. Tieto sa jednoducho označia ako **mimozhlukové body**  – sú príliš ďaleko od ktoréhokoľvek zhluku na to, aby boli zaradené medzi jeho body.\n",
    "\n",
    "### Demonštrácia\n",
    "\n",
    "Teraz keď sme sa oboznámili so základnými princípmi, ukážeme si jednoduchú demonštráciu. Vytvoríme syntetickú dátovú množinu s troma zhlukmi guľového tvaru.\n",
    "\n"
   ]
  },
  {
   "cell_type": "code",
   "execution_count": null,
   "metadata": {},
   "outputs": [],
   "source": [
    "X, Y = datasets.make_blobs(\n",
    "    n_samples=75,\n",
    "    centers=[(1, 3), (3, 5), (5, 2)],\n",
    "    cluster_std=0.4,\n",
    "    random_state=0\n",
    ")\n",
    "\n",
    "plt.scatter(X[:, 0], X[:, 1], c='black')\n",
    "plt.grid(ls='--')\n",
    "plt.xlabel('x')\n",
    "plt.ylabel('y')"
   ]
  },
  {
   "cell_type": "markdown",
   "metadata": {
    "tags": [
     "sk"
    ]
   },
   "source": [
    "Následne si prejdeme krok za krokom, čo vykonáva DBSCAN (použijeme vlastnú triedu `DBScanAnimation`). Na začiatku nebudú existovať žiadne zhluky.\n",
    "\n"
   ]
  },
  {
   "cell_type": "code",
   "execution_count": null,
   "metadata": {},
   "outputs": [],
   "source": [
    "dbscan_ani = DBScanAnimation(X=X, eps=0.5, min_pts=5)\n",
    "frames = dbscan_ani.make_all_frames()\n",
    "display(SVG(frames[0]))"
   ]
  },
  {
   "attachments": {},
   "cell_type": "markdown",
   "metadata": {
    "tags": [
     "sk"
    ]
   },
   "source": [
    "V prvom kroku začneme potom náhodne (resp. v ľubovoľnom poradí – ak chceme, môžeme postupovať aj systematicky) vyberať body kým nenájdeme prvý jadrový bod (t.j. taký, ktorý má aspoň $\\textrm{min\\_pts}$ susedov vzdialených $\\leq \\epsilon$). Obrázok zvýrazňuje jeden taký bod červenou farbou spoločne s jeho $\\epsilon$ okolím.\n",
    "\n",
    "Z tohto bodu začneme vytvárať prvý zhluk. Zhluk bude na začiatku obsahovať jadrový bod a jeho $\\epsilon$ okolie (body sú v grafe farebne kódované ako zhluk 0).\n",
    "\n"
   ]
  },
  {
   "cell_type": "code",
   "execution_count": null,
   "metadata": {},
   "outputs": [],
   "source": [
    "display(SVG(frames[1]))"
   ]
  },
  {
   "cell_type": "markdown",
   "metadata": {
    "tags": [
     "sk"
    ]
   },
   "source": [
    "V ďalšom kroku prejdeme všetky tieto pridané body a určíme, ktoré z nich sú tiež jadrové (v grafe sú znázornené väčšími krúžkami) a následne pridáme do zhluku aj ich $\\epsilon$ okolia atď. Body, ktoré patria do zhluku, ale nie sú jadrové, nazývame hraničnými bodmi. Tieto síce patria do zhluku, ale už sa cez ne nedajú pripojiť do zhluku ďalšie body.\n",
    "\n",
    "Pozrime sa na niekoľko prvých krokov tohto procesu.\n",
    "\n"
   ]
  },
  {
   "cell_type": "code",
   "execution_count": null,
   "metadata": {},
   "outputs": [],
   "source": [
    "display(SVG(frames[2]))\n",
    "display(SVG(frames[3]))\n",
    "\n",
    "display(HTML(\"<center><strong>⋮</strong></center>\"))\n",
    "\n",
    "display(SVG(frames[7]))"
   ]
  },
  {
   "cell_type": "markdown",
   "metadata": {
    "tags": [
     "sk"
    ]
   },
   "source": [
    "Potom, ako vyčerpáme všetky body pripojené k prvému zhluku, pokračujeme ďalej so zostávajúcimi mimozhlukovými bodmi. Snažíme sa medzi nimi nájsť ďalší jadrový bod, ktorý by sa dal použiť na vytvorenie nasledujúceho zhluku. Ďalej už postupujeme analogicky.\n",
    "\n"
   ]
  },
  {
   "cell_type": "code",
   "execution_count": null,
   "metadata": {},
   "outputs": [],
   "source": [
    "display(SVG(frames[8]))"
   ]
  },
  {
   "cell_type": "markdown",
   "metadata": {
    "tags": [
     "sk"
    ]
   },
   "source": [
    "Napokon takto prejdeme všetky body. Môže sa stať, že aj potom zostanú niektoré body stále **mimozhlukové** . To je v poriadku – znamená to, že nespĺňajú kritériá na to, aby boli zaradené do jedného zo zhlukov. V praktických aplikáciách bude často užitočné, ak budeme vedieť také body identifikovať.\n",
    "\n"
   ]
  },
  {
   "cell_type": "code",
   "execution_count": null,
   "metadata": {},
   "outputs": [],
   "source": [
    "display(SVG(frames[-1]))"
   ]
  },
  {
   "cell_type": "markdown",
   "metadata": {
    "tags": [
     "sk"
    ]
   },
   "source": [
    "Napokon si ešte skontrolujme jeden z hraničných bodov. Mali by sme vidieť, že hoci je v $\\epsilon$ okolí jadrového bodu, nemá vo svojom vlastnom $\\epsilon$ okolí dosť bodov na to, aby sa stal jadrovým bodom.\n",
    "\n"
   ]
  },
  {
   "cell_type": "code",
   "execution_count": null,
   "metadata": {},
   "outputs": [],
   "source": [
    "ax = plt.gca()\n",
    "boundary_point = np.where(dbscan_ani.clusts != -1 & ~dbscan_ani.is_core)[0][0]\n",
    "dbscan_ani.plot_func(cpt=boundary_point, ax=ax, cpt_size=30)"
   ]
  },
  {
   "cell_type": "markdown",
   "metadata": {
    "tags": [
     "sk"
    ]
   },
   "source": [
    "Napokon môžeme vygenerovať ešte aj animovanú verziu celého procesu, aby ste si mohli prejsť podľa záujmu všetky kroky.\n",
    "\n"
   ]
  },
  {
   "cell_type": "code",
   "execution_count": null,
   "metadata": {},
   "outputs": [],
   "source": [
    "dbscan_ani = DBScanAnimation(X=X, eps=0.5, min_pts=5)\n",
    "dbscan_ani.animate()"
   ]
  },
  {
   "cell_type": "markdown",
   "metadata": {
    "tags": [
     "sk"
    ]
   },
   "source": [
    "### DBSCAN v balíčku scikit-learn\n",
    "\n",
    "Teraz keď rozumieme, ako metóda DBSCAN funguje, pozrime sa, ako sa dá aplikovať v praxi pomocou balíčka `scikit-learn`. Nečakajú nás žiadne prekvapenia – DBSCAN používa štandardné `scikit-learn` rozhranie. \"Číslo zhluku\" pre mimozhlukové body je `-1`. Číslovanie bežných zhlukov začína od 0.\n",
    "\n",
    "Upozorňujeme, že vo všeobecnosti je vhodné pred aplikáciou DBSCAN-u **dáta štandardizovať**  (presne ako sme to robili pri iných metódach zhlukovania). Tu štandardizáciu vynechávame jedine preto, že ide o čisto iustračné príklady a dáta si štandardizáciu reálne nevyžadujú.\n",
    "\n"
   ]
  },
  {
   "cell_type": "code",
   "execution_count": null,
   "metadata": {},
   "outputs": [],
   "source": [
    "model = DBSCAN(eps=0.5, min_samples=5)\n",
    "clusts = model.fit_predict(X)"
   ]
  },
  {
   "cell_type": "code",
   "execution_count": null,
   "metadata": {},
   "outputs": [],
   "source": [
    "plot_clust(X=X, clusts=clusts)"
   ]
  },
  {
   "attachments": {},
   "cell_type": "markdown",
   "metadata": {
    "tags": [
     "sk"
    ]
   },
   "source": [
    "### Metódy zhlukovania: porovnania\n",
    "\n",
    "Napokon sa pozrieme ešte na malé porovnanie metód $k$-means, hierarchického zhlukovania (s ward a single linkage) a DBSCAN. Použijeme niekoľko pokusných dátových množín, aby sme lepšie ilustrovali, aké typy zhlukov je možné odhaliť pomocou každej z metód. Vygenerujme a vizualizujme si najprv samotné dáta: budeme používať dáta z [príkladu z dokumentácie ku scikit-learn-u](https://scikit-learn.org/stable/auto_examples/cluster/plot_cluster_comparison.html).\n",
    "\n"
   ]
  },
  {
   "cell_type": "code",
   "execution_count": null,
   "metadata": {},
   "outputs": [],
   "source": [
    "#@title -- Data generation code -- { display-mode: \"form\" }\n",
    "n_samples = 1500\n",
    "circles, _ = datasets.make_circles(n_samples=n_samples, factor=0.5, noise=0.05, random_state=0)\n",
    "moons, _ = datasets.make_moons(n_samples=n_samples, noise=0.05, random_state=0)\n",
    "blobs, _ = datasets.make_blobs(n_samples=n_samples, random_state=8)\n",
    "varied_blobs, _ = datasets.make_blobs(n_samples=n_samples, cluster_std=[1.0, 2.5, 0.5], random_state=170)\n",
    "\n",
    "data = [\n",
    "    ('circles', circles),\n",
    "    ('moons', moons),\n",
    "    ('blobs', blobs),\n",
    "    ('varied_blobs', varied_blobs)\n",
    "]\n",
    "\n",
    "# plotting\n",
    "fig, axes = plt.subplots(nrows=2, ncols=2, figsize=(8, 8))\n",
    "\n",
    "axes[0, 0].scatter(circles[:, 0], circles[:, 1])\n",
    "axes[0, 0].set_title('circles')\n",
    "axes[0, 0].grid(ls='--')\n",
    "axes[0, 0].set_ylabel('y')\n",
    "\n",
    "axes[0, 1].scatter(moons[:, 0], moons[:, 1])\n",
    "axes[0, 1].set_title('moons')\n",
    "axes[0, 1].grid(ls='--')\n",
    "\n",
    "axes[1, 0].scatter(blobs[:, 0], blobs[:, 1])\n",
    "axes[1, 0].set_title('blobs')\n",
    "axes[1, 0].grid(ls='--')\n",
    "axes[1, 0].set_xlabel('x')\n",
    "axes[1, 0].set_ylabel('y')\n",
    "\n",
    "axes[1, 1].scatter(varied_blobs[:, 0], varied_blobs[:, 1])\n",
    "axes[1, 1].set_title('varied blobs')\n",
    "axes[1, 1].grid(ls='--')\n",
    "axes[1, 1].set_xlabel('x')"
   ]
  },
  {
   "cell_type": "markdown",
   "metadata": {
    "tags": [
     "sk"
    ]
   },
   "source": [
    "Teraz budeme na každú dátovú množinu aplikovať jednotlivé metódy zhlukovania (v každom prípade s trochu odlišnými hyperparametrami – tým sa však teraz nemusíme trápiť) a výsledky zobrazáme v grafe.\n",
    "\n"
   ]
  },
  {
   "cell_type": "code",
   "execution_count": null,
   "metadata": {},
   "outputs": [],
   "source": [
    "#@title -- Clustering code -- { display-mode: \"form\" }\n",
    "fig, axes = plt.subplots(len(data), len(algos))\n",
    "fig.set_size_inches(10, 8)\n",
    "\n",
    "for jax in range(axes.shape[1]):\n",
    "    axes[0][jax].set_title(algos[jax][0])\n",
    "\n",
    "for iax in range(axes.shape[0]):\n",
    "    for jax in range(axes.shape[1]):\n",
    "        ax = axes[iax][jax]\n",
    "        X = data[iax][1]\n",
    "        alg = algos[jax][1]\n",
    "        params = hyperparams[algos[jax][0]][data[iax][0]]\n",
    "        \n",
    "        model = alg(**params)\n",
    "        clusts = model.fit_predict(X)\n",
    "        plot_clust(X=X, clusts=clusts, ax=ax, legend=False,\n",
    "            other_point_size=5, rasterized=True)\n",
    "        \n",
    "        if jax > 0:\n",
    "            ax.set_ylabel('')\n",
    "            \n",
    "        if iax < axes.shape[0] - 1:\n",
    "            ax.set_xlabel('')"
   ]
  },
  {
   "cell_type": "markdown",
   "metadata": {
    "tags": [
     "sk"
    ]
   },
   "source": [
    "#### $k$-means\n",
    "\n",
    "Vec, ktorú si všimneme okamžite je, že metóda $k$-means v skutočnosti funguje správne len so zhlukmi guľovitého tvaru – preto bude dobre fungovať len s dátovou množinou blobs.\n",
    "\n",
    "#### Hierarchické zhlukovanie\n",
    "\n",
    "Pri hierarchickom zhlukovaní môžeme meniť linkage metódy (ako sa určujú vzdialenosti medzi zhlukmi). Všimnite si, že ward linkage (a ďalšie ako sú average a complete linkage) nefunguje správne s množinami circles a moons. Single linkage metóda sa pozerá na najmenšie vzdialenosti medzi zhlukmi, takže je zameraná viac lokálne a funguje v týchto prípadoch lepšie. Nefunguje však zase veľmi dobre v prípade zhlukov s rozdielnymi hustotami.\n",
    "\n",
    "#### DBSCAN\n",
    "\n",
    "Podobne aj metóda DBSCAN funguje veľmi dobre s množinami blobs, circles a moons, ale – keďže je založená na hustote – **nedokáže sa vysporiadať so zhlukmi, ktoré majú podstatne odlišné hustoty – neexistuje žiadna vhodná hodnota pre $\\epsilon$, pretože bude buď príliš nízka pre jeden zhluk alebo príliš vysoká pre iný.** \n",
    "\n",
    "Aby bolo zrejmejšie, v čom je problém, spustíme si ešte na množine s rozličnými hustotami zhlukov DBSCAN s dvoma rôznymi hodnotami $\\epsilon$.\n",
    "\n"
   ]
  },
  {
   "cell_type": "code",
   "execution_count": null,
   "metadata": {},
   "outputs": [],
   "source": [
    "fig, axes = plt.subplots(nrows=1, ncols=2, figsize=(10, 4))\n",
    "\n",
    "model = DBSCAN(eps=5, min_samples=5)\n",
    "clusts = model.fit_predict(varied_blobs)\n",
    "plot_clust(X=varied_blobs, clusts=clusts, ax=axes[0],\n",
    "    legend=False, other_point_size=10, rasterized=True)\n",
    "\n",
    "model = DBSCAN(eps=0.5, min_samples=5)\n",
    "clusts = model.fit_predict(varied_blobs)\n",
    "plot_clust(X=varied_blobs, clusts=clusts, ax=axes[1],\n",
    "    legend=False, other_point_size=10, rasterized=True)"
   ]
  },
  {
   "attachments": {},
   "cell_type": "markdown",
   "metadata": {},
   "source": [
    "### References\n",
    "\n",
    "<a id=\"dbscan1996\">[dbscan1996]</a> Ester, M., Kriegel, H.P., Sander, J. and Xu, X., 1996, August. A density-based algorithm for discovering clusters in large spatial databases with noise. In kdd (Vol. 96, No. 34, pp. 226-231).\n",
    "\n"
   ]
  },
  {
   "cell_type": "code",
   "execution_count": null,
   "metadata": {},
   "outputs": [],
   "source": []
  }
 ],
 "metadata": {
  "celltoolbar": "Tags",
  "kernelspec": {
   "display_name": "base",
   "language": "python",
   "name": "python3"
  },
  "language_info": {
   "codemirror_mode": {
    "name": "ipython",
    "version": 3
   },
   "file_extension": ".py",
   "mimetype": "text/x-python",
   "name": "python",
   "nbconvert_exporter": "python",
   "pygments_lexer": "ipython3",
   "version": "3.9.13 (main, Aug 25 2022, 23:51:50) [MSC v.1916 64 bit (AMD64)]"
  },
  "vscode": {
   "interpreter": {
    "hash": "a351393365bb1b108989afa08de3243f72f5e58927baf5d192f3cca79a41cbc4"
   }
  }
 },
 "nbformat": 4,
 "nbformat_minor": 2
}
