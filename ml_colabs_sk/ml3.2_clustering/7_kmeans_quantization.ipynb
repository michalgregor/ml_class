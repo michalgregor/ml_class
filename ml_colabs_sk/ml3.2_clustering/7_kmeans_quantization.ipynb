{
 "cells": [
  {
   "cell_type": "markdown",
   "metadata": {
    "tags": [
     "sk"
    ]
   },
   "source": [
    "**POZNÁMKA: Tento notebook je určený pre platformu Google Colab. Je však možné ho spustiť (možno s drobnými úpravami) aj ako štandardný Jupyter notebook.** \n",
    "\n"
   ]
  },
  {
   "cell_type": "code",
   "execution_count": null,
   "metadata": {},
   "outputs": [],
   "source": [
    "#@title -- Installation of Packages -- { display-mode: \"form\" }\n",
    "import sys\n",
    "!{sys.executable} -m pip install git+https://github.com/michalgregor/class_utils.git"
   ]
  },
  {
   "cell_type": "code",
   "execution_count": null,
   "metadata": {},
   "outputs": [],
   "source": [
    "#@title -- Import of Necessary Packages -- { display-mode: \"form\" }\n",
    "import numpy as np\n",
    "from PIL import Image\n",
    "from sklearn.cluster import MiniBatchKMeans\n",
    "from sklearn.neighbors import NearestNeighbors\n",
    "import matplotlib.pyplot as plt"
   ]
  },
  {
   "cell_type": "code",
   "execution_count": null,
   "metadata": {},
   "outputs": [],
   "source": [
    "#@title -- Downloading Data -- { display-mode: \"form\" }\n",
    "DATA_HOME = \"https://github.com/michalgregor/ml_notebooks/blob/main/data/{}?raw=1\"\n",
    "\n",
    "from class_utils.download import download_file_maybe_extract\n",
    "download_file_maybe_extract(DATA_HOME.format(\"images/photo_rome.jpg\"), directory=\"data\")\n",
    "\n",
    "# also create a directory for storing any outputs\n",
    "import os\n",
    "os.makedirs(\"output\", exist_ok=True)"
   ]
  },
  {
   "cell_type": "code",
   "execution_count": null,
   "metadata": {},
   "outputs": [],
   "source": [
    "#@title -- Auxiliary Functions -- { display-mode: \"form\" }\n",
    "\n",
    "def plot_colors(colors, cluster_centers=None):\n",
    "    _, (ax1, ax2, ax3) = plt.subplots(1, 3, figsize=(14, 6))\n",
    "    ax1.scatter(colors[:, 0], colors[:, 1], s=10, c=colors/255.0)\n",
    "\n",
    "    ax1.set_xlabel(\"red\")\n",
    "    ax1.set_ylabel(\"green\")\n",
    "    ax1.grid(ls='--')\n",
    "    ax1.set_axisbelow(True)\n",
    "\n",
    "    if not cluster_centers is None:\n",
    "        ax1.scatter(cluster_centers[:, 0], cluster_centers[:, 1], s=100,\n",
    "            c='orange', edgecolors='k', linewidths=2.5\n",
    "        )\n",
    "\n",
    "    ax2.scatter(colors[:, 0], colors[:, 2], s=10, c=colors/255.0)\n",
    "    ax2.set_xlabel(\"red\")\n",
    "    ax2.set_ylabel(\"blue\")\n",
    "    ax2.grid(ls='--')\n",
    "    ax2.set_axisbelow(True)\n",
    "\n",
    "    if not cluster_centers is None:\n",
    "        ax2.scatter(cluster_centers[:, 0], cluster_centers[:, 2], s=100,\n",
    "            c='orange', edgecolors='k', linewidths=2.5\n",
    "        )\n",
    "\n",
    "    ax3.scatter(colors[:, 1], colors[:, 2], s=10, c=colors/255.0)\n",
    "    ax3.set_xlabel(\"green\")\n",
    "    ax3.set_ylabel(\"blue\")\n",
    "    ax3.grid(ls='--')\n",
    "    ax3.set_axisbelow(True)\n",
    "\n",
    "    if not cluster_centers is None:\n",
    "        ax3.scatter(cluster_centers[:, 1], cluster_centers[:, 2], s=100,\n",
    "            c='orange', edgecolors='k', linewidths=2.5\n",
    "        )"
   ]
  },
  {
   "cell_type": "markdown",
   "metadata": {
    "tags": [
     "sk"
    ]
   },
   "source": [
    "## k-Means pre kvantizáciu farieb\n",
    "\n",
    "V rámci tohto príkladu budeme aplikovať $k$-means na trochu odlišnú úlohu. Vezmeme si obrázok a budeme sa ho snažiť skomprimovať kvantizáciou priestoru farieb. Na začiatku bude náš obrázok v RGB priestore. Budeme pracovať s troma 8-bitovými číslami: s jedným pre každý farebný kanál (červený, modrý, zelený). Tým pádom budeme mať 256 úrovní pre každý farebný kanál, t.j. $256^3 = 16\\ 777\\ 216$ rôznych farieb.\n",
    "\n",
    "Povedzme, že by sme namiesto toho ukladali spolu s obrázkom malú paletu farieb a pre každý pixel uložili len index farby v tejto palete. Potom by nám stačilo použiť len jedno 8-bitové číslo pre každý pixel namiesto troch. Pochopiteľne, toto číslo nemusí byť práve 8-bitové: mohlo by byť aj menšie alebo väčšie podľa toho aká veľká bude naša paleta.\n",
    "\n",
    "V každom prípade, princíp je dosť jednoduchý – skutočnou otázkou je, ako nájsť dobrú paletu. Chceme do nej zahrnúť také farby, aby komprimovaný obrázok nebol priveľmi skreslený. Čo teda urobíme, bude, že na pixeloch z nášho obrázka vykonáme $k$-means zhlukovanie. Tým spôsobom získame paletu s $k$ farbami, ktoré budú reprezentovať zhluky v priestore farieb.\n",
    "\n",
    "### Načítanie obrázka\n",
    "\n",
    "Začnime tým, že si načítame a zobrazíme obrázok. Ako uvidíme, obsahuje prevažne zelené, fialové, modré, hnedé a biele farby.\n",
    "\n"
   ]
  },
  {
   "cell_type": "code",
   "execution_count": null,
   "metadata": {},
   "outputs": [],
   "source": [
    "img = np.array(Image.open(\"data/photo_rome.jpg\"))\n",
    "plt.figure(figsize=(10, 6))\n",
    "plt.imshow(img)\n",
    "plt.axis('off');"
   ]
  },
  {
   "cell_type": "markdown",
   "metadata": {
    "tags": [
     "sk"
    ]
   },
   "source": [
    "### Zmena tvaru obrázka\n",
    "\n",
    "Teraz zmeníme tvar obrázka tak, aby sme získali maticu bodov z priestoru farieb, t.j. maticu $m \\times n$, kde $m$ je celkový počet pixelov z obrázka a $n$ je rozmer farebného priestoru – v našom prípade $n=3$ keďže náš obrázok je v RGB.\n",
    "\n"
   ]
  },
  {
   "cell_type": "code",
   "execution_count": null,
   "metadata": {},
   "outputs": [],
   "source": [
    "img_shape = img.shape\n",
    "X = img.reshape(-1, img_shape[2])\n",
    "X.shape"
   ]
  },
  {
   "cell_type": "markdown",
   "metadata": {
    "tags": [
     "sk"
    ]
   },
   "source": [
    "### Explorácia priestoru farieb\n",
    "\n",
    "Následne môžeme použiť `np.unique`, aby sme skontrolovali, koľko rôznych farieb obrázok obsahuje – ako vidno, je ich v skutočnosti dosť veľa.\n",
    "\n"
   ]
  },
  {
   "cell_type": "code",
   "execution_count": null,
   "metadata": {},
   "outputs": [],
   "source": [
    "colors = np.unique(X, axis=0)\n",
    "len(colors)"
   ]
  },
  {
   "cell_type": "markdown",
   "metadata": {
    "tags": [
     "sk"
    ]
   },
   "source": [
    "Aby sme lepšie vizuálne porozumeli tomu, ktoré oblasti náš obrázok obsadzuje v priestore farieb, môžeme si zobraziť jednotlivé pixely v troch rovinách: v rovinách červená vs. zelená, červená vs. modrá a zelená vs. modrá. Každý bod pritom zafarbíme samotnou RGB farbou.\n",
    "\n",
    "Ako vidno, naše farby skutočne obsadzujú len relatívne malý podpriestor priestoru farieb takže určitá kompresia by mala byť možná.\n",
    "\n"
   ]
  },
  {
   "cell_type": "code",
   "execution_count": null,
   "metadata": {},
   "outputs": [],
   "source": [
    "np.random.seed(10)\n",
    "sel_colors = colors[np.random.randint(0, len(colors), size=2500)]\n",
    "plot_colors(sel_colors)"
   ]
  },
  {
   "cell_type": "markdown",
   "metadata": {
    "tags": [
     "sk"
    ]
   },
   "source": [
    "### Minidávkový $k$-means\n",
    "\n",
    "Ďalej aplikujeme metódu $k$-means. Počet zhlukov nastavíme na 32 – to znamená, že budeme hľadať paletu s 32 farbami. Počet bodov, s ktorým budeme pracovať, je pomerne veľký. Z tohto dôvodu budeme používať minidávkovú verziu $k$-means – nájdenie stredov zhlukov to značne urýchli.\n",
    "\n",
    "Myšlienka minidávkového $k$-means algoritmu spočíva v tom, že sa v každom kroku nepoužijú všetky body, ale sa z nich vyberie v každom kroku len podmnožine a pracuje sa s tou. Týmto spôsobom je možné aplikovať $k$-means dokonca aj na dáta, ktoré sa nezmestia celé naraz do pamäte. Stojí za povšimnutie, že ten istý princíp sa používa pri tréningu umelých neurónových sietí na veľmi veľkých dátových množinách.\n",
    "\n"
   ]
  },
  {
   "cell_type": "code",
   "execution_count": null,
   "metadata": {},
   "outputs": [],
   "source": [
    "model = MiniBatchKMeans(n_clusters=32)\n",
    "model.fit(X)"
   ]
  },
  {
   "cell_type": "markdown",
   "metadata": {
    "tags": [
     "sk"
    ]
   },
   "source": [
    "Keď sme model natrénovali, spustíme ho teraz na našej dátovej množine, čo nám ku každému bodu priradí identifikátor zhluku – ten určuje, ktorú farbu z palety priradíme danému pixelu. Takisto si extrahujeme aj samotnú paletu – skopírujeme si stredy zhlukov z modelu a transformujeme ich späť na 8-bitové celé čísla. Keď máme tieto dva prvky, náš obrázok je už vlastne kvantizovaný.\n",
    "\n"
   ]
  },
  {
   "cell_type": "code",
   "execution_count": null,
   "metadata": {},
   "outputs": [],
   "source": [
    "clusts = model.predict(X)\n",
    "cluster_centers = model.cluster_centers_.astype(np.uint8)"
   ]
  },
  {
   "cell_type": "markdown",
   "metadata": {
    "tags": [
     "sk"
    ]
   },
   "source": [
    "Aby sme si výsledky skontrolovali, zobrazíme si znovu všetky farby v troch rôznych rovinách a teraz si v tom istom grafe budeme vizualizovať aj stredy identifikovaných zhlukov.\n",
    "\n"
   ]
  },
  {
   "cell_type": "code",
   "execution_count": null,
   "metadata": {},
   "outputs": [],
   "source": [
    "plot_colors(sel_colors, cluster_centers)"
   ]
  },
  {
   "cell_type": "markdown",
   "metadata": {
    "tags": [
     "sk"
    ]
   },
   "source": [
    "### Kvantizácia farieb obrázka\n",
    "\n",
    "Napokon teda skúsme rekonštruovať obrázok z našej kvantizovanej verzie a pozrime sa, ako bude vyzerať výsledok. Jediná vec, ktorú treba spraviť, je prejsť znovu postupne všetky body a vyčítať z palety zodpovedajúce farby. Akonáhle ich máme k dispozícii, zmeníme tvar výslednej matice späť do tvaru pôvodného obrázka a takto rekonštruovaní obrázok zobrazíme.\n",
    "\n",
    "Ako vidno, farby obrázka sú nepochybne menej živé, ale aj s 32 farbami sa nám podarilo charakter väčšej časti obrázka zachovať pomerne dobre. Najzrejmejšou výnimkou je v tomto prípade obloha, ktorú pôvodne tvoril gradient farieb a tento je teraz viditeľne kvantizovaný.\n",
    "\n"
   ]
  },
  {
   "cell_type": "code",
   "execution_count": null,
   "metadata": {},
   "outputs": [],
   "source": [
    "quantized_X = cluster_centers[clusts]\n",
    "quantized_img = quantized_X.reshape(img_shape)\n",
    "\n",
    "plt.figure(figsize=(14, 10))\n",
    "plt.imshow(quantized_img)\n",
    "plt.axis('off');"
   ]
  },
  {
   "cell_type": "markdown",
   "metadata": {
    "tags": [
     "sk"
    ]
   },
   "source": [
    "---\n",
    "### Task: Zopakujte kvantizáciu pre iné veľkosti palety\n",
    "\n",
    "**Spustite algoritmus znovu s inými veľkosťami palety, napr. so 16 farbami alebo so 64 farbami. Vykreslite výsledné rekonštrukcie.** \n",
    "\n",
    "---\n"
   ]
  },
  {
   "cell_type": "code",
   "execution_count": null,
   "metadata": {
    "tags": [
     "student"
    ]
   },
   "outputs": [],
   "source": [
    "\n",
    "# ---\n"
   ]
  },
  {
   "cell_type": "markdown",
   "metadata": {
    "tags": [
     "sk"
    ]
   },
   "source": [
    "### Kvantizácia s náhodnou paletou\n",
    "\n",
    "Teraz sa, pre porovnanie, pokúsime realizovať kvantizáciu farieb s náhodne vygenerovanou paletou. Najprv si vyberieme náhodným spôsobom vopred stanovený počet farieb a následne nájdeme pre každý pixel v tejto palete najbližšiu farbu pomocou triedy `NearestNeighbors`. Napokon opäť zobrazíme výslednú rekonštrukciu. Ako uvidíte, výsledky v tomto prípade nie sú vôbec ideálne.\n",
    "\n"
   ]
  },
  {
   "cell_type": "code",
   "execution_count": null,
   "metadata": {},
   "outputs": [],
   "source": [
    "np.random.seed(10)\n",
    "\n",
    "model = NearestNeighbors(n_neighbors=1)\n",
    "cluster_centers_ = np.random.uniform(0, 255, (32, 3))\n",
    "model.fit(cluster_centers_)\n",
    "\n",
    "clusts = model.kneighbors(X)[1]\n",
    "\n",
    "cluster_centers = cluster_centers_.astype(np.uint8)\n",
    "quantized_X = cluster_centers[clusts]\n",
    "quantized_img = quantized_X.reshape(img_shape)"
   ]
  },
  {
   "cell_type": "code",
   "execution_count": null,
   "metadata": {},
   "outputs": [],
   "source": [
    "plt.figure(figsize=(10, 6))\n",
    "plt.imshow(quantized_img)\n",
    "plt.axis('off');"
   ]
  },
  {
   "cell_type": "code",
   "execution_count": null,
   "metadata": {},
   "outputs": [],
   "source": []
  }
 ],
 "metadata": {
  "celltoolbar": "Tags",
  "interpreter": {
   "hash": "b08d363ebb8492a302c7076da18bf168d910622d9da13f07c6e53914cde27110"
  },
  "kernelspec": {
   "display_name": "Python 3 (ipykernel)",
   "language": "python",
   "name": "python3"
  },
  "language_info": {
   "codemirror_mode": {
    "name": "ipython",
    "version": 3
   },
   "file_extension": ".py",
   "mimetype": "text/x-python",
   "name": "python",
   "nbconvert_exporter": "python",
   "pygments_lexer": "ipython3",
   "version": "3.9.7"
  }
 },
 "nbformat": 4,
 "nbformat_minor": 2
}
