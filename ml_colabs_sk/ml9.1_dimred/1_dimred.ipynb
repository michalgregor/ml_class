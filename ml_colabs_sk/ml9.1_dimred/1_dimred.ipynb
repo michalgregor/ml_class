{
 "cells": [
  {
   "cell_type": "markdown",
   "metadata": {
    "colab_type": "text",
    "id": "oz5XE6l8WktR",
    "tags": [
     "sk"
    ]
   },
   "source": [
    "**POZNÁMKA: Tento notebook je určený pre platformu Google Colab. Je však možné ho spustiť (možno s drobnými úpravami) aj ako štandardný Jupyter notebook.** \n",
    "\n"
   ]
  },
  {
   "cell_type": "code",
   "execution_count": null,
   "metadata": {
    "colab": {
     "base_uri": "https://localhost:8080/",
     "height": 776
    },
    "colab_type": "code",
    "id": "v3edtGynYnV2",
    "outputId": "e408772e-a5c8-4ff2-9b42-dedb4ce69d79"
   },
   "outputs": [],
   "source": [
    "#@title -- Installation of Packages -- { display-mode: \"form\" }\n",
    "import sys\n",
    "!{sys.executable} -m pip install datasets\n",
    "!{sys.executable} -m pip install umap-learn\n",
    "!{sys.executable} -m pip install git+https://github.com/michalgregor/class_utils.git"
   ]
  },
  {
   "cell_type": "code",
   "execution_count": null,
   "metadata": {
    "colab": {},
    "colab_type": "code",
    "id": "FKGimae0aMhb"
   },
   "outputs": [],
   "source": [
    "#@title -- Import of Necessary Packages -- { display-mode: \"form\" }\n",
    "from sklearn.preprocessing import StandardScaler\n",
    "from sklearn.impute import SimpleImputer\n",
    "from sklearn.pipeline import make_pipeline\n",
    "\n",
    "from datasets import load_dataset\n",
    "from class_utils import imscatter\n",
    "from sklearn.decomposition import PCA\n",
    "import matplotlib.pyplot as plt\n",
    "import numpy as np\n",
    "import umap"
   ]
  },
  {
   "cell_type": "markdown",
   "metadata": {
    "colab_type": "text",
    "id": "yKN7RHaHUtMr",
    "tags": [
     "sk"
    ]
   },
   "source": [
    "## Znižovanie rozmeru dát\n",
    "\n",
    "Cieľom metód znižovania rozmeru dát je znížiť rozmer dát tak, aby sa pritom stratilo čo najmenej užitočnej informácie. Znižovanie rozmeru môže mať rôzne ciele, napríklad:\n",
    "\n",
    "* chceme znížiť výpočtové nároky na spracovanie dát;\n",
    "* vizualizácia vysokorozmerných dát;\n",
    "* ...\n",
    "My si teraz budeme ilustrovať postup znižovania rozmeru dát na účel vizualizácie.\n",
    "\n",
    "### Načítanie dát\n",
    "\n",
    "Na ilustráciu použijeme dátovú množinu [Fashion MNIST](https://huggingface.co/datasets/fashion_mnist), ktorá obsahuje obrázky rôznych typov obuvi a oblečenia v malom rozlíšení $28 \\times 28$ pixelov.\n",
    "\n",
    "Obrázky v dátovej množine sú roztriedené do nasledujúcich tried:\n",
    "\n",
    "label id | label       |  | label id | label     \n",
    "-------- | ----------- | - | -------- | ----------\n",
    "**0**    | T-shirt/top |  | **5**    | Sandal    \n",
    "**1**    | Trouser     |  | **6**    | Shirt     \n",
    "**2**    | Pullover    |  | **7**    | Sneaker   \n",
    "**3**    | Dress       |  | **8**    | Bag       \n",
    "**4**    | Coat        |  | **9**    | Ankle boot\n",
    "Dátovú množinu načítame veľmi jednoducho, pretože balíček `datasets` od firmy HuggingFace obsahuje pribalenú funkciu, ktorá to umožňuje. Stačí len zavolať funkciu `load_dataset` a ako dátovú množinu špecifikovať `\"fashion_mnist\"`. S predvolenými parametrami by sme takto získali dátovú množinu rozdelenú na dve časti: na trénovaciu a testovaciu časť. Keďže plánujeme realizovať len vizualizáciu a nie kontrolované učenie, nebudeme testovaciu množinu potrebovať. Špecifikujeme preto `split='train+test'` – takto naša dátová množina nebude rozdelená na dve časti.\n",
    "\n"
   ]
  },
  {
   "cell_type": "code",
   "execution_count": null,
   "metadata": {},
   "outputs": [],
   "source": [
    "dataset = load_dataset(\"fashion_mnist\", split='train+test')\n",
    "dataset"
   ]
  },
  {
   "cell_type": "markdown",
   "metadata": {
    "colab_type": "text",
    "id": "yKN7RHaHUtMr",
    "tags": [
     "sk"
    ]
   },
   "source": [
    "Jedna vcelku užitočná vlastnosť dátových množín načítaných pomocou `load_dataset` je, že majú atribút `.info`, ktorý obsahuje metadáta o dátovej množine. Je takto možné si napríklad zobraziť krátky opis dátovej množiny alebo získať názvy tried:\n",
    "\n"
   ]
  },
  {
   "cell_type": "code",
   "execution_count": null,
   "metadata": {},
   "outputs": [],
   "source": [
    "print(dataset.info.description)"
   ]
  },
  {
   "cell_type": "code",
   "execution_count": null,
   "metadata": {},
   "outputs": [],
   "source": [
    "class_names = dataset.info.features['label'].names\n",
    "print(class_names)"
   ]
  },
  {
   "cell_type": "code",
   "execution_count": null,
   "metadata": {},
   "outputs": [],
   "source": [
    "X = np.asarray([np.asarray(img) for img in dataset['image']])\n",
    "Y = np.asarray(dataset['label'])"
   ]
  },
  {
   "cell_type": "markdown",
   "metadata": {
    "colab_type": "text",
    "id": "IwemtOo2jMHR",
    "tags": [
     "sk"
    ]
   },
   "source": [
    "Aby sme mali predstavu, ako dáta vyzerajú, zobrazíme si ďalej niekoľko náhodne zvolených vzoriek:\n",
    "\n"
   ]
  },
  {
   "cell_type": "code",
   "execution_count": null,
   "metadata": {
    "colab": {
     "base_uri": "https://localhost:8080/",
     "height": 427
    },
    "colab_type": "code",
    "id": "e4TYSHU0WN_0",
    "outputId": "c965fa27-7f0a-4760-ff47-977fdfb236e2"
   },
   "outputs": [],
   "source": [
    "fig, axes = plt.subplots(5, 5)\n",
    "fig.set_size_inches([7, 7])\n",
    "\n",
    "for ax_row in axes:\n",
    "    for ax in ax_row:\n",
    "        ind = np.random.randint(0, X.shape[0])\n",
    "        ax.imshow(X[ind], cmap='Greys')\n",
    "        ax.set_title(class_names[Y[ind]])\n",
    "        ax.axis('off')\n",
    "    \n",
    "plt.subplots_adjust(hspace=0.5)"
   ]
  },
  {
   "cell_type": "markdown",
   "metadata": {
    "colab_type": "text",
    "id": "5SlvsPJNkm9O",
    "tags": [
     "sk"
    ]
   },
   "source": [
    "### Predspracovanie\n",
    "\n",
    "Pripomíname, že bežne by sme dáta pred aplikáciou PCA či UMAP **štandardizovali**  (preškálovali každý stĺpec tak, aby jeho priemer bol nula a smerodajná odchýlka bola 1). Robí sa to preto, aby metóda nepovažovala určité stĺpce za dôležitejšie len preto, že hodnoty majú väčšiu škálu. V tomto prípade sú však naše dáta obrázové, takže každý rozmer (každý pixel) už má rovnakú mierku.\n",
    "\n"
   ]
  },
  {
   "cell_type": "code",
   "execution_count": null,
   "metadata": {},
   "outputs": [],
   "source": [
    "# WE DO NOT NEED THIS BECAUSE WE HAVE AN IMAGE DATASET\n",
    "\n",
    "# input_preproc = make_pipeline(\n",
    "#     SimpleImputer(),\n",
    "#     StandardScaler()\n",
    "# )\n",
    "\n",
    "# X_preproc = input_preproc.fit_transform(X.reshape(X.shape[0], -1))\n",
    "# X_preproc = X_preproc.reshape(X.shape)\n",
    "# X = X_preproc"
   ]
  },
  {
   "cell_type": "markdown",
   "metadata": {
    "colab_type": "text",
    "id": "5SlvsPJNkm9O",
    "tags": [
     "sk"
    ]
   },
   "source": [
    "### Znižovanie rozmeru dát pomocou PCA a vizualizácia\n",
    "\n",
    "Keďže obrázky majú rozmer $28 \\times 28$ pixelov, priestor je 784-rozmerný. Ak chceme vizualizovať jeho štruktúru, musíme dáta redukovať do 2-rozmerného priestoru. Tým prirodzene veľké množstvo informácie stratíme, ale v dobrom prípade sa budeme stále schopní dozvedieť veľa o štruktúre priestoru.\n",
    "\n",
    "Ako prvú metódu na znižovanie rozmeru otestujeme metódu PCA. Ide o metódu, ktorá je veľmi rýchla, ale vie využiť len lineárne závislosti v dátach – nie nelineárne. Pri niektorých dátových množinách to však stačí.\n",
    "\n"
   ]
  },
  {
   "cell_type": "code",
   "execution_count": null,
   "metadata": {
    "colab": {},
    "colab_type": "code",
    "id": "KTrJbWS8kjRx"
   },
   "outputs": [],
   "source": [
    "pca = PCA()\n",
    "points_pca = pca.fit_transform(X.reshape((X.shape[0], -1)))"
   ]
  },
  {
   "cell_type": "markdown",
   "metadata": {
    "colab_type": "text",
    "id": "fUwThXhHpSaH",
    "tags": [
     "sk"
    ]
   },
   "source": [
    "Body pred vizualizáciou premiešame – v pôvodnej dátovej množine sú zotriedené podľa tried. Ak chceme vidieť, či je PCA schopná od seba jednotlivé triedy oddeliť, premiešanie je potrebné: inak by body z neskoršej triedy mohli úplne prekryť body z niektorej skoršej triedy, čo by viedlo ku falošnému dojmu, že triedy sú dobre oddelené.\n",
    "\n"
   ]
  },
  {
   "cell_type": "code",
   "execution_count": null,
   "metadata": {
    "colab": {},
    "colab_type": "code",
    "id": "8ken-umFpSmU"
   },
   "outputs": [],
   "source": [
    "perm_ind = np.random.permutation(points_pca.shape[0])\n",
    "xx = points_pca[perm_ind]\n",
    "yy = Y[perm_ind]"
   ]
  },
  {
   "cell_type": "markdown",
   "metadata": {
    "colab_type": "text",
    "id": "Qmb1RX1opU2i",
    "tags": [
     "sk"
    ]
   },
   "source": [
    "Nakoniec nám zostáva už len vizualizovať všetky body, zafarbené podľa triedy. Ako vidno, metóda PCA nie je schopná dobre oddeliť jednotlivé triedy. Hoci niektoré triedy sú pomerne jasne separované (napr. bag a trouser), celkovo obrázok nie je čitateľný.\n",
    "\n"
   ]
  },
  {
   "cell_type": "code",
   "execution_count": null,
   "metadata": {
    "colab": {
     "base_uri": "https://localhost:8080/",
     "height": 463
    },
    "colab_type": "code",
    "id": "SdF3dz90kjXy",
    "outputId": "5a24ee2a-e55e-4f07-8397-26f4c3ecb5ba"
   },
   "outputs": [],
   "source": [
    "plt.figure(figsize=[10, 7])\n",
    "plt.scatter(xx[:, 0], xx[:, 1], c=yy,\n",
    "            cmap=plt.cm.get_cmap('jet', len(class_names)),\n",
    "            rasterized=True)\n",
    "cbar = plt.colorbar()\n",
    "cbar.set_ticks(range(len(class_names)))\n",
    "cbar.set_ticklabels(class_names)\n",
    "plt.xlabel(\"dim 1\")\n",
    "plt.ylabel(\"dim 2\")"
   ]
  },
  {
   "cell_type": "markdown",
   "metadata": {
    "colab_type": "text",
    "id": "PC6c_t3mqbkC",
    "tags": [
     "sk"
    ]
   },
   "source": [
    "Ešte menej by sme videli, keby sme body nezafarbili:\n",
    "\n"
   ]
  },
  {
   "cell_type": "code",
   "execution_count": null,
   "metadata": {
    "colab": {
     "base_uri": "https://localhost:8080/",
     "height": 459
    },
    "colab_type": "code",
    "id": "3yZIc--fkjVE",
    "outputId": "d963f46f-d485-4544-c5ad-f7b5886bdac1"
   },
   "outputs": [],
   "source": [
    "plt.figure(figsize=[10, 7])\n",
    "plt.scatter(xx[:, 0], xx[:, 1], rasterized=True)\n",
    "plt.xlabel(\"dim 1\")\n",
    "plt.ylabel(\"dim 2\")"
   ]
  },
  {
   "cell_type": "markdown",
   "metadata": {
    "colab_type": "text",
    "id": "c_QXTju2u9Id",
    "tags": [
     "sk"
    ]
   },
   "source": [
    "#### Poznámka: Rasterizácia časti obrázka\n",
    "\n",
    "Všimnite si, že pri vykresľovaní bodov používame argument `rasterized=True`. Ten indikuje, že príslušná časť grafu sa má rasterizovať. Pri zobrazovaní veľmi veľkých počtov bodov je to výhodné urobiť – inak by obrázok po uložení do vektorového formátu bolo veľmi ťažké zobraziť. \n",
    "\n",
    "Obrázok sa prirodzene dá uložiť do rastrového formátu (ako jpeg alebo png) aj ako celok — ibaže potom sú v rastrovom formáte aj osi a ďalšie časti obrázka. Tomu sa je vo všeobecnosti lepšie vyhnúť: hlavne v prípade, že sa má obrázok použiť v nejakom texte: napríklad v záverečnej práci, v článku a pod.\n",
    "\n",
    "V prípade, kedy je vektorový obrázok príliš zložitý, rasterizácia len jednej, problematickej časti predstavuje dobrý kompromis.\n",
    "\n"
   ]
  },
  {
   "cell_type": "markdown",
   "metadata": {
    "colab_type": "text",
    "id": "22mAOKrAqufV",
    "tags": [
     "sk"
    ]
   },
   "source": [
    "### Znižovanie rozmeru dát pomocou UMAP a vizualizácia\n",
    "\n",
    "Znižovanie rozmeru dát pomocou metódy UMAP bude trvať podstatne dlhšie než pomocou metódy PCA. Na druhej strane sa dá očakávať, že aj výsledky budú podstatne lepšie, pretože metóda UMAP nie je obmedzená len na lineárne zákonitosti v dátach.\n",
    "\n",
    "V kóde, ktorý sme použili vyššie, stačí doslova prepísať \"PCA\" na \"UMAP\", pretože obe metódy implementujú unifikované rozhranie podľa balíčka `scikit-learn`. If chceme vidieť trochu viac informácií o tom, ako UMAP postupuje, môžeme pridať argument `verbose=True`.\n",
    "\n"
   ]
  },
  {
   "cell_type": "code",
   "execution_count": null,
   "metadata": {
    "colab": {
     "base_uri": "https://localhost:8080/",
     "height": 598
    },
    "colab_type": "code",
    "id": "J5BdkFX-kjOW",
    "outputId": "6e566188-5b6b-4148-8533-10c5d062ed63"
   },
   "outputs": [],
   "source": [
    "um = umap.UMAP(verbose=True)\n",
    "points_umap = um.fit_transform(X.reshape((X.shape[0], -1)))"
   ]
  },
  {
   "cell_type": "code",
   "execution_count": null,
   "metadata": {
    "colab": {},
    "colab_type": "code",
    "id": "RaxP2n4JrgN2"
   },
   "outputs": [],
   "source": [
    "perm_ind = np.random.permutation(points_umap.shape[0])\n",
    "xx = points_umap[perm_ind]\n",
    "yy = Y[perm_ind]\n",
    "xt = X[perm_ind]"
   ]
  },
  {
   "cell_type": "code",
   "execution_count": null,
   "metadata": {
    "colab": {
     "base_uri": "https://localhost:8080/",
     "height": 463
    },
    "colab_type": "code",
    "id": "YLxu5YV8rWUA",
    "outputId": "6a558f7a-00da-4624-c894-44204e503510"
   },
   "outputs": [],
   "source": [
    "plt.figure(figsize=[10, 7])\n",
    "cmap = plt.cm.get_cmap('jet', len(class_names))\n",
    "plt.scatter(xx[:, 0], xx[:, 1], c=yy,\n",
    "            cmap=cmap,\n",
    "            rasterized=True)\n",
    "cbar = plt.colorbar()\n",
    "cbar.set_ticks(range(len(class_names)))\n",
    "cbar.set_ticklabels(class_names)\n",
    "plt.xlabel(\"dim 1\")\n",
    "plt.ylabel(\"dim 2\")"
   ]
  },
  {
   "cell_type": "markdown",
   "metadata": {
    "colab_type": "text",
    "id": "JJoWLoNEtKsF",
    "tags": [
     "sk"
    ]
   },
   "source": [
    "Z tohto obrázka sa už o štruktúre dátovej množiny dozvedáme omnoho viac. Vidno, že vzorky sú rozdelené do 4 veľkých skupín. Jedna obsahuje nohavice, druhá kabelky, tretia zmiešava rôzne typy topánok a štvrtá rôzne typy tričiek, šiat a kabátov.\n",
    "\n",
    "Vidíme tiež, že zatiaľ čo tričká a kabáty sú dosť premiešané, topánky sú aj vo vnútri spoločného zhluku pomerne dobre oddeliteľné.\n",
    "\n",
    "### Pokročilejšia vizualizácia\n",
    "\n",
    "Z vizualizácie pomocou metódy UMAP vidíme, že z nejakého dôvodu existuje spojitý prechod medzi tričkami a kabelkami. Bolo by zaujímavé zistiť, aké vzorky sú na rozhraní oboch zhlukov. Aby sme to zistili, môžeme si do grafu namiesto všetkých bodov vykrelisť len časť z nich, ale vizualizovať na ich pozíciách aj pôvodné obrázky. To nám poskytne plnšiu vizuálnu informáciu o charaktere zhlukov.\n",
    "\n",
    "Použijeme pomocnú funkciu s podobným rozhraním ako `scatter`, ktorá však bude namiesto bodov vykresľovať obrázky.\n",
    "\n"
   ]
  },
  {
   "cell_type": "code",
   "execution_count": null,
   "metadata": {
    "colab": {
     "base_uri": "https://localhost:8080/",
     "height": 454
    },
    "colab_type": "code",
    "id": "i8-vL_Y8riPu",
    "outputId": "499711d3-1ef6-418b-c1ce-064691493c21"
   },
   "outputs": [],
   "source": [
    "num2show = 800\n",
    "\n",
    "plt.figure(figsize=[15, 10])\n",
    "imscatter(xx[:num2show, 0], xx[:num2show, 1],\n",
    "          xt[:num2show], cmap='Greys', zoom=1.2,\n",
    "          frame_c=yy[:num2show], frame_cmap=cmap,\n",
    "          frame_linewidth=2)\n",
    "plt.xlabel(\"dim 1\")\n",
    "plt.ylabel(\"dim 2\")"
   ]
  },
  {
   "cell_type": "markdown",
   "metadata": {
    "colab_type": "text",
    "id": "jarLO-575MeX",
    "tags": [
     "sk"
    ]
   },
   "source": [
    "Z obrázka by malo byť vidno, že kabelky, ktoré susedia s obrázkami tričiek a šiat naozaj menia postupne tvar, takže niektoré môžu byť v nízkom rozlíšení a čiernobielych farbách zameniteľné s oblečením.\n",
    "\n"
   ]
  }
 ],
 "metadata": {
  "accelerator": "GPU",
  "celltoolbar": "Tags",
  "colab": {
   "collapsed_sections": [],
   "name": "1_dimred.ipynb",
   "provenance": []
  },
  "kernelspec": {
   "display_name": "Python 3.9.12 ('base')",
   "language": "python",
   "name": "python3"
  },
  "language_info": {
   "codemirror_mode": {
    "name": "ipython",
    "version": 3
   },
   "file_extension": ".py",
   "mimetype": "text/x-python",
   "name": "python",
   "nbconvert_exporter": "python",
   "pygments_lexer": "ipython3",
   "version": "3.9.12"
  },
  "vscode": {
   "interpreter": {
    "hash": "a351393365bb1b108989afa08de3243f72f5e58927baf5d192f3cca79a41cbc4"
   }
  }
 },
 "nbformat": 4,
 "nbformat_minor": 1
}
