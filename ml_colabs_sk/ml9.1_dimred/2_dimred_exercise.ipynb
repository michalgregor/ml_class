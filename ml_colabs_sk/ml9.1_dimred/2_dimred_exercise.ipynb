{
 "cells": [
  {
   "cell_type": "markdown",
   "metadata": {
    "colab_type": "text",
    "id": "oz5XE6l8WktR",
    "tags": [
     "sk"
    ]
   },
   "source": [
    "**POZNÁMKA: Tento notebook je určený pre platformu Google Colab. Je však možné ho spustiť (možno s drobnými úpravami) aj ako štandardný Jupyter notebook.** \n",
    "\n"
   ]
  },
  {
   "cell_type": "code",
   "execution_count": null,
   "metadata": {
    "colab": {
     "base_uri": "https://localhost:8080/",
     "height": 776
    },
    "colab_type": "code",
    "id": "v3edtGynYnV2",
    "outputId": "e408772e-a5c8-4ff2-9b42-dedb4ce69d79"
   },
   "outputs": [],
   "source": [
    "#@title -- Installation of Packages -- { display-mode: \"form\" }\n",
    "import sys\n",
    "!{sys.executable} -m pip install umap-learn\n",
    "!{sys.executable} -m pip install git+https://github.com/michalgregor/class_utils.git"
   ]
  },
  {
   "cell_type": "code",
   "execution_count": null,
   "metadata": {
    "colab": {},
    "colab_type": "code",
    "id": "FKGimae0aMhb"
   },
   "outputs": [],
   "source": [
    "#@title -- Import of Necessary Packages -- { display-mode: \"form\" }\n",
    "from sklearn.preprocessing import StandardScaler\n",
    "from sklearn.impute import SimpleImputer\n",
    "from sklearn.pipeline import make_pipeline\n",
    "\n",
    "from sklearn.tree import DecisionTreeClassifier\n",
    "from sklearn.metrics import accuracy_score\n",
    "from class_utils.plots import crosstab_plot\n",
    "\n",
    "from sklearn.decomposition import PCA\n",
    "import matplotlib.pyplot as plt\n",
    "import pandas as pd\n",
    "import numpy as np\n",
    "import umap"
   ]
  },
  {
   "cell_type": "code",
   "execution_count": null,
   "metadata": {},
   "outputs": [],
   "source": [
    "#@title -- Downloading Data -- { display-mode: \"form\" }\n",
    "DATA_HOME = \"https://github.com/michalgregor/ml_notebooks/blob/main/data/{}?raw=1\"\n",
    "\n",
    "from class_utils.download import download_file_maybe_extract\n",
    "download_file_maybe_extract(DATA_HOME.format(\"UCI%20HAR%20Dataset.zip\"), directory=\"data\")\n",
    "\n",
    "# also create a directory for storing any outputs\n",
    "import os\n",
    "os.makedirs(\"output\", exist_ok=True)"
   ]
  },
  {
   "cell_type": "markdown",
   "metadata": {
    "colab_type": "text",
    "id": "yKN7RHaHUtMr",
    "tags": [
     "sk"
    ]
   },
   "source": [
    "## Znižovanie rozmeru dát na dátovej množine na rozpoznávanie ľudskej aktivity\n",
    "\n",
    "V ďalšom príklade použijeme znižovanie rozmeru dát na [dátovú množinu o rozpoznávaní ľudských aktivít] (<https://archive.ics.uci.edu/ml/datasets/human+activity+recognition+using+smartphones>). Dáta boli zozbierané pomocou smartfónových snímačov (akcelerometer, gyroskop) a transformované na množstvo rôznych sumárnych príznakov, ako sú priemer, smerodajná odchýlka, IRQ, energia, entropia atď.\n",
    "\n",
    "Existuje 6 rôznych aktivít:\n",
    "\n",
    "* chôdza;\n",
    "* chôdza po poschodí;\n",
    "* chôdza dole;\n",
    "* sedenie;\n",
    "* stojaci;\n",
    "* kladenie.\n",
    "### Načítavanie údajov\n",
    "\n",
    "Údaje sú sériou čísel oddelených medzerami – tu je začiatok prvého riadku.\n",
    "\n"
   ]
  },
  {
   "cell_type": "code",
   "execution_count": null,
   "metadata": {},
   "outputs": [],
   "source": [
    "with open(\"data/UCI HAR Dataset/train/X_train.txt\", \"r\") as file:\n",
    "    firstline = file.readline()\n",
    "    print(firstline[:150], \"...\")"
   ]
  },
  {
   "cell_type": "markdown",
   "metadata": {
    "colab_type": "text",
    "id": "yKN7RHaHUtMr",
    "tags": [
     "sk"
    ]
   },
   "source": [
    "Dáta v tomto formáte je možné jednoducho načítať pomocou `np.loadtxt`. Pri načítavaní označení tried odpočítavame 1. Indexy označení začínajú od 1 a chceme, aby začínali od 0.\n",
    "\n"
   ]
  },
  {
   "cell_type": "code",
   "execution_count": null,
   "metadata": {},
   "outputs": [],
   "source": [
    "X_train = np.loadtxt(\"data/UCI HAR Dataset/train/X_train.txt\")\n",
    "Y_train = np.loadtxt('data/UCI HAR Dataset/train/y_train.txt').astype(int) - 1\n",
    "\n",
    "X_test = np.loadtxt(\"data/UCI HAR Dataset/test/X_test.txt\")\n",
    "Y_test = np.loadtxt('data/UCI HAR Dataset/test/y_test.txt').astype(int) - 1"
   ]
  },
  {
   "cell_type": "markdown",
   "metadata": {
    "colab_type": "text",
    "id": "yKN7RHaHUtMr",
    "tags": [
     "sk"
    ]
   },
   "source": [
    "Aby sme sa o dátach dozvedeli viac, môžeme sa pozrieť na README súbor.\n",
    "\n"
   ]
  },
  {
   "cell_type": "code",
   "execution_count": null,
   "metadata": {},
   "outputs": [],
   "source": [
    "with open(\"data/UCI HAR Dataset/README.txt\", 'r', errors=\"ignore\") as file:\n",
    "    print(file.read())"
   ]
  },
  {
   "cell_type": "markdown",
   "metadata": {
    "colab_type": "text",
    "id": "yKN7RHaHUtMr",
    "tags": [
     "sk"
    ]
   },
   "source": [
    "Jedna zaujímavá vec, ktorú README spomína, je, že príznaky sú už normalizované do rozsahu [-1, 1]. To je dobré, pretože nám to umožňuje znova preskočiť krok predspracovania.\n",
    "\n"
   ]
  },
  {
   "cell_type": "code",
   "execution_count": null,
   "metadata": {},
   "outputs": [],
   "source": [
    "# WE DO NOT NEED THIS BECAUSE ACCORDING TO THE DOCS, THE DATA IS ALREADY\n",
    "# NORMALIZED TO THE RANGE OF [-1, 1]\n",
    "\n",
    "# input_preproc = make_pipeline(\n",
    "#     SimpleImputer(),\n",
    "#     StandardScaler()\n",
    "# )\n",
    "\n",
    "# X_train_preproc = input_preproc.fit_transform(X_train.reshape(X_train.shape[0], -1))\n",
    "# X_train_preproc = X_train_preproc.reshape(X_train.shape)\n",
    "# X_train = X_train_preproc\n",
    "\n",
    "# X_test_preproc = input_preproc.transform(X_test.reshape(X_test.shape[0], -1))\n",
    "# X_test_preproc = X_test_preproc.reshape(X_test.shape)\n",
    "# X_test = X_test_preproc"
   ]
  },
  {
   "cell_type": "markdown",
   "metadata": {
    "colab_type": "text",
    "id": "yKN7RHaHUtMr",
    "tags": [
     "sk"
    ]
   },
   "source": [
    "Nakoniec získame zoznam názvov tried zo súboru, aby sme ho mohli použiť pri neskoršej analýze výsledkov.\n",
    "\n"
   ]
  },
  {
   "cell_type": "code",
   "execution_count": null,
   "metadata": {},
   "outputs": [],
   "source": [
    "class_names = []\n",
    "\n",
    "with open(\"data/UCI HAR Dataset/activity_labels.txt\", 'r', errors=\"ignore\") as file:\n",
    "    for line in file:\n",
    "        class_names.append(line[2:-1])\n",
    "\n",
    "class_names = np.array(class_names)\n",
    "print(class_names)"
   ]
  },
  {
   "cell_type": "markdown",
   "metadata": {
    "colab_type": "text",
    "id": "5SlvsPJNkm9O",
    "tags": [
     "sk"
    ]
   },
   "source": [
    "---\n",
    "### Úloha 1: Aplikácia PCA na dátovú množinu\n",
    "\n",
    "**V nasledujúcej bunke aplikujte na dátovú množinu metódu PCA (použite `X_train` a `Y_train`) a vykreslite výsledné body v 2D zafarbené podľa triedy. Názvy tried zobrazte v legende, aby sa dal graf ľahko interpretovať.** \n",
    "\n",
    "---\n"
   ]
  },
  {
   "cell_type": "code",
   "execution_count": null,
   "metadata": {
    "tags": [
     "student"
    ]
   },
   "outputs": [],
   "source": [
    "\n",
    "\n",
    "# ----\n",
    "\n"
   ]
  },
  {
   "cell_type": "markdown",
   "metadata": {
    "colab_type": "text",
    "id": "5SlvsPJNkm9O",
    "tags": [
     "sk"
    ]
   },
   "source": [
    "---\n",
    "### Úloha 2: Interpretácia PCA grafu\n",
    "\n",
    "**Do nasledujúcej bunky vložte kvalitatívny opis toho, čo pozorujete v PCA grafe.** \n",
    "\n",
    "* Čo ste sa z grafu dozvedeli o štruktúre priestoru?\n",
    "* Vychádzajúc z grafu, ktoré triedy si myslíte, že by bolo pre plytký klasifikátor ľahké správne oddeliť?\n",
    "---\n"
   ]
  },
  {
   "cell_type": "markdown",
   "metadata": {},
   "source": []
  },
  {
   "cell_type": "markdown",
   "metadata": {
    "colab_type": "text",
    "id": "5SlvsPJNkm9O",
    "tags": [
     "sk"
    ]
   },
   "source": [
    "---\n",
    "### Úloha 3: Aplikácia metódy UMAP na dátovú množinu\n",
    "\n",
    "**V nasledujúcej bunke aplikujte na dátovú množinu metódu UMAP (použite `X_train` a `Y_train`) a vykreslite výsledné body v 2D zafarbené podľa triedy. Názvy tried zobrazte v legende, aby sa dal graf ľahko interpretovať.** \n",
    "\n",
    "---\n"
   ]
  },
  {
   "cell_type": "code",
   "execution_count": null,
   "metadata": {
    "colab": {
     "base_uri": "https://localhost:8080/",
     "height": 463
    },
    "colab_type": "code",
    "id": "YLxu5YV8rWUA",
    "outputId": "6a558f7a-00da-4624-c894-44204e503510"
   },
   "outputs": [],
   "source": [
    "um = umap.UMAP(verbose=True)\n",
    "points_umap = um.fit_transform(X_train)\n",
    "\n",
    "perm_ind = np.random.permutation(points_umap.shape[0])\n",
    "xx = points_umap[perm_ind]\n",
    "yy = Y_train[perm_ind]\n",
    "xt = X_train[perm_ind]\n",
    "\n",
    "plt.figure(figsize=[10, 7])\n",
    "cmap = plt.cm.get_cmap('jet', len(class_names))\n",
    "plt.scatter(xx[:, 0], xx[:, 1], c=yy,\n",
    "            cmap=cmap,\n",
    "            rasterized=True)\n",
    "cbar = plt.colorbar()\n",
    "cbar.set_ticks(range(len(class_names)))\n",
    "cbar.set_ticklabels(class_names)\n",
    "plt.xlabel(\"dim 1\")\n",
    "plt.ylabel(\"dim 2\")"
   ]
  },
  {
   "cell_type": "markdown",
   "metadata": {
    "colab_type": "text",
    "id": "5SlvsPJNkm9O",
    "tags": [
     "sk"
    ]
   },
   "source": [
    "---\n",
    "### Úloha 4: Interpretácia UMAP grafu\n",
    "\n",
    "**Do nasledujúcej bunky vložte kvalitatívny opis toho, čo pozorujete v UMAP grafe.** \n",
    "\n",
    "* Ako vyzerá štruktúra priestoru podľa tohto grafu?\n",
    "* Vychádzajúc z grafu, ktoré triedy si myslíte, že by bolo pre plytký klasifikátor ľahké správne oddeliť?* Ako sa váš náhľad zmenil oproti tomu, čo ste sa dozvedeli z PCA grafu?\n",
    "* Prečo je v tom rozdiel?\n",
    "\n",
    "---\n"
   ]
  },
  {
   "cell_type": "markdown",
   "metadata": {},
   "source": []
  },
  {
   "cell_type": "markdown",
   "metadata": {
    "colab_type": "text",
    "id": "5SlvsPJNkm9O",
    "tags": [
     "sk"
    ]
   },
   "source": [
    "### Tréning jednoduchého klasifikátora\n",
    "\n",
    "Ďalej sa si na dátovej množine natrénujeme jednoduchý klasifikátor, aby sme zistili, či sa potvrdí niektorá z intuícií, ktoré sme vyššie získali.\n",
    "\n"
   ]
  },
  {
   "cell_type": "code",
   "execution_count": null,
   "metadata": {},
   "outputs": [],
   "source": [
    "model = DecisionTreeClassifier()\n",
    "model.fit(X_train, Y_train);"
   ]
  },
  {
   "cell_type": "markdown",
   "metadata": {
    "colab_type": "text",
    "id": "5SlvsPJNkm9O",
    "tags": [
     "sk"
    ]
   },
   "source": [
    "Ďalej vyhodnotíme model na testovacej množine a najmä si vykreslíme maticu zámen. Mali by ste vidieť, že je ľahké odlíšiť aktivity, ktoré zahŕňajú veľa pohybu od aktivít, ktoré sú viacej statické.\n",
    "\n",
    "V rámci týchto dvoch skupín sú výsledky viac zmiešané. Celkovo je však stále možné väčšinu vzoriek zatriediť správne aj s mimoriadne jednoduchým klasifikátorom bez akéhokoľvek ladenia hyperparametrov. Zdá sa, že trieda \"laying\" je obzvlášť ľahko rozpoznateľná.\n",
    "\n"
   ]
  },
  {
   "cell_type": "code",
   "execution_count": null,
   "metadata": {},
   "outputs": [],
   "source": [
    "y_test = model.predict(X_test).astype(int)\n",
    "acc = accuracy_score(Y_test, y_test)\n",
    "print(\"Accuracy = {}\".format(acc))"
   ]
  },
  {
   "cell_type": "code",
   "execution_count": null,
   "metadata": {},
   "outputs": [],
   "source": [
    "# build a dataframe with Y_test and y_test\n",
    "df = pd.DataFrame({\"Y_test\": Y_test, \"y_test\": y_test})\n",
    "crosstab_plot(\"y_test\", \"Y_test\", data=df)\n",
    "plt.gca().set_xticklabels(class_names);\n",
    "plt.gca().set_yticklabels(reversed(class_names));\n",
    "plt.xlabel(\"Predicted\")\n",
    "plt.ylabel(\"Actual\")"
   ]
  },
  {
   "cell_type": "code",
   "execution_count": null,
   "metadata": {},
   "outputs": [],
   "source": []
  }
 ],
 "metadata": {
  "accelerator": "GPU",
  "celltoolbar": "Tags",
  "colab": {
   "collapsed_sections": [],
   "name": "1_dimred.ipynb",
   "provenance": []
  },
  "kernelspec": {
   "display_name": "Python 3.9.12 ('base')",
   "language": "python",
   "name": "python3"
  },
  "language_info": {
   "codemirror_mode": {
    "name": "ipython",
    "version": 3
   },
   "file_extension": ".py",
   "mimetype": "text/x-python",
   "name": "python",
   "nbconvert_exporter": "python",
   "pygments_lexer": "ipython3",
   "version": "3.9.12"
  },
  "vscode": {
   "interpreter": {
    "hash": "a351393365bb1b108989afa08de3243f72f5e58927baf5d192f3cca79a41cbc4"
   }
  }
 },
 "nbformat": 4,
 "nbformat_minor": 1
}
