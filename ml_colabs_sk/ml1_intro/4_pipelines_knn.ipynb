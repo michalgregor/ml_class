{
 "cells": [
  {
   "cell_type": "markdown",
   "metadata": {
    "colab_type": "text",
    "id": "XqbxQ-39oKtd",
    "tags": [
     "sk"
    ]
   },
   "source": [
    "**POZNÁMKA: Tento notebook je určený pre platformu Google Colab. Je však možné ho spustiť (možno s drobnými úpravami) aj ako štandardný Jupyter notebook.** \n",
    "\n"
   ]
  },
  {
   "cell_type": "code",
   "execution_count": null,
   "metadata": {},
   "outputs": [],
   "source": [
    "#@title -- Installation of Packages -- { display-mode: \"form\" }\n",
    "import sys\n",
    "!{sys.executable} -m pip install git+https://github.com/michalgregor/class_utils.git"
   ]
  },
  {
   "cell_type": "code",
   "execution_count": null,
   "metadata": {
    "colab": {},
    "colab_type": "code",
    "id": "Bs97NTOSoeVF"
   },
   "outputs": [],
   "source": [
    "#@title -- Import of Necessary Packages -- { display-mode: \"form\" }\n",
    "import numpy as np\n",
    "import pandas as pd\n",
    "from sklearn.model_selection import train_test_split\n",
    "from sklearn.preprocessing import StandardScaler, OrdinalEncoder\n",
    "from sklearn.impute import SimpleImputer, MissingIndicator\n",
    "from sklearn.compose import make_column_transformer\n",
    "from sklearn.pipeline import make_pipeline\n",
    "from sklearn.neighbors import KNeighborsClassifier\n",
    "from sklearn.metrics import accuracy_score"
   ]
  },
  {
   "cell_type": "code",
   "execution_count": null,
   "metadata": {
    "colab": {
     "base_uri": "https://localhost:8080/",
     "height": 384
    },
    "colab_type": "code",
    "id": "0JZDvAVnoop7",
    "outputId": "490a1dcf-baf9-47b6-b144-e281279c1758"
   },
   "outputs": [],
   "source": [
    "#@title -- Downloading Data -- { display-mode: \"form\" }\n",
    "DATA_HOME = \"https://github.com/michalgregor/ml_notebooks/blob/main/data/{}?raw=1\"\n",
    "\n",
    "from class_utils.download import download_file_maybe_extract\n",
    "download_file_maybe_extract(DATA_HOME.format(\"titanic.zip\"), directory=\"data/titanic\")\n",
    "\n",
    "# also create a directory for storing any outputs\n",
    "import os\n",
    "os.makedirs(\"output\", exist_ok=True)"
   ]
  },
  {
   "cell_type": "markdown",
   "metadata": {
    "colab_type": "text",
    "id": "ht7J4lqWoeW0",
    "tags": [
     "sk"
    ]
   },
   "source": [
    "## Prespracovanie dát pomocou pipelines\n",
    "\n",
    "V predchádzajúcom notebook-u sme ukázali, ako treba aplikovať na dáta predspracovanie, ak má byť celý postup opakovateľný. Daný prístup bol korektný, jeho nevýhodou však bola určitá prácnosť (a s ňou spojená možnosť omylu). Preto teraz ukážeme praktickejší spôsob, ako to isté realizovať – pomocou konceptu tzv. **pipelines**  – tiež z balíčka `scikit-learn`.\n",
    "\n",
    "### Načítanie dát\n",
    "\n",
    "Na úvod opäť načítajme dátovú množinu [Titanic](https://www.kaggle.com/c/titanic) a rozdeľme ju na tréningové a testovacie dáta.\n",
    "\n"
   ]
  },
  {
   "cell_type": "code",
   "execution_count": null,
   "metadata": {
    "colab": {},
    "colab_type": "code",
    "id": "MW-EFVyGoKud"
   },
   "outputs": [],
   "source": [
    "df = pd.read_csv(\"data/titanic/train.csv\")\n",
    "df_train, df_test = train_test_split(df, test_size=0.25,\n",
    "                     stratify=df[\"Survived\"], random_state=4)"
   ]
  },
  {
   "cell_type": "code",
   "execution_count": null,
   "metadata": {
    "colab": {
     "base_uri": "https://localhost:8080/",
     "height": 206
    },
    "colab_type": "code",
    "id": "gfL4GQeToKup",
    "outputId": "b6abe323-188c-4efc-eb69-5c6719eeebd5"
   },
   "outputs": [],
   "source": [
    "df_train.head()"
   ]
  },
  {
   "cell_type": "markdown",
   "metadata": {
    "colab_type": "text",
    "id": "w0fEk0eAoKu5",
    "tags": [
     "sk"
    ]
   },
   "source": [
    "Pripomeňme si aj, čo jednotlivé stĺpce obsahujú:\n",
    "\n"
   ]
  },
  {
   "cell_type": "code",
   "execution_count": null,
   "metadata": {
    "colab": {
     "base_uri": "https://localhost:8080/",
     "height": 677
    },
    "colab_type": "code",
    "id": "gxYGhx8eoKu9",
    "outputId": "3abae9b5-dab0-4fee-ddfd-9c8c3a7340c7"
   },
   "outputs": [],
   "source": [
    "with open(\"data/titanic/description\", \"r\") as file:\n",
    "    print(\"\".join(file.readlines()))"
   ]
  },
  {
   "cell_type": "markdown",
   "metadata": {
    "colab_type": "text",
    "id": "vJEtncCBoKvO",
    "tags": [
     "sk"
    ]
   },
   "source": [
    "### Selekcia stĺpcov\n",
    "\n",
    "Ako už vieme, naša dátová množina má viacero stĺpcov. Niektoré z nich obsahujú kategorické a niektoré numerické hodnoty. Ako sme videli v predchádzajúcom notebook-u, na každý z týchto dvoch typov budeme chcieť aplikovať o trochu iný typ predspracovania.\n",
    "\n",
    "Niektoré stĺpce pravdepodobne nebudeme chcieť použiť vôbec, pretože informácie, ktoré sú v nich obsiahnuté, buď nie sú užitočné alebo z nich užitočnú informáciu aspoň zatiaľ nevieme extrahovať. Stĺpec `PassengerId` obsahuje napríklad unikátny numerický identifikátor záznamu. Pravdepodobne nie je dobrý nápad použiť ho ako vstup modelu, pretože neobsahuje zovšeobecniteľnú informáciu – idenfikátory sú unikátne a nemali by v tomto prípade niesť žiaden informačný obsah.\n",
    "\n",
    "Stĺpce `Name`, `Cabin` a ďalšie zovšeobecniteľné informácie môžno nesú, ak by sme ich vedeli vhodne predspracovať (súčasťou mien sú napríklad aj tituly, ktoré môžu niesť zovšeobecniteľnú informáciu; z čísla kajuty by sa zase mohlo dať zistiť, v ktorej časti lode sa nachádzala a pod.). Keďže však zatiaľ nevieme, ako také predspracovanie realizovať, tento typ stĺpcov jednoducho vynecháme.\n",
    "\n",
    "Zvyšné stĺpce rozdelíme podľa toho, či sú numerické alebo kategorické. Stĺpec `Survived` predstavuje požadovaný výstup: ten nespracovávame spolu so vstupmi, ale osobitne (navyše, hodnoty sú 0 a 1 a už ich nie je potrebné ďalej spracovať).\n",
    "\n"
   ]
  },
  {
   "cell_type": "code",
   "execution_count": null,
   "metadata": {
    "colab": {},
    "colab_type": "code",
    "id": "pFZI0Pe3oKvT"
   },
   "outputs": [],
   "source": [
    "categorical_inputs = [\"Pclass\", \"Sex\", \"Embarked\"]\n",
    "numeric_inputs = [\"Age\", \"SibSp\", 'Parch', 'Fare']\n",
    "\n",
    "output = \"Survived\""
   ]
  },
  {
   "cell_type": "markdown",
   "metadata": {
    "colab_type": "text",
    "id": "xiuk0GZboKvg",
    "tags": [
     "sk"
    ]
   },
   "source": [
    "### Zostavenie pipeline a predspracovanie dát\n",
    "\n",
    "Keďže numerické stĺpce chceme ošetriť iným spôsobom než kategorické, použijeme na zostavenie pipeline funciu `make_column_transformer`, ktorá nám umožňuje špecifikovať rôzne pipelines pre rôzne stĺpce. Zároveň platí, že stĺpce, ktoré vôbec neuvedieme, sa vynechajú. Predspracovanie v duchu predchádzajúceho notebook-u by sme aplikovali takto:\n",
    "\n"
   ]
  },
  {
   "cell_type": "code",
   "execution_count": null,
   "metadata": {
    "colab": {},
    "colab_type": "code",
    "id": "GDcTInJfoeW2"
   },
   "outputs": [],
   "source": [
    "input_preproc = make_column_transformer(\n",
    "    (make_pipeline(\n",
    "        SimpleImputer(strategy=\"most_frequent\"),\n",
    "        OrdinalEncoder()),\n",
    "     categorical_inputs),\n",
    "    \n",
    "    (make_pipeline(\n",
    "        SimpleImputer(),\n",
    "        StandardScaler()),\n",
    "     numeric_inputs)\n",
    ")"
   ]
  },
  {
   "cell_type": "markdown",
   "metadata": {
    "colab_type": "text",
    "id": "1xLFjzSKoeXK",
    "tags": [
     "sk"
    ]
   },
   "source": [
    "Najprv pomocou funkcie `fit_transform` vytvorený pipeline objekt naladíme a zároveň aj predspracujeme pôvodnú dátovú množinu. Z dátovej množiny takisto extrahujeme stĺpec s požadovanými výstupmi. Požadované výstupy zároveň transformujeme na 1-rozmerné pole, ako to trieda `KNeighborsClassifier` očakáva.\n",
    "\n"
   ]
  },
  {
   "cell_type": "code",
   "execution_count": null,
   "metadata": {
    "colab": {},
    "colab_type": "code",
    "id": "QyEPeHwloeXM"
   },
   "outputs": [],
   "source": [
    "X_train = input_preproc.fit_transform(df_train[categorical_inputs+numeric_inputs])\n",
    "Y_train = df_train[output].values.reshape(-1)"
   ]
  },
  {
   "cell_type": "markdown",
   "metadata": {
    "colab_type": "text",
    "id": "H4bFDLV5oKwG",
    "tags": [
     "sk"
    ]
   },
   "source": [
    "Na predspracovanie testovacích dát použijeme znovu ten istý pipeline objekt.\n",
    "\n",
    "**Nezabudnime, že teraz už budeme volať len metódu `transform` a nie metódu `fit_transform`, kedže pipeline objekt už nechceme ladiť. Chceme len transformovať testovacie dáta rovnako ako sme to urobili s tréningovými.** \n",
    "\n"
   ]
  },
  {
   "cell_type": "code",
   "execution_count": null,
   "metadata": {
    "colab": {},
    "colab_type": "code",
    "id": "qBxScMLRoKwI"
   },
   "outputs": [],
   "source": [
    "X_test = input_preproc.transform(df_test[categorical_inputs+numeric_inputs])\n",
    "Y_test = df_test[output].values.reshape(-1)"
   ]
  },
  {
   "cell_type": "markdown",
   "metadata": {
    "colab_type": "text",
    "id": "Mga4QGjQoKwT",
    "tags": [
     "sk"
    ]
   },
   "source": [
    "### Tréning modelu\n",
    "\n",
    "Ďalej nám už nezostáva nič iné, než natrénovať samotný model – môžeme použiť napríklad už známy `KNeighborsClassifier`, ktorému sme sa venovali v jednom z predchádzajúcich notebook-ov.\n",
    "\n"
   ]
  },
  {
   "cell_type": "code",
   "execution_count": null,
   "metadata": {
    "colab": {
     "base_uri": "https://localhost:8080/",
     "height": 69
    },
    "colab_type": "code",
    "id": "N1B9m9wAoKwX",
    "outputId": "11c3d285-e90e-47e7-cee5-f21fb45ea4e8"
   },
   "outputs": [],
   "source": [
    "model = KNeighborsClassifier(n_neighbors=5)\n",
    "model.fit(X_train, Y_train)"
   ]
  },
  {
   "cell_type": "markdown",
   "metadata": {
    "colab_type": "text",
    "id": "J19twWJ9oKwj",
    "tags": [
     "sk"
    ]
   },
   "source": [
    "### Testovanie modelu\n",
    "\n",
    "Model si ďalej otestujeme na testovacích dátach.\n",
    "\n"
   ]
  },
  {
   "cell_type": "code",
   "execution_count": null,
   "metadata": {
    "colab": {},
    "colab_type": "code",
    "id": "_10sGf5roKwk"
   },
   "outputs": [],
   "source": [
    "y_test = model.predict(X_test)"
   ]
  },
  {
   "cell_type": "markdown",
   "metadata": {
    "colab_type": "text",
    "id": "YGwl9pIooKww",
    "tags": [
     "sk"
    ]
   },
   "source": [
    "Zobrazíme maticu zámen a vypočítame správnosť (accuracy).\n",
    "\n"
   ]
  },
  {
   "cell_type": "code",
   "execution_count": null,
   "metadata": {
    "colab": {
     "base_uri": "https://localhost:8080/",
     "height": 86
    },
    "colab_type": "code",
    "id": "V3iE2EzXoKwz",
    "outputId": "a8fb6a3e-fb19-4827-fa54-2c84b292461c"
   },
   "outputs": [],
   "source": [
    "cm = pd.crosstab(Y_test, y_test,\n",
    "                 rownames=['actual'],\n",
    "                 colnames=['predicted'])\n",
    "print(cm)"
   ]
  },
  {
   "cell_type": "code",
   "execution_count": null,
   "metadata": {
    "colab": {
     "base_uri": "https://localhost:8080/",
     "height": 34
    },
    "colab_type": "code",
    "id": "d9tPhzZIoKw6",
    "outputId": "1d8ae7b3-3cee-49f5-862b-30d87aa29125"
   },
   "outputs": [],
   "source": [
    "acc = accuracy_score(Y_test, y_test)\n",
    "print(\"Accuracy = {}\".format(acc))"
   ]
  },
  {
   "cell_type": "markdown",
   "metadata": {
    "colab_type": "text",
    "id": "4KV9vggkoKxJ",
    "tags": [
     "sk"
    ]
   },
   "source": [
    "### Ako sledovať, ktoré hodnoty chýbali\n",
    "\n",
    "Keď pracujeme so stĺpcami, kde chýbajú hodnoty – či už sú numerické alebo o kategorické – je okrem doplenia chýbajúcich hodnôt často užitočné zapamätať si, ktoré hodnoty chýbali. Môže sa napríklad stať, že metóda, ktorou hodnoty dopĺňame ich systematicky nadhodnocuje alebo podhodnocuje. Ak náš model vie, ktoré hodnoty boli doplnené, môže sa naučiť také skreslenie kompenzovať.\n",
    "\n",
    "Stĺpce s chýbajúcimi hodnotami môžeme automaticky identifikovať a aplikovať na ne transformátor `MissingIndicator`: vytvoria sa tým nové binárne stĺpce, ktoré budú indikovať, či dané hodnoty chýbali alebo nie. Prirodzene neexistuje žiadna záruka, že tento postup bude zakaždým viesť ku lepším výsledkom – môže to závisieť od dátovej množiny aj od použitej metódy.\n",
    "\n"
   ]
  },
  {
   "cell_type": "code",
   "execution_count": null,
   "metadata": {
    "colab": {},
    "colab_type": "code",
    "id": "jjGE2W2QoKxP"
   },
   "outputs": [],
   "source": [
    "has_missing = df_train.isnull().any()\n",
    "for_missing_tracking = has_missing[has_missing].keys()"
   ]
  },
  {
   "cell_type": "code",
   "execution_count": null,
   "metadata": {
    "colab": {},
    "colab_type": "code",
    "id": "HxsrjPNQoKxX"
   },
   "outputs": [],
   "source": [
    "tracking_input_preproc = make_column_transformer(\n",
    "    (make_pipeline(\n",
    "        SimpleImputer(strategy=\"most_frequent\"),\n",
    "        OrdinalEncoder()),\n",
    "     categorical_inputs),\n",
    "    \n",
    "    (make_pipeline(\n",
    "        SimpleImputer(),\n",
    "        StandardScaler()),\n",
    "     numeric_inputs),\n",
    "    \n",
    "    # ---------------------\n",
    "    (MissingIndicator(),\n",
    "     for_missing_tracking)\n",
    "    # ---------------------\n",
    ")"
   ]
  },
  {
   "cell_type": "code",
   "execution_count": null,
   "metadata": {
    "colab": {},
    "colab_type": "code",
    "id": "2ZGDJvGwoKx4"
   },
   "outputs": [],
   "source": []
  }
 ],
 "metadata": {
  "celltoolbar": "Tags",
  "colab": {
   "collapsed_sections": [],
   "name": "4_pipelines_knn.ipynb",
   "provenance": [],
   "toc_visible": true
  },
  "kernelspec": {
   "display_name": "Python 3 (ipykernel)",
   "language": "python",
   "name": "python3"
  },
  "language_info": {
   "codemirror_mode": {
    "name": "ipython",
    "version": 3
   },
   "file_extension": ".py",
   "mimetype": "text/x-python",
   "name": "python",
   "nbconvert_exporter": "python",
   "pygments_lexer": "ipython3",
   "version": "3.9.7"
  }
 },
 "nbformat": 4,
 "nbformat_minor": 1
}
