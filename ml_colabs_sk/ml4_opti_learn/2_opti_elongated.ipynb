{
 "cells": [
  {
   "cell_type": "markdown",
   "metadata": {
    "tags": [
     "sk"
    ]
   },
   "source": [
    "**POZNÁMKA: Tento notebook je určený pre platformu Google Colab. Je však možné ho spustiť (možno s drobnými úpravami) aj ako štandardný Jupyter notebook.** \n",
    "\n"
   ]
  },
  {
   "cell_type": "code",
   "execution_count": null,
   "metadata": {
    "colab": {},
    "colab_type": "code",
    "id": "3tXwag27Ppo4"
   },
   "outputs": [],
   "source": [
    "#@title -- Import of Necessary Packages -- { display-mode: \"form\" }\n",
    "import numpy as np\n",
    "import matplotlib.pyplot as plt\n",
    "from sympy.utilities.lambdify import lambdify\n",
    "import sympy as sp"
   ]
  },
  {
   "cell_type": "code",
   "execution_count": null,
   "metadata": {},
   "outputs": [],
   "source": [
    "#@title -- Downloading Data -- { display-mode: \"form\" }\n",
    "# also create a directory for storing any outputs\n",
    "import os\n",
    "os.makedirs(\"output\", exist_ok=True)"
   ]
  },
  {
   "cell_type": "code",
   "execution_count": null,
   "metadata": {
    "colab": {},
    "colab_type": "code",
    "id": "-O-tGqq9PppM"
   },
   "outputs": [],
   "source": [
    "#@title -- Auxiliary Functions -- { display-mode: \"form\" }\n",
    "def plot_func(xx, yy, f, X=None):\n",
    "    if not X is None:\n",
    "        Xmin, Xmax = X[:, 0].min(), X[:, 0].max() \n",
    "        Ymin, Ymax = X[:, 1].min(), X[:, 1].max()\n",
    "        \n",
    "        if (Xmin < xx.min() or Xmax > xx.max() or\n",
    "                Ymin < yy.min() or Ymax > yy.max()):            \n",
    "            xx = np.linspace(Xmin, Xmax, 100)\n",
    "            yy = np.linspace(Ymin, Ymax, 100)\n",
    "            xx, yy = np.meshgrid(xx, yy)\n",
    "            \n",
    "        plt.scatter(X[:, 0], X[:, 1], zorder=10)\n",
    "        \n",
    "    zz = f(xx, yy)\n",
    "    plt.contour(xx, yy, zz, cmap='Spectral')\n",
    "    # both axes at the same scale + create a legend\n",
    "    plt.gca().set_aspect('equal')\n",
    "    plt.xlabel('x'); plt.ylabel('y')\n",
    "    plt.colorbar(label='z')\n",
    "        \n",
    "def grad_desc(grad_f, init_point,\n",
    "              num_steps, learning_rate):\n",
    "    X = np.zeros((num_steps + 1, 2))\n",
    "    X[0] = init_point\n",
    "    \n",
    "    for i in range(num_steps):\n",
    "        X[i+1] = X[i] - learning_rate * grad_f(*X[i])\n",
    "    \n",
    "    return X        "
   ]
  },
  {
   "cell_type": "markdown",
   "metadata": {
    "colab_type": "text",
    "id": "yxE1xfoxPppg",
    "tags": [
     "sk"
    ]
   },
   "source": [
    "## Metóda klesajúceho gradientu: roztiahnutý paraboloid\n",
    "\n",
    "V prechádzajúcom notebook-u sme ukázali, ako sa dá metóda klesajúceho gradientu aplikovať na minimalizáciu jednoduchého paraboloidu. Skúsme teraz ten istý postup aplikovať na o trochu náročnejší problém: na roztiahnutý paraboloid. Povedzme, že funkcia, ktorú chceme minimalizovať, bude mať nasledujúci tvar:\n",
    "\n",
    "\\begin{equation}\n",
    "z = f(x, y) = (5x)^2 + y^2\n",
    "\\end{equation}\n",
    "Hlavný problém, s ktorým budeme konfrontovaní v tomto prípade, bude nemožnosť nájsť rýchlosť učenia, ktorá by dobre fungovala v jednom aj v druhom rozmere.\n",
    "\n",
    "### Vizualizácia funkcie\n",
    "\n",
    "Na začiatok si funkciu znovu zadefinujme a vizualizujme. Funkciu zadefinujeme najprv symbolicky, aby sme neskôr mohli využiť automatický spôsob na symbolický výpočet gradientu:\n",
    "\n"
   ]
  },
  {
   "cell_type": "code",
   "execution_count": null,
   "metadata": {
    "colab": {
     "base_uri": "https://localhost:8080/",
     "height": 34
    },
    "colab_type": "code",
    "id": "Rcu4b_yGPppm",
    "outputId": "edfdd02a-2c5e-4159-9bb4-454a36b2477a"
   },
   "outputs": [],
   "source": [
    "symx, symy = sp.symbols('x y')\n",
    "symf = (5*symx)**2 + symy ** 2\n",
    "symf"
   ]
  },
  {
   "cell_type": "code",
   "execution_count": null,
   "metadata": {
    "colab": {},
    "colab_type": "code",
    "id": "FrA5fpsoPpp2"
   },
   "outputs": [],
   "source": [
    "f = lambdify((symx, symy), symf, \"numpy\")"
   ]
  },
  {
   "cell_type": "markdown",
   "metadata": {
    "colab_type": "text",
    "id": "Gd9zq-jxPpqG",
    "tags": [
     "sk"
    ]
   },
   "source": [
    "Vizualizáciu funkcie realizujeme rovnako, ako predtým:\n",
    "\n"
   ]
  },
  {
   "cell_type": "code",
   "execution_count": null,
   "metadata": {
    "colab": {
     "base_uri": "https://localhost:8080/",
     "height": 283
    },
    "colab_type": "code",
    "id": "s8Nhp9SbPpqM",
    "outputId": "8ed8646c-0fd5-4e0a-bb02-80914d42d955"
   },
   "outputs": [],
   "source": [
    "xx, yy = np.mgrid[-10:10.2:0.2, -10:10.2:0.2]\n",
    "zz = f(xx, yy)\n",
    "plot_func(xx, yy, f)"
   ]
  },
  {
   "cell_type": "markdown",
   "metadata": {
    "colab_type": "text",
    "id": "CNqCkt1TPpqd",
    "tags": [
     "sk"
    ]
   },
   "source": [
    "---\n",
    "### Úloha 1: Automatické určenie gradientu\n",
    "\n",
    "**Pomocou balíčka `sympy` znovu automaticky určte gradient a jeho symbolické vyjadrenie preveďte na klasickú numerickú funkciu `grad_f`:** \n",
    "\n",
    "---\n"
   ]
  },
  {
   "cell_type": "code",
   "execution_count": null,
   "metadata": {
    "colab": {},
    "colab_type": "code",
    "id": "HJV0zf74Ppqh",
    "tags": [
     "student"
    ]
   },
   "outputs": [],
   "source": [
    "sym_grad_f =     # ----\n",
    "\n",
    "\n",
    "grad_f =         # ----\n",
    "\n",
    "\n",
    "\n"
   ]
  },
  {
   "cell_type": "markdown",
   "metadata": {
    "colab_type": "text",
    "id": "nq_HgPNGPprf",
    "tags": [
     "sk"
    ]
   },
   "source": [
    "### Minimalizácia funkcie metódou klesajúceho gradientu\n",
    "\n",
    "Ak sa teraz pokúsime danú účelovú funkciu minimalizovať pomocou metódy klesajúceho gradientu, narazíme na problém: bude ťažké nastaviť rýchlosť učenia, ktorá by fungovala v oboch smeroch. Buď nastavíme rýchlosť učenia vysokú a dôjde ku oscilácii v smere, kde funkcia klesá prudšie alebo nastavíme rýchlosť učenia nízku a minimalizácia v druhom smere bude postupovať extrémne pomaly.\n",
    "\n",
    "Môžeme si to overiť aj prakticky. S $\\gamma = 0.1$ dochádza ku oscilácii:\n",
    "\n"
   ]
  },
  {
   "cell_type": "code",
   "execution_count": null,
   "metadata": {
    "colab": {
     "base_uri": "https://localhost:8080/",
     "height": 258
    },
    "colab_type": "code",
    "id": "TzkxLefzPprm",
    "outputId": "ff652db1-07db-41eb-e6f6-fe8d7a091146"
   },
   "outputs": [],
   "source": [
    "X = grad_desc(grad_f, init_point=[-9, -8],\n",
    "              num_steps=6, learning_rate=0.1)\n",
    "plot_func(xx, yy, f, X)\n",
    "plt.gca().set_aspect(800)\n",
    "plt.gcf().set_size_inches([12, 2])\n",
    "plt.savefig(\"output/grad_elongated_fast.pdf\",\n",
    "            bbox_inches=\"tight\", pad_inches=0)"
   ]
  },
  {
   "cell_type": "markdown",
   "metadata": {
    "colab_type": "text",
    "id": "98mI20JHRSzD",
    "tags": [
     "sk"
    ]
   },
   "source": [
    "Ak zvolíme $\\gamma=0.01$, minimalizácia v smere $y$ postupuje pomaly:\n",
    "\n"
   ]
  },
  {
   "cell_type": "code",
   "execution_count": null,
   "metadata": {
    "colab": {
     "base_uri": "https://localhost:8080/",
     "height": 283
    },
    "colab_type": "code",
    "id": "D4bigl6hPpr1",
    "outputId": "c099c0c1-e4c3-4659-c94a-7d6ca1705d26"
   },
   "outputs": [],
   "source": [
    "X = grad_desc(grad_f, init_point=[-9, -8],\n",
    "              num_steps=20, learning_rate=0.01)\n",
    "plot_func(xx, yy, f, X)\n",
    "plt.savefig(\"output/grad_elongated_slow.pdf\",\n",
    "            bbox_inches=\"tight\", pad_inches=0)"
   ]
  },
  {
   "cell_type": "markdown",
   "metadata": {
    "tags": [
     "sk"
    ]
   },
   "source": [
    "### Klesajúci gradient s hybnosťou\n",
    "\n",
    "Jeden spôsob, ako sa brániť voči problému, na ktorý sme narazili pri použití metódy klesajúceho gradientu, je zaviesť do minimalizačného pravidla ďalší člen – hybnosť. V tom prípade berieme pri výpočte nového bodu do úvahy aj veľkosť zmeny z predchádzajúcej iterácie:\n",
    "\n",
    "\\begin{align}\n",
    "\\Delta \\mathbf{x}_{i+1} &= \\alpha \\Delta \\mathbf{x}_i - \\gamma \\nabla f(\\mathbf{x}_i) \\\\\n",
    "\\mathbf{x}_{i+1} &= \\mathbf{x}_i + \\Delta \\mathbf{x}_{i+1},\n",
    "\\end{align}kde $\\alpha$ je koeficient hybnosti (určuje aká váha sa pri výpočte prikladá zmene z predchádzajúcej iterácie $\\Delta \\mathbf{x}_i$).\n",
    "\n",
    "Výhodou je, že ak minimalizácia dlho postupuje jedným smerom, hybnosť sa bude kumulovať a kroky v tom smere sa budú postupne zväčšovať. Naopak v smere, kde dochádza ku oscilácii sa bude neustále meniť znamienko zmeny, čo bude mať tendenciu osciláciu tlmiť.\n",
    "\n",
    "---\n",
    "#### Úloha 2: Doplnenie hybnosti\n",
    "\n",
    "**Doplňte do nasledujúcej bunky kód metódy klesajúceho gradientu s hybnosťou (podľa vzorcov uvedených vyššie):** \n",
    "\n",
    "---\n"
   ]
  },
  {
   "cell_type": "code",
   "execution_count": null,
   "metadata": {
    "colab": {},
    "colab_type": "code",
    "id": "ZnS8TbmJPpsK",
    "tags": [
     "student"
    ]
   },
   "outputs": [],
   "source": [
    "def grad_desc_momentum(grad_f, init_point,\n",
    "              num_steps, learning_rate, alpha):\n",
    "    X = np.zeros((num_steps + 1, 2))\n",
    "    X[0] = init_point\n",
    "    deltaX = 0\n",
    "    \n",
    "    for i in range(num_steps):\n",
    "        \n",
    "        \n",
    "        # ----\n",
    "        \n",
    "    \n",
    "    return X"
   ]
  },
  {
   "cell_type": "markdown",
   "metadata": {
    "colab_type": "text",
    "id": "ZbKTQAN2PptV",
    "tags": [
     "sk"
    ]
   },
   "source": [
    "Pozrime sa teraz, ako sa bude nášmu novému algoritmu dariť na probléme roztiahnutého paraboloidu:\n",
    "\n"
   ]
  },
  {
   "cell_type": "code",
   "execution_count": null,
   "metadata": {
    "colab": {
     "base_uri": "https://localhost:8080/",
     "height": 283
    },
    "colab_type": "code",
    "id": "fxUhx3EPPpta",
    "outputId": "45dcd8a4-c2c2-45b1-cffc-b99ba2bab4ea"
   },
   "outputs": [],
   "source": [
    "X = grad_desc_momentum(grad_f, init_point=[-9, -8],\n",
    "              num_steps=20, learning_rate=0.01, alpha=0.8)\n",
    "plot_func(xx, yy, f, X)\n",
    "plt.savefig(\"output/grad_elongated_momentum.pdf\",\n",
    "            bbox_inches=\"tight\", pad_inches=0)"
   ]
  },
  {
   "cell_type": "markdown",
   "metadata": {
    "colab_type": "text",
    "id": "NAWerlrFR4gb",
    "tags": [
     "sk"
    ]
   },
   "source": [
    "Ako vidno, upravený algoritmus nemá problém nájsť minimum, pretože hybnosť akceleruje jeho postup v smere, kde sa znamienko gradientu dlhodobo nemení a naopak tlmí osciláciu v smere, kde minimum preskakujeme.\n",
    "\n"
   ]
  }
 ],
 "metadata": {
  "celltoolbar": "Tags",
  "colab": {
   "collapsed_sections": [],
   "name": "2_opti_problem.ipynb",
   "provenance": [],
   "version": "0.3.2"
  },
  "kernelspec": {
   "display_name": "Python 3 (ipykernel)",
   "language": "python",
   "name": "python3"
  },
  "language_info": {
   "codemirror_mode": {
    "name": "ipython",
    "version": 3
   },
   "file_extension": ".py",
   "mimetype": "text/x-python",
   "name": "python",
   "nbconvert_exporter": "python",
   "pygments_lexer": "ipython3",
   "version": "3.9.7"
  }
 },
 "nbformat": 4,
 "nbformat_minor": 1
}
