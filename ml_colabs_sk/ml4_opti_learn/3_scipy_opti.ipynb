{
 "cells": [
  {
   "cell_type": "markdown",
   "metadata": {
    "tags": [
     "sk"
    ]
   },
   "source": [
    "**POZNÁMKA: Tento notebook je určený pre platformu Google Colab. Je však možné ho spustiť (možno s drobnými úpravami) aj ako štandardný Jupyter notebook.** \n",
    "\n"
   ]
  },
  {
   "cell_type": "code",
   "execution_count": null,
   "metadata": {},
   "outputs": [],
   "source": [
    "#@title -- Import of Necessary Packages -- { display-mode: \"form\" }\n",
    "import numpy as np\n",
    "import matplotlib.pyplot as plt\n",
    "import sympy as sp\n",
    "from sympy.utilities.lambdify import lambdify\n",
    "from scipy.optimize import minimize"
   ]
  },
  {
   "cell_type": "code",
   "execution_count": null,
   "metadata": {},
   "outputs": [],
   "source": [
    "#@title -- Downloading Data -- { display-mode: \"form\" }\n",
    "# also create a directory for storing any outputs\n",
    "import os\n",
    "os.makedirs(\"output\", exist_ok=True)"
   ]
  },
  {
   "cell_type": "code",
   "execution_count": null,
   "metadata": {},
   "outputs": [],
   "source": [
    "#@title -- Auxiliary Functions -- { display-mode: \"form\" }\n",
    "def plot_func(xx, yy, zz, X=None):\n",
    "    plt.contour(xx, yy, zz, cmap='Spectral')\n",
    "    # both axes at the same scale + create a legend\n",
    "    plt.gca().set_aspect('equal')\n",
    "    plt.xlabel('x'); plt.ylabel('y')\n",
    "    plt.colorbar(label='z')\n",
    "    \n",
    "    if not X is None:\n",
    "        plt.scatter(X[:, 0], X[:, 1])"
   ]
  },
  {
   "cell_type": "markdown",
   "metadata": {
    "tags": [
     "sk"
    ]
   },
   "source": [
    "## Optimalizácia pomocou balíčka `scipy`\n",
    "\n",
    "Ďalej si ako príklad ukážeme, ako sa dá optimalizácia realizovať pomocou balíčka `scipy`. Tento balíček implementuje viacero pokročilých metód, vrátane metód druhého rádu. Ide o metódy, ktoré sú spravidla účinnejšie než metóda klesajúceho gradientu a jej nadstavby, ktorým sme sa doteraz venovali. Ich nevýhodou naopak je nízka škálovateľnosť: typicky sú nepoužiteľné pre problémy s väčším počtom parametrov (pri strojovom učení je podobný problém aj väčšími dátovými množinami).\n",
    "\n",
    "### Definícia účelovej funkcie\n",
    "\n",
    "Na začiatok si znovu zadefinujeme účelovú funkciu a určíme jej gradient.\n",
    "\n"
   ]
  },
  {
   "cell_type": "code",
   "execution_count": null,
   "metadata": {},
   "outputs": [],
   "source": [
    "symx, symy = sp.symbols('x y')\n",
    "symf = (5*symx)**2 + symy ** 2\n",
    "f = lambdify((symx, symy), symf, \"numpy\")\n",
    "\n",
    "sym_grad_f = sp.Matrix([symf]).jacobian([symx, symy])\n",
    "grad_f = lambdify((symx, symy), sym_grad_f, \"numpy\")"
   ]
  },
  {
   "cell_type": "markdown",
   "metadata": {
    "tags": [
     "sk"
    ]
   },
   "source": [
    "Ako zvyčajne si zobrazíme aj vizualizáciu.\n",
    "\n"
   ]
  },
  {
   "cell_type": "code",
   "execution_count": null,
   "metadata": {},
   "outputs": [],
   "source": [
    "xx, yy = np.mgrid[-10:10.2:0.2, -10:10.2:0.2]\n",
    "zz = f(xx, yy)\n",
    "plot_func(xx, yy, zz)"
   ]
  },
  {
   "cell_type": "markdown",
   "metadata": {
    "tags": [
     "sk"
    ]
   },
   "source": [
    "### Minimalizácia pomocou `scipy`\n",
    "\n",
    "Ďalej už aplikujeme metódu `minimize`. Ako argumenty špecifikujeme:\n",
    "\n",
    "* Minimalizovanú funkciu `fun`. Očakáva sa, že funkcia bude na vstupe akceptovať vektor, preto našu funkciu $f$ obaľujeme do lambda funkcie, ktorá jej vektor rozbalí na skalárne argumenty $x$ a $y$ pomocou operátora *.\n",
    "* Počiatočný bod `x0` z ktorého minimalizácia začína.\n",
    "* Metódu: tu sa dá vybrať viacero rôznych solverov.\n",
    "* Gradient: označuje sa `jac`, pretože sa dá špecifikovať aj celá Jakobiho matica (pre vektorové funkcie).\n"
   ]
  },
  {
   "cell_type": "code",
   "execution_count": null,
   "metadata": {},
   "outputs": [],
   "source": [
    "res = minimize(fun=lambda X: f(*X),\n",
    "               x0=[-9, -8],\n",
    "               method='L-BFGS-B',\n",
    "               jac=lambda X: grad_f(*X))"
   ]
  },
  {
   "cell_type": "markdown",
   "metadata": {
    "tags": [
     "sk"
    ]
   },
   "source": [
    "Na výstupe funkcia navráti objekt obsahujúci jednak výsledný bod a jednak hodnotu účelovej funkcie v danom bode:\n",
    "\n"
   ]
  },
  {
   "cell_type": "code",
   "execution_count": null,
   "metadata": {},
   "outputs": [],
   "source": [
    "print(\"The point: {}\".format(res.x))\n",
    "print(\"The value: {}\".format(res.fun))"
   ]
  },
  {
   "cell_type": "markdown",
   "metadata": {
    "tags": [
     "sk"
    ]
   },
   "source": [
    "Podrobnejšiu dokumentáciu ku funkcii je možné nájsť tu:\n",
    "\n"
   ]
  },
  {
   "cell_type": "code",
   "execution_count": null,
   "metadata": {},
   "outputs": [],
   "source": [
    "print(minimize.__doc__)"
   ]
  },
  {
   "cell_type": "markdown",
   "metadata": {
    "tags": [
     "sk"
    ]
   },
   "source": [
    "### Vizualizácia postupu minimalizácie\n",
    "\n",
    "Ak si chceme (tak ako v predchádzajúcich prípadoch) vizualizovať nielen výsledok, ale aj postup minimalizácie, môžeme použiť ešte argument `callback`, z ktorého budeme každý nový bod pridávať do zoznamu `X`.\n",
    "\n"
   ]
  },
  {
   "cell_type": "code",
   "execution_count": null,
   "metadata": {},
   "outputs": [],
   "source": [
    "X = [[-9, -8]]\n",
    "\n",
    "res = minimize(fun=lambda X: f(*X),\n",
    "               x0=X[0],\n",
    "               method='L-BFGS-B',\n",
    "               jac=lambda X: grad_f(*X),\n",
    "               callback=X.append)\n",
    "\n",
    "X = np.array(X)"
   ]
  },
  {
   "cell_type": "markdown",
   "metadata": {
    "tags": [
     "sk"
    ]
   },
   "source": [
    "Výsledná vizualizácia bude vyzerať takto:\n",
    "\n"
   ]
  },
  {
   "cell_type": "code",
   "execution_count": null,
   "metadata": {},
   "outputs": [],
   "source": [
    "xx, yy = np.mgrid[-10:10.2:0.2, -10:10.2:0.2]\n",
    "zz = f(xx, yy)\n",
    "plot_func(xx, yy, zz, X)"
   ]
  },
  {
   "cell_type": "markdown",
   "metadata": {
    "tags": [
     "sk"
    ]
   },
   "source": [
    "### Minimalizácia funkcie bez udania gradientu\n",
    "\n",
    "Funkciu `minimize` je možné zavolať aj bez udania gradientu (`jac`). Niektoré solvery gradient nepoužívajú. Pre ostatné je možné gradient odhadnúť aj numericky (perturbáciou vstupnej premennej). Numerický odhad gradientu je praktické robiť len ak vstup nemá príliš veľa rozmerov – inak je to neprijateľne výpočtovo náročné.\n",
    "\n"
   ]
  },
  {
   "cell_type": "code",
   "execution_count": null,
   "metadata": {},
   "outputs": [],
   "source": [
    "X = [[-9, -8]]\n",
    "\n",
    "res = minimize(fun=lambda X: f(*X),\n",
    "               x0=X[0],\n",
    "               method='L-BFGS-B',\n",
    "               callback=X.append)"
   ]
  },
  {
   "cell_type": "code",
   "execution_count": null,
   "metadata": {},
   "outputs": [],
   "source": [
    "print(\"The result: {}\".format(res.x))\n",
    "print(\"The function's value: {}\".format(res.fun))"
   ]
  },
  {
   "cell_type": "markdown",
   "metadata": {
    "tags": [
     "sk"
    ]
   },
   "source": [
    "Výsledok minimalizácie môžete porovnať s tým predchádzajúcim. Je možné, že bude o niečo horší, pretože funkcia teraz nemá k dispozícii skutočný gradient.\n",
    "\n"
   ]
  },
  {
   "cell_type": "code",
   "execution_count": null,
   "metadata": {},
   "outputs": [],
   "source": []
  }
 ],
 "metadata": {
  "celltoolbar": "Tags",
  "kernelspec": {
   "display_name": "Python 3",
   "language": "python",
   "name": "python3"
  },
  "language_info": {
   "codemirror_mode": {
    "name": "ipython",
    "version": 3
   },
   "file_extension": ".py",
   "mimetype": "text/x-python",
   "name": "python",
   "nbconvert_exporter": "python",
   "pygments_lexer": "ipython3",
   "version": "3.8.8"
  }
 },
 "nbformat": 4,
 "nbformat_minor": 2
}
