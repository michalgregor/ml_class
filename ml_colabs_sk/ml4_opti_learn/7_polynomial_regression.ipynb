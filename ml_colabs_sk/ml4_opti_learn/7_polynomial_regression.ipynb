{
 "cells": [
  {
   "cell_type": "markdown",
   "metadata": {
    "tags": [
     "sk"
    ]
   },
   "source": [
    "**POZNÁMKA: Tento notebook je určený pre platformu Google Colab. Je však možné ho spustiť (možno s drobnými úpravami) aj ako štandardný Jupyter notebook.** \n",
    "\n"
   ]
  },
  {
   "cell_type": "code",
   "execution_count": null,
   "metadata": {},
   "outputs": [],
   "source": [
    "#@title -- Installation of Packages -- { display-mode: \"form\" }\n",
    "import sys\n",
    "!{sys.executable} -m pip install git+https://github.com/michalgregor/class_utils.git"
   ]
  },
  {
   "cell_type": "code",
   "execution_count": null,
   "metadata": {},
   "outputs": [],
   "source": [
    "#@title -- Import of Necessary Packages -- { display-mode: \"form\" }\n",
    "import numpy as np\n",
    "import pandas as pd\n",
    "import matplotlib.pyplot as plt\n",
    "from sklearn.linear_model import LinearRegression\n",
    "from sklearn.preprocessing import PolynomialFeatures\n",
    "from sklearn.impute import SimpleImputer\n",
    "from sklearn.preprocessing import StandardScaler, OrdinalEncoder\n",
    "from sklearn.compose import make_column_transformer\n",
    "from sklearn.pipeline import make_pipeline\n",
    "from scipy.optimize import curve_fit"
   ]
  },
  {
   "cell_type": "code",
   "execution_count": null,
   "metadata": {},
   "outputs": [],
   "source": [
    "#@title -- Downloading Data -- { display-mode: \"form\" }\n",
    "from class_utils.download import download_file_maybe_extract\n",
    "download_file_maybe_extract(\"https://www.dropbox.com/s/p5q7gzupa2ndw55/sigmoid_regression_data.csv?dl=1\", directory=\"data\")\n",
    "\n",
    "# also create a directory for storing any outputs\n",
    "import os\n",
    "os.makedirs(\"output\", exist_ok=True)"
   ]
  },
  {
   "cell_type": "code",
   "execution_count": null,
   "metadata": {},
   "outputs": [],
   "source": [
    "#@title -- Auxiliary Functions -- { display-mode: \"form\" }\n",
    "def fit_poly(X, Y, d):\n",
    "    x_min = np.min(X)\n",
    "    x_max = np.max(X)\n",
    "    \n",
    "    polynomial_features = PolynomialFeatures(degree=d)\n",
    "    X_poly = polynomial_features.fit_transform(X)\n",
    "    linreg = LinearRegression()\n",
    "    linreg = linreg.fit(X_poly, Y)\n",
    "    \n",
    "    xx = np.linspace(x_min, x_max, 250).reshape((-1, 1))\n",
    "    xx_poly = polynomial_features.transform(xx)\n",
    "    yy = linreg.predict(xx_poly)\n",
    "    \n",
    "    plt.figure()\n",
    "    plt.scatter(X, Y)\n",
    "    plt.grid(ls='--')\n",
    "    plt.xlabel('x')\n",
    "    plt.ylabel('y')\n",
    "\n",
    "    plt.plot(xx, yy, 'r')\n",
    "    plt.title(\"degree {}\".format(d))    \n",
    "    plt.savefig(\"output/poly_{}_fit.pdf\".format(d), bbox_inches=\"tight\", pad_inches=0)"
   ]
  },
  {
   "cell_type": "markdown",
   "metadata": {
    "tags": [
     "sk"
    ]
   },
   "source": [
    "## Polynomická regresia\n",
    "\n",
    "### Lineárna regresia sa nehodí na všetko\n",
    "\n",
    "Lineárna regresia sa nedá vhodne aplikovať na ľubovoľné dáta. Napríklad:\n",
    "\n"
   ]
  },
  {
   "cell_type": "code",
   "execution_count": null,
   "metadata": {},
   "outputs": [],
   "source": [
    "#@title -- Linear Regression on Polynomial Data -- { display-mode: \"form\" }\n",
    "X = np.arange(-5, 10, 0.2)\n",
    "Y = (X - 2 * (X ** 2) + 0.5 * (X ** 3)\n",
    "        + np.random.normal(0, 15, len(X)))\n",
    "\n",
    "X = X.reshape([-1, 1])\n",
    "Y = Y.reshape([-1, 1])\n",
    "\n",
    "linreg = LinearRegression()\n",
    "linreg = linreg.fit(X, Y)\n",
    "y_lin = linreg.predict(X)\n",
    "\n",
    "plt.figure()\n",
    "plt.scatter(X, Y, s=10)\n",
    "plt.plot(X, y_lin, 'r')\n",
    "plt.grid(ls='--')\n",
    "plt.xlabel('x')\n",
    "plt.ylabel('y')\n",
    "\n",
    "plt.savefig(\"output/poly_linfit.pdf\", bbox_inches=\"tight\", pad_inches=0)"
   ]
  },
  {
   "cell_type": "markdown",
   "metadata": {
    "tags": [
     "sk"
    ]
   },
   "source": [
    "Ako vidno, lineárna závislosť v tomto prípade charakter dát dobre nevystihuje.\n",
    "\n",
    "### Aplikácia polynomickej regresie\n",
    "\n",
    "Ďalším z mnohých iných typov regresie je polynomická regresia, kde sa dáta prekladajú polynómom určitého stupňa. Regresný model vyzerá nasledovne:\n",
    "\\begin{equation}\n",
    "\\hat y = a_0 + a_1 x + a_2 x^2 + ... + a_n x^n\n",
    "\\end{equation}\n",
    "\n",
    "Dobrá správa je, že polynomiálna regresia sa dá realizovať úplne rovnakým spôsobom ako lineárna regresia – stačí regresný problém reinterpretovať tak, že vstupom lineárneho regresného modelu nebude priamo $x$, ale vektor jeho mocnín.\n",
    "\n",
    "Matica vstupov pre lineárny regresný model bude mať potom tvar\n",
    "\\begin{equation}\n",
    "X = \\left(\n",
    "\\begin{matrix}\n",
    "1 & x_1 & x_1^2 & ... & x_1^n \\\n",
    "1 & x_2 & x_2^2 & ... & x_2^n \\\n",
    "\\vdots & \\vdots & \\vdots & \\ddots & \\vdots \\\n",
    "1 & x_m & x_m^2 & ... & x_m^n\n",
    "\\end{matrix}\n",
    "\\right),\n",
    "\\end{equation}\n",
    "kde $n$ je stupeň polynómu.\n",
    "\n",
    "Balíček `sklearn` obsahuje objekt `PolynomialFeatures`, ktorý pomáha predspracovať vstupy práve do takého tvaru. Keď ho spojíme s lineárnym regresorom, získame vlastne polynomický regresor. Napríklad pre polynóm stupňa 3:\n",
    "\n"
   ]
  },
  {
   "cell_type": "code",
   "execution_count": null,
   "metadata": {},
   "outputs": [],
   "source": [
    "model = make_pipeline(PolynomialFeatures(degree=3), LinearRegression())\n",
    "model.fit(X, Y)"
   ]
  },
  {
   "cell_type": "code",
   "execution_count": null,
   "metadata": {},
   "outputs": [],
   "source": [
    "#@title -- Regression Curve vs. Data -- { display-mode: \"form\" }\n",
    "x_min = np.min(X)\n",
    "x_max = np.max(X)\n",
    "xx = np.linspace(x_min, x_max, 250).reshape((-1, 1))\n",
    "yy = model.predict(xx)\n",
    "\n",
    "plt.figure()\n",
    "plt.scatter(X, Y, s=10)\n",
    "plt.plot(xx, yy, 'r')\n",
    "plt.grid(ls='--')\n",
    "plt.xlabel('x')\n",
    "plt.ylabel('y')\n",
    "\n",
    "plt.savefig(\"output/polyfit.pdf\", bbox_inches=\"tight\", pad_inches=0)"
   ]
  },
  {
   "cell_type": "markdown",
   "metadata": {
    "tags": [
     "sk"
    ]
   },
   "source": [
    "Ako vidno, výsledky sú omnoho lepšie: pretože pôvodné dáta pochádzajú práve z polynómu stupňa 3.\n",
    "\n",
    "### Ako voliť stupeň polynómu?\n",
    "\n",
    "Pri voľbe stupňa polynómu treba dať pozor na to, čo sa vždy uvažuje aj pri strojovom učení všeobecne. Model by mal byť na jednej strane dosť zložitý na to, aby vyjadril zákonitosti prítomné v dátovej množine, ale nie taký zložitý, aby si dáta zapamätal naspamäť, pretože potom pravdepodobne nebude správne zovšeobecňovať. Ak je model príliš jednoduchý, hovoríme, že ide o **underfitting** , ak príliš zložitý, o **overfitting** .\n",
    "\n",
    "Problém budeme ilustrovať na jednoduchom príklade:\n",
    "\n"
   ]
  },
  {
   "cell_type": "code",
   "execution_count": null,
   "metadata": {},
   "outputs": [],
   "source": [
    "#@title -- Data Loading and Preprocessing; X, Y -- { display-mode: \"form\" }\n",
    "df = pd.read_csv(\"data/sigmoid_regression_data.csv\")\n",
    "\n",
    "# we specify the inputs and the outputs\n",
    "categorical_inputs = []\n",
    "numeric_inputs = ['x']\n",
    "output = ['y']\n",
    "\n",
    "# we create the pipeline\n",
    "input_preproc = make_column_transformer(\n",
    "    (make_pipeline(\n",
    "        SimpleImputer(strategy=\"most_frequent\"),\n",
    "        OrdinalEncoder()),\n",
    "     categorical_inputs),\n",
    "    \n",
    "    (make_pipeline(\n",
    "        SimpleImputer(),\n",
    "        StandardScaler()),\n",
    "     numeric_inputs)\n",
    ")\n",
    "\n",
    "# we fit and apply the pipeline\n",
    "X = input_preproc.fit_transform(df[categorical_inputs+numeric_inputs])\n",
    "Y = df[output].values\n",
    "\n",
    "# we plot the data for visual inspection\n",
    "plt.scatter(X, Y, marker='x', label=\"training data\")\n",
    "plt.xlabel('x')\n",
    "plt.ylabel('y')\n",
    "plt.grid(ls='--')\n",
    "plt.legend()\n",
    "plt.savefig(\"output/regression_data.pdf\", bbox_inches='tight', pad_inches=0)"
   ]
  },
  {
   "cell_type": "markdown",
   "metadata": {
    "tags": [
     "sk"
    ]
   },
   "source": [
    "Skúsme teraz použiť polynómy rôznych stupňov (funkcia `fit_poly` bola zadefinovaná na začiatku v bloku s pomocnými funkciami):\n",
    "\n"
   ]
  },
  {
   "cell_type": "code",
   "execution_count": null,
   "metadata": {},
   "outputs": [],
   "source": [
    "fit_poly(X, Y, 2)\n",
    "fit_poly(X, Y, 5)\n",
    "fit_poly(X, Y, 7)\n",
    "fit_poly(X, Y, 11)"
   ]
  },
  {
   "cell_type": "markdown",
   "metadata": {
    "tags": [
     "sk"
    ]
   },
   "source": [
    "Ako vidno, polynómy nízkeho stupňa nevedia vystihnúť tvar závislosti, z ktorej sú pôvodné body odčítané. Ak zvolíme naopak príliš vysoký stupeň polynómu, ten bude bodmi prechádzať veľmi presne, ale medzi nimi sa nebude správať rozumne.\n",
    "\n",
    "Pochopiteľne, chybou je vôbec aproximovať takúto krivku pomocou polynomickej regresie. Pôvodná závislosť sa nápadne podobá na sigmoidnú krivku, bolo by teda ďaleko rozumnejšie aproximovať ich pomocou nej:\n",
    "\n"
   ]
  },
  {
   "cell_type": "code",
   "execution_count": null,
   "metadata": {},
   "outputs": [],
   "source": [
    "#@title -- Fitting the Data using the Sigmoid Curve -- { display-mode: \"form\" }\n",
    "def sigmoid(x, x0, k, a, c):\n",
    "    y = a / (1 + np.exp(-k*(x-x0))) + c\n",
    "    return y\n",
    "\n",
    "x_min = np.min(X)\n",
    "x_max = np.max(X)\n",
    "xx = np.linspace(x_min, x_max, 250).reshape((-1, 1))\n",
    "\n",
    "popt, pcov = curve_fit(sigmoid, X.reshape(-1), Y.reshape(-1))\n",
    "yy = sigmoid(xx, *popt)\n",
    "\n",
    "plt.figure()\n",
    "plt.scatter(X, Y)\n",
    "plt.grid(ls='--')\n",
    "plt.xlabel('x')\n",
    "plt.ylabel('y')\n",
    "plt.plot(xx, yy, 'r')\n",
    "plt.savefig(\"output/sigmoid_fit.pdf\", bbox_inches=\"tight\", pad_inches=0)"
   ]
  },
  {
   "cell_type": "markdown",
   "metadata": {
    "tags": [
     "sk"
    ]
   },
   "source": [
    "Ako vidno, výsledky sú v tomto prípade neporovnateľne lepšie.\n",
    "\n"
   ]
  },
  {
   "cell_type": "code",
   "execution_count": null,
   "metadata": {},
   "outputs": [],
   "source": []
  }
 ],
 "metadata": {
  "celltoolbar": "Tags",
  "kernelspec": {
   "display_name": "Python 3",
   "language": "python",
   "name": "python3"
  },
  "language_info": {
   "codemirror_mode": {
    "name": "ipython",
    "version": 3
   },
   "file_extension": ".py",
   "mimetype": "text/x-python",
   "name": "python",
   "nbconvert_exporter": "python",
   "pygments_lexer": "ipython3",
   "version": "3.9.7"
  }
 },
 "nbformat": 4,
 "nbformat_minor": 2
}
