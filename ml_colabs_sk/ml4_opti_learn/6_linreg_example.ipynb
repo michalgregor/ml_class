{
 "cells": [
  {
   "cell_type": "markdown",
   "metadata": {
    "colab_type": "text",
    "id": "mFWh1xPu2grU",
    "tags": [
     "sk"
    ]
   },
   "source": [
    "**POZNÁMKA: Tento notebook je určený pre platformu Google Colab. Je však možné ho spustiť (možno s drobnými úpravami) aj ako štandardný Jupyter notebook.** \n",
    "\n"
   ]
  },
  {
   "cell_type": "code",
   "execution_count": null,
   "metadata": {
    "colab": {
     "base_uri": "https://localhost:8080/",
     "height": 1000
    },
    "colab_type": "code",
    "id": "3onrsSZH2grd",
    "outputId": "0a4d9fef-90b6-49bf-8443-3e568fe3d5d1"
   },
   "outputs": [],
   "source": [
    "#@title -- Installation of Packages -- { display-mode: \"form\" }\n",
    "import sys\n",
    "!{sys.executable} -m pip install git+https://github.com/michalgregor/class_utils.git"
   ]
  },
  {
   "cell_type": "code",
   "execution_count": null,
   "metadata": {
    "colab": {
     "base_uri": "https://localhost:8080/",
     "height": 81
    },
    "colab_type": "code",
    "id": "lWRCCsr82gr2",
    "outputId": "18c0d5ac-7b3e-4e2a-b3a7-3dea212d958e"
   },
   "outputs": [],
   "source": [
    "#@title -- Import of Necessary Packages -- { display-mode: \"form\" }\n",
    "from sklearn.preprocessing import StandardScaler, OrdinalEncoder, KBinsDiscretizer\n",
    "from sklearn.model_selection import train_test_split\n",
    "from sklearn.metrics import (mean_squared_error,\n",
    "                             mean_absolute_error)\n",
    "from sklearn.linear_model import LinearRegression\n",
    "from sklearn.compose import make_column_transformer\n",
    "from sklearn.pipeline import make_pipeline\n",
    "from sklearn.impute import SimpleImputer\n",
    "from class_utils import corr_heatmap, error_histogram\n",
    "import matplotlib.pyplot as plt\n",
    "import numpy as np\n",
    "import pandas as pd"
   ]
  },
  {
   "cell_type": "code",
   "execution_count": null,
   "metadata": {
    "colab": {
     "base_uri": "https://localhost:8080/",
     "height": 384
    },
    "colab_type": "code",
    "id": "LTIZDJio2gsF",
    "outputId": "79358c51-6f46-4bf4-b2f7-db5474185256"
   },
   "outputs": [],
   "source": [
    "#@title -- Downloading Data -- { display-mode: \"form\" }\n",
    "from class_utils.download import download_file_maybe_extract\n",
    "download_file_maybe_extract(\"https://www.dropbox.com/s/8s0ivlo9yshhxkn/winequality.zip?dl=1\", directory=\"data\")\n",
    "\n",
    "# also create a directory for storing any outputs\n",
    "import os\n",
    "os.makedirs(\"output\", exist_ok=True)"
   ]
  },
  {
   "cell_type": "markdown",
   "metadata": {
    "colab_type": "text",
    "id": "X5oB44B_2gsj",
    "tags": [
     "sk"
    ]
   },
   "source": [
    "### Lineárna regresia a kvalita vína\n",
    "\n",
    "Ďalej si vyskúšame lineárnu regresiu na dátovej množine na predikciu kvality bieleho vína.\n",
    "\n",
    "Načítame dátovú množinu z CSV súboru:\n",
    "\n"
   ]
  },
  {
   "cell_type": "code",
   "execution_count": null,
   "metadata": {
    "colab": {
     "base_uri": "https://localhost:8080/",
     "height": 224
    },
    "colab_type": "code",
    "id": "WbXsvKP52gsn",
    "outputId": "a5a0b646-f6a9-4013-f1c7-c9de6a897a9d"
   },
   "outputs": [],
   "source": [
    "df = pd.read_csv(\"data/winequality-white.csv\")\n",
    "df.head()"
   ]
  },
  {
   "cell_type": "markdown",
   "metadata": {
    "colab_type": "text",
    "id": "4UA7q6QH2gs4",
    "tags": [
     "sk"
    ]
   },
   "source": [
    "#### Obsahuje dátová množina lineárne závislosti?\n",
    "\n",
    "Aby sme zistili, či dátová množina obsahuje nejaké lineárne závislosti, ktoré sa budú dať lineárnou regresiou modelovať, zobrazíme si korelačnú maticu. Silne korelované premenné majú jasnú lineárnu závislosť. Silná záporná korelácia tiež znamená, že premenné sú lineárne závislé: ibaže sú jedna druhej nepriamo úmerné. Niektoré polia korelačnej matice sú biele: znamená to, že korelácia nebola štatisticky významná a dané čísla nemajú veľkú výpovednú hodnotu.\n",
    "\n"
   ]
  },
  {
   "cell_type": "code",
   "execution_count": null,
   "metadata": {
    "colab": {
     "base_uri": "https://localhost:8080/",
     "height": 550
    },
    "colab_type": "code",
    "id": "UBr8INkx2gs8",
    "outputId": "c2a7b977-51f3-4caf-86fa-b2210f2d2334"
   },
   "outputs": [],
   "source": [
    "plt.figure(figsize=(10, 8))\n",
    "corr_heatmap(df)\n",
    "plt.savefig(\"output/wine_corr_matrix.pdf\", bbox_inches=\"tight\", pad_inches=0)"
   ]
  },
  {
   "cell_type": "markdown",
   "metadata": {
    "colab_type": "text",
    "id": "KkQm81DG2gtN",
    "tags": [
     "sk"
    ]
   },
   "source": [
    "Ako vidno z grafu, existuje pomerne silná korelácia medzi premennými `density` a `residual sugar`. Tieto premenné majú slabšiu koreláciu aj s viacerými ďalšími. Môžeme sa teda pokúsiť predikovať premennú `density` z ostatných pomocou lineárnej regresie.\n",
    "\n",
    "Ak by sme chceli predikovať kvalitu vína, lineárna regresia pravdepodobne nebude veľmi dobrý spôsob: silnejšia korelácia je len s obsahom alkoholu.\n",
    "\n",
    "### Predspracovanie\n",
    "\n",
    "Rozdeľme si teraz dátovú množinu na tréningovú a testovaciu časť so stratifkáciou podľa atribútu `density` a aplikujme štandardné predspracovanie.\n",
    "\n"
   ]
  },
  {
   "cell_type": "code",
   "execution_count": null,
   "metadata": {
    "colab": {},
    "colab_type": "code",
    "id": "haqZpUG42gtR"
   },
   "outputs": [],
   "source": [
    "#@title -- Dataset Splittling: df_train, df_test -- { display-mode: \"form\" }\n",
    "kbins = KBinsDiscretizer(6, encode='ordinal')\n",
    "y_stratify = kbins.fit_transform(df[['density']])\n",
    "df_train, df_test = train_test_split(df, stratify=y_stratify,\n",
    "                                 test_size=0.3, random_state=4)"
   ]
  },
  {
   "cell_type": "code",
   "execution_count": null,
   "metadata": {
    "colab": {
     "base_uri": "https://localhost:8080/",
     "height": 224
    },
    "colab_type": "code",
    "id": "7PSPARgh2gtc",
    "outputId": "a5a92ec2-4cdd-4ef8-afee-caca6b9516c1"
   },
   "outputs": [],
   "source": [
    "df.head()"
   ]
  },
  {
   "cell_type": "markdown",
   "metadata": {
    "colab_type": "text",
    "id": "BtsX3Dov2gtt",
    "tags": [
     "sk"
    ]
   },
   "source": [
    "---\n",
    "### Úloha 1: Typy stĺpcov\n",
    "\n",
    "**Nižšie uveďte, ktoré kategorické a numerické stĺpce sa majú použiť.** \n",
    "\n",
    "---\n"
   ]
  },
  {
   "cell_type": "code",
   "execution_count": null,
   "metadata": {
    "colab": {},
    "colab_type": "code",
    "id": "AmOwlNU32gt-",
    "tags": [
     "student"
    ]
   },
   "outputs": [],
   "source": [
    "categorical_inputs = [           ]  # ----\n",
    "\n",
    "numeric_inputs = [               ]  # ----\n",
    "\n",
    "output = ['density']"
   ]
  },
  {
   "cell_type": "code",
   "execution_count": null,
   "metadata": {
    "colab": {},
    "colab_type": "code",
    "id": "2oF8EOaI2guK"
   },
   "outputs": [],
   "source": [
    "#@title -- Our Standard Preprocessing: X_train, Y_train, X_test, Y_test -- { display-mode: \"form\" }\n",
    "input_preproc = make_column_transformer(\n",
    "    (make_pipeline(\n",
    "        SimpleImputer(strategy=\"most_frequent\"),\n",
    "        OrdinalEncoder()),\n",
    "     categorical_inputs),\n",
    "    \n",
    "    (make_pipeline(\n",
    "        SimpleImputer(),\n",
    "        StandardScaler()),\n",
    "     numeric_inputs)\n",
    ")\n",
    "\n",
    "X_train = input_preproc.fit_transform(df_train)\n",
    "Y_train = df_train[output].values\n",
    "\n",
    "X_test = input_preproc.transform(df_test)\n",
    "Y_test = df_test[output].values"
   ]
  },
  {
   "cell_type": "markdown",
   "metadata": {
    "colab_type": "text",
    "id": "olZX3xUI2gua",
    "tags": [
     "sk"
    ]
   },
   "source": [
    "#### Ladenie modelu\n",
    "\n",
    "Pomocou tréningových dát naladíme lineárny model:\n",
    "\n"
   ]
  },
  {
   "cell_type": "code",
   "execution_count": null,
   "metadata": {
    "colab": {},
    "colab_type": "code",
    "id": "ikEliheu2gue"
   },
   "outputs": [],
   "source": [
    "model = LinearRegression()\n",
    "model = model.fit(X_train, Y_train)"
   ]
  },
  {
   "cell_type": "markdown",
   "metadata": {
    "colab_type": "text",
    "id": "eRNZ-ucp2gut",
    "tags": [
     "sk"
    ]
   },
   "source": [
    "#### Testovanie modelu\n",
    "\n",
    "Model otestujeme na testovacích dátach:\n",
    "\n"
   ]
  },
  {
   "cell_type": "code",
   "execution_count": null,
   "metadata": {
    "colab": {
     "base_uri": "https://localhost:8080/",
     "height": 423
    },
    "colab_type": "code",
    "id": "edepH8A92guw",
    "outputId": "39e17f5f-87a3-4102-9158-b5f6924b2d77"
   },
   "outputs": [],
   "source": [
    "#@title -- Testing -- { display-mode: \"form\" }\n",
    "y_test = model.predict(X_test)\n",
    "\n",
    "# we compute and display the MSE and the MAE\n",
    "mse = mean_squared_error(Y_test, y_test)\n",
    "print(\"MSE = {}\".format(mse))\n",
    "\n",
    "mae = mean_absolute_error(Y_test, y_test)\n",
    "print(\"MAE = {}\".format(mae))\n",
    "\n",
    "plt.figure(figsize=(8, 6))\n",
    "error_histogram(Y_test, y_test, Y_fit_scaling=Y_train)"
   ]
  },
  {
   "cell_type": "markdown",
   "metadata": {
    "colab_type": "text",
    "id": "jmZkl78f2gu_",
    "tags": [
     "sk"
    ]
   },
   "source": [
    "#### Len s použitím vstupu `residual sugar`\n",
    "\n"
   ]
  },
  {
   "cell_type": "code",
   "execution_count": null,
   "metadata": {
    "colab": {},
    "colab_type": "code",
    "id": "mmZ9D9FP2gvC"
   },
   "outputs": [],
   "source": [
    "categorical_inputs = []\n",
    "numeric_inputs = [\"residual sugar\"]\n",
    "output = ['density']"
   ]
  },
  {
   "cell_type": "code",
   "execution_count": null,
   "metadata": {
    "colab": {},
    "colab_type": "code",
    "id": "whdzIrQN2gvJ"
   },
   "outputs": [],
   "source": [
    "#@title -- Our Standard Preprocessing: X_train, Y_train, X_test, Y_test -- { display-mode: \"form\" }\n",
    "input_preproc = make_column_transformer(\n",
    "    (make_pipeline(\n",
    "        SimpleImputer(strategy=\"most_frequent\"),\n",
    "        OrdinalEncoder()),\n",
    "     categorical_inputs),\n",
    "    \n",
    "    (make_pipeline(\n",
    "        SimpleImputer(),\n",
    "        StandardScaler()),\n",
    "     numeric_inputs)\n",
    ")\n",
    "\n",
    "X_train = input_preproc.fit_transform(df_train)\n",
    "Y_train = df_train[output].values\n",
    "\n",
    "X_test = input_preproc.transform(df_test)\n",
    "Y_test = df_test[output].values"
   ]
  },
  {
   "cell_type": "code",
   "execution_count": null,
   "metadata": {
    "colab": {},
    "colab_type": "code",
    "id": "-JGPnHsE2gvT"
   },
   "outputs": [],
   "source": [
    "model = LinearRegression()\n",
    "model = model.fit(X_train, Y_train)"
   ]
  },
  {
   "cell_type": "code",
   "execution_count": null,
   "metadata": {
    "colab": {
     "base_uri": "https://localhost:8080/",
     "height": 423
    },
    "colab_type": "code",
    "id": "IuTDeOJN2gvd",
    "outputId": "8f1b756a-584c-49db-9669-eedb041f8e66"
   },
   "outputs": [],
   "source": [
    "#@title -- Testing -- { display-mode: \"form\" }\n",
    "y_test = model.predict(X_test)\n",
    "\n",
    "# we compute and display the MSE and the MAE\n",
    "mse = mean_squared_error(Y_test, y_test)\n",
    "print(\"MSE = {}\".format(mse))\n",
    "\n",
    "mae = mean_absolute_error(Y_test, y_test)\n",
    "print(\"MAE = {}\".format(mae))\n",
    "\n",
    "plt.figure(figsize=(8, 6))\n",
    "error_histogram(Y_test, y_test, Y_fit_scaling=Y_train)"
   ]
  },
  {
   "cell_type": "markdown",
   "metadata": {
    "colab_type": "text",
    "id": "fTa8zg3V2gvq",
    "tags": [
     "sk"
    ]
   },
   "source": [
    "Ako vidno, výsledky sú v tomto prípade o dosť horšie. Zdá sa, že ostatné stĺpce obsahujú informácie o hustote, ktoré sa nedajú vyčítať len zo stĺpca `residual sugar`.\n",
    "\n"
   ]
  },
  {
   "cell_type": "code",
   "execution_count": null,
   "metadata": {
    "colab": {},
    "colab_type": "code",
    "id": "lrZD1fox2gvs"
   },
   "outputs": [],
   "source": []
  }
 ],
 "metadata": {
  "celltoolbar": "Tags",
  "colab": {
   "name": "6_linreg_example.ipynb",
   "provenance": []
  },
  "kernelspec": {
   "display_name": "Python 3",
   "language": "python",
   "name": "python3"
  },
  "language_info": {
   "codemirror_mode": {
    "name": "ipython",
    "version": 3
   },
   "file_extension": ".py",
   "mimetype": "text/x-python",
   "name": "python",
   "nbconvert_exporter": "python",
   "pygments_lexer": "ipython3",
   "version": "3.8.8"
  }
 },
 "nbformat": 4,
 "nbformat_minor": 1
}
