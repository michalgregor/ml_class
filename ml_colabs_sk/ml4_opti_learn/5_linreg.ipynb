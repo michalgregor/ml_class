{
 "cells": [
  {
   "cell_type": "markdown",
   "metadata": {
    "tags": [
     "sk"
    ]
   },
   "source": [
    "**POZNÁMKA: Tento notebook je určený pre platformu Google Colab. Je však možné ho spustiť (možno s drobnými úpravami) aj ako štandardný Jupyter notebook.** \n",
    "\n"
   ]
  },
  {
   "cell_type": "code",
   "execution_count": null,
   "metadata": {},
   "outputs": [],
   "source": [
    "#@title -- Installation of Packages -- { display-mode: \"form\" }\n",
    "import sys\n",
    "!{sys.executable} -m pip install git+https://github.com/michalgregor/class_utils.git"
   ]
  },
  {
   "cell_type": "code",
   "execution_count": null,
   "metadata": {},
   "outputs": [],
   "source": [
    "#@title -- Import of Necessary Packages -- { display-mode: \"form\" }\n",
    "from sklearn.preprocessing import StandardScaler, OrdinalEncoder, KBinsDiscretizer\n",
    "from sklearn.model_selection import train_test_split\n",
    "from sklearn.impute import SimpleImputer\n",
    "from sklearn.metrics import (mean_squared_error,\n",
    "                             mean_absolute_error)\n",
    "from sklearn.linear_model import LinearRegression\n",
    "from sklearn.compose import make_column_transformer\n",
    "from sklearn.pipeline import make_pipeline\n",
    "import matplotlib.pyplot as plt\n",
    "from class_utils import error_histogram\n",
    "import numpy as np\n",
    "import pandas as pd"
   ]
  },
  {
   "cell_type": "code",
   "execution_count": null,
   "metadata": {},
   "outputs": [],
   "source": [
    "#@title -- Downloading Data -- { display-mode: \"form\" }\n",
    "# also create a directory for storing any outputs\n",
    "import os\n",
    "os.makedirs(\"output\", exist_ok=True)"
   ]
  },
  {
   "cell_type": "markdown",
   "metadata": {
    "tags": [
     "sk"
    ]
   },
   "source": [
    "## Lineárna regresia\n",
    "\n",
    "V predchádzajúcom príklade sme ukázali, ako sa dá pomocou optimalizácie realizovať jednoduchá regresia. Optimalizáciu sme realizovali iteratívne: pomocou gradientného prístupu. Existuje však jedna špeciálna skupina modelov, kde sa optimalizácia nemusí robiť iteratívne a optimálne parametre sa dajú určiť priamym výpočtom. Ide o lineárne modely s kvadratickou chybovou funkciou a optimálne parametre sa dajú vyrátať pomocou tzv. **metódy najmenších štvorcov**  (názov je z toho, že sa minimalizujú druhé mocniny chýb; angl. ordinary least squares). Výsledkom je prístup umožňujúci realizovať **lineárnu regresiu** .\n",
    "\n",
    "S lineárnou regresiou sa v praxi dá stretnúť často: kedykoľvek treba nejaké body preložiž priamkou. Keďže teórii lineárnej regresie sa venujeme osobitne, tu uvedieme iba krátky praktický návod.\n",
    "\n",
    "### Jednoduchý príklad: syntetická dátová množina\n",
    "\n",
    "Vytvoríme si syntetickú dátovú množinu. Body budú z priamky, ale s gaussovským šumom, t.j.:\n",
    "\\begin{equation}\n",
    "y_i = a x_i + c + \\mathcal{N}(\\mu, \\sigma^2).\n",
    "\\end{equation}\n",
    "\n",
    "Gaussovské (normálne) rozdelenie získame pomocou funkcie `np.random.normal`.\n",
    "\n"
   ]
  },
  {
   "cell_type": "code",
   "execution_count": null,
   "metadata": {},
   "outputs": [],
   "source": [
    "df = pd.DataFrame()\n",
    "df['x'] = np.arange(0, 1, 0.0025)\n",
    "df['y'] = df['x'] + np.random.normal(0, 0.2, df['x'].shape)\n",
    "\n",
    "df.head()"
   ]
  },
  {
   "cell_type": "markdown",
   "metadata": {
    "tags": [
     "sk"
    ]
   },
   "source": [
    "### Predspracovanie dát\n",
    "\n",
    "Rozdelenie a predspracovanie dátovej množiny je úplne analogické ako v predchádzajúcich prípadoch, kód nasledujúcej bunky je teda skrytý.\n",
    "\n"
   ]
  },
  {
   "cell_type": "code",
   "execution_count": null,
   "metadata": {},
   "outputs": [],
   "source": [
    "#@title -- Data Loading and Preprocessing; X_train, Y_train, X_test, Y_test -- { display-mode: \"form\" }\n",
    "kbins = KBinsDiscretizer(6, encode='ordinal')\n",
    "y_stratify = kbins.fit_transform(df[['y']])\n",
    "\n",
    "df_train, df_test = train_test_split(df, stratify=y_stratify,\n",
    "                                 test_size=0.3, random_state=4)\n",
    "\n",
    "categorical_inputs = []\n",
    "numeric_inputs = ['x']\n",
    "output = ['y']\n",
    "\n",
    "input_preproc = make_column_transformer(\n",
    "    (make_pipeline(\n",
    "        SimpleImputer(strategy=\"most_frequent\"),\n",
    "        OrdinalEncoder()),\n",
    "     categorical_inputs),\n",
    "    \n",
    "    (make_pipeline(\n",
    "        SimpleImputer(),\n",
    "        StandardScaler()),\n",
    "     numeric_inputs)\n",
    ")\n",
    "\n",
    "X_train = input_preproc.fit_transform(df_train[categorical_inputs+numeric_inputs])\n",
    "Y_train = df_train[output]\n",
    "\n",
    "X_test = input_preproc.transform(df_test[categorical_inputs+numeric_inputs])\n",
    "Y_test = df_test[output]\n",
    "\n",
    "plt.figure()\n",
    "plt.scatter(X_train, Y_train, label=\"training data\")\n",
    "plt.scatter(X_test, Y_test, label=\"testing data\")\n",
    "plt.grid(ls='--')\n",
    "plt.xlabel('x')\n",
    "plt.ylabel('y')\n",
    "plt.legend()\n",
    "plt.savefig(\"output/linreg_data.pdf\", bbox_inches='tight', pad_inches=0)"
   ]
  },
  {
   "cell_type": "markdown",
   "metadata": {
    "tags": [
     "sk"
    ]
   },
   "source": [
    "#### Ladenie modelu\n",
    "\n",
    "Vytvoríme regresný model a nastavíme jeho parametre pomocou funkcie `fit`.\n",
    "\n"
   ]
  },
  {
   "cell_type": "code",
   "execution_count": null,
   "metadata": {},
   "outputs": [],
   "source": [
    "model = LinearRegression()\n",
    "model = model.fit(X_train, Y_train)"
   ]
  },
  {
   "cell_type": "markdown",
   "metadata": {
    "tags": [
     "sk"
    ]
   },
   "source": [
    "#### Testovanie modelu\n",
    "\n",
    "Ak chceme získať predikcie pre nejaké (tie isté alebo iné) vstupné dáta, použijeme funkciu `predict`. Funkcie `fit` a `predict` tvoria štandardné rozhranie u všetkých modelov z balíčka `sklearn`. Zvyšná časť fázy testovania bude vyzerať úplne obdobne ako v predchádzajúcom príklade.\n",
    "\n"
   ]
  },
  {
   "cell_type": "code",
   "execution_count": null,
   "metadata": {},
   "outputs": [],
   "source": [
    "y_test = model.predict(X_test)"
   ]
  },
  {
   "cell_type": "code",
   "execution_count": null,
   "metadata": {},
   "outputs": [],
   "source": [
    "#@title -- Testing -- { display-mode: \"form\" }\n",
    "\n",
    "# we compute and display the MSE and the MAE\n",
    "mse = mean_squared_error(Y_test, y_test)\n",
    "print(\"MSE = {}\".format(mse))\n",
    "\n",
    "mae = mean_absolute_error(Y_test, y_test)\n",
    "print(\"MAE = {}\".format(mae))\n",
    "\n",
    "plt.figure(figsize=(8, 6))\n",
    "error_histogram(Y_test, y_test, Y_fit_scaling=Y_train)\n",
    "plt.savefig(\"output/error_output_histogram.pdf\", bbox_inches='tight', pad_inches=0)\n",
    "\n",
    "# we visualize the regression line\n",
    "x_min = min(np.min(X_train), np.min(X_test))\n",
    "x_max = max(np.max(X_train), np.max(X_test))\n",
    "\n",
    "xx = np.linspace(x_min, x_max, 250).reshape((-1, 1))\n",
    "yy = model.predict(xx.reshape([-1, 1]))\n",
    "\n",
    "plt.figure()\n",
    "plt.scatter(X_train, Y_train, label=\"training data\", s=15)\n",
    "plt.scatter(X_test, Y_test, label=\"testing data\", s=15)\n",
    "plt.plot(xx, yy, 'k', linewidth='5', label=\"regressive model\")\n",
    "\n",
    "plt.grid(ls='--')\n",
    "plt.xlabel('x')\n",
    "plt.ylabel('y')\n",
    "plt.legend()\n",
    "plt.savefig(\"output/linreg_line.pdf\", bbox_inches='tight', pad_inches=0)"
   ]
  },
  {
   "cell_type": "code",
   "execution_count": null,
   "metadata": {},
   "outputs": [],
   "source": []
  }
 ],
 "metadata": {
  "celltoolbar": "Tags",
  "kernelspec": {
   "display_name": "Python 3",
   "language": "python",
   "name": "python3"
  },
  "language_info": {
   "codemirror_mode": {
    "name": "ipython",
    "version": 3
   },
   "file_extension": ".py",
   "mimetype": "text/x-python",
   "name": "python",
   "nbconvert_exporter": "python",
   "pygments_lexer": "ipython3",
   "version": "3.7.7"
  }
 },
 "nbformat": 4,
 "nbformat_minor": 2
}
