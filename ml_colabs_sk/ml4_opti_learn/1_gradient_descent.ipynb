{
 "cells": [
  {
   "cell_type": "markdown",
   "metadata": {
    "tags": [
     "sk"
    ]
   },
   "source": [
    "**POZNÁMKA: Tento notebook je určený pre platformu Google Colab. Je však možné ho spustiť (možno s drobnými úpravami) aj ako štandardný Jupyter notebook.** \n",
    "\n"
   ]
  },
  {
   "cell_type": "code",
   "execution_count": null,
   "metadata": {
    "colab": {},
    "colab_type": "code",
    "hide_input": false,
    "id": "smKKouO4LT2q"
   },
   "outputs": [],
   "source": [
    "#@title -- Import of Necessary Packages -- { display-mode: \"form\" }\n",
    "import numpy as np\n",
    "import matplotlib.pyplot as plt\n",
    "from mpl_toolkits.mplot3d import Axes3D\n",
    "from sympy.utilities.lambdify import lambdify\n",
    "import sympy as sp"
   ]
  },
  {
   "cell_type": "code",
   "execution_count": null,
   "metadata": {
    "hide_input": false
   },
   "outputs": [],
   "source": [
    "#@title -- Downloading Data -- { display-mode: \"form\" }\n",
    "# also create a directory for storing any outputs\n",
    "import os\n",
    "os.makedirs(\"output\", exist_ok=True)"
   ]
  },
  {
   "cell_type": "markdown",
   "metadata": {
    "colab_type": "text",
    "id": "0gtMp4HlLT3N",
    "tags": [
     "sk"
    ]
   },
   "source": [
    "## Metóda klesajúceho gradientu\n",
    "\n",
    "V tomto notebook-u budeme ilustrovať fungovanie metódy klesajúceho gradientu. Pripomeňme, že ide o iteratívnu optimalizačnú metódu založenú na gradiente funkcie. Optimalizácia začína z určitého počiatočného bodu $\\mathbf{x}_0$, ktorý sa v každom kroku posúva o kúsok proti smeru gradientu. Keďže gradient predstavuje smer najväčšieho rastu v danom bode, postupovaním proti smeru gradientu sa dosiahne minimalizácia funkcie.\n",
    "\n",
    "Pravidlo podľa ktorého sa v každom kroku vypočíta nasledujúci bod $\\mathbf{x}_{i+1}$ vyzerá nasledovne:\n",
    "\n",
    "\\begin{equation}\n",
    "\\mathbf{x}_{i+1} = \\mathbf{x}_i - \\gamma \\nabla f(\\mathbf{x}_i)\n",
    "\\end{equation}\n",
    "kde $\\nabla f(\\mathbf{x}_i)$ je gradient minimalizovanej funkcie a $\\gamma$ (malé číslo z intervalu $( 0, 1 \\rangle$) je rýchlosť učenia.\n",
    "\n",
    "### Príklad: Minimalizácia na paraboloide\n",
    "\n",
    "Ako príklad na ilustráciu metódy klesajúceho gradientu použijeme minimalizáciu jednoduchej funkcie – paraboloidu podľa:\n",
    "\n",
    "\\begin{equation}\n",
    "z = f(x, y) = x^2 + y^2\n",
    "\\end{equation}\n",
    "#### Vizualizácia paraboloidu\n",
    "\n",
    "Na začiatok si túto funkciu zadefinujme a vizualizujme:\n",
    "\n"
   ]
  },
  {
   "cell_type": "code",
   "execution_count": null,
   "metadata": {
    "colab": {},
    "colab_type": "code",
    "id": "VRAgxhoaLT3Y"
   },
   "outputs": [],
   "source": [
    "def f(x, y):\n",
    "    return x**2 + y**2"
   ]
  },
  {
   "cell_type": "markdown",
   "metadata": {
    "colab_type": "text",
    "id": "qY6cD-bgLT3m",
    "tags": [
     "sk"
    ]
   },
   "source": [
    "Vygenerujeme si všetky kombinácie bodov $x, y$ z určitého rozsahu a vypočítame pre ne $z = f(x, y)$:\n",
    "\n"
   ]
  },
  {
   "cell_type": "code",
   "execution_count": null,
   "metadata": {
    "colab": {},
    "colab_type": "code",
    "id": "FQeU3qWSLT3r"
   },
   "outputs": [],
   "source": [
    "xx, yy = np.mgrid[-10:10.2:0.2, -10:10.2:0.2]\n",
    "zz = f(xx, yy)"
   ]
  },
  {
   "cell_type": "markdown",
   "metadata": {
    "colab_type": "text",
    "id": "J2dcc_q-LT36",
    "tags": [
     "sk"
    ]
   },
   "source": [
    "Výsledok vizualizujeme ako 3D graf:\n",
    "\n"
   ]
  },
  {
   "cell_type": "code",
   "execution_count": null,
   "metadata": {
    "colab": {
     "base_uri": "https://localhost:8080/",
     "height": 265
    },
    "colab_type": "code",
    "id": "DgJwz6wOLT3-",
    "outputId": "29b6137c-da97-473c-e1c7-5db8392fd23b"
   },
   "outputs": [],
   "source": [
    "fig = plt.figure()\n",
    "ax = fig.add_subplot(projection='3d')\n",
    "ax.plot_surface(xx, yy, zz, cmap='Spectral',\n",
    "                linewidth=0, antialiased=True)\n",
    "ax.set_xlabel(\"x\")\n",
    "ax.set_ylabel(\"y\")\n",
    "ax.set_zlabel(\"z\")\n",
    "plt.savefig(\"output/gradient_3d_plot.pdf\")"
   ]
  },
  {
   "cell_type": "markdown",
   "metadata": {
    "colab_type": "text",
    "id": "y6EpIlroLT4V",
    "tags": [
     "sk"
    ]
   },
   "source": [
    "3D grafy sú notoricky známe svojou nízkou čitateľnosťou, pretože  sa v nich niektoré prvky vzájomne prekrývajú. Aby boli naše grafy ľahšie čitateľné, budeme nižšie namiesto 3D grafov používať 2D vrstevnicové grafy:\n",
    "\n"
   ]
  },
  {
   "cell_type": "code",
   "execution_count": null,
   "metadata": {
    "colab": {
     "base_uri": "https://localhost:8080/",
     "height": 300
    },
    "colab_type": "code",
    "id": "eTW7lOU9LT4X",
    "outputId": "1fe6a5b9-c4e7-41db-ac0d-5a5bc5bcbf90"
   },
   "outputs": [],
   "source": [
    "plt.figure()\n",
    "plt.contour(xx, yy, zz, cmap='Spectral')\n",
    "# both axes at the same scale + create a legend\n",
    "plt.gca().set_aspect('equal')\n",
    "plt.xlabel('x'); plt.ylabel('y')\n",
    "plt.colorbar(label='z')\n",
    "plt.savefig(\"output/gradient_func_contour.pdf\",\n",
    "            bbox_inches=\"tight\",\n",
    "            pad_inches=0)"
   ]
  },
  {
   "cell_type": "markdown",
   "metadata": {
    "colab_type": "text",
    "id": "jwZINGvGLT4l",
    "tags": [
     "sk"
    ]
   },
   "source": [
    "Obaľme si tento kód do pomocnej funkcie, aby sme ho nižšie nemuseli zakaždým opakovať:\n",
    "\n"
   ]
  },
  {
   "cell_type": "code",
   "execution_count": null,
   "metadata": {
    "colab": {},
    "colab_type": "code",
    "id": "bwmhWtKaLT4t"
   },
   "outputs": [],
   "source": [
    "def plot_func(xx, yy, f, X=None):\n",
    "    if not X is None:\n",
    "        Xmin, Xmax = X[:, 0].min(), X[:, 0].max() \n",
    "        Ymin, Ymax = X[:, 1].min(), X[:, 1].max()\n",
    "        \n",
    "        if (Xmin < xx.min() or Xmax > xx.max() or\n",
    "                Ymin < yy.min() or Ymax > yy.max()):            \n",
    "            xx = np.linspace(Xmin, Xmax, 100)\n",
    "            yy = np.linspace(Ymin, Ymax, 100)\n",
    "            xx, yy = np.meshgrid(xx, yy)\n",
    "            \n",
    "        plt.scatter(X[:, 0], X[:, 1], zorder=10)\n",
    "        \n",
    "    zz = f(xx, yy)\n",
    "    plt.contour(xx, yy, zz, cmap='Spectral')\n",
    "    # both axes at the same scale + create a legend\n",
    "    plt.gca().set_aspect('equal')\n",
    "    plt.xlabel('x'); plt.ylabel('y')\n",
    "    plt.colorbar(label='z')"
   ]
  },
  {
   "cell_type": "markdown",
   "metadata": {
    "colab_type": "text",
    "id": "PLhzTz-oLT48",
    "tags": [
     "sk"
    ]
   },
   "source": [
    "### Gradient funkcie\n",
    "\n",
    "Aby sme mohli funkciu $f(x, y)$ minimalizovať pomocou metódy klesajúceho gradientu, musíme určite jej gradient. Pripomeňme si, že gradient $\\nabla f(x, y)$ funkcie $f(x, y)$ je vektor jej prvých parciálnych derivácií. V našom prípade teda:\n",
    "\n",
    "\\begin{equation}\n",
    "\\nabla f(x, y) = \\left(\n",
    "    \\frac{\\partial f}{\\partial x},\n",
    "    \\frac{\\partial f}{\\partial y}\n",
    "\\right)\n",
    "\\end{equation}\n",
    "Pripomeňme, že naša funkcia má tvar $f(x, y) = x^2 + y^2$. Určiť parciálne derivácie je teda ľahké. Pri parciálnej derivácii podľa $x$ sa bude člen $y^2$ brať ako konštanta a derivovať budeme len $x^2$. Pri derivácii podľa $y$ to bude naopak. Máme teda:\n",
    "\n",
    "\\begin{align}\n",
    "\\frac{\\partial f}{\\partial x} &= 2x \\\\[0.75em]\n",
    "\\frac{\\partial f}{\\partial y} &= 2y\n",
    "\\end{align}\n",
    "Iteračné pravidlo na výpočet nového bodu sme vyššie zapísali vo vektorovom tvare – v prípade našej funkcie s dvoma argumentami $x, y$ bude teda vektor $\\mathbf{x}$ mať 2 rozmery a bude v tvare $\\mathbf{x} = (x, y)$.\n",
    "\n",
    "---\n",
    "#### Úloha 1: Výpočet gradientu\n",
    "\n",
    "**Doplňte teraz do nasledujúcej bunky kód tak, aby funkcia `grad_f` navrátila gradient funkcie $f(x, y)$:** \n",
    "\n",
    "---\n"
   ]
  },
  {
   "cell_type": "code",
   "execution_count": null,
   "metadata": {
    "colab": {},
    "colab_type": "code",
    "id": "0H4sV7gyLT5N",
    "tags": [
     "student"
    ]
   },
   "outputs": [],
   "source": [
    "def grad_f(x, y):\n",
    "    return np.array([      ,      ])    # ----\n",
    "\n",
    "\n",
    "\n"
   ]
  },
  {
   "cell_type": "markdown",
   "metadata": {
    "colab_type": "text",
    "id": "-puauwZLLT5t",
    "tags": [
     "sk"
    ]
   },
   "source": [
    "### Vizualizácia gradientu\n",
    "\n",
    "Ako vieme, gradient funkcie indikuje smer jej najväčšieho rastu. Aby sme si vedeli predstaviť, čo to znamená, môžeme si vizualizovať gradient funkcie, ktorý sme si práve zadefinovali:\n",
    "\n"
   ]
  },
  {
   "cell_type": "code",
   "execution_count": null,
   "metadata": {
    "colab": {},
    "colab_type": "code",
    "id": "owLy5FAyLT5x"
   },
   "outputs": [],
   "source": [
    "xxg, yyg = np.mgrid[-10:11:1.5, -10:11:1.5]\n",
    "gg = np.array(\n",
    "    [[grad_f(x, y) for x, y in zip(rx, ry)] \n",
    "          for rx, ry in zip(xxg, yyg)]\n",
    ")"
   ]
  },
  {
   "cell_type": "code",
   "execution_count": null,
   "metadata": {
    "colab": {
     "base_uri": "https://localhost:8080/",
     "height": 493
    },
    "colab_type": "code",
    "id": "WS5GgEj8LT6E",
    "outputId": "30b64544-adee-4569-9193-899ec9d4afc9"
   },
   "outputs": [],
   "source": [
    "plt.figure(figsize=[8,8])\n",
    "plot_func(xx, yy, f)\n",
    "plt.quiver(xxg, yyg, gg[..., 0], gg[..., 1])\n",
    "plt.savefig(\"output/gradient_func_quiver.pdf\",\n",
    "            bbox_inches=\"tight\",\n",
    "            pad_inches=0)"
   ]
  },
  {
   "cell_type": "markdown",
   "metadata": {
    "colab_type": "text",
    "id": "M2TnnS5kLT6N",
    "tags": [
     "sk"
    ]
   },
   "source": [
    "Šípky ukazujú smer gradientu. Ako vidno, všetky ukazujú von zo stredu – kde paraboloid stúpa. Veľkosť šípok indikuje veľkosť gradientu. Šípky blízko stredu sú maličké (derivácia funkcie v minime je nulová) a smerom ku okrajom sa zväčšujú: pretože hodnota funkcie rastie čoraz strmšie.\n",
    "\n",
    "### Metóda klesajúceho gradientu\n",
    "\n",
    "Ďalej budeme pokračovať aplikáciou metódy klesajúceho gradientu, aby sme funkciu minimalizovali. Na začiatok si definujeme zopár parametrov: počet krokov a rýchlosť učenia:\n",
    "\n"
   ]
  },
  {
   "cell_type": "code",
   "execution_count": null,
   "metadata": {
    "colab": {},
    "colab_type": "code",
    "id": "g5PmPNhjLT6k"
   },
   "outputs": [],
   "source": [
    "num_steps = 20\n",
    "learning_rate = 0.1"
   ]
  },
  {
   "cell_type": "markdown",
   "metadata": {},
   "source": [
    "We will store all the computed points in a matrix so that we can later visualize them. The matrix will have 2 columns – one for $x$ and the other for $y$:\n",
    "\n"
   ]
  },
  {
   "cell_type": "markdown",
   "metadata": {
    "colab_type": "text",
    "id": "pmUYj8FyLT6r"
   },
   "source": [
    "Aby sme si mohli neskôr postup minimalizácie vizualizovať, uložíme si všetky vypočítané body do matice. Matica má 2 stĺpce – jeden pre $x$ a druhý pre $y$:\n",
    "\n"
   ]
  },
  {
   "cell_type": "code",
   "execution_count": null,
   "metadata": {
    "colab": {},
    "colab_type": "code",
    "id": "KSooss2kLT6t"
   },
   "outputs": [],
   "source": [
    "X = np.zeros((num_steps + 1, 2))"
   ]
  },
  {
   "cell_type": "markdown",
   "metadata": {
    "colab_type": "text",
    "id": "r7TeLBA8LT64",
    "tags": [
     "sk"
    ]
   },
   "source": [
    "Počiatočný bod zvolíme buď náhodne:\n",
    "\n"
   ]
  },
  {
   "cell_type": "code",
   "execution_count": null,
   "metadata": {
    "colab": {},
    "colab_type": "code",
    "id": "jPLJ0uY-LT67"
   },
   "outputs": [],
   "source": [
    "X[0] = np.random.uniform(-10, 10, (2,))"
   ]
  },
  {
   "cell_type": "markdown",
   "metadata": {
    "colab_type": "text",
    "id": "hMLJofGFLT7C",
    "tags": [
     "sk"
    ]
   },
   "source": [
    "alebo si môžeme vybrať nejaký fixný bod, aby sme zakaždým dostali ten istý výsledok:\n",
    "\n"
   ]
  },
  {
   "cell_type": "code",
   "execution_count": null,
   "metadata": {
    "colab": {},
    "colab_type": "code",
    "id": "iCkZxt6HLT7E"
   },
   "outputs": [],
   "source": [
    "X[0] = [-9, -8]"
   ]
  },
  {
   "cell_type": "markdown",
   "metadata": {
    "colab_type": "text",
    "id": "pKLOuyRKLT7O",
    "tags": [
     "sk"
    ]
   },
   "source": [
    "Pripomeňme ešte raz pravidlo podľa ktorého sa iteratívne vypočítava nasledujúci bod:\n",
    "\\begin{equation}\n",
    "\\mathbf{x}_{i+1} = \\mathbf{x}_i - \\gamma \\nabla f(\\mathbf{x}_i)\n",
    "\\end{equation}\n",
    "kde $\\gamma$ je rýchlosť učenia a $\\nabla f(\\mathbf{x}_i)$ je gradient minimalizovanej funkcie.\n",
    "\n",
    "---\n",
    "#### Úloha 2: Implementácia metódy klesajúceho gradientu\n",
    "\n",
    "**Doplňte do nasledujúcej bunky chýbajúcu časť kódu (prepíšte pravidlo metódy klesajúceho gradientu do kódu):** \n",
    "\n",
    "---\n"
   ]
  },
  {
   "cell_type": "code",
   "execution_count": null,
   "metadata": {
    "colab": {},
    "colab_type": "code",
    "id": "6ZkqfcF4LT7m",
    "tags": [
     "student"
    ]
   },
   "outputs": [],
   "source": [
    "for i in range(num_steps):\n",
    "    \n",
    "    \n",
    "    X[i+1] =      # ----\n",
    "    \n",
    "    \n",
    "    "
   ]
  },
  {
   "cell_type": "markdown",
   "metadata": {
    "colab_type": "text",
    "id": "Tj-F3ycULT75",
    "tags": [
     "sk"
    ]
   },
   "source": [
    "Vypočítané body si nakoniec vizualizujeme a skontrolujeme, či postupnosť naozaj smeruje ku minimu paraboloidu:\n",
    "\n"
   ]
  },
  {
   "cell_type": "code",
   "execution_count": null,
   "metadata": {
    "colab": {},
    "colab_type": "code",
    "id": "aJZ_6w4yLT76",
    "outputId": "03098f45-ecf6-4ee6-d0ef-b30cfc5def03"
   },
   "outputs": [],
   "source": [
    "plot_func(xx, yy, f, X)\n",
    "plt.savefig(\"output/gradient_mini_steps.pdf\",\n",
    "            bbox_inches=\"tight\",\n",
    "            pad_inches=0)"
   ]
  },
  {
   "cell_type": "markdown",
   "metadata": {
    "colab_type": "text",
    "id": "fADzh3mQLT8L",
    "tags": [
     "sk"
    ]
   },
   "source": [
    "---\n",
    "#### Úloha 3: Obalenie kódu do funkcie\n",
    "\n",
    "**Kód si teraz znovu obaľme do funkcie, aby sme ho mohli opätovne použiť:** \n",
    "\n",
    "---\n"
   ]
  },
  {
   "cell_type": "code",
   "execution_count": null,
   "metadata": {
    "colab": {},
    "colab_type": "code",
    "id": "xZZF1sbaLT9G",
    "tags": [
     "student"
    ]
   },
   "outputs": [],
   "source": [
    "def grad_desc(grad_func, init_point,\n",
    "              num_steps, learning_rate):\n",
    "    X = np.zeros((num_steps + 1, 2))\n",
    "    X[0] = init_point\n",
    "    \n",
    "    for i in range(num_steps):\n",
    "        \n",
    "        \n",
    "        X[i+1] =      # ---- \n",
    "        \n",
    "        \n",
    "    \n",
    "    return X"
   ]
  },
  {
   "cell_type": "markdown",
   "metadata": {
    "colab_type": "text",
    "id": "FqM88rKBLT98",
    "tags": [
     "sk"
    ]
   },
   "source": [
    "Novú funkciu môžeme otestovať takto:\n",
    "\n"
   ]
  },
  {
   "cell_type": "code",
   "execution_count": null,
   "metadata": {
    "colab": {},
    "colab_type": "code",
    "id": "Jai8XBYqLT9-",
    "outputId": "e3f3cbc1-6e99-43b2-d63e-2bdec25ebaf3"
   },
   "outputs": [],
   "source": [
    "X = grad_desc(grad_f, init_point=[-9, -8],\n",
    "              num_steps=20, learning_rate=0.1)\n",
    "plot_func(xx, yy, f, X)"
   ]
  },
  {
   "cell_type": "markdown",
   "metadata": {
    "colab_type": "text",
    "id": "cAE4dz2CLT-F",
    "tags": [
     "sk"
    ]
   },
   "source": [
    "### Testovanie iných rýchlostí učenia\n",
    "\n",
    "Pre ilustráciu si teraz metódu klesajúceho gradientu otestujeme aj pri iných rýchlostiach učenia.\n",
    "\n",
    "Začnime s $\\gamma = 0.45$:\n",
    "\n"
   ]
  },
  {
   "cell_type": "code",
   "execution_count": null,
   "metadata": {
    "colab": {},
    "colab_type": "code",
    "id": "ldMyRMrjLT-H",
    "outputId": "211495c5-692b-4b2e-9318-0b3155841b32"
   },
   "outputs": [],
   "source": [
    "X = grad_desc(grad_f, init_point=[-9, -8], num_steps=20,\n",
    "      learning_rate=0.45\n",
    ")\n",
    "plot_func(xx, yy, f, X)\n",
    "plt.savefig(\"output/gradient_lr_0_45.pdf\",\n",
    "            bbox_inches=\"tight\",\n",
    "            pad_inches=0)"
   ]
  },
  {
   "cell_type": "markdown",
   "metadata": {
    "colab_type": "text",
    "id": "C1IKDoJmLT-P",
    "tags": [
     "sk"
    ]
   },
   "source": [
    "Pre $\\gamma = 1.0$ bude už algoritmus oscilovať bez toho, aby sa ku minimu priblížil:\n",
    "\n"
   ]
  },
  {
   "cell_type": "code",
   "execution_count": null,
   "metadata": {
    "colab": {},
    "colab_type": "code",
    "id": "MFwsRSleLT-R",
    "outputId": "08eb3261-6d08-4314-a7d1-929c0aeca222"
   },
   "outputs": [],
   "source": [
    "X = grad_desc(grad_f, init_point=[-9, -8], num_steps=20,\n",
    "      learning_rate=1.0\n",
    ")\n",
    "plot_func(xx, yy, f, X)\n",
    "plt.savefig(\"output/gradient_lr_1_0.pdf\",\n",
    "            bbox_inches=\"tight\",\n",
    "            pad_inches=0)"
   ]
  },
  {
   "cell_type": "markdown",
   "metadata": {
    "colab_type": "text",
    "id": "YhsDsMHpLT-Y",
    "tags": [
     "sk"
    ]
   },
   "source": [
    "Pre $\\gamma > 1$ dôjde ku divergencii a algoritmus sa bude od minima naopak vzďaľovať:\n",
    "\n"
   ]
  },
  {
   "cell_type": "code",
   "execution_count": null,
   "metadata": {
    "colab": {},
    "colab_type": "code",
    "id": "dkZDJ5vNLT-b",
    "outputId": "6afa3ee4-3352-408b-af02-1388b787085c"
   },
   "outputs": [],
   "source": [
    "X = grad_desc(grad_f, init_point=[-9, -8], num_steps=20,\n",
    "      learning_rate=1.02\n",
    ")\n",
    "plot_func(xx, yy, f, X)\n",
    "plt.savefig(\"output/gradient_lr_1_02.pdf\",\n",
    "            bbox_inches=\"tight\",\n",
    "            pad_inches=0)"
   ]
  },
  {
   "cell_type": "markdown",
   "metadata": {
    "colab_type": "text",
    "id": "tQqvuE56LT-o",
    "tags": [
     "sk"
    ]
   },
   "source": [
    "### Automatický výpočet symbolického gradientu\n",
    "\n",
    "Vyššie sme gradient funkcie vypočítali analyticky a ručne ho prepísali do zdrojového kódu. Symbolický výpočet gradientu je však v jazyku Python možné vykonať aj automaticky – pomocou balíčka `sympy`. V ďalšom príklade si teda ukážeme, ako sa to dá urobiť.\n",
    "\n",
    "Najprv si definujeme symbolické premenné, ktoré budeme potrebovať – v našom prípade $x$ a $y$:\n",
    "\n"
   ]
  },
  {
   "cell_type": "code",
   "execution_count": null,
   "metadata": {
    "colab": {},
    "colab_type": "code",
    "id": "gEzjTaPkLT-1"
   },
   "outputs": [],
   "source": [
    "symx, symy = sp.symbols('x y')"
   ]
  },
  {
   "cell_type": "markdown",
   "metadata": {
    "colab_type": "text",
    "id": "72Lc35wDLT-_",
    "tags": [
     "sk"
    ]
   },
   "source": [
    "Ďalej pomocou symbolických premenných definujeme funkciu $f(x,y)$:\n",
    "\n"
   ]
  },
  {
   "cell_type": "code",
   "execution_count": null,
   "metadata": {
    "colab": {},
    "colab_type": "code",
    "id": "6rl_9lH4LT_C",
    "outputId": "2f38f4a3-6fd0-4182-d2d4-17d3b1fb7553"
   },
   "outputs": [],
   "source": [
    "symf = symx**2 + symy**2\n",
    "symf"
   ]
  },
  {
   "cell_type": "markdown",
   "metadata": {
    "colab_type": "text",
    "id": "04K0bcz0LT_H",
    "tags": [
     "sk"
    ]
   },
   "source": [
    "Pri výpočte symbolického gradientu použijeme drobný trik. Zo skalárnej funkcie si najprv spravíme maticu a potom vypočítame jej Jakobiho maticu. Výsledkom bude riadkový vektor zodpovedajúci gradientu:\n",
    "\n"
   ]
  },
  {
   "cell_type": "code",
   "execution_count": null,
   "metadata": {
    "colab": {},
    "colab_type": "code",
    "id": "slggN0K9LT_J",
    "outputId": "87aa738c-2989-405d-d977-1e0ef1e6bb45"
   },
   "outputs": [],
   "source": [
    "sym_grad_f = sp.Matrix([symf]).jacobian([symx, symy])\n",
    "sym_grad_f"
   ]
  },
  {
   "cell_type": "markdown",
   "metadata": {
    "colab_type": "text",
    "id": "2GKa-FbJLT_N",
    "tags": [
     "sk"
    ]
   },
   "source": [
    "Aby sme výslednú symbolickú reprezentáciu gradientu mohli použiť na výpočet pre konkrétne hodnoty, konvertujeme ju ešte na bežnú numerickú funkciu. To isté spravíme pre funkciu $f$:\n",
    "\n"
   ]
  },
  {
   "cell_type": "code",
   "execution_count": null,
   "metadata": {
    "colab": {},
    "colab_type": "code",
    "id": "xtl0XF_cLT_P"
   },
   "outputs": [],
   "source": [
    "f = lambdify((symx, symy), symf, \"numpy\")\n",
    "grad_f = lambdify((symx, symy), sym_grad_f, \"numpy\")"
   ]
  },
  {
   "cell_type": "markdown",
   "metadata": {
    "colab_type": "text",
    "id": "m8j5KWthLT_Y",
    "tags": [
     "sk"
    ]
   },
   "source": [
    "Metódu klesajúceho gradientu môžeme teraz aplikovať rovnako ako v predchádzajúcom prípade – ibaže bez toho, že by sme museli ručne vypočítať gradient:\n",
    "\n"
   ]
  },
  {
   "cell_type": "code",
   "execution_count": null,
   "metadata": {
    "colab": {},
    "colab_type": "code",
    "id": "qg0GQFbFLT_b",
    "outputId": "2f5812ae-4d1d-4928-f46a-1eea35262684"
   },
   "outputs": [],
   "source": [
    "xx, yy = np.mgrid[-10:10.2:0.2, -10:10.2:0.2]\n",
    "zz = f(xx, yy)\n",
    "\n",
    "X = grad_desc(grad_f, init_point=[-9, -8],\n",
    "              num_steps=20, learning_rate=0.1)\n",
    "plot_func(xx, yy, f, X)"
   ]
  },
  {
   "cell_type": "code",
   "execution_count": null,
   "metadata": {},
   "outputs": [],
   "source": []
  }
 ],
 "metadata": {
  "celltoolbar": "Tags",
  "colab": {
   "collapsed_sections": [],
   "name": "1_gradient_descent.ipynb",
   "provenance": [],
   "version": "0.3.2"
  },
  "kernelspec": {
   "display_name": "Python 3 (ipykernel)",
   "language": "python",
   "name": "python3"
  },
  "language_info": {
   "codemirror_mode": {
    "name": "ipython",
    "version": 3
   },
   "file_extension": ".py",
   "mimetype": "text/x-python",
   "name": "python",
   "nbconvert_exporter": "python",
   "pygments_lexer": "ipython3",
   "version": "3.9.7"
  }
 },
 "nbformat": 4,
 "nbformat_minor": 1
}
