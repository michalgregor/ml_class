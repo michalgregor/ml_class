{
 "cells": [
  {
   "cell_type": "markdown",
   "metadata": {
    "tags": [
     "sk"
    ]
   },
   "source": [
    "**POZNÁMKA: Tento notebook je určený pre platformu Google Colab. Je však možné ho spustiť (možno s drobnými úpravami) aj ako štandardný Jupyter notebook.** \n",
    "\n"
   ]
  },
  {
   "cell_type": "code",
   "execution_count": null,
   "metadata": {},
   "outputs": [],
   "source": [
    "#@title -- Installation of Packages -- { display-mode: \"form\" }\n",
    "import sys\n",
    "\n",
    "# install deps for explain manually, since pdpbox requires\n",
    "# an ancient version of matplotlib as a dep\n",
    "!{sys.executable} -m pip install --no-deps pdpbox lime eli5\n",
    "!{sys.executable} -m pip install class_utils@git+https://github.com/michalgregor/class_utils.git\n",
    "#!{sys.executable} -m pip install class_utils[explain]@git+https://github.com/michalgregor/class_utils.git\n",
    "\n",
    "!{sys.executable} -m pip install xgboost"
   ]
  },
  {
   "cell_type": "code",
   "execution_count": null,
   "metadata": {},
   "outputs": [],
   "source": [
    "#@title -- Import of Necessary Packages -- { display-mode: \"form\" }\n",
    "import numpy as np\n",
    "import pandas as pd\n",
    "from sklearn.model_selection import train_test_split\n",
    "from sklearn.model_selection import cross_validate\n",
    "from sklearn.preprocessing import StandardScaler, OrdinalEncoder, KBinsDiscretizer\n",
    "from sklearn.impute import SimpleImputer, MissingIndicator\n",
    "from sklearn.compose import make_column_transformer\n",
    "from sklearn.pipeline import make_pipeline\n",
    "from sklearn.metrics import accuracy_score\n",
    "from class_utils import Explainer\n",
    "from xgboost import XGBClassifier\n",
    "import matplotlib.pyplot as plt\n",
    "\n",
    "try:\n",
    "    import google.colab\n",
    "    COLAB_MODE = True\n",
    "except:\n",
    "    COLAB_MODE = False"
   ]
  },
  {
   "cell_type": "code",
   "execution_count": null,
   "metadata": {},
   "outputs": [],
   "source": [
    "#@title -- Downloading Data -- { display-mode: \"form\" }\n",
    "DATA_HOME = \"https://github.com/michalgregor/ml_notebooks/blob/main/data/{}?raw=1\"\n",
    "\n",
    "from class_utils.download import download_file_maybe_extract\n",
    "download_file_maybe_extract(DATA_HOME.format(\"titanic.zip\"), directory=\"data/titanic\")\n",
    "\n",
    "# also create a directory for storing any outputs\n",
    "import os\n",
    "os.makedirs(\"output\", exist_ok=True)"
   ]
  },
  {
   "cell_type": "markdown",
   "metadata": {
    "tags": [
     "sk"
    ]
   },
   "source": [
    "## Interpretácia modelov\n",
    "\n",
    "Existuje množstvo aplikácií, kde nestačí natrénovať model a použiť ho na výpočet predikcií. Musíme byť schopné model interpretovať a vysvetliť, prečo bol predikovaný daný výstup. Interpretovateľnosť je nevyhnutným predpokladom bezpečného a dôveryhodného strojového učenia a umelej inteligencie – pomáha verifikovať, že systém nie je zaujatý a že jeho predikcie nie sú založené na chránených atribútoch ako je napríklad rasa. V niektorých krajinách interpretovateľnosť dokonca vyžaduje zákon: V EU napríklad platí, že kedykoľvek robí automatický systém rozhodnutia a ľuďoch, majú právo na vysvetlenie.\n",
    "\n",
    "Existujú modely, ktoré sú samy o sebe do určitej miery interpretovateľné. Dobrým príkkladom sú rozhodovacie stromy: strom je v podstate len súborom pravidiel. Dá sa vizualizovať a prečítať. Pri väčšine modelov to však možné nie je. Aj v prípade rozhodovacích stromov je to tým ťažšie, čím sú väčšie a akonáhle zostavíme z rozhodovacích stromov komisiu, už to prakticky nie je možné vykonať.\n",
    "\n",
    "V tomto notebook-u ukážeme niekoľko generických metód, ktoré pomáhajú interpretovať predikcie ľubovoľných modelov. Začneme znovu tým, že si načítame a predspracujeme dátovú množinu [Titanic](https://www.kaggle.com/c/titanic).\n",
    "\n"
   ]
  },
  {
   "cell_type": "code",
   "execution_count": null,
   "metadata": {},
   "outputs": [],
   "source": [
    "df = pd.read_csv(\"data/titanic/train.csv\")\n",
    "df_train, df_test = train_test_split(df, test_size=0.25,\n",
    "                     stratify=df[\"Survived\"], random_state=4)\n",
    "\n",
    "categorical_inputs = [\"Pclass\", \"Sex\", \"Embarked\"]\n",
    "numeric_inputs = [\"Age\", \"SibSp\", 'Parch', 'Fare']\n",
    "output = \"Survived\"\n",
    "\n",
    "class_names = [ \"died\", \"survived\"]"
   ]
  },
  {
   "cell_type": "code",
   "execution_count": null,
   "metadata": {},
   "outputs": [],
   "source": [
    "input_preproc = make_column_transformer(\n",
    "    (make_pipeline(\n",
    "        SimpleImputer(strategy=\"most_frequent\"),\n",
    "        OrdinalEncoder()),\n",
    "     categorical_inputs),\n",
    "    \n",
    "    (make_pipeline(\n",
    "        SimpleImputer(),\n",
    "        StandardScaler()),\n",
    "     numeric_inputs)\n",
    ")"
   ]
  },
  {
   "cell_type": "code",
   "execution_count": null,
   "metadata": {},
   "outputs": [],
   "source": [
    "X_train = input_preproc.fit_transform(df_train[categorical_inputs+numeric_inputs])\n",
    "Y_train = df_train[output].values.reshape(-1)\n",
    "\n",
    "X_test = input_preproc.transform(df_test[categorical_inputs+numeric_inputs])\n",
    "Y_test = df_test[output].values.reshape(-1)"
   ]
  },
  {
   "cell_type": "markdown",
   "metadata": {
    "tags": [
     "sk"
    ]
   },
   "source": [
    "Z pipeline objektu extrahujeme transformátory na doplnenie chýbajúcich hodnôt. Sú dôležité: pomocou nich budeme nižšie konštruovať vysvetľovač.\n",
    "\n"
   ]
  },
  {
   "cell_type": "code",
   "execution_count": null,
   "metadata": {},
   "outputs": [],
   "source": [
    "categorical_imputer = input_preproc.transformers_[0][1][0]\n",
    "numeric_imputer = input_preproc.transformers_[1][1][0]"
   ]
  },
  {
   "cell_type": "markdown",
   "metadata": {
    "tags": [
     "sk"
    ]
   },
   "source": [
    "Ďalej na dátach natrénujeme XGBoost mode a určíme správnosť na testovacích dátach, aby sme sa presvedčili, že všetko korektne funguje.\n",
    "\n"
   ]
  },
  {
   "cell_type": "code",
   "execution_count": null,
   "metadata": {},
   "outputs": [],
   "source": [
    "model = XGBClassifier()\n",
    "model.fit(X_train, Y_train)"
   ]
  },
  {
   "cell_type": "code",
   "execution_count": null,
   "metadata": {},
   "outputs": [],
   "source": [
    "y_test = model.predict(X_test)\n",
    "accuracy_score(Y_test, y_test)"
   ]
  },
  {
   "cell_type": "markdown",
   "metadata": {
    "tags": [
     "sk"
    ]
   },
   "source": [
    "Vytvoríme vysvetľovač: pomocný objekt, ktorý nám umožní vytvoriť vysvetlenia. Pri konštrukcii vysvetľovača je kľúčové použiť **rovnaký spôsob doplnenia chýbajúcich hodnôt**  ako sa používa pri tréningu nášho modelu. Inak budeme vysvetľovať iné vzorky, než aké by model bežne videl.\n",
    "\n"
   ]
  },
  {
   "cell_type": "code",
   "execution_count": null,
   "metadata": {},
   "outputs": [],
   "source": [
    "explainer = Explainer(\n",
    "    model, df_train,\n",
    "    categorical_inputs,\n",
    "    categorical_imputer,\n",
    "    numeric_inputs,\n",
    "    numeric_imputer,\n",
    "    input_preproc,\n",
    "    class_names\n",
    ")"
   ]
  },
  {
   "cell_type": "markdown",
   "metadata": {
    "tags": [
     "sk"
    ]
   },
   "source": [
    "### Permutačná významnosť\n",
    "\n",
    "Prvá vec, ktorú by mohlo byť užitočné poznať je relatívny vplyv jednotlivých príznakov na predikciu (t.j. významnosť príznakov). Jeden dobre známy spôsob ako významnosť príznaku vypočítať, je permutovať jeho stĺpec v dátovej množine (t.j. náhodne pomiešať poradie hodnôt v stĺpci) a sledovať, ako to ovplyvní predikcie. Ak sa zmenia veľmi výrazne, príznak má pravdepodobne pre predikciu kľúčový význam. Ak sa zmenia len málo alebo vôbec, príznak má pravdepodobne zanedbateľný význam.\n",
    "\n"
   ]
  },
  {
   "cell_type": "code",
   "execution_count": null,
   "metadata": {},
   "outputs": [],
   "source": [
    "perm = explainer.permutation_importance(df_test, Y_test)"
   ]
  },
  {
   "cell_type": "markdown",
   "metadata": {
    "tags": [
     "sk"
    ]
   },
   "source": [
    "V dátovej množine Titanic sa napríklad stĺpec \"Sex\" (pohlavie) zdá byť zďaleka najvýznamnejší. Indikuje to, že muži a ženy mali zrejme podstatne odlišnú šancu prežiť.\n",
    "\n",
    "### Grafy čiastkových závislostí\n",
    "\n",
    "Aby sme preskúmali vplyv príznaku na predikciu podrobnejšie, môžeme použiť tzv. grafy čiastkových závislostí. Vytvoriť sa dajú tak, že sa systematickým spôsobom mení hodnota jedného príznaku a sleduje sa, aký to má vplyv na výsledné predikcie. Pozrime sa, aká je napríklad čiastková závislosť predikcií od stĺpca \"Sex\" (pohlavie). Pripomeňme si, že predikujeme, či sa osoba zachránila (1) alebo nie (0). Kladné čísla teda vyjadrujú, že príznak zvyšuje šancu prežitia a záporné, že zvyšuje šancu smrti.\n",
    "\n"
   ]
  },
  {
   "cell_type": "code",
   "execution_count": null,
   "metadata": {},
   "outputs": [],
   "source": [
    "explainer.pdp_plot(df_test, \"Sex\")"
   ]
  },
  {
   "cell_type": "markdown",
   "metadata": {
    "tags": [
     "sk"
    ]
   },
   "source": [
    "Je zrejmé, že čo sa týka nášho klasifikátora, mužské pohlavie môže podstatne znížiť šancu na prežitie. Medzi mužmi je však omnoho väčší rozptyl než medzi ženami – to znamená, že aspoň pre niektorých mužov môže ešte stále existovať celkom dobrá šanca sa zachrániť.\n",
    "\n",
    "Ak preskúmame PD graf pre \"Fare\" (cestovné), mali by sme vidieť kladnú závislosť: vyššie cestovné vo všeobecnosti znamená vyššiu šancu na prežitie.\n",
    "\n"
   ]
  },
  {
   "cell_type": "code",
   "execution_count": null,
   "metadata": {},
   "outputs": [],
   "source": [
    "explainer.pdp_plot(df_test, \"Fare\")"
   ]
  },
  {
   "cell_type": "markdown",
   "metadata": {
    "tags": [
     "sk"
    ]
   },
   "source": [
    "Grafy nemusia byť monotónne. Pre vek je napríklad situácia trochu zložitejšia – hoci sa nedá vylúčiť, že to je kvôli šumu v dátach: nejde až o taký výrazný efekt.\n",
    "\n"
   ]
  },
  {
   "cell_type": "code",
   "execution_count": null,
   "metadata": {},
   "outputs": [],
   "source": [
    "explainer.pdp_plot(df_test, \"Age\")"
   ]
  },
  {
   "cell_type": "markdown",
   "metadata": {
    "tags": [
     "sk"
    ]
   },
   "source": [
    "### LIME: Lokálne vysvetlenia\n",
    "\n",
    "Napokon by nás mohli zaujímať ešte aj lokálne vysvetlenia: keď dostaneme konkrétnu vzorku, budeme možno chcieť vedieť, aký vplyv mal každý z príznakov na predikciu. Existuje metóda, ktorá sa nazýva LIME (Local Interpretable Model-agnostic Explanations) a ktorá poskytuje tento typ vysvetlení tak, že okolie predikcie aproximuje lineárnym modelom. Vďaka tomu je tento prístup nezávislý od modelu: funguje s ľubovoľným typom.\n",
    "\n",
    "Pri experimentovaní s metódou LIME si vyberieme určitú konkrétnu vzorku z dátovej množiny a necháme si ju vysvetliť. Uvidíme, ktoré príznaky majú kladný a ktoré záporný vplyv na určitú predikciu a aká je veľkosť toho vplyvu.\n",
    "\n"
   ]
  },
  {
   "cell_type": "code",
   "execution_count": null,
   "metadata": {},
   "outputs": [],
   "source": [
    "exp = explainer.explain(df_test.iloc[2])\n",
    "exp.show_in_notebook(show_all=True, colab_mode=COLAB_MODE)"
   ]
  },
  {
   "cell_type": "code",
   "execution_count": null,
   "metadata": {},
   "outputs": [],
   "source": [
    "exp.as_pyplot_figure()\n",
    "plt.show()"
   ]
  },
  {
   "cell_type": "code",
   "execution_count": null,
   "metadata": {},
   "outputs": [],
   "source": []
  }
 ],
 "metadata": {
  "celltoolbar": "Tags",
  "kernelspec": {
   "display_name": "Python 3",
   "language": "python",
   "name": "python3"
  },
  "language_info": {
   "codemirror_mode": {
    "name": "ipython",
    "version": 3
   },
   "file_extension": ".py",
   "mimetype": "text/x-python",
   "name": "python",
   "nbconvert_exporter": "python",
   "pygments_lexer": "ipython3",
   "version": "3.9.16"
  }
 },
 "nbformat": 4,
 "nbformat_minor": 4
}
