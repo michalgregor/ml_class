{
 "cells": [
  {
   "cell_type": "markdown",
   "id": "clear-publisher",
   "metadata": {
    "tags": [
     "sk"
    ]
   },
   "source": [
    "**POZNÁMKA: Tento notebook je určený pre platformu Google Colab. Je však možné ho spustiť (možno s drobnými úpravami) aj ako štandardný Jupyter notebook.** \n",
    "\n"
   ]
  },
  {
   "cell_type": "code",
   "execution_count": null,
   "id": "comic-copper",
   "metadata": {},
   "outputs": [],
   "source": [
    "#@title -- Installation of Packages -- { display-mode: \"form\" }\n",
    "import sys\n",
    "!{sys.executable} -m pip install lightgbm\n",
    "!{sys.executable} -m pip install git+https://github.com/michalgregor/class_utils.git"
   ]
  },
  {
   "cell_type": "code",
   "execution_count": null,
   "id": "proved-alcohol",
   "metadata": {},
   "outputs": [],
   "source": [
    "#@title -- Import of Necessary Packages -- { display-mode: \"form\" }\n",
    "import numpy as np\n",
    "import pandas as pd\n",
    "from sklearn.model_selection import train_test_split\n",
    "from sklearn.model_selection import cross_validate\n",
    "from sklearn.preprocessing import StandardScaler, OrdinalEncoder\n",
    "from sklearn.impute import SimpleImputer, MissingIndicator\n",
    "from sklearn.compose import make_column_transformer\n",
    "from sklearn.pipeline import make_pipeline\n",
    "from sklearn.tree import DecisionTreeClassifier\n",
    "from sklearn.metrics import accuracy_score\n",
    "from lightgbm import LGBMClassifier\n",
    "from sklearn.neighbors import KNeighborsClassifier\n",
    "from sklearn.ensemble import StackingClassifier\n",
    "from sklearn.ensemble import VotingClassifier\n",
    "from sklearn.linear_model import LogisticRegression\n",
    "from sklearn import svm\n",
    "from IPython.display import display, Markdown"
   ]
  },
  {
   "cell_type": "code",
   "execution_count": null,
   "id": "decreased-cabinet",
   "metadata": {},
   "outputs": [],
   "source": [
    "#@title -- Downloading Data -- { display-mode: \"form\" }\n",
    "DATA_HOME = \"https://github.com/michalgregor/ml_notebooks/blob/main/data/{}?raw=1\"\n",
    "\n",
    "from class_utils.download import download_file_maybe_extract\n",
    "download_file_maybe_extract(DATA_HOME.format(\"titanic.zip\"), directory=\"data/titanic\")\n",
    "\n",
    "# also create a directory for storing any outputs\n",
    "import os\n",
    "os.makedirs(\"output\", exist_ok=True)"
   ]
  },
  {
   "cell_type": "code",
   "execution_count": null,
   "id": "going-terrain",
   "metadata": {},
   "outputs": [],
   "source": [
    "#@title -- Loading and Preprocessing the Data -- { display-mode: \"form\" }\n",
    "df = pd.read_csv(\"data/titanic/train.csv\")\n",
    "df_train, df_test = train_test_split(df, test_size=0.25,\n",
    "                     stratify=df[\"Survived\"], random_state=4)\n",
    "\n",
    "categorical_inputs = [\"Pclass\", \"Sex\", \"Embarked\"]\n",
    "numeric_inputs = [\"Age\", \"SibSp\", 'Parch', 'Fare']\n",
    "\n",
    "output = \"Survived\"\n",
    "\n",
    "input_preproc = make_column_transformer(\n",
    "    (make_pipeline(\n",
    "        SimpleImputer(strategy=\"most_frequent\"),\n",
    "        OrdinalEncoder()),\n",
    "     categorical_inputs),\n",
    "    \n",
    "    (make_pipeline(\n",
    "        SimpleImputer(),\n",
    "        StandardScaler()),\n",
    "     numeric_inputs)\n",
    ")\n",
    "\n",
    "X_train = input_preproc.fit_transform(df_train[categorical_inputs+numeric_inputs])\n",
    "Y_train = df_train[output].values.reshape(-1)\n",
    "\n",
    "X_test = input_preproc.transform(df_test[categorical_inputs+numeric_inputs])\n",
    "Y_test = df_test[output].values.reshape(-1)"
   ]
  },
  {
   "cell_type": "markdown",
   "id": "level-avenue",
   "metadata": {
    "tags": [
     "sk"
    ]
   },
   "source": [
    "## Heterogénne komisie\n",
    "\n",
    "V predošlom notebook-u sme sa venovali metódam na tréning homogénnych komisií: t.j. komisií zložených z niekoľkých modelov toho istého druhu (v našom prípade rozhodovacích stromov). Tieto metódy boli schopné modely vytvoriť a natrénovať automaticky.\n",
    "\n",
    "V tomto notebook-u sa budeme venovať heterogénnym komisiám, ktoré si vyžadujú trochu viac práce: každý model treba vytvoriť osobitne a potom ich spojiť do komisie pomocou nejakého metaklasifikátora ako je napr. `sklearn.ensemble.VotingClassifier` (prípadne `sklearn.ensemble.VotingRegressor` pre regresiu). Odmenou za túto prácu navyše by však mali byť lepšie výsledky: heterogénne modely robia typicky veľmi odlišné chyby, takže heterogénna komisia vie často dosiahnuť lepšie zovšeobecnenie než homogénna.\n",
    "\n",
    "### Komisia pomocou `VotingClassifier`\n",
    "\n",
    "Teraz v krátkosti ilustrujeme ako na našu úlohu aplikovať triedu `VotingClassifier`. Začneme vytvorením zoznamu modelov, z ktorých chceme vytvoriť komisiu. Najprv môžeme vytvoriť aj každý z nich osobitne a pomocou krížovej validácie im trochu vyladiť hyperparametre, podobne ako sme to robili v predošlých notebook-och.\n",
    "\n"
   ]
  },
  {
   "cell_type": "code",
   "execution_count": null,
   "id": "manufactured-settlement",
   "metadata": {},
   "outputs": [],
   "source": [
    "def crossval(model):\n",
    "    scores = cross_validate(model, X_train, Y_train, cv=10, return_train_score=True)\n",
    "    display(Markdown(\"train: {:.5f}; **test: {:.5f}**\".format(\n",
    "        scores['train_score'].mean(),\n",
    "        scores['test_score'].mean()\n",
    "    )))"
   ]
  },
  {
   "cell_type": "markdown",
   "id": "d685667d",
   "metadata": {
    "tags": [
     "sk"
    ]
   },
   "source": [
    "---\n",
    "#### Úloha 1: Ladenie hyperparamov pre každý klasifikátor samostatne\n",
    "\n",
    "**V bunkách nižšie skúste experimentovať s hyperparametrami klasifikátorov a nájdite nastavenie, ktoré obstojne funguje v rámci krížovej validácie.**  Pomôcka: Ak si spustíte ?NameOfTheClassifier, zobrazí sa vám dokumentačný reťazec klasifikátora\n",
    "\n",
    "---\n"
   ]
  },
  {
   "cell_type": "code",
   "execution_count": null,
   "id": "bef1a5ff",
   "metadata": {
    "tags": [
     "student"
    ]
   },
   "outputs": [],
   "source": [
    "dtree_model = DecisionTreeClassifier(\n",
    "    \n",
    "    # ---\n",
    "    \n",
    ")\n",
    "crossval(dtree_model)"
   ]
  },
  {
   "cell_type": "code",
   "execution_count": null,
   "id": "82e7663c",
   "metadata": {
    "tags": [
     "student"
    ]
   },
   "outputs": [],
   "source": [
    "lgbm_model = LGBMClassifier(\n",
    "    \n",
    "    # ---\n",
    "    \n",
    ")\n",
    "crossval(lgbm_model)"
   ]
  },
  {
   "cell_type": "code",
   "execution_count": null,
   "id": "a236045c",
   "metadata": {
    "tags": [
     "student"
    ]
   },
   "outputs": [],
   "source": [
    "knn_model = KNeighborsClassifier(\n",
    "    \n",
    "    # ---\n",
    "    \n",
    ")\n",
    "crossval(knn_model)"
   ]
  },
  {
   "cell_type": "code",
   "execution_count": null,
   "id": "b9523b04",
   "metadata": {
    "tags": [
     "student"
    ]
   },
   "outputs": [],
   "source": [
    "svc_model = svm.SVC(\n",
    "    \n",
    "    # ---\n",
    "    \n",
    ")\n",
    "crossval(svc_model)"
   ]
  },
  {
   "cell_type": "code",
   "execution_count": null,
   "id": "38973240",
   "metadata": {
    "tags": [
     "student"
    ]
   },
   "outputs": [],
   "source": [
    "logistic_model = LogisticRegression(\n",
    "    \n",
    "    # ---\n",
    "    \n",
    ")\n",
    "crossval(logistic_model)"
   ]
  },
  {
   "cell_type": "code",
   "execution_count": null,
   "id": "motivated-consultancy",
   "metadata": {},
   "outputs": [],
   "source": [
    "estimators = [\n",
    "    (\"dtree\", dtree_model),\n",
    "    (\"lgbm\", lgbm_model),\n",
    "    (\"knn\", knn_model),\n",
    "    ('svc', svc_model),\n",
    "    ('logistic', logistic_model)\n",
    "]"
   ]
  },
  {
   "cell_type": "markdown",
   "id": "boring-edinburgh",
   "metadata": {
    "tags": [
     "sk"
    ]
   },
   "source": [
    "Zoznam pošleme ako argument konštruktoru triedy `VotingClassifier`. Špecifikovať môžeme aj ďalšie parametre, napr. režim hlasovania – opis jednotlivých argumentov je možné nájsť v dokumentácii. Po skonštruovaní klasifikátor natrénujeme. Tým sa na dátach natrénujú všetky čiastkové modely.\n",
    "\n"
   ]
  },
  {
   "cell_type": "code",
   "execution_count": null,
   "id": "innovative-twins",
   "metadata": {},
   "outputs": [],
   "source": [
    "model = VotingClassifier(estimators)\n",
    "crossval(model)"
   ]
  },
  {
   "cell_type": "markdown",
   "id": "33901472",
   "metadata": {
    "tags": [
     "sk"
    ]
   },
   "source": [
    "### Komisia pomocou `StackingClassifier`\n",
    "\n",
    "Ako ďalšiu alternatívu môžeme namiesto hlasovania použiť stacking. V tom prípade najprv natrénujeme skupinu modelov a potom ich výstupy pridáme do dátovej množiny ako ďalšie stĺpce. Na vrch nakoniec umiestnime ďalší klasifikátor – t. j. natrénujeme ho na celej dátovej množine vrátane nových stĺpcov.\n",
    "\n",
    "Tento model 2. úrovne môže využívať predpovede modelov 1. úrovne, napr. sa môže naučiť, ktoré modely by vedeli najlepšie predikovať pre tento druh vzorky a podľa toho ováhovať ich predikcie a pod.\n",
    "\n",
    "Vytvorme si teda `StackingClassifier` s našou skupinou modelov 1. úrovne a ako model 2. úrovne použime logistickú regresiu.\n",
    "\n"
   ]
  },
  {
   "cell_type": "code",
   "execution_count": null,
   "id": "gross-massachusetts",
   "metadata": {},
   "outputs": [],
   "source": [
    "model = StackingClassifier(\n",
    "    estimators,\n",
    "    final_estimator=LogisticRegression(C=10),\n",
    "    cv=10\n",
    ")\n",
    "crossval(model)"
   ]
  },
  {
   "cell_type": "markdown",
   "id": "muslim-blanket",
   "metadata": {
    "tags": [
     "sk"
    ]
   },
   "source": [
    "### Testovanie\n",
    "\n",
    "Teraz vezmite najlepšiu komisiu a otestujte ju na testovacej množine. Pri troche šťastia by mala dosiahnuť lepšie výsledky než ktorýkoľvek jednotlivý model.\n",
    "\n"
   ]
  },
  {
   "cell_type": "code",
   "execution_count": null,
   "id": "edf0bce0",
   "metadata": {
    "tags": [
     "student"
    ]
   },
   "outputs": [],
   "source": [
    "\n",
    "\n",
    "# ---\n",
    "\n",
    "\n",
    "accuracy_score(Y_test, y_test)"
   ]
  },
  {
   "cell_type": "code",
   "execution_count": null,
   "id": "a6aed9c5",
   "metadata": {},
   "outputs": [],
   "source": []
  }
 ],
 "metadata": {
  "celltoolbar": "Tags",
  "kernelspec": {
   "display_name": "Python 3.9.12 ('base')",
   "language": "python",
   "name": "python3"
  },
  "language_info": {
   "codemirror_mode": {
    "name": "ipython",
    "version": 3
   },
   "file_extension": ".py",
   "mimetype": "text/x-python",
   "name": "python",
   "nbconvert_exporter": "python",
   "pygments_lexer": "ipython3",
   "version": "3.9.12"
  },
  "vscode": {
   "interpreter": {
    "hash": "a351393365bb1b108989afa08de3243f72f5e58927baf5d192f3cca79a41cbc4"
   }
  }
 },
 "nbformat": 4,
 "nbformat_minor": 5
}
