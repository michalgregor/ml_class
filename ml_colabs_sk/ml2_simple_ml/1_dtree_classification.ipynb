{
 "cells": [
  {
   "cell_type": "markdown",
   "metadata": {
    "tags": [
     "sk"
    ]
   },
   "source": [
    "**POZNÁMKA: Tento notebook je určený pre platformu Google Colab. Je však možné ho spustiť (možno s drobnými úpravami) aj ako štandardný Jupyter notebook.** \n",
    "\n"
   ]
  },
  {
   "cell_type": "code",
   "execution_count": null,
   "metadata": {},
   "outputs": [],
   "source": [
    "#@title -- Installation of Packages -- { display-mode: \"form\" }\n",
    "import sys\n",
    "!{sys.executable} -m pip install git+https://github.com/michalgregor/class_utils.git"
   ]
  },
  {
   "cell_type": "code",
   "execution_count": null,
   "metadata": {
    "colab": {},
    "colab_type": "code",
    "id": "Bs97NTOSoeVF"
   },
   "outputs": [],
   "source": [
    "#@title -- Import of Necessary Packages -- { display-mode: \"form\" }\n",
    "import numpy as np\n",
    "import pandas as pd\n",
    "from sklearn.model_selection import train_test_split\n",
    "from sklearn.model_selection import cross_validate\n",
    "from sklearn.preprocessing import StandardScaler, OrdinalEncoder\n",
    "from sklearn.impute import SimpleImputer, MissingIndicator\n",
    "from sklearn.compose import make_column_transformer\n",
    "from sklearn.pipeline import make_pipeline\n",
    "from sklearn.tree import DecisionTreeClassifier\n",
    "from sklearn.metrics import accuracy_score\n",
    "from class_utils import show_tree"
   ]
  },
  {
   "cell_type": "code",
   "execution_count": null,
   "metadata": {
    "colab": {
     "base_uri": "https://localhost:8080/",
     "height": 34
    },
    "colab_type": "code",
    "id": "0JZDvAVnoop7",
    "outputId": "b53da33f-e828-4921-d40e-a1c5f9a9a50a"
   },
   "outputs": [],
   "source": [
    "#@title -- Downloading Data -- { display-mode: \"form\" }\n",
    "DATA_HOME = \"https://github.com/michalgregor/ml_notebooks/blob/main/data/{}?raw=1\"\n",
    "\n",
    "from class_utils.download import download_file_maybe_extract\n",
    "download_file_maybe_extract(DATA_HOME.format(\"titanic.zip\"), directory=\"data/titanic\")\n",
    "\n",
    "# also create a directory for storing any outputs\n",
    "import os\n",
    "os.makedirs(\"output\", exist_ok=True)"
   ]
  },
  {
   "cell_type": "markdown",
   "metadata": {
    "colab_type": "text",
    "id": "ht7J4lqWoeW0",
    "tags": [
     "sk"
    ]
   },
   "source": [
    "## Rozhodovacie stromy pre klasifikáciu\n",
    "\n",
    "Ďalej ukážeme, ako sa dá klasifikátor na báze rozhodovacieho stromu aplikovať na dátovú množinu [Titanic](https://www.kaggle.com/c/titanic). Keďže sme s touto dátovou množinou už pracovali a vieme ako ju predspracovať, nebudeme to isté cvičenie opakovať znovu. Kód potrebný na načítanie a predspracovanie dát je v nasledujúcej bunke a kvôli stručnosti je skrytý.\n",
    "\n"
   ]
  },
  {
   "cell_type": "code",
   "execution_count": null,
   "metadata": {},
   "outputs": [],
   "source": [
    "#@title -- Preprocessing the Data -- { display-mode: \"form\" }\n",
    "df = pd.read_csv(\"data/titanic/train.csv\")\n",
    "df_train, df_test = train_test_split(df, test_size=0.25,\n",
    "                     stratify=df[\"Survived\"], random_state=4)\n",
    "\n",
    "categorical_inputs = [\"Pclass\", \"Sex\", \"Embarked\"]\n",
    "numeric_inputs = [\"Age\", \"SibSp\", 'Parch', 'Fare']\n",
    "class_names = [\"died\", \"survived\"]\n",
    "\n",
    "output = \"Survived\"\n",
    "\n",
    "input_preproc = make_column_transformer(\n",
    "    (make_pipeline(\n",
    "        SimpleImputer(strategy=\"most_frequent\"),\n",
    "        OrdinalEncoder()),\n",
    "     categorical_inputs),\n",
    "    \n",
    "    (make_pipeline(\n",
    "        SimpleImputer(),\n",
    "        StandardScaler()),\n",
    "     numeric_inputs)\n",
    ")\n",
    "\n",
    "X_train = input_preproc.fit_transform(df_train[categorical_inputs+numeric_inputs])\n",
    "Y_train = df_train[output].values.reshape(-1)\n",
    "\n",
    "X_test = input_preproc.transform(df_test[categorical_inputs+numeric_inputs])\n",
    "Y_test = df_test[output].values.reshape(-1)"
   ]
  },
  {
   "cell_type": "markdown",
   "metadata": {
    "tags": [
     "sk"
    ]
   },
   "source": [
    "### Učenie\n",
    "\n",
    "Doslova jediná vec, ktorú treba v tejto chvíli zmeniť oproti predošlému príkladu je vymeniť triedu `KNeighborsClassifier` za `DecisionTreeClassifier`. Zvyšok kódu môže zostať rovnaký.\n",
    "\n"
   ]
  },
  {
   "cell_type": "code",
   "execution_count": null,
   "metadata": {},
   "outputs": [],
   "source": [
    "model = DecisionTreeClassifier()\n",
    "model.fit(X_train, Y_train)"
   ]
  },
  {
   "cell_type": "markdown",
   "metadata": {
    "tags": [
     "sk"
    ]
   },
   "source": [
    "### Testovanie\n",
    "\n",
    "Kód na testovanie modelu sa dá tiež prebrať bezo zmeny.\n",
    "\n"
   ]
  },
  {
   "cell_type": "code",
   "execution_count": null,
   "metadata": {},
   "outputs": [],
   "source": [
    "y_test = model.predict(X_test)\n",
    "\n",
    "cm = pd.crosstab(Y_test, y_test,\n",
    "                 rownames=['actual'],\n",
    "                 colnames=['predicted'])\n",
    "print(cm, \"\\n\")\n",
    "\n",
    "acc = accuracy_score(Y_test, y_test)\n",
    "print(\"Accuracy = {}\".format(acc))"
   ]
  },
  {
   "cell_type": "markdown",
   "metadata": {
    "tags": [
     "sk"
    ]
   },
   "source": [
    "Správnosť, ktorú náš rozhodovací strom dosahuje, nie je príliš dobrá. Vlastne bude pravdepodobne horšia než to bolo v príklade s KNN. To je samozrejme veľmi podozrivé a môže to znamenať, že sa náš model preučil. Aby sme si overili, či je to naozaj tak, mali by sme model otestovať na tréningových dátach. Ak budú výsledky omnoho lepšie, znamená to, že sa model naozaj preučil a že jeho hyperparametre treba upraviť tak, aby sme znížili jeho kapacitu a získali model, ktorý bude zovšeobecňovať.\n",
    "\n"
   ]
  },
  {
   "cell_type": "code",
   "execution_count": null,
   "metadata": {},
   "outputs": [],
   "source": [
    "y_train = model.predict(X_train)\n",
    "\n",
    "acc_train = accuracy_score(Y_train, y_train)\n",
    "print(\"Accuracy = {}\".format(acc_train))"
   ]
  },
  {
   "cell_type": "markdown",
   "metadata": {
    "tags": [
     "sk"
    ]
   },
   "source": [
    "Ako sa ukazuje, správnosť na tréningových dátach je naozaj omnoho vyššia než na testovacích, čo indikuje preučenie. Môžeme si tiež vizualizovať výsledný stroj a preveriť, aký je zložitý. Použijeme na to pomocnú funkciu `show_tree`. Strom bude pravdepodobne pomerne zložitý a ťažko čitateľný.\n",
    "\n"
   ]
  },
  {
   "cell_type": "code",
   "execution_count": null,
   "metadata": {},
   "outputs": [],
   "source": [
    "show_tree(model,\n",
    "  feature_names=categorical_inputs+numeric_inputs,\n",
    "  class_names=class_names)"
   ]
  },
  {
   "cell_type": "markdown",
   "metadata": {
    "tags": [
     "sk"
    ]
   },
   "source": [
    "### Ladenie hyperparametrov a lepšie prerezávanie\n",
    "\n",
    "V ďalšom kroku si ukážeme, ako naladiť hyperparametre rozhodovacieho stromu tak, aby bol jednoduchší a aby sa predišlo preučeniu. Toto sa dá docieliť pomocou prerezávanie, ktoré sa delí na dva druhy:\n",
    "\n",
    "* **dopredné prerezávanie**  (pre-pruning): ako strom rastie, zabráni sa vzniku niektorých vetvení za predpokladu, že nespĺňajú všetky stanovené kritériá;\n",
    "* **spätné prerezávanie**  (post-pruning): nechá sa narásť úplný strom, z ktorého sa následne niektoré vetvenia odstraňujú.\n",
    "V tomto príklade budeme používať dopredné prerezávanie a jeho parametre budeme špecifikovať v rámci konštruktoru triedy `DecisionTreeClassifier`.\n",
    "\n",
    "#### Použitie krížovej validácie\n",
    "\n",
    "Pri ladení hyperparametrov budeme potrebovať spôsob ako overiť, ktoré hodnoty dobre fungujú. Nemôžeme každú hodnotu jednoducho testovať na testovacích dátach: pripomeňme si, že testovacie dáta sa smú použiť len raz – na otestovanie finálneho modelu.\n",
    "\n",
    "Máme v zásade 2 možnosti:\n",
    "\n",
    "* Rozdeliť dátovú množinu na 3 časti: trénovaciu, validačnú a testovaciu časť (validačná časť sa použije na ladenie hyperparametrov a testovacia až na konci na overenie zovšeobecnenia finálneho modelu).\n",
    "* Použiť krížovú validáciu: Tréningová množina sa rozdelí na $k$ častí. Mod l sa natrénuje na $k-1$ častiach a otestuje sa na zostávajúcej časti. \n",
    "To split the dataset into 3 parts: the training set, the validation set and the testing set (the validation set would be used to tune the hyperparameters and the testing set would be used at the end to verify that the final model generalizes). Tento proces sa zopakuje pre všetky kombinácie častí a výsledky sa spriemerujú.\n",
    "\n",
    "Keďže učenie rozhodovacích stromov netrvá dlho a naša dátová množina nie je príliš veľká, v aktuálnom príklade použijeme krížovú validáciu. Pozrime sa ako by sa aplikovala pomocou balíčka `scikit-learn`. Použijeme funkciu `sklearn.model_selection.cross_validate` a určíme, že `cv=5`, čo znamená, že tréningovú množinu budeme deliť na $k=5$ častí. Funkcia navráti správnosť pre každú kombináciu a my z nich na konci vypočítame priemer, ktorý použijeme ako indikátor úspešnosti nášho modelu.\n",
    "\n"
   ]
  },
  {
   "cell_type": "code",
   "execution_count": null,
   "metadata": {},
   "outputs": [],
   "source": [
    "cross_validate(model, X_train, Y_train, cv=5)['test_score'].mean()"
   ]
  },
  {
   "cell_type": "markdown",
   "metadata": {
    "tags": [
     "sk"
    ]
   },
   "source": [
    "#### Zmena hyperparametrov\n",
    "\n",
    "Ďalej už poďme realizovať priamo ladenie hyperparametrov. Aby sme zistili, aké hyperparametre vieme vlastne pri konštrukcii rozhodovacieho stromu nastaviť, nahliadnime do dokumentácie.\n",
    "\n"
   ]
  },
  {
   "cell_type": "code",
   "execution_count": null,
   "metadata": {},
   "outputs": [],
   "source": [
    "print(DecisionTreeClassifier.__doc__)"
   ]
  },
  {
   "cell_type": "markdown",
   "metadata": {
    "tags": [
     "sk"
    ]
   },
   "source": [
    "Minimálny počet vzoriek na list stromu (`min_samples_leaf`) vyzerá ako dobrý kandidát: ak predikciu robíme na základe veľmi malého počtu vzoriek, je pravdepodobné, že nebude reprezentatívna. Môžete samozrejme experimentovať aj s inými parametrami ako sú napr. maximálna hĺbka stromu a ďalšie.\n",
    "\n",
    "---\n",
    "#### Úloha 1: Ladenie `min_samples_leaf`\n",
    "\n",
    "**V nasledujúcej bunke experimentujte s rôznymi hodnotami `min_samples_leaf` a pokúste sa maximalizovať správnosť z krížovej validácie. Sledujte tiež, aký vplyv má hodnota hyperparametra na štruktúru stromu.** \n",
    "\n",
    "---\n"
   ]
  },
  {
   "cell_type": "code",
   "execution_count": null,
   "metadata": {
    "tags": [
     "student"
    ]
   },
   "outputs": [],
   "source": [
    "model = DecisionTreeClassifier(\n",
    "    \n",
    "    \n",
    "    min_samples_leaf=    # ------\n",
    "    \n",
    "    \n",
    ")\n",
    "\n",
    "acc = cross_validate(model, X_train, Y_train, cv=5)['test_score'].mean()\n",
    "print(\"Cross-validation accuracy = {}\".format(acc))\n",
    "\n",
    "# we need to fit the model before we plot it\n",
    "model.fit(X_train, Y_train)\n",
    "show_tree(model)"
   ]
  },
  {
   "cell_type": "markdown",
   "metadata": {
    "tags": [
     "sk"
    ]
   },
   "source": [
    "### Testovanie vyladeného stromu\n",
    "\n",
    "Keď sme vyladili hyperparametre, môžeme konečne verifikovať, ako dobre náš finálny model vlastne zovšeobecňuje. Model s najlepšími hyperparametrami opätovne natrénujeme na celej tréningovej množine a overíme správnosť na testovacích dátach. Výsledky by mali teraz byť podstatne lepšie.\n",
    "\n"
   ]
  },
  {
   "cell_type": "code",
   "execution_count": null,
   "metadata": {},
   "outputs": [],
   "source": [
    "model.fit(X_train, Y_train)"
   ]
  },
  {
   "cell_type": "code",
   "execution_count": null,
   "metadata": {},
   "outputs": [],
   "source": [
    "y_test = model.predict(X_test)\n",
    "accuracy_score(Y_test, y_test)"
   ]
  },
  {
   "cell_type": "code",
   "execution_count": null,
   "metadata": {},
   "outputs": [],
   "source": []
  }
 ],
 "metadata": {
  "celltoolbar": "Tags",
  "colab": {
   "collapsed_sections": [],
   "name": "1_pipelines.ipynb",
   "provenance": [],
   "toc_visible": true,
   "version": "0.3.2"
  },
  "kernelspec": {
   "display_name": "Python 3",
   "language": "python",
   "name": "python3"
  },
  "language_info": {
   "codemirror_mode": {
    "name": "ipython",
    "version": 3
   },
   "file_extension": ".py",
   "mimetype": "text/x-python",
   "name": "python",
   "nbconvert_exporter": "python",
   "pygments_lexer": "ipython3",
   "version": "3.9.7"
  }
 },
 "nbformat": 4,
 "nbformat_minor": 1
}
