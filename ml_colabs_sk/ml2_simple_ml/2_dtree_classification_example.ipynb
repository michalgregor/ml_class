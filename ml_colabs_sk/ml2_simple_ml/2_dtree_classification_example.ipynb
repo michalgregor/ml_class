{
 "cells": [
  {
   "cell_type": "markdown",
   "metadata": {
    "tags": [
     "sk"
    ]
   },
   "source": [
    "**POZNÁMKA: Tento notebook je určený pre platformu Google Colab. Je však možné ho spustiť (možno s drobnými úpravami) aj ako štandardný Jupyter notebook.** \n",
    "\n"
   ]
  },
  {
   "cell_type": "code",
   "execution_count": null,
   "metadata": {},
   "outputs": [],
   "source": [
    "#@title -- Installation of Packages -- { display-mode: \"form\" }\n",
    "import sys\n",
    "!{sys.executable} -m pip install git+https://github.com/michalgregor/class_utils.git"
   ]
  },
  {
   "cell_type": "code",
   "execution_count": null,
   "metadata": {
    "colab": {},
    "colab_type": "code",
    "id": "Bs97NTOSoeVF"
   },
   "outputs": [],
   "source": [
    "#@title -- Import of Necessary Packages -- { display-mode: \"form\" }\n",
    "import numpy as np\n",
    "import pandas as pd\n",
    "from sklearn.model_selection import train_test_split\n",
    "from sklearn.model_selection import cross_validate\n",
    "from sklearn.preprocessing import StandardScaler, OrdinalEncoder\n",
    "from sklearn.impute import SimpleImputer, MissingIndicator\n",
    "from sklearn.compose import make_column_transformer\n",
    "from sklearn.pipeline import make_pipeline\n",
    "from sklearn.tree import DecisionTreeClassifier\n",
    "from sklearn.metrics import accuracy_score"
   ]
  },
  {
   "cell_type": "code",
   "execution_count": null,
   "metadata": {
    "colab": {
     "base_uri": "https://localhost:8080/",
     "height": 34
    },
    "colab_type": "code",
    "id": "0JZDvAVnoop7",
    "outputId": "b53da33f-e828-4921-d40e-a1c5f9a9a50a"
   },
   "outputs": [],
   "source": [
    "#@title -- Downloading Data -- { display-mode: \"form\" }\n",
    "DATA_HOME = \"https://github.com/michalgregor/ml_notebooks/blob/main/data/{}?raw=1\"\n",
    "\n",
    "from class_utils.download import download_file_maybe_extract\n",
    "download_file_maybe_extract(DATA_HOME.format(\"adult_income.zip\"), directory=\"data/adult_income\")\n",
    "\n",
    "# also create a directory for storing any outputs\n",
    "import os\n",
    "os.makedirs(\"output\", exist_ok=True)"
   ]
  },
  {
   "cell_type": "markdown",
   "metadata": {
    "colab_type": "text",
    "id": "ht7J4lqWoeW0",
    "tags": [
     "sk"
    ]
   },
   "source": [
    "## Rozhodovacie stromy pre klasifikáciu: Adult Income Dataset\n",
    "\n",
    "Po tom ako sme ilustrovali fungovanie klasifikátorov na báze rozhodovacích stromov na dátovej množine Titanic, prejdeme si ešte jeden príklad: tento raz na dátovej množine [Adult Income Dataset](https://archive.ics.uci.edu/ml/datasets/adult). Keďže ide opäť o dátovú množinu, s ktorou sme už pracovali, kód potrebný na načítanie a predspracovanie dát uvádzame v nasledujúcej bunke a je skrytý v záujme stručnosti.\n",
    "\n"
   ]
  },
  {
   "cell_type": "code",
   "execution_count": null,
   "metadata": {},
   "outputs": [],
   "source": [
    "#@title -- Loading and Preprocessing the Data: X_train, Y_train, X_test, Y_test -- { display-mode: \"form\" }\n",
    "df_train = pd.read_csv(\"data/adult_income/adult.data\",\n",
    "                       header=None)\n",
    "df_test = pd.read_csv(\"data/adult_income/adult.test\",\n",
    "                      header=None, skiprows=1)\n",
    "df_test[14] = df_test[14].apply(lambda x: x[:-1])\n",
    "    \n",
    "categorical_inputs = [1, 3, 5, 6, 7, 8, 9, 13]\n",
    "numeric_inputs = [0, 2, 4, 10, 11, 12]\n",
    "\n",
    "output = 14\n",
    "\n",
    "input_preproc = make_column_transformer(\n",
    "    (make_pipeline(\n",
    "        SimpleImputer(strategy=\"most_frequent\"),\n",
    "        OrdinalEncoder()),\n",
    "     categorical_inputs),\n",
    "    \n",
    "    (make_pipeline(\n",
    "        SimpleImputer(),\n",
    "        StandardScaler()),\n",
    "     numeric_inputs)\n",
    ")\n",
    "\n",
    "output_enc = OrdinalEncoder()\n",
    "    \n",
    "X_train = input_preproc.fit_transform(df_train)\n",
    "Y_train = output_enc.fit_transform(df_train[[output]]).reshape(-1)\n",
    "\n",
    "X_test = input_preproc.transform(df_test)\n",
    "Y_test = output_enc.transform(df_test[[output]]).reshape(-1)"
   ]
  },
  {
   "attachments": {},
   "cell_type": "markdown",
   "metadata": {
    "tags": [
     "sk"
    ]
   },
   "source": [
    "---\n",
    "### Úloha 1: Applikácia rozhodovacieho stromu a ladenie jeho hyperparametrov\n",
    "\n",
    "**Dátová množina je uložená v poliach `X_train`, `Y_train`, `X_test`, `Y_test`. Aplikujte na ňu rozhodovací strom a jeho hyperparametre nalaďte pomocou krížovej validácie na tréningovej množine. Potom ako sa hyperparametre vyladia, finálny model natrénujte na celej tréningovej dátovej množine.** \n",
    "\n",
    "POZN. 1: Možno budete mať tendenciu jednoducho použiť hyperparametre z predchádzajúceho príkladu. Nie je vylúčené, že budú fungovať. Vo všeobecnosti však treba povedať, že optimálne hyperparametre závisia aj od dátovej množiny, nielen od použitého modelu.\n",
    "\n",
    "POZN. 2: Ak sa rozhodnete vizualizovať rozhodovací strom, postupujte opatrne. Ak sa neaplikuje dostatočná miera prerezávania, strom môže byť priveľký na to, aby sa dal pohodlne vizualizovať a jeho vykreslenie môže trvať neprakticky dlho.\n",
    "\n",
    "---\n"
   ]
  },
  {
   "cell_type": "code",
   "execution_count": null,
   "metadata": {
    "tags": [
     "student"
    ]
   },
   "outputs": [],
   "source": [
    "\n",
    "\n",
    "# ----\n",
    "\n"
   ]
  },
  {
   "cell_type": "markdown",
   "metadata": {
    "tags": [
     "sk"
    ]
   },
   "source": [
    "### Testovanie\n",
    "\n",
    "Potom ako sme vyladili hyperparametre a natrénovali model, môžeme overiť zovšeobecnenie na testovacích dátach.\n",
    "\n"
   ]
  },
  {
   "cell_type": "code",
   "execution_count": null,
   "metadata": {},
   "outputs": [],
   "source": [
    "y_test = model.predict(X_test)\n",
    "\n",
    "cm = pd.crosstab(Y_test, y_test,\n",
    "                 rownames=['actual'],\n",
    "                 colnames=['predicted'])\n",
    "print(cm, \"\\n\")\n",
    "\n",
    "acc = accuracy_score(Y_test, y_test)\n",
    "print(\"Accuracy = {}\".format(acc))"
   ]
  },
  {
   "cell_type": "code",
   "execution_count": null,
   "metadata": {},
   "outputs": [],
   "source": []
  }
 ],
 "metadata": {
  "celltoolbar": "Tags",
  "colab": {
   "collapsed_sections": [],
   "name": "1_pipelines.ipynb",
   "provenance": [],
   "toc_visible": true,
   "version": "0.3.2"
  },
  "kernelspec": {
   "display_name": "Python 3",
   "language": "python",
   "name": "python3"
  },
  "language_info": {
   "codemirror_mode": {
    "name": "ipython",
    "version": 3
   },
   "file_extension": ".py",
   "mimetype": "text/x-python",
   "name": "python",
   "nbconvert_exporter": "python",
   "pygments_lexer": "ipython3",
   "version": "3.9.7"
  }
 },
 "nbformat": 4,
 "nbformat_minor": 1
}
