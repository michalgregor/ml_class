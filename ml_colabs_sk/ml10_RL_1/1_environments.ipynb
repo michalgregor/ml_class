{
 "cells": [
  {
   "cell_type": "markdown",
   "id": "b242c1dc",
   "metadata": {
    "tags": [
     "sk"
    ]
   },
   "source": [
    "**POZNÁMKA: Tento notebook je určený pre platformu Google Colab. Je však možné ho spustiť (možno s drobnými úpravami) aj ako štandardný Jupyter notebook.** \n",
    "\n"
   ]
  },
  {
   "cell_type": "code",
   "execution_count": null,
   "id": "3de84a08",
   "metadata": {},
   "outputs": [],
   "source": [
    "#@title -- Installation of Packages -- { display-mode: \"form\" }\n",
    "import sys\n",
    "!{sys.executable} -m pip install git+https://github.com/michalgregor/gym_plannable.git"
   ]
  },
  {
   "cell_type": "code",
   "execution_count": null,
   "id": "66548ce1",
   "metadata": {},
   "outputs": [],
   "source": [
    "#@title -- Import of Necessary Packages -- { display-mode: \"form\" }\n",
    "%matplotlib inline\n",
    "from gym_plannable.env import MazeEnv"
   ]
  },
  {
   "cell_type": "markdown",
   "id": "6d8b3e89",
   "metadata": {
    "tags": [
     "sk"
    ]
   },
   "source": [
    "## Gym prostredia\n",
    "\n",
    "V prvom notebook-u zo sekcie o učení s odmenou (reinforcement learning; RL) sa ešte nebudeme venovať žiadnej konkrétnej metóde učenia s odmenou, ale tomu, ako sa reprezentujú úlohy učenia s odmenou pomocou rozhrania OpenAI Gym (ktoré sa v posledných niekoľkých rokoch stalo v istom zmysle štandardom).\n",
    "\n",
    "[Gym od OpenAI](https://gym.openai.com/) je python-ový balíček s množstvom rôznych RL prostredí, pričom všetky sú vybavené tým istým unifikovaným rozhraním. Hlavné vlastnosti tohto rozhrania budeme ilustrovať na jednoduchom prostredí mriežkového sveta (gridworld).\n",
    "\n",
    "### Rozhranie\n",
    "\n",
    "#### Resetovanie a renderovanie\n",
    "\n",
    "Resetovanie stavu prostredia a získanie jeho pozorovania, sa realizuje pomocou metódy `reset`. Táto metóda navracia:\n",
    "\n",
    "* **obs** : počiatočné pozorovanie;\n",
    "* **info** : slovník obsahujúci ďalšie informácie závisiace od konkrétneho typu prostredia;\n"
   ]
  },
  {
   "cell_type": "code",
   "execution_count": null,
   "id": "d77f90fa",
   "metadata": {},
   "outputs": [],
   "source": [
    "env = MazeEnv()\n",
    "env.reset()"
   ]
  },
  {
   "cell_type": "markdown",
   "id": "5c572a2e",
   "metadata": {
    "tags": [
     "sk"
    ]
   },
   "source": [
    "Vizuálnu reprezentáciu aktuálneho stavu prostredia vieme získať tak, že pri konštrukcii prostrediu pošleme parameter `render_mode='human'`.\n",
    "\n",
    "Rôzne potredia podporujú rôzne režimy vizualizácie – zistiť, ktoré režimy prostredie podporuje, je možné pomocou atribútu triedy prostredia `.metadata`: napr. tu by sme mohli použiť `MazeEnv.metadata`.\n",
    "\n"
   ]
  },
  {
   "cell_type": "code",
   "execution_count": null,
   "id": "4d6c376b",
   "metadata": {},
   "outputs": [],
   "source": [
    "env = MazeEnv(render_mode='human')\n",
    "env.reset();"
   ]
  },
  {
   "cell_type": "markdown",
   "id": "59afa265",
   "metadata": {
    "tags": [
     "sk"
    ]
   },
   "source": [
    "Ako vidno, v našom prípade ide o jednoduché prostredia mriežkového sveta, kde agent je reprezentovaný modrým krúžkom, zažiatočné a cieľové stavy sú uznačené `S` a `G` (v tomto poradí) a sivé štvorčeky predstavujú múry.\n",
    "\n",
    "#### Priestor pozorovaní a priestor akcií\n",
    "\n",
    "S každým prostredím sa spája určitý priestor pozorovaní (atribút `observation_space`) a priestor akcií (atribút `action_space`); ide o priestory z ktorých sa berú pozorovania a akcie.\n",
    "\n",
    "Napríklad v našom jednoduchom bludisku je stav úplne opísaný pozíciou agenta (nič iné sa nemení). Ak vezmene do úvahy, že sa agent pohybuje po mriežke $10 \\times 10$, pozorovanie, ktoré navráti `reset` bude tvorené dvojicou celých čísel z rozsahu $\\{0, 1, ..., 9 \\}$. V rámci OpenAI gym to zodpovedá nasledujúcemu priestoru pozorovaní:\n",
    "\n"
   ]
  },
  {
   "cell_type": "code",
   "execution_count": null,
   "id": "07f66e20",
   "metadata": {},
   "outputs": [],
   "source": [
    "env.observation_space"
   ]
  },
  {
   "cell_type": "markdown",
   "id": "ba2885f6",
   "metadata": {
    "tags": [
     "sk"
    ]
   },
   "source": [
    "Priestor akcií sa skladá zo štyroch akcií:\n",
    "\n"
   ]
  },
  {
   "cell_type": "code",
   "execution_count": null,
   "id": "b9132c10",
   "metadata": {},
   "outputs": [],
   "source": [
    "env.action_space"
   ]
  },
  {
   "cell_type": "markdown",
   "id": "48110188",
   "metadata": {
    "tags": [
     "sk"
    ]
   },
   "source": [
    "V našom prípade majú takýto význam:\n",
    "\n",
    "* **0:**  hore;\n",
    "* **1:**  dolu;\n",
    "* **2:**  doľava;\n",
    "* **3:**  doprava;\n",
    "avšak tento význam, samozrejme, nie je súčasťou definície priestoru akcií.\n",
    "\n",
    "Ak by sme chceli získať (rovnomerne) náhodnú akciu z priestoru akcií, môžeme zavolať metódu `sample`:\n",
    "\n"
   ]
  },
  {
   "cell_type": "code",
   "execution_count": null,
   "id": "9cdac535",
   "metadata": {},
   "outputs": [],
   "source": [
    "env.action_space.sample()"
   ]
  },
  {
   "cell_type": "markdown",
   "id": "ac8ad2c9",
   "metadata": {
    "tags": [
     "sk"
    ]
   },
   "source": [
    "#### Voľba akcií\n",
    "\n",
    "Akcie sa volia pomocou metódy `step`; vstupným argumentom je daná akcia. Metóda `step` navracia n-ticu s nasledujúcimi prvkami:\n",
    "\n",
    "* **obs** : nové pozorovanie;\n",
    "* **reward** : okamžitá odmena spojená s daným stavovým prechodom;\n",
    "* **terminated** : boolovská hodnota indikujúca či sa prostredie ukončilo (t.j. či sa dosiahol koncový stav a prostredie treba resetovať);\n",
    "* **truncated** : boolovská hodnota indikujúca (na rozdiel od terminated), že prostredie bolo ukončené predčasne, napr. kvôli chybe, preto, že sa dosiahol limit na počet krokov a pod. Aj v tomto prípade je potrebné prostredie resetovať, aby bolo možné pokračovať;\n",
    "* **info** : slovník obsahujúci ďalšie informácie závisiace od konkrétneho typu prostredia;\n"
   ]
  },
  {
   "cell_type": "code",
   "execution_count": null,
   "id": "e9113661",
   "metadata": {},
   "outputs": [],
   "source": [
    "env = MazeEnv()\n",
    "env.reset()\n",
    "\n",
    "obs, reward, terminated, truncated, info = env.step(0)\n",
    "\n",
    "env.render()\n",
    "print(f\"observation: {obs}\\nreward: {reward}\\nterminated: {terminated}\\ntruncated: {truncated}\")"
   ]
  },
  {
   "cell_type": "markdown",
   "id": "ef4eeafb",
   "metadata": {
    "tags": [
     "sk"
    ]
   },
   "source": [
    "---\n",
    "#### Úloha 1: Dostať agenta do cieľového stavu\n",
    "\n",
    "**V nasledujúcej bunke zostrojte bludisko a udajte mu takú postupnosť akcií, aby agent prešiel cestu z počiatočného do cieľového stavu. V každom kroku zavolajte funkciu render, aby bolo možné pozorovať správanie sa agenta.** \n",
    "\n",
    "---\n"
   ]
  },
  {
   "cell_type": "code",
   "execution_count": null,
   "id": "e5be91c1",
   "metadata": {
    "tags": [
     "student"
    ]
   },
   "outputs": [],
   "source": [
    "env = MazeEnv(render_mode='human')\n",
    "env.reset()\n",
    "\n",
    "\n",
    "# --- env.step(     )\n",
    "# --- env.render()\n"
   ]
  },
  {
   "cell_type": "markdown",
   "id": "5553e524",
   "metadata": {
    "tags": [
     "sk"
    ]
   },
   "source": [
    "### Plánovateľné prostredia\n",
    "\n",
    "V rámci mriežkových svetov, s ktorými budeme pracovať v niekoľkých nasledujúcich notebook-och poskytujeme rozšírenie oproti štandardnému OpenAI Gym rozhraniu – plánovateľné prostredia. V plánovateľnom prostredí získavate v podstate prístup k distribučnému modelu prostredia: vieme zistiť, ktoré akcie sú legálne v danom stave; aké sú pri jednotlivých akciách možné stavové prechody a aké sú ich zodpovedajúce pravdepodobnosti; vieme simulovať správanie sa prostredia po dobu viacerých časových krokov bez toho, aby sme skutočne zmenili jeho stav.\n",
    "\n",
    "Ako už vieme, distribučný model tohto typu si vyžadujú metódy dynamického programovania, ale dokážu ho využiť aj mnohé iné prístupy, preto sa pozrime, ako vyzerá spomínané rozhranie.\n",
    "\n",
    "#### Získanie plánovateľného stavu\n",
    "\n",
    "Ak je prostredie plánovateľné, implementuje metódu `single_plannable_state` (alebo metódu `plannable_state`, ktorú by sme však potrebovali len keby sme pracovali s multiagentovým prostredím). Táto metóda navracia aktuálny stav prostredia ako plánovateľný stav:\n",
    "\n"
   ]
  },
  {
   "cell_type": "code",
   "execution_count": null,
   "id": "ce511d3a",
   "metadata": {},
   "outputs": [],
   "source": [
    "env = MazeEnv(render_mode='human')\n",
    "env.reset()\n",
    "\n",
    "state = env.single_plannable_state()"
   ]
  },
  {
   "cell_type": "markdown",
   "id": "2441e3aa",
   "metadata": {
    "tags": [
     "sk"
    ]
   },
   "source": [
    "#### Legálne akcie\n",
    "\n",
    "Aby sme zistili, ktoré akcie sú legálne v aktuálnom stave, používame metódu `legal_actions`:\n",
    "\n"
   ]
  },
  {
   "cell_type": "code",
   "execution_count": null,
   "id": "d909f84c",
   "metadata": {},
   "outputs": [],
   "source": [
    "state.legal_actions()"
   ]
  },
  {
   "cell_type": "markdown",
   "id": "9b36145d",
   "metadata": {
    "tags": [
     "sk"
    ]
   },
   "source": [
    "Tu sú, striktne povedané, legálne len dve akcie, pretože agent sa nachádza v rohu: nemôže sa pohnúť smerom doľava alebo dolu.\n",
    "\n",
    "#### Simulácia prechodov\n",
    "\n",
    "Ak chceme, pri predpoklade akcie `a`, iterovať po všetkých možných nasledujúcich stavoch a ich zodpovedajúcich pravdepodobnostiach, môžeme použiť metódu `all_next(a)`:\n",
    "\n"
   ]
  },
  {
   "cell_type": "code",
   "execution_count": null,
   "id": "5aa4c632",
   "metadata": {},
   "outputs": [],
   "source": [
    "a = state.legal_actions()[0]\n",
    "\n",
    "for next_state, prob in state.all_next(a):\n",
    "    print(f\"observation {next_state.observation()}; \" + \n",
    "          f\"reward: {next_state.reward()}; probability: {prob}\")"
   ]
  },
  {
   "cell_type": "markdown",
   "id": "8cf2dc27",
   "metadata": {
    "tags": [
     "sk"
    ]
   },
   "source": [
    "Ak máme záujem len o jednu vzorku prechodu, dá sa použiť `next(a)`:\n",
    "\n"
   ]
  },
  {
   "cell_type": "code",
   "execution_count": null,
   "id": "18fb8f98",
   "metadata": {},
   "outputs": [],
   "source": [
    "a = state.legal_actions()[0]\n",
    "next_state = state.next(a)\n",
    "print(f\"observation {next_state.observation()}; \" + \n",
    "      f\"reward: {next_state.reward()}; probability: {prob}\")"
   ]
  },
  {
   "cell_type": "markdown",
   "id": "ed52d474",
   "metadata": {
    "tags": [
     "sk"
    ]
   },
   "source": [
    "#### Príznak done\n",
    "\n",
    "Aby sme zistili, či je stav konečný, môžeme zase použiť metódu `is_done`:\n",
    "\n"
   ]
  },
  {
   "cell_type": "code",
   "execution_count": null,
   "id": "35c5441f",
   "metadata": {},
   "outputs": [],
   "source": [
    "state.is_done()"
   ]
  },
  {
   "cell_type": "code",
   "execution_count": null,
   "id": "c40e1f49",
   "metadata": {},
   "outputs": [],
   "source": []
  }
 ],
 "metadata": {
  "celltoolbar": "Tags",
  "kernelspec": {
   "display_name": "Python 3 (ipykernel)",
   "language": "python",
   "name": "python3"
  },
  "language_info": {
   "codemirror_mode": {
    "name": "ipython",
    "version": 3
   },
   "file_extension": ".py",
   "mimetype": "text/x-python",
   "name": "python",
   "nbconvert_exporter": "python",
   "pygments_lexer": "ipython3",
   "version": "3.9.16"
  }
 },
 "nbformat": 4,
 "nbformat_minor": 5
}
