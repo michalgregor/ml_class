{
 "cells": [
  {
   "cell_type": "markdown",
   "metadata": {
    "id": "Vn897W_Ufcfq",
    "tags": [
     "sk"
    ]
   },
   "source": [
    "**POZNÁMKA: Tento notebook je určený pre platformu Google Colab, ktorá zdarma poskytuje hardvérovú akceleráciu. Je však možné ho spustiť (možno s drobnými úpravami) aj ako štandardný Jupyter notebook, pomocou lokálnej grafickej karty.** \n",
    "\n"
   ]
  },
  {
   "cell_type": "code",
   "execution_count": null,
   "metadata": {
    "colab": {
     "base_uri": "https://localhost:8080/"
    },
    "id": "h8O1zlAviemQ",
    "outputId": "569d41ac-c8d9-41db-ec0f-10fdb8cd17ef"
   },
   "outputs": [],
   "source": [
    "#@title -- Installation of Packages -- { display-mode: \"form\" }\n",
    "import sys\n",
    "import shutil\n",
    "USE_NBCAP = False\n",
    "\n",
    "if not shutil.which('apt') is None:\n",
    "    !apt update\n",
    "    !apt install -y xvfb x11-utils\n",
    "    !apt install swig\n",
    "    !{sys.executable} -m pip install pyscreenshot pyvirtualdisplay\n",
    "    !{sys.executable} -m pip install --upgrade pyglet\n",
    "    !{sys.executable} -m pip install git+https://github.com/michalgregor/nbcap.git\n",
    "\n",
    "    USE_NBCAP = True\n",
    "\n",
    "!{sys.executable} -m pip install gymnasium[box2d]\n",
    "!{sys.executable} -m pip install class_utils[tensorboard]@git+https://github.com/michalgregor/class_utils.git\n",
    "!{sys.executable} -m pip install pip install \"ray[rllib]\""
   ]
  },
  {
   "cell_type": "code",
   "execution_count": null,
   "metadata": {
    "id": "16qErcw2iemX"
   },
   "outputs": [],
   "source": [
    "#@title -- Import of Necessary Packages -- { display-mode: \"form\" }\n",
    "import shutil\n",
    "if shutil.which('apt') is None:\n",
    "    USE_NBCAP = False\n",
    "else:\n",
    "    USE_NBCAP = True\n",
    "\n",
    "    from nbcap import ShowVideoCallback, ScreenRecorder, OutputManager, DisplayProcess\n",
    "    from pyscreenshot import grab as img_grab  \n",
    "\n",
    "import gymnasium as gym\n",
    "from ray.tune.registry import register_env\n",
    "\n",
    "_lunar_max_episode_steps = 250\n",
    "\n",
    "def timed_lunar_lander(**kwargs):\n",
    "    env = gym.make('LunarLander-v2', **kwargs)\n",
    "    env = gym.wrappers.TimeLimit(env,\n",
    "        max_episode_steps=_lunar_max_episode_steps)\n",
    "    return env\n",
    "\n",
    "gym.envs.registration.register(\n",
    "     id='TimedLunarLander-v0',\n",
    "     entry_point='__main__:timed_lunar_lander',\n",
    " )\n",
    "\n",
    "register_env(\"TimedLunarLander-v0\", timed_lunar_lander)"
   ]
  },
  {
   "cell_type": "code",
   "execution_count": null,
   "metadata": {
    "id": "5aBNrFW3frgN"
   },
   "outputs": [],
   "source": [
    "#@title -- Auxiliary Functions -- { display-mode: \"form\" }\n",
    "\n",
    "if USE_NBCAP:\n",
    "    display_size=(600, 400)\n",
    "    show_video = ShowVideoCallback(dimensions=display_size)\n",
    "\n",
    "    # make sure that only one instance\n",
    "    # of the display is ever created\n",
    "    try:\n",
    "        DISP_PROC\n",
    "    except NameError:\n",
    "        DISP_PROC = DisplayProcess(display_size=display_size)\n",
    "\n",
    "    def make_screen_recorder(max_gui_outputs=3):\n",
    "        video_path=\"output\"\n",
    "        segment_time=10\n",
    "\n",
    "        output_manager = OutputManager(max_gui_outputs=max_gui_outputs)\n",
    "        video_callback=output_manager(show_video)\n",
    "        display = DISP_PROC.id\n",
    "\n",
    "        screen_recorder = ScreenRecorder(\n",
    "            display, display_size, video_path,\n",
    "            segment_time=segment_time, video_callback=video_callback\n",
    "        )\n",
    "        \n",
    "        return screen_recorder\n",
    "\n",
    "    SCREEN_RECORDER = make_screen_recorder()\n",
    "else:\n",
    "    from contextlib import suppress\n",
    "    SCREEN_RECORDER = suppress()\n",
    "\n",
    "    def img_grab():\n",
    "        pass"
   ]
  },
  {
   "cell_type": "markdown",
   "metadata": {
    "id": "9pxzDuT9dPu2",
    "tags": [
     "sk"
    ]
   },
   "source": [
    "## OpenAI Gym Prostredia\n",
    "\n",
    "Predtým než preskúmame, ako funguje hlboké učenie s odmenou, poexperimentujeme najprv s jedným OpenAI Gym prostredím: s prostredím [Lunar Lander](https://gym.openai.com/envs/LunarLander-v2/) z [balíčka Gym od OpenAI](https://gym.openai.com/). Gym obsahuje viacero užitočných RL benchmarkových úloh, pričom všetky majú to isté unifikované rozhranie.\n",
    "\n",
    "Inštanciu prostredia si vytvoríme volaním `gym.make('TimedLunarLander-v0')`. Špecifikujeme `render_mode='human'`, aby sa nám prostredie vizualizovalo.\n",
    "\n"
   ]
  },
  {
   "cell_type": "code",
   "execution_count": null,
   "metadata": {
    "id": "0UlRW_4uhYSh"
   },
   "outputs": [],
   "source": [
    "env = gym.make('TimedLunarLander-v0', render_mode='human')"
   ]
  },
  {
   "cell_type": "markdown",
   "metadata": {
    "id": "ystJ0Bi0dPvH",
    "tags": [
     "sk"
    ]
   },
   "source": [
    "Ak chceme začať novú epizódu a inicializovať jej počiatočný stav, zavoláme funkciu `reset()`. Táto navráti naše prvé pozorovanie stavu a info slovník (ktorý budeme v tomto prípade ignorovať).\n",
    "\n",
    "Nebudeme sa teraz detailne venovať tomu, čo znamenajú jednotlivé hodnoty pozorovania. Ako príklad však povedzme, že prvé dve čísla zodpovedajú súradniciam lunárneho modulu, s ktorým sa budeme snažiť pristáť.\n",
    "\n"
   ]
  },
  {
   "cell_type": "code",
   "execution_count": null,
   "metadata": {
    "colab": {
     "base_uri": "https://localhost:8080/"
    },
    "id": "-F8Bfb2VjQFB",
    "outputId": "e62c255c-41a2-469e-b1c0-575c2503d3a2"
   },
   "outputs": [],
   "source": [
    "obs, info = env.reset()\n",
    "obs"
   ]
  },
  {
   "cell_type": "markdown",
   "metadata": {
    "id": "w6JB4wm_dPv-",
    "tags": [
     "sk"
    ]
   },
   "source": [
    "O tvare a hraniciach priestoru pozorovaní sa môžeme viac dozvedieť prostredníctvom členskej premennej `env.observation_space`. V našom prípade zistíme, že pozorovania sa skladajú z 8 čísel.\n",
    "\n"
   ]
  },
  {
   "cell_type": "code",
   "execution_count": null,
   "metadata": {
    "colab": {
     "base_uri": "https://localhost:8080/"
    },
    "id": "Gj7oHcGCnXKU",
    "outputId": "12dcdc36-48e0-40e6-c8e7-100a152659c5"
   },
   "outputs": [],
   "source": [
    "env.observation_space.shape"
   ]
  },
  {
   "cell_type": "markdown",
   "metadata": {
    "id": "K2i7vm5ddPwQ",
    "tags": [
     "sk"
    ]
   },
   "source": [
    "Hovorí sa, že lepšie raz vidieť než sto ráz počuť, preto si počiatočný stav aj vizualizujme. Samotná vizualizácia sa v skutočnosti už realizovala – lenže na strane vzdialeného servera, keďže kód spúšťame tam. Výsledok si môžeme zobraziť tak, že vytvoríme screenshot vzdialenej obrazovky pomocou funkcie `img_grab`.\n",
    "\n"
   ]
  },
  {
   "cell_type": "code",
   "execution_count": null,
   "metadata": {
    "colab": {
     "base_uri": "https://localhost:8080/",
     "height": 417
    },
    "id": "lM8jklS0lKaT",
    "outputId": "ad8358b4-031f-4fb3-ae32-0e0a32930241"
   },
   "outputs": [],
   "source": [
    "img_grab()"
   ]
  },
  {
   "cell_type": "markdown",
   "metadata": {
    "id": "SqYQbPOVdPwe",
    "tags": [
     "sk"
    ]
   },
   "source": [
    "Ako ďalší krok sa pozrime, z akých akcií bude mať náš agent na výber. Zistiť to môžeme pomocou členskej premennej `env.action_space`. V našom prípade je priestor akcií diskrétny a skladá sa zo 4 rôznych akcií, ktorých význam je takýto:\n",
    "\n",
    "* **0:**  nerobiť nič;\n",
    "* **1:**  aktivovať pravý orientačný motor;\n",
    "* **2:**  aktivovať hlavný motor;\n",
    "* **3:**  aktivovať ľavý orientačný motor.\n"
   ]
  },
  {
   "cell_type": "code",
   "execution_count": null,
   "metadata": {
    "colab": {
     "base_uri": "https://localhost:8080/"
    },
    "id": "jmQNGIcfjbn6",
    "outputId": "06c423d5-ef36-42ae-c5aa-641f53967f63"
   },
   "outputs": [],
   "source": [
    "env.action_space"
   ]
  },
  {
   "cell_type": "markdown",
   "metadata": {
    "id": "fL5PI0xudPwt",
    "tags": [
     "sk"
    ]
   },
   "source": [
    "Akcie sa vykonávajú volaním `env.step(action)`. Táto funkcia sa postará o vykonanie akcie a tiež navráti n-ticu obsahujúcu:\n",
    "\n",
    "* `obs`: nasledujúce pozorovanie;\n",
    "* `reward`: okamžitú odmenu;\n",
    "* `terminated`: či sa prostredie prirodzene ukončilo;\n",
    "* `truncated`: či sa prostredie ukončilo predčasne;\n",
    "* `info`: slovník s ďalšími informáciami špecifickými pre daný typ prostredia.\n",
    "Skúsme teraz niekoľko krokov nerobiť nič (akcia 0) a sledujme, čo sa stane s lunárnym modulom.\n",
    "\n"
   ]
  },
  {
   "cell_type": "code",
   "execution_count": null,
   "metadata": {
    "colab": {
     "base_uri": "https://localhost:8080/"
    },
    "id": "lAZyCDEDjblo",
    "outputId": "1bbfadf9-a1d3-4cab-c446-a2daabd9f543"
   },
   "outputs": [],
   "source": [
    "obs, reward, terminated, truncated, info = env.step(0)\n",
    "print(\"observation:\", obs)\n",
    "print(\"immediate reward:\", reward)"
   ]
  },
  {
   "cell_type": "markdown",
   "metadata": {
    "id": "uzuL7ybbdPxA",
    "tags": [
     "sk"
    ]
   },
   "source": [
    "Aby bol rozdiel markantnejší, spustíme tú istú akciu viackrát kým si budeme stav znovu vizualizovať. Malo by byť zrejmé, že lunárny modul zostúpil nižšie.\n",
    "\n"
   ]
  },
  {
   "cell_type": "code",
   "execution_count": null,
   "metadata": {
    "colab": {
     "base_uri": "https://localhost:8080/",
     "height": 417
    },
    "id": "rqufFCYOqFga",
    "outputId": "17b92b29-0ca9-4d03-92eb-480c4c4ef837"
   },
   "outputs": [],
   "source": [
    "for i in range(60):\n",
    "    env.step(0)\n",
    "\n",
    "img_grab()"
   ]
  },
  {
   "cell_type": "markdown",
   "metadata": {
    "id": "JfO72G6JQgnK",
    "tags": [
     "sk"
    ]
   },
   "source": [
    "Ak chcete, môžete teraz skúsiť s rozhraním ďalej experimentovať, možno sa dokonca pokúsiť ručne navrhnúť regulátor.\n",
    "\n"
   ]
  },
  {
   "cell_type": "code",
   "execution_count": null,
   "metadata": {
    "id": "HfZweErEQgnK"
   },
   "outputs": [],
   "source": []
  }
 ],
 "metadata": {
  "colab": {
   "provenance": []
  },
  "interpreter": {
   "hash": "a351393365bb1b108989afa08de3243f72f5e58927baf5d192f3cca79a41cbc4"
  },
  "kernelspec": {
   "display_name": "Python 3.9.7 ('base')",
   "language": "python",
   "name": "python3"
  },
  "language_info": {
   "codemirror_mode": {
    "name": "ipython",
    "version": 3
   },
   "file_extension": ".py",
   "mimetype": "text/x-python",
   "name": "python",
   "nbconvert_exporter": "python",
   "pygments_lexer": "ipython3",
   "version": "3.9.7"
  }
 },
 "nbformat": 4,
 "nbformat_minor": 0
}
