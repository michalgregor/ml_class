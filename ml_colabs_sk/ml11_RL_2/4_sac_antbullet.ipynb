{
 "cells": [
  {
   "cell_type": "markdown",
   "metadata": {
    "id": "4Z4HPyEGdSGT",
    "tags": [
     "sk"
    ]
   },
   "source": [
    "**POZNÁMKA: Tento notebook je určený pre platformu Google Colab, ktorá zdarma poskytuje hardvérovú akceleráciu. Je však možné ho spustiť (možno s drobnými úpravami) aj ako štandardný Jupyter notebook, pomocou lokálnej grafickej karty.** \n",
    "\n"
   ]
  },
  {
   "cell_type": "code",
   "execution_count": null,
   "metadata": {
    "colab": {
     "base_uri": "https://localhost:8080/"
    },
    "id": "h8O1zlAviemQ",
    "outputId": "f5f2cc63-93c0-4e7f-96dd-5f69475af549"
   },
   "outputs": [],
   "source": [
    "#@title -- Installation of Packages -- { display-mode: \"form\" }\n",
    "import sys\n",
    "import shutil\n",
    "USE_NBCAP = False\n",
    "\n",
    "if not shutil.which('apt') is None:\n",
    "    !apt update\n",
    "    !apt install -y xvfb x11-utils\n",
    "    !{sys.executable} -m pip install pyvirtualdisplay\n",
    "    !{sys.executable} -m pip install --upgrade pyglet\n",
    "    !{sys.executable} -m pip install git+https://github.com/michalgregor/nbcap.git\n",
    "\n",
    "    USE_NBCAP = True\n",
    "\n",
    "# as of 15th September 2022 OpenAI gym is using the new step interface, which\n",
    "# returns a 5-tuple; so we are restricting gym to 0.23.1\n",
    "!{sys.executable} -m pip install gym==0.23.1\n",
    "# !{sys.executable} -m pip install gym\n",
    "\n",
    "!{sys.executable} -m pip install pybullet\n",
    "!{sys.executable} -m pip install class_utils[tensorboard]@git+https://github.com/michalgregor/class_utils.git\n",
    "!{sys.executable} -m pip install tianshou\n",
    "!{sys.executable} -m pip install git+https://github.com/michalgregor/tianshou_agents.git"
   ]
  },
  {
   "cell_type": "code",
   "execution_count": null,
   "metadata": {
    "id": "16qErcw2iemX"
   },
   "outputs": [],
   "source": [
    "#@title -- Import of Necessary Packages -- { display-mode: \"form\" }\n",
    "%load_ext tensorboard\n",
    "\n",
    "import shutil\n",
    "if shutil.which('apt') is None:\n",
    "    USE_NBCAP = False\n",
    "else:\n",
    "    USE_NBCAP = True\n",
    "\n",
    "    from nbcap import ShowVideoCallback, ScreenRecorder, OutputManager, DisplayProcess\n",
    "\n",
    "import pybullet_envs # this sets up the environments; don't delete it\n",
    "from tianshou_agents.utils import VectorEnvRenderWrapper\n",
    "from tianshou_agents.methods.sac import sac_pybullet\n",
    "from tianshou.data import Collector\n",
    "from tianshou.env import BaseVectorEnv\n",
    "from tianshou_agents.components.preset import AgentPresetWrapper\n",
    "from tianshou_agents.components.env import setup_envs\n",
    "from functools import partial\n",
    "import gym"
   ]
  },
  {
   "cell_type": "code",
   "execution_count": null,
   "metadata": {
    "id": "zgowy3S9iemv"
   },
   "outputs": [],
   "source": [
    "#@title -- Auxiliary Functions -- { display-mode: \"form\" }\n",
    "\n",
    "if USE_NBCAP:\n",
    "    display_size = (700, 500)\n",
    "    show_video = ShowVideoCallback(dimensions=(700, 500))\n",
    "\n",
    "    # make sure that only one instance\n",
    "    # of the display is ever created\n",
    "    try:\n",
    "        DISP_PROC\n",
    "    except NameError:\n",
    "        DISP_PROC = DisplayProcess(display_size=display_size)\n",
    "\n",
    "    def make_screen_recorder(max_gui_outputs=1):\n",
    "        video_path=\"output\"\n",
    "        segment_time=10\n",
    "\n",
    "        output_manager = OutputManager(max_gui_outputs=max_gui_outputs)\n",
    "        video_callback=output_manager(show_video)\n",
    "        display = DISP_PROC.id\n",
    "\n",
    "        screen_recorder = ScreenRecorder(\n",
    "            display, display_size, video_path,\n",
    "            segment_time=segment_time, video_callback=video_callback\n",
    "        )\n",
    "        \n",
    "        return screen_recorder\n",
    "\n",
    "    SCREEN_RECORDER = make_screen_recorder()\n",
    "else:\n",
    "    from contextlib import suppress\n",
    "    SCREEN_RECORDER = suppress()\n",
    "\n",
    "class RenderCollector(Collector):\n",
    "    def __init__(self, collector, render=0.01):\n",
    "        self.collector = collector\n",
    "\n",
    "        if isinstance(self.collector.env, BaseVectorEnv):\n",
    "            self.collector.env = VectorEnvRenderWrapper(\n",
    "                self.collector.env)\n",
    "\n",
    "        self.render = render\n",
    "\n",
    "    @property\n",
    "    def collect_time(self):\n",
    "        return max(self.collector.collect_time, 1e-20)\n",
    "\n",
    "    @collect_time.setter\n",
    "    def collect_time(self, val):\n",
    "        self.collector.collect_time = val\n",
    "\n",
    "    def collect(\n",
    "        self, n_step = None, n_episode = None, random = False,\n",
    "        render = None, no_grad = True,\n",
    "    ):\n",
    "        with SCREEN_RECORDER:\n",
    "            render = render or self.render\n",
    "            return self.collector.collect(n_step, n_episode, random, render, no_grad)\n",
    "\n",
    "    def __getattr__(self, name):\n",
    "        if name.startswith('_'):\n",
    "            raise AttributeError(\"attempted to get missing private attribute '{}'\".format(name))\n",
    "        return getattr(self.collector, name)\n",
    "\n",
    "    def __str__(self):\n",
    "        return '<{}{}>'.format(type(self).__name__, self.collector)\n",
    "\n",
    "    def __repr__(self):\n",
    "        return str(self)\n",
    "\n",
    "class AddRenderCollector:\n",
    "    def __init__(self, render=0.01):\n",
    "        self._prev_test_envs = None\n",
    "        self.render = render\n",
    "\n",
    "    def __call__(self, agent):\n",
    "        # we close the previous pyglet window before\n",
    "        # opening a new one to work around a bug on Windows\n",
    "        if not self._prev_test_envs is None:\n",
    "            self._prev_test_envs.close()\n",
    "\n",
    "        agent.test_collector = RenderCollector(\n",
    "            agent.test_collectorm, render=self.render\n",
    "        )\n",
    "        \n",
    "        self._prev_test_envs = agent.test_envs\n",
    "\n",
    "        return agent\n",
    "    \n",
    "class AgentPresetPatch(AgentPresetWrapper):\n",
    "    def __init__(self, preset, render=None):\n",
    "        super().__init__(preset)\n",
    "        self._prev_test_envs = None\n",
    "        self.render = render\n",
    "\n",
    "    def _resolve_tasks(self, train_task, test_task, task_name):\n",
    "        if train_task is None:\n",
    "            train_task = partial(gym.make, task_name)\n",
    "\n",
    "        if test_task is None:\n",
    "            test_task = train_task\n",
    "\n",
    "        return train_task, test_task\n",
    "    \n",
    "    def __call__(self, task_name, *args, **kwargs):\n",
    "        # we close the previous GUI before opening a new one\n",
    "        if not self._prev_test_envs is None:\n",
    "            self._prev_test_envs.close()\n",
    "\n",
    "        params = self.derive_conf()\n",
    "        params.update(kwargs)\n",
    "\n",
    "        train_task, test_task = self._resolve_tasks(\n",
    "            params.get('task'),\n",
    "            params.get('test_task'),\n",
    "            task_name\n",
    "        )\n",
    "        \n",
    "        params['train_envs'] = setup_envs(\n",
    "            train_task,\n",
    "            params['train_collector']['env_class'],\n",
    "            params['train_collector']['env']\n",
    "        )\n",
    "        \n",
    "        params['test_envs'] = setup_envs(\n",
    "            test_task,\n",
    "            params['test_collector']['env_class'],\n",
    "            params['test_collector']['env']\n",
    "        )\n",
    "        \n",
    "        params['test_envs'].workers[0].render()\n",
    "        params['test_envs'].workers[0].reset()\n",
    "        \n",
    "        agent = self._preset(task_name, *args, **params)\n",
    "\n",
    "        agent.test_collector = RenderCollector(\n",
    "            agent.test_collector, render=self.render\n",
    "        )\n",
    "        \n",
    "        self._prev_test_envs = agent.test_envs\n",
    "        \n",
    "        return agent\n",
    "        \n",
    "sac_pybullet = AgentPresetPatch(sac_pybullet)"
   ]
  },
  {
   "cell_type": "markdown",
   "metadata": {
    "id": "o3LJaKIndSHo",
    "tags": [
     "sk"
    ]
   },
   "source": [
    "## Učiť sa kráčať pomocou RL so spojitými akciami\n",
    "\n",
    "Ako ďalší príklad sa pokúsime vyriešiť o čosi náročnejšiu úlohu: ukážeme, ako sa dá pomocou metódy soft actor critic (SAC) natrénovať chôdza 4-nohého robota v simulácii fyziky založenej na balíčku PyBullet. Notebook má slúžiť hlavne ako demonštrácia – znovu použijeme predpripravenú predvoľbu: v tomto prípade `sac_pybullet`. V tomto prípade však bude tréning trvať podstatne dlhšie.\n",
    "\n"
   ]
  },
  {
   "cell_type": "code",
   "execution_count": null,
   "metadata": {
    "id": "mekQLoNpykDY"
   },
   "outputs": [],
   "source": [
    "agent = sac_pybullet('AntBulletEnv-v0', seed=0,\n",
    "                     test_envs=1, episode_per_test=3)"
   ]
  },
  {
   "cell_type": "code",
   "execution_count": null,
   "metadata": {
    "id": "pdQ5H_8kykDZ"
   },
   "outputs": [],
   "source": [
    "agent.train(max_epoch=250, step_per_epoch=1000)"
   ]
  },
  {
   "cell_type": "code",
   "execution_count": null,
   "metadata": {
    "id": "bEWn1Viz2JvT"
   },
   "outputs": [],
   "source": [
    "test_results = agent.test()"
   ]
  }
 ],
 "metadata": {
  "accelerator": "GPU",
  "celltoolbar": "Tags",
  "colab": {
   "collapsed_sections": [],
   "provenance": []
  },
  "kernelspec": {
   "display_name": "Python 3.9.12 ('base')",
   "language": "python",
   "name": "python3"
  },
  "language_info": {
   "codemirror_mode": {
    "name": "ipython",
    "version": 3
   },
   "file_extension": ".py",
   "mimetype": "text/x-python",
   "name": "python",
   "nbconvert_exporter": "python",
   "pygments_lexer": "ipython3",
   "version": "3.9.12"
  },
  "vscode": {
   "interpreter": {
    "hash": "a351393365bb1b108989afa08de3243f72f5e58927baf5d192f3cca79a41cbc4"
   }
  }
 },
 "nbformat": 4,
 "nbformat_minor": 0
}
