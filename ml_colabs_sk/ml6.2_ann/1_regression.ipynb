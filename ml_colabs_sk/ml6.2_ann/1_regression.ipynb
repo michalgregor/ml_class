{
 "cells": [
  {
   "cell_type": "markdown",
   "metadata": {
    "colab_type": "text",
    "id": "jG-jka27L_O_",
    "tags": [
     "sk"
    ]
   },
   "source": [
    "**POZNÁMKA: Tento notebook je určený pre platformu Google Colab, ktorá zdarma poskytuje hardvérovú akceleráciu. Je však možné ho spustiť (možno s drobnými úpravami) aj ako štandardný Jupyter notebook, pomocou lokálnej grafickej karty.** \n",
    "\n"
   ]
  },
  {
   "cell_type": "code",
   "execution_count": null,
   "metadata": {
    "colab": {
     "base_uri": "https://localhost:8080/",
     "height": 1000
    },
    "colab_type": "code",
    "id": "PQYmhASVL_PI",
    "outputId": "fd214f1a-06e7-4763-a46a-f9dbc4a8dbf0"
   },
   "outputs": [],
   "source": [
    "#@title -- Installation of Packages -- { display-mode: \"form\" }\n",
    "import sys\n",
    "!{sys.executable} -m pip install git+https://github.com/michalgregor/class_utils.git"
   ]
  },
  {
   "cell_type": "code",
   "execution_count": null,
   "metadata": {
    "colab": {
     "base_uri": "https://localhost:8080/",
     "height": 72
    },
    "colab_type": "code",
    "id": "r8y8qp8gL_Pp",
    "outputId": "07b90e01-87fb-45bf-b80f-546a8f765dcc"
   },
   "outputs": [],
   "source": [
    "#@title -- Import of Necessary Packages -- { display-mode: \"form\" }\n",
    "import numpy as np\n",
    "import pandas as pd\n",
    "import matplotlib.pyplot as plt\n",
    "from sklearn.model_selection import train_test_split\n",
    "from sklearn.metrics import mean_squared_error, mean_absolute_error\n",
    "from sklearn.preprocessing import StandardScaler, OneHotEncoder, KBinsDiscretizer\n",
    "from sklearn.impute import SimpleImputer\n",
    "from sklearn.compose import make_column_transformer\n",
    "from sklearn.pipeline import make_pipeline\n",
    "from class_utils import error_histogram\n",
    "import torch.nn as nn\n",
    "import torch"
   ]
  },
  {
   "cell_type": "code",
   "execution_count": null,
   "metadata": {
    "colab": {
     "base_uri": "https://localhost:8080/",
     "height": 35
    },
    "colab_type": "code",
    "id": "qWIal29oL_P6",
    "outputId": "756a47ce-2e26-45be-bd1d-449d32cefd47"
   },
   "outputs": [],
   "source": [
    "#@title -- Downloading Data -- { display-mode: \"form\" }\n",
    "from class_utils.download import download_file_maybe_extract\n",
    "download_file_maybe_extract(\"https://www.dropbox.com/s/p5q7gzupa2ndw55/sigmoid_regression_data.csv?dl=1\", directory=\"data\")\n",
    "\n",
    "# also create a directory for storing any outputs\n",
    "import os\n",
    "os.makedirs(\"output\", exist_ok=True)"
   ]
  },
  {
   "attachments": {},
   "cell_type": "markdown",
   "metadata": {
    "colab_type": "text",
    "id": "RpxiJ5rgL_QP",
    "tags": [
     "sk"
    ]
   },
   "source": [
    "## Regresia založená na neurónových sieťach\n",
    "\n",
    "V tomto notebooku ukážeme, ako sa jednoduchá neurónová sieť vytvorená pomocou balíčka `PyTorch` dá aplikovať na regresné úlohy. Vytvoríme si veľmi jednoduchý viacvrstvý perceptrón, natrénujeme ho a vizualizujeme si výsledky.\n",
    "\n",
    "### Dátová množina\n",
    "\n",
    "Začnime definovaním regresnej úlohy. Načítame si dátovú množinu z CSV súboru – dáta sú zašumené vzorky zo sigmoidnej (logistickej) krivky. Keďže sme sa s podobnými typmi dát už v predchádzajúcich notebookoch stretli, nebudeme sa v tomto prípade podrobne venovať načítaniu a predspracovaniu dát a kód nasledujúcej bunky ponecháme skrytý.\n",
    "\n"
   ]
  },
  {
   "cell_type": "code",
   "execution_count": null,
   "metadata": {
    "colab": {
     "base_uri": "https://localhost:8080/",
     "height": 279
    },
    "colab_type": "code",
    "id": "WyM9YplXL_QU",
    "outputId": "0b29ebc5-a219-45cc-95ec-a64527f0ae39"
   },
   "outputs": [],
   "source": [
    "#@title -- Data Loading and Preprocessing; X_train, Y_train, X_test, Y_test -- { display-mode: \"form\" }\n",
    "df = pd.read_csv(\"data/sigmoid_regression_data.csv\")\n",
    "\n",
    "# we create a discretized version of the y column\n",
    "# to allow for stratification\n",
    "kbins = KBinsDiscretizer(6, encode='ordinal')\n",
    "y_stratify = kbins.fit_transform(df[['y']])\n",
    "\n",
    "# we split the dataset into train and test\n",
    "df_train, df_test = train_test_split(df, stratify=y_stratify,\n",
    "                                 test_size=0.3, random_state=4)\n",
    "\n",
    "# we specify the inputs and the outputs\n",
    "categorical_inputs = []\n",
    "numeric_inputs = ['x']\n",
    "output = ['y']\n",
    "\n",
    "# we create the pipeline\n",
    "input_preproc = make_column_transformer(\n",
    "    (make_pipeline(\n",
    "        SimpleImputer(strategy='constant', fill_value='MISSING'),\n",
    "        OneHotEncoder()),\n",
    "     categorical_inputs),\n",
    "    \n",
    "    (make_pipeline(\n",
    "        SimpleImputer(),\n",
    "        StandardScaler()),\n",
    "     numeric_inputs)\n",
    ")\n",
    "\n",
    "# we fit and apply the pipeline on the train set\n",
    "X_train = input_preproc.fit_transform(df_train[categorical_inputs+numeric_inputs])\n",
    "Y_train = df_train[output].values\n",
    "\n",
    "# we apply the same pipeline to the test set,\n",
    "# taking care to use transform and not fit_transform\n",
    "X_test = input_preproc.transform(df_test[categorical_inputs+numeric_inputs])\n",
    "Y_test = df_test[output].values\n",
    "\n",
    "# we plot the data for visual inspection\n",
    "plt.scatter(X_train, Y_train, marker='x', label=\"training data\")\n",
    "plt.scatter(X_test, Y_test, c='r', label=\"testing data\")\n",
    "plt.xlabel('x')\n",
    "plt.ylabel('y')\n",
    "plt.grid(ls='--')\n",
    "plt.legend()\n",
    "plt.savefig(\"output/regression_data.pdf\", bbox_inches='tight', pad_inches=0)"
   ]
  },
  {
   "cell_type": "markdown",
   "metadata": {
    "colab_type": "text",
    "id": "0Ot7m2VTL_Qm",
    "tags": [
     "sk"
    ]
   },
   "source": [
    "Okrem štandardného predspracovania výsledky ešte transformujeme do dátových typov, ktoré očakáva PyTorch: t.j. na PyTorch tenzory (podobné `numpy` poliam, ale s podporou pre autodiff) 32-bitových float-ov.\n",
    "\n"
   ]
  },
  {
   "cell_type": "code",
   "execution_count": null,
   "metadata": {
    "colab": {},
    "colab_type": "code",
    "id": "D034I7pzL_Qq"
   },
   "outputs": [],
   "source": [
    "X_train = torch.as_tensor(X_train, dtype=torch.float32)\n",
    "Y_train = torch.as_tensor(Y_train, dtype=torch.float32)\n",
    "X_test = torch.as_tensor(X_test, dtype=torch.float32)\n",
    "Y_test = torch.as_tensor(Y_test, dtype=torch.float32)"
   ]
  },
  {
   "cell_type": "markdown",
   "metadata": {
    "colab_type": "text",
    "id": "3VK7lgpKRXlq",
    "tags": [
     "sk"
    ]
   },
   "source": [
    "### Výber zariadenia a prenos našich údajov\n",
    "\n",
    "Naša neurónová sieť môže bežať na niekoľkých rôznych druhoch zariadení. V predvolenom nastavení všetko beží na procesore (CPU), ale PyTorch podporuje aj určité druhy grafických kariet (GPU), ktorých použitie môže veľmi výrazne urýchliť výpočty. Existujú aj iné špeciálne zariadenia, ako sú TPU, FPGA atď., ale ak chcete model spustiť na nich, budete typicky potrebovať nejaké rozšírenia PyTorch-u.\n",
    "\n",
    "Teraz teda špecifikujme, aký druh zariadenia chceme použiť: povedzme, že chceme použiť GPU, ak je k dispozícii, a CPU, ak nie je. Dostupnosť GPU môžeme skontrolovať pomocou `torch.cuda.is_available`. Za zmienku stojí, že na počítačoch s viacerými GPU si môžete vybrať, ktoré konkrétne GPU (alebo skupinu GPU) chcete použiť – to je však už nad rámec tohto notebooku.\n",
    "\n",
    "Tu jednoducho vyberieme `\"cuda\"` (GPU, takto pomenované podľa framework-u CUDA od Nvidie), ak platí `torch.cuda.is_available()` a `\"cpu\"` inak .\n",
    "\n"
   ]
  },
  {
   "cell_type": "code",
   "execution_count": null,
   "metadata": {},
   "outputs": [],
   "source": [
    "device = \"cuda\" if torch.cuda.is_available() else \"cpu\""
   ]
  },
  {
   "cell_type": "markdown",
   "metadata": {
    "colab_type": "text",
    "id": "3VK7lgpKRXlq",
    "tags": [
     "sk"
    ]
   },
   "source": [
    "Keď na spustenie modelu používame určité zariadenie, musíme sa uistiť, že aj svoje dáta prenesieme do pamäte tohto zariadenia. To sa dá ľahko urobiť pomocou metódy `.to(device)` poskytovanej PyTorch tenzormi. Ak chceme dáta teraz preniesť do zariadenia, ktoré sme zvolili, môžeme spustiť:\n",
    "\n"
   ]
  },
  {
   "cell_type": "code",
   "execution_count": null,
   "metadata": {},
   "outputs": [],
   "source": [
    "X_train = X_train.to(device)\n",
    "Y_train = Y_train.to(device)\n",
    "X_test = X_test.to(device)\n",
    "Y_test = Y_test.to(device)"
   ]
  },
  {
   "attachments": {},
   "cell_type": "markdown",
   "metadata": {
    "colab_type": "text",
    "id": "Vbboi4gfL_Q6",
    "tags": [
     "sk"
    ]
   },
   "source": [
    "### Vytvorenie neurónovej siete a trénovanie\n",
    "\n",
    "Ak chceme vytvoriť našu neurónovú sieť, budeme dediť zo základnej triedy `nn.Module`. Všetky vrstvy s trénovateľnými parametrami vytvárame v konštruktore a priraďujeme ich ako atribúty našej sieti. Spôsob, akým sú vrstvy jedna s druhou prepojené a akým vypočítavajú zo svojich vstupov výstup, je definovaný v metóde `forward`. Neurónová sieť musí mať určitý pevný počet vstupných a výstupných neurónov. Počet vstupov bude samozrejme rovný počtu stĺpcov v našej `X_train` množine, zatiaľ čo počet výstupov bude rovný počtu stĺpcov vo `Y_train` množine.\n",
    "\n",
    "Pripomeňme, že v neurónových sieťach určených na regresiu sa typicky **necháva posledná vrstva lineárna**  (bez aktivačnej funkcie), aby bola schopná produkovať neohraničené výstupy a nemusela sa učiť invertovať vplyv nelineárnych aktivačných funkcií keď ich tvar nie je vhodný pre regresnú úlohu.\n",
    "\n"
   ]
  },
  {
   "cell_type": "code",
   "execution_count": null,
   "metadata": {
    "colab": {},
    "colab_type": "code",
    "id": "oANQWkmvL_Q-"
   },
   "outputs": [],
   "source": [
    "class Net(nn.Module):\n",
    "    def __init__(self, num_inputs, num_outputs):\n",
    "        super().__init__()\n",
    "        self.fc1 = nn.Linear(num_inputs, 10)\n",
    "        self.fc2 = nn.Linear(10, 10)\n",
    "        self.fc3 = nn.Linear(10, num_outputs)\n",
    "\n",
    "    def forward(self, x):\n",
    "        y = self.fc1(x)\n",
    "        y = torch.relu(y)\n",
    "        \n",
    "        y = self.fc2(y)\n",
    "        y = torch.relu(y)\n",
    "        \n",
    "        y = self.fc3(y)        \n",
    "        return y"
   ]
  },
  {
   "cell_type": "markdown",
   "metadata": {
    "colab_type": "text",
    "id": "pGtn8sU-T-Fv",
    "tags": [
     "sk"
    ]
   },
   "source": [
    "Teraz sme pripravení vytvoriť model. Všimnite si, že model je opäť potrebné preniesť do zvoleného zariadenia, čo sa robí presne rovnakým spôsobom, aký sme použili s údajmi: volaním `.to(device)`.\n",
    "\n"
   ]
  },
  {
   "cell_type": "code",
   "execution_count": null,
   "metadata": {},
   "outputs": [],
   "source": [
    "num_inputs = X_train.shape[1]\n",
    "num_outputs = Y_train.shape[1]\n",
    "\n",
    "model = Net(num_inputs, num_outputs)\n",
    "model = model.to(device)"
   ]
  },
  {
   "cell_type": "markdown",
   "metadata": {
    "colab_type": "text",
    "id": "pGtn8sU-T-Fv",
    "tags": [
     "sk"
    ]
   },
   "source": [
    "#### Spustenie siete\n",
    "\n",
    "Ak sme urobili všetko správne, teraz by sme mali byť schopní spustiť model na na našich dátach. Skúsme to s prvými 5 riadkami z `X_train`.\n",
    "\n"
   ]
  },
  {
   "cell_type": "code",
   "execution_count": null,
   "metadata": {},
   "outputs": [],
   "source": [
    "y = model(X_train[:5, ...])\n",
    "y"
   ]
  },
  {
   "attachments": {},
   "cell_type": "markdown",
   "metadata": {
    "colab_type": "text",
    "id": "pGtn8sU-T-Fv",
    "tags": [
     "sk"
    ]
   },
   "source": [
    "#### Tenzory, gradienty, detaching\n",
    "\n",
    "Možno ste si všimli `grad_fn` vo výpise nášho tenzora. Ako už bolo spomenuté, PyTorch tenzory majú vstavanú podporu pre autodiff. Keď na nich spustíte nejaké operácie, priebežne sa vytvára výpočtový graf, ktorým je potom možné robiť spätné šírenie.\n",
    "\n",
    "Ak sa chystáte s vašimi tenzormi vykonávať ďalšie operácie, ktoré nie sú súčasťou tréningového procesu, ako je logovanie hodnôt chybovej funkcie, zobrazovanie grafov atď., je dobré extrahovať len údaje a zbaviť sa výpočtového grafu skôr než urobíte čokoľvek iné. Dá sa to realizovať pomocou `.detach()`; keď si zobrazíme tenzor, uvidíme, že časť `grad_fn` zmizla.\n",
    "\n"
   ]
  },
  {
   "cell_type": "code",
   "execution_count": null,
   "metadata": {},
   "outputs": [],
   "source": [
    "y.detach()"
   ]
  },
  {
   "cell_type": "markdown",
   "metadata": {
    "colab_type": "text",
    "id": "pGtn8sU-T-Fv",
    "tags": [
     "sk"
    ]
   },
   "source": [
    "#### Konverzia na NumPy\n",
    "\n",
    "Ak chcete tenzor konvertovať na `numpy` pole, môžete na ňom spustiť metodu `.numpy()`. Keďže tenzor môže mať pripojené informácie o gradiente, vo všeobecnosti je dobré najskôr zavolať `.detach`. Okrem toho môže byť tenzor na inom zariadení, takže pre istotu zvyčajne budete najprv voláme `.cpu()`, aby sme ho preniesli späť do CPU.\n",
    "\n",
    "T.j. toto je spoľahlivý spôsob konverzie PyTorch tenzorov na numpy polia:\n",
    "\n"
   ]
  },
  {
   "cell_type": "code",
   "execution_count": null,
   "metadata": {},
   "outputs": [],
   "source": [
    "y_np = y.detach().cpu().numpy()\n",
    "y_np"
   ]
  },
  {
   "cell_type": "markdown",
   "metadata": {
    "colab_type": "text",
    "id": "pGtn8sU-T-Fv",
    "tags": [
     "sk"
    ]
   },
   "source": [
    "Podobne, ak váš tenzor obsahuje skalár, môžete ho extrahovať jednoducho volaním `.item()`:\n",
    "\n"
   ]
  },
  {
   "cell_type": "code",
   "execution_count": null,
   "metadata": {},
   "outputs": [],
   "source": [
    "y_scalar = y.mean()\n",
    "s = y_scalar.detach().cpu().item()\n",
    "s"
   ]
  },
  {
   "cell_type": "markdown",
   "metadata": {
    "colab_type": "text",
    "id": "pGtn8sU-T-Fv",
    "tags": [
     "sk"
    ]
   },
   "source": [
    "#### Spustenie bez gradientov\n",
    "\n",
    "Keď spúšťate model mimo tréningu, zvyčajne nebudete potrebovať podporu autodiffu a výpočtový graf. V takýchto prípadoch je dobrý nápad výpočtový graf vypnúť, pretože jeho vytvorenie tiež kladie určité výpočtové nároky. Realizovať to možno tak, že PyTorch volania umiestnite do kontextu `torch.no_grad()`, napr.:\n",
    "\n"
   ]
  },
  {
   "cell_type": "code",
   "execution_count": null,
   "metadata": {},
   "outputs": [],
   "source": [
    "with torch.no_grad():\n",
    "    y = model(X_train[:5, ...])\n",
    "\n",
    "y"
   ]
  },
  {
   "cell_type": "markdown",
   "metadata": {
    "colab_type": "text",
    "id": "pGtn8sU-T-Fv",
    "tags": [
     "sk"
    ]
   },
   "source": [
    "Všimnite si, že tenzor teraz nemá `grad_fn`, hoci keď sme na ňom nespustili `.detach()`. Dôvodom je, že kontext `torch.no_grad()` zabránil tomu, aby sa výpočtový graf vôbec zostavil.\n",
    "\n",
    "#### Režim train vs. režim eval\n",
    "\n",
    "PyTorch má viacero špeciálnych vrstiev, ktoré sa počas tréningu správajú inak než počas inferencie. Existuje napríklad vrstva dropout, ktorá počas tréningu náhodne vypína určitú časť svojich neurónov, aby tým pomohla predísť preučeniu sa siete. Počas inferencie je toto správanie, samozrejme, deaktivované, pretože nechceme negatívne ovplyvniť kvalitu predikcií.\n",
    "\n",
    "Na podporu oboch týchto prípadov disponujú PyTorch modely dvoma odlišnými režimami:\n",
    "\n",
    "* **Tréningový režim:**  Pri trénovaní prepnete model do tréningového režimu volaním `model.train()`;\n",
    "* **Režim hodnotenia:**  Keď spúšťate inferenciu, prepnete ho do režimu hodnotenia volaním `model.eval()`.\n"
   ]
  },
  {
   "cell_type": "code",
   "execution_count": null,
   "metadata": {},
   "outputs": [],
   "source": [
    "# during training:\n",
    "model.train()\n",
    "y = model(X_train[:5, ...])\n",
    "\n",
    "# during inference:\n",
    "model.eval()\n",
    "with torch.no_grad():\n",
    "    y = model(X_test[:5, ...])"
   ]
  },
  {
   "cell_type": "markdown",
   "metadata": {
    "colab_type": "text",
    "id": "pGtn8sU-T-Fv",
    "tags": [
     "sk"
    ]
   },
   "source": [
    "### Tréningová slučka\n",
    "\n",
    "Napokon už ostáva len spustiť učenie. V PyTorch-i je na to potrebné pomerne veľké množstvo kódu: musíme vytvoriť chybovú funkciu, optimalizátor a predovšetkým od nuly napísať celú tréningovú slučku. Tento prístup však poskytuje veľkú flexibilitu, čo bude veľmi užitočné pri vytváraní a trénovaní zložitejších modelov.\n",
    "\n",
    "V neskorších príkladoch si ukážeme, ako trénovať na minidávkach a budeme môcť tréningovú slučku vylepšiť ďalšími sofistikovanejšími funkciami, ako sú scheduling rýchlosti učenia (learning rate scheduling), skoré ukončenie učenia (early stopping), načítanie dát za behu a zväčšovanie dátovej množiny (data augmentation), atď. Tu však začneme veľmi jednoduchou verziou. Keďže sú naše dáta maličké, tréning budeme realizovať v plne dávkovom režime, t.j. všetky tréningové dáta budeme vkladať do modelu naraz.\n",
    "\n",
    "#### Vytvorenie optimalizátora\n",
    "\n",
    "Ako optimalizátor použijeme `Adam`. Pri jeho konštrukcii musíme špecifikovať:\n",
    "\n",
    "* aké parametre sa budú optimalizovať – zadáme `model.parameters()`, teda parametre nášho modelu;\n",
    "* aká bude rýchlosť učenia.\n",
    "#### Konštrukcia chybovej funkcie\n",
    "\n",
    "Ako chybovú funkciu budeme používať **strednú kvadratickú chybu** , ktorá je bežnou voľbou pri regresných úlohách. Skonštruujeme ju jednoducho pomocou `nn.MSELoss` balíčka PyTorch.\n",
    "\n",
    "Zvyšnú časť kódu tréningovej slučky vysvetlíme prostredníctvom komentárov v nasledujúcej bunke.\n",
    "\n"
   ]
  },
  {
   "cell_type": "code",
   "execution_count": null,
   "metadata": {
    "tags": [
     "sk"
    ]
   },
   "outputs": [],
   "source": [
    "criterion = nn.MSELoss()\n",
    "optimizer = torch.optim.Adam(model.parameters(), lr=1e-3)\n",
    "loss_train = [] # tu si uložíme tréningové chyby na neskoršie vykreslenie\n",
    "\n",
    "# budeme trénovať zopár epoch\n",
    "for epoch in range(1000):\n",
    "    # model dáme do tréningového režimu\n",
    "    model.train()\n",
    "\n",
    "    # spustíme model na dátach\n",
    "    y = model(X_train)\n",
    "\n",
    "    # zmeriame hodnotu chybovej funkcie a uložíme si ju\n",
    "    loss = criterion(y, Y_train)\n",
    "    loss_train.append(loss.detach().item())\n",
    "\n",
    "    # vymažeme všetky gradienty, ktoré sa vypočítali\n",
    "    # v rámci predošlej iterácie\n",
    "    optimizer.zero_grad()\n",
    "\n",
    "    # realizujeme spätné šírenie chyby\n",
    "    loss.backward()\n",
    "\n",
    "    # pomocou optimalizátora aktualizujeme váhy\n",
    "    optimizer.step()\n",
    "\n",
    "    # raz za čas zobrazíme report o progrese\n",
    "    if epoch % 100 == 0:\n",
    "        print(f\"epoch {epoch}, loss: {np.mean(loss_train[-20:])}\")\n",
    "\n",
    "print(f\"epoch {epoch}, loss: {np.mean(loss_train[-20:])}\")"
   ]
  },
  {
   "cell_type": "markdown",
   "metadata": {
    "colab_type": "text",
    "id": "uk7CrelwL_Rq",
    "tags": [
     "sk"
    ]
   },
   "source": [
    "### Testovanie\n",
    "\n",
    "Keď sme model natrénovali, sme pripravení otestovať, ako dobre funguje. Model nezabudneme najprv uviesť do evaluačného režimu pomocou `model.eval()` a spustiť ho v rámci `torch.no_grad()`, aby sa zbytočne nevytváral výpočtový graf.\n",
    "\n",
    "Na vyhodnotenie si vypočítame MSE, MAE a zobrazíme náš zvyčajný histogram chýb so štandardizovanou škálou.\n",
    "\n",
    "#### Na tréningových dátach\n",
    "\n"
   ]
  },
  {
   "cell_type": "code",
   "execution_count": null,
   "metadata": {},
   "outputs": [],
   "source": [
    "Y_train_cpu = Y_train.cpu()\n",
    "\n",
    "model.eval()\n",
    "with torch.no_grad():\n",
    "    y_train_cpu = model(X_train).cpu()\n",
    "\n",
    "# we compute and display the MSE and the MAE\n",
    "mse = mean_squared_error(Y_train_cpu, y_train_cpu)\n",
    "print(\"MSE = {}\".format(mse))\n",
    "\n",
    "mae = mean_absolute_error(Y_train_cpu, y_train_cpu)\n",
    "print(\"MAE = {}\".format(mae))\n",
    "\n",
    "# we display the error histogram\n",
    "plt.figure(figsize=(8, 6))\n",
    "error_histogram(Y_train_cpu, y_train_cpu, Y_fit_scaling=Y_train_cpu)"
   ]
  },
  {
   "cell_type": "markdown",
   "metadata": {
    "colab_type": "text",
    "id": "WZdsMJsxLdAW",
    "tags": [
     "sk"
    ]
   },
   "source": [
    "#### Na testovacích dátach\n",
    "\n"
   ]
  },
  {
   "cell_type": "code",
   "execution_count": null,
   "metadata": {},
   "outputs": [],
   "source": [
    "Y_test_cpu = Y_test.cpu()\n",
    "\n",
    "model.eval()\n",
    "with torch.no_grad():\n",
    "    y_test_cpu = model(X_test).cpu()\n",
    "\n",
    "# we compute and display the MSE and the MAE\n",
    "mse = mean_squared_error(Y_test_cpu, y_test_cpu)\n",
    "print(\"MSE = {}\".format(mse))\n",
    "\n",
    "mae = mean_absolute_error(Y_test_cpu, y_test_cpu)\n",
    "print(\"MAE = {}\".format(mae))\n",
    "\n",
    "# we display the error histogram\n",
    "plt.figure(figsize=(8, 6))\n",
    "error_histogram(Y_test_cpu, y_test_cpu, Y_fit_scaling=Y_train)"
   ]
  },
  {
   "cell_type": "markdown",
   "metadata": {
    "colab_type": "text",
    "id": "WZdsMJsxLdAW",
    "tags": [
     "sk"
    ]
   },
   "source": [
    "Tieto výsledky indikujú, že model funguje celkom dobre – chyby sú nízke na tréningovej aj testovacej množine. Keďže pracujeme s 2D dátami, vykreslime si body aj v pôvodnom priestore.\n",
    "\n",
    "Stále môžeme pozorovať drobné artefakty v niektorých častiach krivky, ale celkový tvar by mal byť zachytený vcelku dobre, ak sú naše výsledky na tréningovej aj testovacej množine dobré.\n",
    "\n"
   ]
  },
  {
   "cell_type": "code",
   "execution_count": null,
   "metadata": {
    "colab": {
     "base_uri": "https://localhost:8080/",
     "height": 279
    },
    "colab_type": "code",
    "id": "UyT19LaJL_R3",
    "outputId": "1d1008ac-dd73-48d3-e6fe-f83511e1670e"
   },
   "outputs": [],
   "source": [
    "#@title -- Regression Curve vs. Data -- { display-mode: \"form\" }\n",
    "x_min = min(torch.min(X_train), torch.min(X_test))\n",
    "x_max = max(torch.max(X_train), torch.max(X_test))\n",
    "xx = torch.linspace(x_min, x_max, 250).reshape((-1, 1))\n",
    "\n",
    "model.eval()\n",
    "with torch.no_grad():\n",
    "    yy = model(xx.to(device))\n",
    "    yy = yy.cpu()\n",
    "\n",
    "plt.scatter(X_train.cpu(), Y_train.cpu(), marker='x', label=\"training data\")\n",
    "plt.scatter(X_test.cpu(), Y_test.cpu(), c='r', label=\"testing data\")\n",
    "\n",
    "plt.plot(xx, yy, label=\"regression curve\", c='k')\n",
    "\n",
    "plt.xlabel('x')\n",
    "plt.ylabel('y')\n",
    "plt.grid(ls='--')\n",
    "plt.legend()\n",
    "\n",
    "plt.savefig(\"output/regression.pdf\", bbox_inches=\"tight\", pad_inches=0)"
   ]
  },
  {
   "cell_type": "code",
   "execution_count": null,
   "metadata": {
    "colab": {},
    "colab_type": "code",
    "id": "dFb8rM1eL_SB"
   },
   "outputs": [],
   "source": []
  }
 ],
 "metadata": {
  "accelerator": "GPU",
  "celltoolbar": "Tags",
  "colab": {
   "collapsed_sections": [],
   "name": "3_regression.ipynb",
   "provenance": []
  },
  "kernelspec": {
   "display_name": "Python 3",
   "language": "python",
   "name": "python3"
  },
  "language_info": {
   "codemirror_mode": {
    "name": "ipython",
    "version": 3
   },
   "file_extension": ".py",
   "mimetype": "text/x-python",
   "name": "python",
   "nbconvert_exporter": "python",
   "pygments_lexer": "ipython3",
   "version": "3.8.10"
  },
  "vscode": {
   "interpreter": {
    "hash": "a351393365bb1b108989afa08de3243f72f5e58927baf5d192f3cca79a41cbc4"
   }
  }
 },
 "nbformat": 4,
 "nbformat_minor": 1
}
