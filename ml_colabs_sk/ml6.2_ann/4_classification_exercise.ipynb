{
 "cells": [
  {
   "cell_type": "markdown",
   "metadata": {
    "colab_type": "text",
    "id": "g4K7KJppK-9S",
    "tags": [
     "sk"
    ]
   },
   "source": [
    "**POZNÁMKA: Tento notebook je určený pre platformu Google Colab, ktorá zdarma poskytuje hardvérovú akceleráciu. Je však možné ho spustiť (možno s drobnými úpravami) aj ako štandardný Jupyter notebook, pomocou lokálnej grafickej karty.** \n",
    "\n"
   ]
  },
  {
   "cell_type": "code",
   "execution_count": null,
   "metadata": {
    "colab": {
     "base_uri": "https://localhost:8080/",
     "height": 1000
    },
    "colab_type": "code",
    "id": "4ANSllpGK-9Y",
    "outputId": "ace294df-961d-45e4-9ebd-bdcf74a06e32"
   },
   "outputs": [],
   "source": [
    "#@title -- Installation of Packages -- { display-mode: \"form\" }\n",
    "import sys\n",
    "!{sys.executable} -m pip install git+https://github.com/michalgregor/class_utils.git"
   ]
  },
  {
   "cell_type": "code",
   "execution_count": null,
   "metadata": {
    "colab": {},
    "colab_type": "code",
    "id": "YJSZAu1FK-9v"
   },
   "outputs": [],
   "source": [
    "#@title -- Import of Necessary Packages -- { display-mode: \"form\" }\n",
    "import numpy as np\n",
    "import pandas as pd\n",
    "import matplotlib.pyplot as plt\n",
    "from sklearn.model_selection import train_test_split\n",
    "from sklearn.preprocessing import StandardScaler, OneHotEncoder, KBinsDiscretizer\n",
    "from sklearn.impute import SimpleImputer\n",
    "from sklearn.compose import make_column_transformer\n",
    "from sklearn.pipeline import make_pipeline\n",
    "from sklearn.metrics import accuracy_score\n",
    "from torch.utils.data import TensorDataset\n",
    "import torch.nn as nn\n",
    "import torch"
   ]
  },
  {
   "cell_type": "code",
   "execution_count": null,
   "metadata": {
    "colab": {
     "base_uri": "https://localhost:8080/",
     "height": 90
    },
    "colab_type": "code",
    "id": "RnPU7T0VK--J",
    "outputId": "ac84e0e0-b68e-4842-a110-c374bb2af1f4"
   },
   "outputs": [],
   "source": [
    "#@title -- Downloading Data -- { display-mode: \"form\" }\n",
    "from class_utils.download import download_file_maybe_extract\n",
    "download_file_maybe_extract(\"https://www.dropbox.com/s/8s0ivlo9yshhxkn/winequality.zip?dl=1\", directory=\"data/winequality\")\n",
    "\n",
    "# also create a directory for storing any outputs\n",
    "import os\n",
    "os.makedirs(\"output\", exist_ok=True)"
   ]
  },
  {
   "cell_type": "markdown",
   "metadata": {
    "colab_type": "text",
    "id": "ku5dUb-UK--v",
    "tags": [
     "sk"
    ]
   },
   "source": [
    "## Klasifikácia kvality vína pomocou neurónových sietí\n",
    "\n",
    "V rámci tohto notebook-u si môžete klasifikáciu pomocou neurónových sietí vyskúšať na príklade ďalšej jednoduchej dátovej množiny.\n",
    "\n",
    "**Pozor:**  Príklad je čisto ilustračný. Dátová množina je dobre štruktúrovaná (dáta sú rozdelené do stĺpcov s jasným významom atď.), preto by sa na ňu praxi pravdepodobne aplikoval iný model – napr. založený na rozhodovacích stromoch. Umelé neurónové siete a hlboké učenie sa aplikujú skôr v prípade neštruktúrovaných dát, ako je obraz, audio, text a pod.\n",
    "\n",
    "### Načítanie a predspracovanie dátovej množiny\n",
    "\n",
    "Načítame dátovú množinu z CSV súboru:\n",
    "\n"
   ]
  },
  {
   "cell_type": "code",
   "execution_count": null,
   "metadata": {
    "colab": {
     "base_uri": "https://localhost:8080/",
     "height": 257
    },
    "colab_type": "code",
    "id": "ClWoKTQEK--z",
    "outputId": "0723a5b5-36fe-4654-d6ff-6feddae984e4"
   },
   "outputs": [],
   "source": [
    "df = pd.read_csv(\"data/winequality/winequality-white.csv\")\n",
    "df.head()"
   ]
  },
  {
   "cell_type": "markdown",
   "metadata": {
    "colab_type": "text",
    "id": "DRo449TbK-_F",
    "tags": [
     "sk"
    ]
   },
   "source": [
    "Opis dát nájdeme v prípade potreby v priloženom súbore:\n",
    "\n"
   ]
  },
  {
   "cell_type": "code",
   "execution_count": null,
   "metadata": {
    "colab": {
     "base_uri": "https://localhost:8080/",
     "height": 1000
    },
    "colab_type": "code",
    "id": "agNFax_-K-_M",
    "outputId": "8307679e-809f-4e4f-a685-1d2a286e345e"
   },
   "outputs": [],
   "source": [
    "with open(\"data/winequality/winequality\", \"r\") as file:\n",
    "    print(\"\".join(file.readlines()))"
   ]
  },
  {
   "cell_type": "markdown",
   "metadata": {
    "colab_type": "text",
    "id": "DroHJjMrK-_e",
    "tags": [
     "sk"
    ]
   },
   "source": [
    "#### Rozdelenie dátovej množiny\n",
    "\n",
    "Ďalej pokračujeme rozdelením dátovej množiny. Dáta budeme v tomto prípade deliť nie na dve, ale až na tri časti: na tréningové, validačné a testovacie dáta v pomere 70 : 5 : 25. Validačná dáta budeme používať počas učenia na regularizáciu a výber modelu (detaily nižšie). Stratifikujeme podľa kvality.\n",
    "\n"
   ]
  },
  {
   "cell_type": "code",
   "execution_count": null,
   "metadata": {
    "colab": {},
    "colab_type": "code",
    "id": "it9yeH0QK-_i"
   },
   "outputs": [],
   "source": [
    "df_train_valid, df_test = train_test_split(df, test_size=0.25,\n",
    "                                     stratify=df['quality'],\n",
    "                                     random_state=4)\n",
    "df_train, df_valid = train_test_split(df_train_valid, test_size=0.05/0.75,\n",
    "                                     stratify=df_train_valid['quality'],\n",
    "                                     random_state=4)"
   ]
  },
  {
   "cell_type": "markdown",
   "metadata": {
    "colab_type": "text",
    "id": "jCxRfCKyK-_y",
    "tags": [
     "sk"
    ]
   },
   "source": [
    "#### Selekcia stĺpcov a vytvorenie pipeline objektu\n",
    "\n",
    "Ako zvyčajne, znovu určíme, ktoré stĺpce sú numerické a ktoré kategorické a vytvoríme pipeline objekt na predspracovanie.\n",
    "\n"
   ]
  },
  {
   "cell_type": "code",
   "execution_count": null,
   "metadata": {
    "colab": {},
    "colab_type": "code",
    "id": "c5JkS7xWK-_2"
   },
   "outputs": [],
   "source": [
    "categorical_inputs = []\n",
    "numeric_inputs = list(df.columns[:-1])\n",
    "output = [\"quality\"]\n",
    "\n",
    "input_preproc = make_column_transformer(\n",
    "    (make_pipeline(\n",
    "        SimpleImputer(strategy='constant', fill_value='MISSING'),\n",
    "        OneHotEncoder()),\n",
    "     categorical_inputs),\n",
    "    \n",
    "    (make_pipeline(\n",
    "        SimpleImputer(),\n",
    "        StandardScaler()),\n",
    "     numeric_inputs)\n",
    ")"
   ]
  },
  {
   "cell_type": "markdown",
   "metadata": {
    "colab_type": "text",
    "id": "Shnj9hVZK_AG",
    "tags": [
     "sk"
    ]
   },
   "source": [
    "Dátová množina udáva kvalitu vína na stupnici od 1 po 10 (stĺpec `quality`). Vzhľadom na to, že dáta obsahujú dosť veľa šumu, je táto stupnica až príliš jemná. Prejdeme preto na hrubšiu stupnicu: rozdelíme si vína len na tri stupne kvality, a to automaticky: pomocou transformátora `KBinsDiscretizer` z balíčka `scikit-learn`.\n",
    "\n"
   ]
  },
  {
   "cell_type": "code",
   "execution_count": null,
   "metadata": {
    "colab": {},
    "colab_type": "code",
    "id": "2LaQCaouK_AK"
   },
   "outputs": [],
   "source": [
    "output_preproc = KBinsDiscretizer(3, encode='ordinal', strategy='quantile')"
   ]
  },
  {
   "cell_type": "markdown",
   "metadata": {
    "colab_type": "text",
    "id": "_5UxOQtHK_AY",
    "tags": [
     "sk"
    ]
   },
   "source": [
    "#### Aplikácia predspracovania\n",
    "\n",
    "Ďalej aplikujeme na dáta transformátory. Ako zvyčajne, dbáme na to, aby sme pri testovacích – a v našom prípade aj pri validačných – dátach použili funkciu `transform` a nie `fit_transform`.\n",
    "\n"
   ]
  },
  {
   "cell_type": "code",
   "execution_count": null,
   "metadata": {
    "colab": {},
    "colab_type": "code",
    "id": "18P5pSuMK_Ab"
   },
   "outputs": [],
   "source": [
    "X_train = input_preproc.fit_transform(df_train[categorical_inputs+numeric_inputs])\n",
    "Y_train = output_preproc.fit_transform(df_train[output]).reshape(-1)\n",
    "\n",
    "X_valid = input_preproc.transform(df_valid[categorical_inputs+numeric_inputs])\n",
    "Y_valid = output_preproc.transform(df_valid[output]).reshape(-1)\n",
    "\n",
    "X_test = input_preproc.transform(df_test[categorical_inputs+numeric_inputs])\n",
    "Y_test = output_preproc.transform(df_test[output]).reshape(-1)"
   ]
  },
  {
   "cell_type": "markdown",
   "metadata": {
    "colab_type": "text",
    "id": "GGOUKBgKK_Ao",
    "tags": [
     "sk"
    ]
   },
   "source": [
    "A transformujeme do dátových typov, ktoré očakáva PyTorch: t.j. na 32-bitové float-y (vstupy) a 64-bitové int-y (označenia tried).\n",
    "\n"
   ]
  },
  {
   "cell_type": "code",
   "execution_count": null,
   "metadata": {
    "colab": {},
    "colab_type": "code",
    "id": "s81Nm3XZK_As"
   },
   "outputs": [],
   "source": [
    "device = \"cuda\" if torch.cuda.is_available() else \"cpu\"\n",
    "\n",
    "X_train = torch.as_tensor(X_train, dtype=torch.float32).to(device)\n",
    "Y_train = torch.as_tensor(Y_train, dtype=torch.long).to(device)\n",
    "X_valid = torch.as_tensor(X_valid, dtype=torch.float32).to(device)\n",
    "Y_valid = torch.as_tensor(Y_valid, dtype=torch.long).to(device)\n",
    "X_test = torch.as_tensor(X_test, dtype=torch.float32).to(device)\n",
    "Y_test = torch.as_tensor(Y_test, dtype=torch.long).to(device)"
   ]
  },
  {
   "cell_type": "markdown",
   "metadata": {
    "colab_type": "text",
    "id": "gLmXhPZMK_A7",
    "tags": [
     "sk"
    ]
   },
   "source": [
    "---\n",
    "### Úloha 1\n",
    "\n",
    "**Aplikujte na problém klasifikátor na báze neurónovej siete s dropout-om. V rámci tréningovej slučky logujte v každej epoche výsledky na validačnej množine. Výsledky na validačnej množine môžete použiť na ladenie architektúry siete, miery dropouť-u a pod.** \n",
    "\n",
    "**Pomôcka: Čo sa týka veľkosti lineárnych vrstiev, môžete začať napr. s hodnotami:** \n",
    "\n",
    "* `num_inputs`;\n",
    "* 64;\n",
    "* 32;\n",
    "* 16;\n",
    "* `num_outputs`;\n",
    "---\n"
   ]
  },
  {
   "cell_type": "code",
   "execution_count": null,
   "metadata": {
    "colab": {},
    "colab_type": "code",
    "id": "Kja-0c4MK_BJ",
    "tags": [
     "student"
    ]
   },
   "outputs": [],
   "source": [
    "class Net(nn.Module):\n",
    "    def __init__(self, num_inputs, num_outputs):\n",
    "        \n",
    "    \n",
    "    # ------\n",
    "\n",
    "\n"
   ]
  },
  {
   "cell_type": "code",
   "execution_count": null,
   "metadata": {
    "colab": {},
    "colab_type": "code",
    "id": "Kja-0c4MK_BJ",
    "tags": [
     "student"
    ]
   },
   "outputs": [],
   "source": [
    "num_inputs = X_train.shape[1]\n",
    "num_outputs = len(np.unique(Y_train.cpu()))\n",
    "model = Net(num_inputs, num_outputs).to(device)\n",
    "\n",
    "criterion = nn.CrossEntropyLoss()\n",
    "\n",
    "\n",
    "\n",
    "\n",
    "# ------\n",
    "\n",
    "\n",
    "\n"
   ]
  },
  {
   "cell_type": "code",
   "execution_count": null,
   "metadata": {},
   "outputs": [],
   "source": [
    "plt.plot(loss_train, label=\"train\")\n",
    "plt.plot(loss_valid, label=\"valid\")\n",
    "plt.xlabel(\"epoch\")\n",
    "plt.ylabel(\"loss\")\n",
    "plt.grid(ls='--')\n",
    "plt.legend()"
   ]
  },
  {
   "cell_type": "code",
   "execution_count": null,
   "metadata": {},
   "outputs": [],
   "source": [
    "# accuracy on the train set\n",
    "model.eval()\n",
    "with torch.no_grad():\n",
    "    y_train_logit = model(X_train)\n",
    "    y_train = y_train_logit.argmax(dim=1)\n",
    "\n",
    "Y_train_cpu = Y_train.cpu()\n",
    "y_train_cpu = y_train.cpu()\n",
    "\n",
    "cm = pd.crosstab(\n",
    "    output_preproc.inverse_transform(\n",
    "        Y_train_cpu.reshape(-1, 1)).reshape(-1),\n",
    "    output_preproc.inverse_transform(\n",
    "        y_train_cpu.reshape(-1, 1)).reshape(-1),\n",
    "    rownames=['actual'],\n",
    "    colnames=['predicted']\n",
    ")\n",
    "print(cm)\n",
    "\n",
    "acc = accuracy_score(Y_train_cpu, y_train_cpu)\n",
    "print(\"Accuracy = {}\".format(acc))"
   ]
  },
  {
   "cell_type": "code",
   "execution_count": null,
   "metadata": {},
   "outputs": [],
   "source": [
    "# accuracy on the validation set\n",
    "model.eval()\n",
    "with torch.no_grad():\n",
    "    y_valid_logit = model(X_valid)\n",
    "    y_valid = y_valid_logit.argmax(dim=1)\n",
    "\n",
    "Y_valid_cpu = Y_valid.cpu()\n",
    "y_valid_cpu = y_valid.cpu()\n",
    "\n",
    "cm = pd.crosstab(\n",
    "    output_preproc.inverse_transform(\n",
    "        Y_valid_cpu.reshape(-1, 1)).reshape(-1),\n",
    "    output_preproc.inverse_transform(\n",
    "        y_valid_cpu.reshape(-1, 1)).reshape(-1),\n",
    "    rownames=['actual'],\n",
    "    colnames=['predicted']\n",
    ")\n",
    "print(cm)\n",
    "\n",
    "acc = accuracy_score(Y_valid_cpu, y_valid_cpu)\n",
    "print(\"Accuracy on valid = {}\".format(acc))"
   ]
  },
  {
   "cell_type": "markdown",
   "metadata": {
    "colab_type": "text",
    "id": "gLmXhPZMK_A7",
    "tags": [
     "sk"
    ]
   },
   "source": [
    "### Vyhodnotenie na testovacej množine\n",
    "\n",
    "Keď bude hotový váš finálny model, môžete vyhodnotiť jeho úspešnosť na testovacej množine.\n",
    "\n"
   ]
  },
  {
   "cell_type": "code",
   "execution_count": null,
   "metadata": {},
   "outputs": [],
   "source": [
    "# evaluate on the test set\n",
    "model.eval()\n",
    "with torch.no_grad():\n",
    "    y_test_logit = model(X_test)\n",
    "    y_test = y_test_logit.argmax(dim=1)\n",
    "\n",
    "Y_test_cpu = Y_test.cpu()\n",
    "y_test_cpu = y_test.cpu()\n",
    "\n",
    "cm = pd.crosstab(\n",
    "    output_preproc.inverse_transform(\n",
    "        Y_test_cpu.reshape(-1, 1)).reshape(-1),\n",
    "    output_preproc.inverse_transform(\n",
    "        y_test_cpu.reshape(-1, 1)).reshape(-1),\n",
    "    rownames=['actual'],\n",
    "    colnames=['predicted']\n",
    ")\n",
    "print(cm)\n",
    "\n",
    "acc = accuracy_score(Y_test_cpu, y_test_cpu)\n",
    "print(\"Accuracy on test = {}\".format(acc))"
   ]
  },
  {
   "cell_type": "markdown",
   "metadata": {
    "colab_type": "text",
    "id": "gLmXhPZMK_A7",
    "tags": [
     "sk"
    ]
   },
   "source": [
    "### Klasifikácia pomocou XGBoost\n",
    "\n",
    "Nakoniec, rovnako ako v notebook-u o regresii, keďže tu pracujeme s peknými, štruktúrovanými, tabuľkovými dátami, skúsime si na nich pre porovnanie znovu natrénovať aj XGBoost model. Je pravdepodobné, že výsledky budú porovnateľné alebo lepšie v porovnaní s neurónovou sieťou a to pri zlomku výpočtových nárokov.\n",
    "\n"
   ]
  },
  {
   "cell_type": "code",
   "execution_count": null,
   "metadata": {
    "colab": {
     "base_uri": "https://localhost:8080/",
     "height": 123
    },
    "colab_type": "code",
    "id": "wjbNKJWtK_EB",
    "outputId": "7f0faff4-d0df-44c5-acb0-e7a4e0780c77"
   },
   "outputs": [],
   "source": [
    "from xgboost import XGBClassifier\n",
    "X_train_np = X_train.cpu().numpy()\n",
    "Y_train_np = Y_train.cpu().numpy()\n",
    "X_test_np = X_test.cpu().numpy()\n",
    "Y_test_np = Y_test.cpu().numpy()\n",
    "\n",
    "model = XGBClassifier()\n",
    "model.fit(X_train_np, Y_train_np);"
   ]
  },
  {
   "cell_type": "code",
   "execution_count": null,
   "metadata": {
    "colab": {},
    "colab_type": "code",
    "id": "3NunRMYRK_EO"
   },
   "outputs": [],
   "source": [
    "y_test = model.predict(X_test_np)\n",
    "cm = pd.crosstab(Y_test_np.reshape(-1),\n",
    "                 y_test.reshape(-1),\n",
    "                 rownames=['actual'],\n",
    "                 colnames=['predicted'])\n",
    "print(cm)\n",
    "\n",
    "print(\"Accuracy on test: {}.\".format(accuracy_score(\n",
    "    Y_test_np, y_test\n",
    ")))"
   ]
  },
  {
   "cell_type": "code",
   "execution_count": null,
   "metadata": {},
   "outputs": [],
   "source": []
  }
 ],
 "metadata": {
  "accelerator": "GPU",
  "celltoolbar": "Tags",
  "colab": {
   "collapsed_sections": [],
   "name": "2_classification_regularization.ipynb",
   "provenance": []
  },
  "kernelspec": {
   "display_name": "Python 3",
   "language": "python",
   "name": "python3"
  },
  "language_info": {
   "codemirror_mode": {
    "name": "ipython",
    "version": 3
   },
   "file_extension": ".py",
   "mimetype": "text/x-python",
   "name": "python",
   "nbconvert_exporter": "python",
   "pygments_lexer": "ipython3",
   "version": "3.8.10"
  },
  "vscode": {
   "interpreter": {
    "hash": "a351393365bb1b108989afa08de3243f72f5e58927baf5d192f3cca79a41cbc4"
   }
  }
 },
 "nbformat": 4,
 "nbformat_minor": 0
}
