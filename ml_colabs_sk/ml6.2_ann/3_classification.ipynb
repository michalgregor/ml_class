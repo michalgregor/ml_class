{
 "cells": [
  {
   "cell_type": "markdown",
   "metadata": {
    "colab_type": "text",
    "id": "hv28yNkZK7LD",
    "tags": [
     "sk"
    ]
   },
   "source": [
    "**POZNÁMKA: Tento notebook je určený pre platformu Google Colab, ktorá zdarma poskytuje hardvérovú akceleráciu. Je však možné ho spustiť (možno s drobnými úpravami) aj ako štandardný Jupyter notebook, pomocou lokálnej grafickej karty.** \n",
    "\n"
   ]
  },
  {
   "cell_type": "code",
   "execution_count": null,
   "metadata": {
    "colab": {
     "base_uri": "https://localhost:8080/",
     "height": 1000
    },
    "colab_type": "code",
    "id": "homwYbPNTMuF",
    "outputId": "75f6a3bd-6bae-4664-8276-a2f9d39418d0"
   },
   "outputs": [],
   "source": [
    "#@title -- Installation of Packages -- { display-mode: \"form\" }\n",
    "import sys\n",
    "!{sys.executable} -m pip install git+https://github.com/michalgregor/class_utils.git"
   ]
  },
  {
   "cell_type": "code",
   "execution_count": null,
   "metadata": {
    "colab": {},
    "colab_type": "code",
    "id": "Z5iLk5oyTABe"
   },
   "outputs": [],
   "source": [
    "#@title -- Import of Necessary Packages -- { display-mode: \"form\" }\n",
    "import numpy as np\n",
    "import pandas as pd\n",
    "import matplotlib.pyplot as plt\n",
    "from sklearn.model_selection import train_test_split\n",
    "from sklearn.preprocessing import StandardScaler, OrdinalEncoder, OneHotEncoder\n",
    "from sklearn.impute import SimpleImputer\n",
    "from sklearn.compose import make_column_transformer\n",
    "from sklearn.pipeline import make_pipeline\n",
    "from sklearn.metrics import accuracy_score\n",
    "import torch.nn as nn\n",
    "import torch"
   ]
  },
  {
   "cell_type": "code",
   "execution_count": null,
   "metadata": {
    "colab": {
     "base_uri": "https://localhost:8080/",
     "height": 90
    },
    "colab_type": "code",
    "id": "ZFdF9__eTCta",
    "outputId": "5d96a127-97be-41ca-82ae-725c01612110"
   },
   "outputs": [],
   "source": [
    "#@title -- Downloading Data -- { display-mode: \"form\" }\n",
    "from class_utils.download import download_file_maybe_extract\n",
    "download_file_maybe_extract(\"https://www.dropbox.com/s/v3ptdkv5fvmx5zk/iris.csv?dl=1\", directory=\"data\")\n",
    "\n",
    "# also create a directory for storing any outputs\n",
    "import os\n",
    "os.makedirs(\"output\", exist_ok=True)"
   ]
  },
  {
   "cell_type": "markdown",
   "metadata": {
    "colab_type": "text",
    "id": "xQ2bVFL7TVT0",
    "tags": [
     "sk"
    ]
   },
   "source": [
    "## Klasifikácia pomocou umelých neurónových sietí\n",
    "\n",
    "Tento notebook ukazuje, ako sa dá neurónová sieť zostrojená pomocou pythonového balíčka `PyTorch` aplikovať na jednoduchú klasifikačnú úlohu. Ukážeme, ako sa dá taká sieť vytvoriť a natrénovať. Budeme používať veľmi jednoduchú architektúru – bez konvolučných vrstiev, dávkovej normalizácie a iných podobných špeciálnych vrstiev.\n",
    "\n",
    "### Načítanie dátovej množiny\n",
    "\n",
    "V tomto príklade budeme opäť pracovať s dátovou množinou Iris, ktorú už dobre poznáme. Teraz ju načítame z CSV súboru a rozdelíme na tréningovú a testovaciu časť:\n",
    "\n"
   ]
  },
  {
   "cell_type": "code",
   "execution_count": null,
   "metadata": {
    "colab": {
     "base_uri": "https://localhost:8080/",
     "height": 203
    },
    "colab_type": "code",
    "id": "g0gqtIoXTEmo",
    "outputId": "c230f6fc-2b77-4231-9a16-375ab9900f7b"
   },
   "outputs": [],
   "source": [
    "#@title -- Loading and Splitting the dataset df_train, df_test -- { display-mode: \"form\" }\n",
    "\n",
    "# we load the data from the CSV\n",
    "df = pd.read_csv(\"data/iris.csv\")\n",
    "display(df.head())\n",
    "\n",
    "# we split it into train and test, stratifying by species\n",
    "df_train, df_test = train_test_split(df, test_size=0.25,\n",
    "                                     stratify=df['species'],\n",
    "                                     random_state=4)"
   ]
  },
  {
   "cell_type": "markdown",
   "metadata": {
    "colab_type": "text",
    "id": "q-iqVh69K7Mp",
    "tags": [
     "sk"
    ]
   },
   "source": [
    "Ako zvyčajne, stĺpce roztriedime na kategorické, numerické a výstupné.\n",
    "\n"
   ]
  },
  {
   "cell_type": "code",
   "execution_count": null,
   "metadata": {
    "colab": {},
    "colab_type": "code",
    "id": "wEDV74K8K7Mu"
   },
   "outputs": [],
   "source": [
    "categorical_inputs = []\n",
    "numeric_inputs = list(df.columns[:-1])\n",
    "output = [\"species\"]"
   ]
  },
  {
   "cell_type": "markdown",
   "metadata": {
    "colab_type": "text",
    "id": "QO6VSRXfK7NC",
    "tags": [
     "sk"
    ]
   },
   "source": [
    "Predspracovanie, ktoré štandardne aplikujeme, prekóduje hodnoty kategorického atribútu na čísla tak, že každej unikátnej hodnote priradí poradové číslo (pomocou transformátora `OrdinalEncoder`). V prípade neurónových sietí môže byť ale vhodnejšie použiť kódovanie 1 z n: každému kategorickému stĺpcu bude zodpovedať toľko vstupných neurónov, koľko rozličných hodnôt kategorická premenná nadobúda a aktívny bude vždy práve jeden z nich. Na takýto typ predspracovania slúži transformátor `OneHotEncoder`. Predspracovanie pre numerické premenné môže zostať nezmenené.\n",
    "\n",
    "Polia nezabudneme transformovať na PyTorch tenzory s vhodnými dátovými typmi: 32-bitovými floatmi pre vstupy a long int-mi pre označenia tried (výstup). Zároveň si v tomto kroku zvolíme aj zariadenie, presne ako sme to robili aj v predošlých notebook-och a tenzory naň prenesieme.\n",
    "\n"
   ]
  },
  {
   "cell_type": "code",
   "execution_count": null,
   "metadata": {
    "colab": {},
    "colab_type": "code",
    "id": "hEWqq4NRK7NH"
   },
   "outputs": [],
   "source": [
    "input_preproc = make_column_transformer(\n",
    "    (make_pipeline(\n",
    "        SimpleImputer(strategy='constant', fill_value='MISSING'),\n",
    "        OneHotEncoder()),\n",
    "     categorical_inputs),\n",
    "    \n",
    "    (make_pipeline(\n",
    "        SimpleImputer(),\n",
    "        StandardScaler()),\n",
    "     numeric_inputs)\n",
    ")"
   ]
  },
  {
   "cell_type": "code",
   "execution_count": null,
   "metadata": {
    "colab": {},
    "colab_type": "code",
    "id": "-C4Q34A1K7NU"
   },
   "outputs": [],
   "source": [
    "output_preproc = OrdinalEncoder()\n",
    "\n",
    "X_train = input_preproc.fit_transform(df_train[categorical_inputs+numeric_inputs])\n",
    "Y_train = output_preproc.fit_transform(df_train[output]).reshape(-1)\n",
    "\n",
    "X_test = input_preproc.transform(df_test[categorical_inputs+numeric_inputs])\n",
    "Y_test = output_preproc.transform(df_test[output]).reshape(-1)\n",
    "\n",
    "device = \"cuda\" if torch.cuda.is_available() else \"cpu\"\n",
    "\n",
    "X_train = torch.as_tensor(X_train, dtype=torch.float32).to(device)\n",
    "Y_train = torch.as_tensor(Y_train, dtype=torch.long).to(device)\n",
    "X_test = torch.as_tensor(X_test, dtype=torch.float32).to(device)\n",
    "Y_test = torch.as_tensor(Y_test, dtype=torch.long).to(device)"
   ]
  },
  {
   "cell_type": "markdown",
   "metadata": {
    "colab_type": "text",
    "id": "au71ZWYyTkTE",
    "tags": [
     "sk"
    ]
   },
   "source": [
    "### Vytvorenie neurónovej siete\n",
    "\n",
    "Naša neurónová sieť bude veľmi podobná tej, ktorú sme používali na regresiu. Počet vstupov sa bude opäť rovnať počtu stĺpcov v našej dátovej množine, zatiaľ čo počet výstupov sa bude odteraz samozrejme rovnať počtu tried, pretože sieť navracia ich príslušné pravdepodobnosti.\n",
    "\n",
    "Pripomeňme, že v klasifikátoroch vo všeobecnosti používame ako aktivačnú funkciu výstupnej vrstvy funkciu softmax. Táto funkcia zabezpečuje, že súčet výstupov tejto poslednej vrstvy je vždy 1, takže ich možno interpretovať ako správne normalizované pravdepodobnosti. Aplikuje tiež nelineárnu transformáciu, ktorá uľahčuje získanie pravdepodobností blízkych 1.\n",
    "\n",
    "  **POZOR: V prípade frameworku PyTorch je funkcia softmax súčasťou stratovej funkcie ``nn.CrossEntropyLoss'', preto ju NEPRIDÁVAME NA KONEC MODELU! Poslednú vrstvu necháme lineárnu.** \n",
    "\n"
   ]
  },
  {
   "cell_type": "code",
   "execution_count": null,
   "metadata": {
    "colab": {},
    "colab_type": "code",
    "id": "tXI0Wb9dINWw"
   },
   "outputs": [],
   "source": [
    "class Net(nn.Module):\n",
    "    def __init__(self, num_inputs, num_outputs):\n",
    "        super(Net, self).__init__()\n",
    "        self.fc1 = nn.Linear(num_inputs, 50)\n",
    "        self.fc2 = nn.Linear(50, 50)\n",
    "        self.fc3 = nn.Linear(50, num_outputs)\n",
    "\n",
    "    def forward(self, x):\n",
    "        y = self.fc1(x)\n",
    "        y = torch.relu(y)\n",
    "        \n",
    "        y = self.fc2(y)\n",
    "        y = torch.relu(y)\n",
    "        \n",
    "        y = self.fc3(y)\n",
    "        \n",
    "        return y"
   ]
  },
  {
   "cell_type": "markdown",
   "metadata": {
    "colab_type": "text",
    "id": "pGtn8sU-T-Fv",
    "tags": [
     "sk"
    ]
   },
   "source": [
    "---\n",
    "### Úloha 1: Tréning siete\n",
    "\n",
    "**V bunke nižšie dokončite tréningovú slučku a natrénujte neurónovú sieť.** \n",
    "\n",
    "Tréningová slučka bude v podstate rovnaká ako pri regresii, s tou výnimkou, že teraz budeme používať `nn.CrossEntropyLoss`.\n",
    "\n",
    "---\n"
   ]
  },
  {
   "cell_type": "code",
   "execution_count": null,
   "metadata": {
    "colab": {},
    "colab_type": "code",
    "id": "Kja-0c4MK_BJ",
    "tags": [
     "student"
    ]
   },
   "outputs": [],
   "source": [
    "num_inputs = X_train.shape[1]\n",
    "num_outputs = len(np.unique(Y_train.cpu()))\n",
    "\n",
    "model = Net(num_inputs, num_outputs)\n",
    "model.to(device)\n",
    "\n",
    "criterion = nn.CrossEntropyLoss()\n",
    "\n",
    "\n",
    "\n",
    "# ----\n",
    "\n",
    "\n"
   ]
  },
  {
   "cell_type": "code",
   "execution_count": null,
   "metadata": {},
   "outputs": [],
   "source": [
    "plt.plot(loss_train)\n",
    "plt.xlabel(\"epoch\")\n",
    "plt.ylabel(\"loss\")\n",
    "plt.grid(ls='--')"
   ]
  },
  {
   "cell_type": "markdown",
   "metadata": {
    "colab_type": "text",
    "id": "VRDneWuJK7O-",
    "tags": [
     "sk"
    ]
   },
   "source": [
    "### Testovanie\n",
    "\n",
    "Teraz sme znovu pripravní model hodnotiť. Opäť ho nezabudneme najprv uviesť do evaluačného režimu pomocou `model.eval()` a spustiť ho v rámci `torch.no_grad()`, aby sa zbytočne nevytváral výpočtový graf.\n",
    "\n",
    "Nezabudnite, že naša sieť predpovedá pravdepodobnosti tried. Aby sme sa z nich dostali k označeniam tried, aplikujeme na pravdepodobnosti funkciu `argmax` (keďže naša sieť neobsahuje záverečnú softmax vrstvu, hodnoty, ktoré tu dostávame, sú v skutočnosti logit-y, nie normalizované pravdepodobnosti, no keď hľadáme maximum, nie je v tom žiadny rozdiel), čím identifikujeme pre každú vzorku najpravdepodobnejšiu triedu.\n",
    "\n",
    "#### Na tréningových dátach\n",
    "\n"
   ]
  },
  {
   "cell_type": "code",
   "execution_count": null,
   "metadata": {
    "colab": {},
    "colab_type": "code",
    "id": "J6hhikUlINIT"
   },
   "outputs": [],
   "source": [
    "model.eval()\n",
    "with torch.no_grad():\n",
    "    y_train_logit = model(X_train)\n",
    "    y_train = y_train_logit.argmax(dim=1)"
   ]
  },
  {
   "cell_type": "code",
   "execution_count": null,
   "metadata": {
    "colab": {
     "base_uri": "https://localhost:8080/",
     "height": 105
    },
    "colab_type": "code",
    "id": "QBg9CnISPHf5",
    "outputId": "24f55332-dddd-4449-f00f-ec941cd2fb81"
   },
   "outputs": [],
   "source": [
    "Y_train_cpu = Y_train.cpu()\n",
    "y_train_cpu = y_train.cpu()\n",
    "\n",
    "cm = pd.crosstab(\n",
    "    output_preproc.inverse_transform(\n",
    "        Y_train_cpu.reshape(-1, 1)).reshape(-1),\n",
    "    output_preproc.inverse_transform(\n",
    "        y_train_cpu.reshape(-1, 1)).reshape(-1),\n",
    "    rownames=['actual'],\n",
    "    colnames=['predicted']\n",
    ")\n",
    "print(cm)"
   ]
  },
  {
   "cell_type": "code",
   "execution_count": null,
   "metadata": {
    "colab": {
     "base_uri": "https://localhost:8080/",
     "height": 35
    },
    "colab_type": "code",
    "id": "-OMdQEE4PHpt",
    "outputId": "9d1b90b6-210d-4808-9c6c-f5aaa16257ff"
   },
   "outputs": [],
   "source": [
    "acc = accuracy_score(Y_train_cpu, y_train_cpu)\n",
    "print(\"Accuracy = {}\".format(acc))"
   ]
  },
  {
   "cell_type": "markdown",
   "metadata": {
    "colab_type": "text",
    "id": "WZdsMJsxLdAW",
    "tags": [
     "sk"
    ]
   },
   "source": [
    "#### Na testovacích dátach\n",
    "\n"
   ]
  },
  {
   "cell_type": "code",
   "execution_count": null,
   "metadata": {},
   "outputs": [],
   "source": [
    "model.eval()\n",
    "with torch.no_grad():\n",
    "    y_test_logit = model(X_test)\n",
    "    y_test = y_test_logit.argmax(dim=1)"
   ]
  },
  {
   "cell_type": "code",
   "execution_count": null,
   "metadata": {
    "colab": {
     "base_uri": "https://localhost:8080/",
     "height": 105
    },
    "colab_type": "code",
    "id": "31Ez6D75PSb7",
    "outputId": "76e443f1-7913-418a-9d2c-8c0571f3c105"
   },
   "outputs": [],
   "source": [
    "Y_test_cpu = Y_test.cpu()\n",
    "y_test_cpu = y_test.cpu()\n",
    "\n",
    "cm = pd.crosstab(\n",
    "    output_preproc.inverse_transform(\n",
    "        Y_test_cpu.reshape(-1, 1)).reshape(-1),\n",
    "    output_preproc.inverse_transform(\n",
    "        y_test_cpu.reshape(-1, 1)).reshape(-1),\n",
    "    rownames=['actual'],\n",
    "    colnames=['predicted']\n",
    ")\n",
    "print(cm)"
   ]
  },
  {
   "cell_type": "code",
   "execution_count": null,
   "metadata": {
    "colab": {
     "base_uri": "https://localhost:8080/",
     "height": 35
    },
    "colab_type": "code",
    "id": "5IB3nwHnPSgV",
    "outputId": "60a709bb-25ef-427b-bc83-0972862d83ae"
   },
   "outputs": [],
   "source": [
    "acc = accuracy_score(Y_test_cpu, y_test_cpu)\n",
    "print(\"Accuracy = {}\".format(acc))"
   ]
  },
  {
   "cell_type": "code",
   "execution_count": null,
   "metadata": {
    "colab": {},
    "colab_type": "code",
    "id": "8709uN5wK7QY"
   },
   "outputs": [],
   "source": []
  }
 ],
 "metadata": {
  "accelerator": "GPU",
  "celltoolbar": "Tags",
  "colab": {
   "collapsed_sections": [],
   "name": "1_classification.ipynb",
   "provenance": []
  },
  "kernelspec": {
   "display_name": "Python 3",
   "language": "python",
   "name": "python3"
  },
  "language_info": {
   "codemirror_mode": {
    "name": "ipython",
    "version": 3
   },
   "file_extension": ".py",
   "mimetype": "text/x-python",
   "name": "python",
   "nbconvert_exporter": "python",
   "pygments_lexer": "ipython3",
   "version": "3.8.10"
  },
  "vscode": {
   "interpreter": {
    "hash": "a351393365bb1b108989afa08de3243f72f5e58927baf5d192f3cca79a41cbc4"
   }
  }
 },
 "nbformat": 4,
 "nbformat_minor": 1
}
