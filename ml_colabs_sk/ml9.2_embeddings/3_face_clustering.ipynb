{
 "cells": [
  {
   "cell_type": "markdown",
   "metadata": {
    "id": "Fu5nnPLRqXMc",
    "tags": [
     "sk"
    ]
   },
   "source": [
    "**POZNÁMKA: Tento notebook je určený pre platformu Google Colab, ktorá zdarma poskytuje hardvérovú akceleráciu. Je však možné ho spustiť (možno s drobnými úpravami) aj ako štandardný Jupyter notebook, pomocou lokálnej grafickej karty.** \n",
    "\n"
   ]
  },
  {
   "cell_type": "code",
   "execution_count": null,
   "metadata": {
    "colab": {
     "base_uri": "https://localhost:8080/"
    },
    "id": "DxcaMsqjqX-v",
    "outputId": "230f225e-16df-4370-87a0-6b1b2db6a943"
   },
   "outputs": [],
   "source": [
    "#@title -- Installation of Packages -- { display-mode: \"form\" }\n",
    "import sys\n",
    "import numpy as np\n",
    "from packaging.version import parse as parse_version\n",
    "\n",
    "if parse_version(np.__version__) > parse_version('1.20.0'):\n",
    "    !{sys.executable} -m pip install lapjv\n",
    "else:\n",
    "    !{sys.executable} -m pip install lapjv==1.3.12\n",
    "\n",
    "!{sys.executable} -m pip install umap-learn facenet-pytorch\n",
    "!{sys.executable} -m pip install git+https://github.com/michalgregor/class_utils.git\n",
    "\n",
    "# Install google-images-download\n",
    "!{sys.executable} -m pip install git+https://github.com/Joeclinton1/google-images-download.git\n",
    "\n",
    "# download the ultralytics bing scraper\n",
    "# from class_utils.download import download_file_maybe_extract\n",
    "# download_file_maybe_extract(\n",
    "#     \"https://raw.githubusercontent.com/ultralytics/google-images-download/master/bing_scraper.py\",\n",
    "#     directory=\".\"\n",
    "# )\n",
    "\n",
    "# install dependencies for ultralytics bing_scraper\n",
    "# !{sys.executable} -m pip install tqdm selenium\n",
    "# !apt update\n",
    "# !apt install chromium-chromedriver\n",
    "# !cp /usr/lib/chromium-browser/chromedriver /usr/bin\n",
    "# sys.path.insert(0, '/usr/lib/chromium-browser/chromedriver')\n",
    "# from selenium import webdriver\n",
    "# chrome_options = webdriver.ChromeOptions()\n",
    "# chrome_options.add_argument('--headless')\n",
    "# chrome_options.add_argument('--no-sandbox')\n",
    "# chrome_options.add_argument('--disable-dev-shm-usage')\n",
    "# wd = webdriver.Chrome('chromedriver',chrome_options=chrome_options)"
   ]
  },
  {
   "cell_type": "code",
   "execution_count": null,
   "metadata": {
    "id": "V_L6HlamqYLT"
   },
   "outputs": [],
   "source": [
    "#@title -- Import of Necessary Packages -- { display-mode: \"form\" }\n",
    "from google_images_download.google_images_download import googleimagesdownload\n",
    "from class_utils import make_montage, plot_bboxes\n",
    "from scipy.spatial.distance import cdist\n",
    "from sklearn.cluster import DBSCAN\n",
    "import matplotlib.pyplot as plt\n",
    "from lapjv import lapjv\n",
    "from umap import UMAP\n",
    "from PIL import Image\n",
    "import numpy as np\n",
    "import glob\n",
    "import os\n",
    "import shutil\n",
    "\n",
    "from facenet_pytorch import MTCNN, InceptionResnetV1, fixed_image_standardization\n",
    "import torch"
   ]
  },
  {
   "cell_type": "code",
   "execution_count": null,
   "metadata": {
    "id": "gPIGQVpF9sKH"
   },
   "outputs": [],
   "source": [
    "#@title -- Downloading Data -- { display-mode: \"form\" }\n",
    "from class_utils.download import download_file_maybe_extract\n",
    "download_file_maybe_extract(\"https://www.dropbox.com/s/i5kxprnwuqg4s95/george_martin_example.jpg?dl=1\", directory=\"data\")\n",
    "\n",
    "# also create a directory for storing any outputs\n",
    "import os\n",
    "os.makedirs(\"output\", exist_ok=True)"
   ]
  },
  {
   "cell_type": "code",
   "execution_count": null,
   "metadata": {
    "id": "D2v5kU7V53NS"
   },
   "outputs": [],
   "source": [
    "#@title -- Auxiliary Functions -- { display-mode: \"form\" }\n",
    "\n",
    "def download_images(keyword, limit, num_retries=5,\n",
    "                    output_directory='downloads',\n",
    "                    image_directory='.'):\n",
    "    for i in range(num_retries):\n",
    "        response = googleimagesdownload()\n",
    "        download = response.download(\n",
    "            {\"keywords\": k, \"limit\": 25,\n",
    "             \"output_directory\": output_directory,\n",
    "             \"image_directory\": image_directory})\n",
    "        absolute_image_paths = list(download[0].values())[0]\n",
    "\n",
    "        if len(absolute_image_paths) > 0:\n",
    "            break\n",
    "\n",
    "# def download_images(keyword, limit, num_retries=5,\n",
    "#                     output_directory='downloads',\n",
    "#                     image_directory='.', chromedriver=None):\n",
    "#     if chromedriver is None:\n",
    "#         chromedriver = '/usr/lib/chromium-browser/chromedriver'\n",
    "\n",
    "#     command = ('python3 bing_scraper.py --search \"{keyword:}\" --limit 25 ' + \n",
    "#               '--download --chromedriver {chromedriver:} ' +\n",
    "#               '--output_directory=\"{output_directory:}\" ' +\n",
    "#               '--image_directory=\"{image_directory:}\" ' \n",
    "#     ).format(keyword=keyword, chromedriver=chromedriver,\n",
    "#              output_directory=output_directory,\n",
    "#              image_directory=image_directory)\n",
    "\n",
    "#     !$command\n",
    "\n",
    "def get_image_filenames(\n",
    "    directory,\n",
    "    image_exts = ['.jpg', '.jpeg', '.png', '.gif'],\n",
    "    recursive = True\n",
    "):\n",
    "    images = []\n",
    "    \n",
    "    for fname in glob.glob(os.path.join(directory, \"**/*\"), recursive=recursive):\n",
    "        if os.path.isfile(fname) and os.path.splitext(fname)[-1] in image_exts:\n",
    "            images.append(fname)\n",
    "    \n",
    "    return images\n",
    "\n",
    "# def enforce_maxres(img, maxres):\n",
    "#     width, height = img.width, img.height\n",
    "    \n",
    "#     if width > height:\n",
    "#         if width > maxres:\n",
    "#             width, height = maxres, maxres / width * height\n",
    "#             img = img.resize((int(width), int(height)), resample=3)\n",
    "#     else:\n",
    "#         if height > maxres:\n",
    "#             width, height = maxres / height * width, maxres\n",
    "#             img = img.resize((int(width), int(height)), resample=3)\n",
    "            \n",
    "#     return img\n",
    "\n",
    "def plot_clusters(face_extracted, clusts, labelIDs,\n",
    "                  verbose=1, figsize=(10, 8),\n",
    "                  show_title=True):\n",
    "    figures = []\n",
    "\n",
    "    # loop over the unique face integers\n",
    "    for labelID in labelIDs:\n",
    "        # find all indexes into the `data` array that belong to the\n",
    "        # current label ID, then randomly sample a maximum of 25 indexes\n",
    "        # from the set\n",
    "        if verbose:\n",
    "            print(\"Faces for face ID: {}\".format(labelID))\n",
    "        \n",
    "        idxs = np.where(clusts == labelID)[0]\n",
    "        idxs = np.random.choice(idxs, size=min(25, len(idxs)),\n",
    "            replace=False)\n",
    "    \n",
    "        # initialize the list of faces to include in the montage\n",
    "        faces = np.asarray([face_extracted[i] for i in idxs])\n",
    "    \n",
    "        # create a montage of the faces\n",
    "        if len(faces):\n",
    "            montage = make_montage(faces, 5)\n",
    "        else:\n",
    "            montage = np.zeros((64, 64, 3))\n",
    "        \n",
    "        # show the output montage\n",
    "        title = \"Face ID #{}\".format(labelID)\n",
    "        title = \"Unknown Faces\" if labelID == -1 else title\n",
    "        \n",
    "        fig = plt.figure(figsize=figsize)\n",
    "        plt.imshow(montage)\n",
    "        plt.axis('off')\n",
    "\n",
    "        if show_title:\n",
    "            plt.title(title)\n",
    "\n",
    "        figures.append(fig)\n",
    "\n",
    "    return figures\n",
    "\n",
    "def plot_faces(face_extracted, poses, w=0.08, h=0.08, ax=None):\n",
    "    ax = plt.gca()\n",
    "    \n",
    "    for i in range(len(face_extracted)):\n",
    "        face = face_extracted[i]\n",
    "        pos = poses[i]\n",
    "        ax.imshow(face, extent=[pos[0] - w/2, pos[0] + w/2,\n",
    "                                pos[1] - h/2, pos[1] + h/2])\n",
    "\n",
    "    plt.xlim([np.min(poses[:, 0]) - w, np.max(poses[:, 0]) + w])\n",
    "    plt.ylim([np.min(poses[:, 1]) - h, np.max(poses[:, 1]) + h])"
   ]
  },
  {
   "cell_type": "markdown",
   "metadata": {
    "id": "aihcyGa0mrKT",
    "tags": [
     "sk"
    ]
   },
   "source": [
    "## Zhlukovanie ľudských tvárí\n",
    "\n",
    "V tomto notebook-u ukážeme, ako sa dá v Python-e jednoducho realizovať zhlukovanie ľudských tvárí.\n",
    "\n",
    "---\n",
    "### Úloha 1: Stiahnutie obrázkov\n",
    "\n",
    "Ak chceme vykonať zhlukovanie tvárí, budeme samozrejme potrebovať obrázky tvárí. Použijeme preto balíček `googleimagesdownload`, pomocou ktorého si stiahneme niekoľko obrázkov zo služby Google Images – napríklad fotografie známych osobností.\n",
    "\n",
    "**Do zoznamu  `keywords` v nasledujúcej bunke pridajte mená 5 alebo 6 známych osobností. Použijú sa ako kľúčové slová pri vyhľadávaní fotografií.** \n",
    "\n",
    "---\n"
   ]
  },
  {
   "cell_type": "code",
   "execution_count": null,
   "metadata": {
    "id": "hq5TNiiC5j8V",
    "tags": [
     "student"
    ]
   },
   "outputs": [],
   "source": [
    "keywords = [\n",
    "\n",
    "    \n",
    "    \n",
    "    # XXXXXXXX\n",
    "    \n",
    "    \n",
    "    \n",
    "]"
   ]
  },
  {
   "cell_type": "markdown",
   "metadata": {
    "id": "JnYj2Cl4n-HG",
    "tags": [
     "sk"
    ]
   },
   "source": [
    "Pre každé z kľúčových slov teraz stiahneme niekoľko obrázkov a uložíme ich v priečinku `downloads`.\n",
    "\n"
   ]
  },
  {
   "cell_type": "code",
   "execution_count": null,
   "metadata": {
    "colab": {
     "base_uri": "https://localhost:8080/"
    },
    "id": "w19TZ6jTtR_a",
    "outputId": "29116c75-bb86-442f-b14a-6ef32efbc6bf"
   },
   "outputs": [],
   "source": [
    "# make sure that the dataset directory is clean before we start\n",
    "shutil.rmtree('dataset', ignore_errors=True)\n",
    "\n",
    "# download 25 images for each keyword\n",
    "for k in keywords:\n",
    "    download_images(keyword=k, limit=25, output_directory='dataset')"
   ]
  },
  {
   "cell_type": "markdown",
   "metadata": {
    "id": "_vBVuS761p33",
    "tags": [
     "sk"
    ]
   },
   "source": [
    "Ak by sťahovanie obrázkov z nejakého dôvodu zlyhalo, odkomentujte nasledujúcu bunku a stiahnite si už hotovú dátovú množinu.\n",
    "\n"
   ]
  },
  {
   "cell_type": "code",
   "execution_count": null,
   "metadata": {
    "id": "shenJS121rC5"
   },
   "outputs": [],
   "source": [
    "# !wget -nc -O faceclust_dataset.zip https://www.dropbox.com/s/3mkdxof3r4rmmf2/faceclust_dataset.zip?dl=1\n",
    "# !unzip -oq -d dataset faceclust_dataset.zip"
   ]
  },
  {
   "cell_type": "markdown",
   "metadata": {
    "id": "e5Z1zm55n98Y",
    "tags": [
     "sk"
    ]
   },
   "source": [
    "### Extrakcia a transformácia tvárí\n",
    "\n",
    "Keďže obrázky, ktoré v príklade používame, sú stiahnuté priamo z Google Images, budú obsahovať nielen ľudské tváre, ale aj celé osoby a ďalšie objekty. Musíme z nich preto nejakou metódou tváre extrahovať. Ak sme vyššie zvolili možnosť `detection_method = \"cnn\"`, použije sa na to metóda založená na konvolučných neurónových sieťach. Pozrime sa na jednoduchom príklade, ako by mohli výsledky detekcie vyzerať.\n",
    "\n"
   ]
  },
  {
   "cell_type": "code",
   "execution_count": null,
   "metadata": {
    "id": "CPzUFfFMmXXe"
   },
   "outputs": [],
   "source": [
    "device = torch.device('cuda:0' if torch.cuda.is_available() else 'cpu')\n",
    "\n",
    "mtcnn = MTCNN(\n",
    "    min_face_size=64,\n",
    "    device=device,\n",
    "    keep_all=True,\n",
    "    post_process=False\n",
    ")"
   ]
  },
  {
   "cell_type": "markdown",
   "metadata": {
    "id": "o3BO4XNRAgTl",
    "tags": [
     "sk"
    ]
   },
   "source": [
    "Teraz si sieť vyskúšajme na vzorovom obrázku. Najprv si ho načítame a následne na ňom spustíme funkciu `mtcnn.detect`. Čo získame, je zoznam obsahujúci ohraničujúce obdĺžniky jednotlivých tvárí a zoznam zodpovedajúcich konfidenčných skóre (0 pre sieť si vôbec nie je istá predikciou; 1 pre sieť si je úplne istá predikciou).\n",
    "\n",
    "Napokon si ohraničujúce obdĺžniky vykreslíme na obrázok, aby sme sa presvedčili, že všetko správne funguje.\n",
    "\n"
   ]
  },
  {
   "cell_type": "code",
   "execution_count": null,
   "metadata": {
    "colab": {
     "base_uri": "https://localhost:8080/",
     "height": 553
    },
    "id": "GwqnHm-4BDHw",
    "outputId": "7187f46f-005a-48f6-de94-91535c8c51b4"
   },
   "outputs": [],
   "source": [
    "img = Image.open(\"data/george_martin_example.jpg\")\n",
    "bboxes, probs = mtcnn.detect(img)\n",
    "\n",
    "for i, (bbox, prob) in enumerate(zip(bboxes, probs)):\n",
    "    print(f\"Bounding box {i}: {bbox}; score: {prob}\")\n",
    "\n",
    "fig = plot_bboxes(img, bboxes)\n",
    "fig.savefig(\"output/face_detection_cnn.jpg\",\n",
    "            bbox_inches=\"tight\", pad_inches=0)"
   ]
  },
  {
   "cell_type": "markdown",
   "metadata": {
    "id": "yJdEfYL6BdLr",
    "tags": [
     "sk"
    ]
   },
   "source": [
    "Náš `mtcnn` objekt sa dá použiť aj na extrakciu samotných obrázkov tvárí z nášho celkového obrázka. Spustime si teda funkciu `mtcnn.extract` a zobrazme si mriežku extrahovaných tvárí.\n",
    "\n"
   ]
  },
  {
   "cell_type": "code",
   "execution_count": null,
   "metadata": {
    "colab": {
     "base_uri": "https://localhost:8080/",
     "height": 248
    },
    "id": "GQ1VA7A7oJhU",
    "outputId": "706d638d-8b2b-4c68-e39b-da3557b2cf35"
   },
   "outputs": [],
   "source": [
    "extracts = mtcnn.extract(img, list(bboxes), None) / 255.0\n",
    "face_montage = make_montage(extracts.permute(0, 2, 3, 1), 3)\n",
    "plt.imshow(face_montage); plt.axis('off');"
   ]
  },
  {
   "cell_type": "markdown",
   "metadata": {
    "id": "o1aNbvZh8DBR",
    "tags": [
     "sk"
    ]
   },
   "source": [
    "V ďalšom kroku použijeme inú hlbokú sieť na transformáciu obrázkov tvárí do novej reprezentácie, ktorá lepšie vyjadruje podobnosti a rozdiely medzi ľudskými tvárami, než by to dokázala surová pixelová reprezentácia. Sieť bola predtrénovaná ako klasifikátor na dátovej množine s veľkým množstvom ľudských tvárí (VGGFace2).\n",
    "\n",
    "Po predtrénovaní siete z nej odstránime poslednú vrstvu. Sieť teda následne transformuje každý vstupný obrázok na 512-rozmerný embedovací vektor. Tieto vektory budeme nižšie používať ako reprezentáciu obrázkov tvárí.\n",
    "\n"
   ]
  },
  {
   "cell_type": "code",
   "execution_count": null,
   "metadata": {
    "id": "qJHRkajypDoj"
   },
   "outputs": [],
   "source": [
    "resnet = InceptionResnetV1(pretrained='vggface2', device=device).eval()"
   ]
  },
  {
   "cell_type": "markdown",
   "metadata": {
    "id": "LwGCo04AFRYv",
    "tags": [
     "sk"
    ]
   },
   "source": [
    "Ďalej získame zoznam všetkých obrázkov prítomných v priečinku \"dataset\". Prejdeme postupne všetky z nich a budeme z mich extrahovať tváre, ktoré si uložíme do tenzora `face_extracted`. Kópiu tohto tenzora si uložíme aj ako numpy pole `face_extracted_img`: tú použijeme keď budeme tváre vykresľovať. Na tenzor `face_extracted` potom aplikujeme transformáciu `fixed_image_standardization`, ktorá ho transformuje do podoby, akú očakáva neurónová sieť.\n",
    "\n",
    "Všimnite si, že vykonanie tejto bunky bude trvať pomerne dlho, pretože niektoré obrázky budú mať pravdepodobne pomerne vysoké rozlíšenie a každý z nich musí prejsť sieťou.\n",
    "\n"
   ]
  },
  {
   "cell_type": "code",
   "execution_count": null,
   "metadata": {
    "colab": {
     "base_uri": "https://localhost:8080/"
    },
    "id": "KyN4872Vr3Lw",
    "outputId": "67f8f113-451b-4d4e-a440-a7acc591685f"
   },
   "outputs": [],
   "source": [
    "img_paths = get_image_filenames('dataset')\n",
    "face_extracted = []\n",
    "\n",
    "for i, img_path in enumerate(img_paths):\n",
    "    print(f\"Extracting from image {i}/{len(img_paths)}: '{img_path}'.\")\n",
    "    img = Image.open(img_path).convert(mode=\"RGB\")\n",
    "    with torch.no_grad():\n",
    "        extracts = mtcnn(img)\n",
    "\n",
    "    if not extracts is None:\n",
    "        face_extracted.append(extracts)\n",
    "\n",
    "face_extracted = torch.vstack(face_extracted)\n",
    "face_extracted_img = face_extracted.permute(0, 2, 3, 1).cpu().numpy() / 255.0\n",
    "face_extracted = fixed_image_standardization(face_extracted).to(device)"
   ]
  },
  {
   "cell_type": "markdown",
   "metadata": {
    "id": "bfuxHaH3FZEs",
    "tags": [
     "sk"
    ]
   },
   "source": [
    "Keď sme teda extrahovali všetky tváre, budeme už pracovať len s malými obrázkami, ktoré budú navyše mať rovnaké štandardné rozmery, takže z nich bude možné vytvoriť dávky. Nasledujúca bunka, v ktorej na každý z obrázkov aplikujeme embedovaciu sieť, by sa vďaka tomu mala vykonať podstatne rýchlejšie než tá predchádzajúca (najmä ak sa používa GPU).\n",
    "\n",
    "Všimnite si, že tu používame `torch.no_grad`: keďže neplánujeme robiť spätné šírenie, nepotrebujeme v doprednom behu siete konštruovať výpočtový graf – to nám tiež ušetrí trochu času.\n",
    "\n"
   ]
  },
  {
   "cell_type": "code",
   "execution_count": null,
   "metadata": {
    "id": "5qkpGO1isiLL"
   },
   "outputs": [],
   "source": [
    "batch_size = 64\n",
    "face_embeddings = []\n",
    "\n",
    "for i in range(0, len(face_extracted), batch_size):\n",
    "    with torch.no_grad():\n",
    "        embedding = resnet(face_extracted[i:min(i+batch_size, len(face_extracted))])\n",
    "    face_embeddings.append(embedding)\n",
    "\n",
    "face_embeddings = torch.vstack(face_embeddings).cpu().numpy()"
   ]
  },
  {
   "cell_type": "markdown",
   "metadata": {
    "id": "Y-ilH2oV8tL4",
    "tags": [
     "sk"
    ]
   },
   "source": [
    "Platí, že na extrahovaných obrázkoch sa môžu vyskytovať aj tváre iných osôb, než sme predpokladali (na pôvodných fotografiách mohli byť aj ďalší ľudia). Niektoré tváre môžu byť extrahované chybne, alebo sieť môže omylom namiesto tváre extrahovať inú časť fotografie. Uvidíme, ako sa s tým sieť extrahujúca 128-rozmerné reprezentácie vysporiada.\n",
    "\n"
   ]
  },
  {
   "cell_type": "markdown",
   "metadata": {
    "id": "dLKwtfWKCTjy",
    "tags": [
     "sk"
    ]
   },
   "source": [
    "---\n",
    "### Úloha 2: Zhlukovanie\n",
    "\n",
    "**Vykonajte zhlukovanie na poli `encodings`, napr. pomocou  metódy DBSCAN. Výsledné čísla zhlukov priraďte do premennej clusts. Nezabudnite, že aby ste dostali dobré výsledky, môže byť potrebné vhodne nastaviť hyperparameter `eps`.** \n",
    "\n",
    "---\n"
   ]
  },
  {
   "cell_type": "code",
   "execution_count": null,
   "metadata": {
    "id": "9dccY0rhAYYT",
    "tags": [
     "student",
     "sk"
    ]
   },
   "outputs": [],
   "source": [
    "\n",
    "\n",
    "# vykonajte zhlukovanie\n",
    "\n",
    "\n",
    "clusts =      # sem priraďte čísla zhlukov\n",
    "\n",
    "\n"
   ]
  },
  {
   "cell_type": "markdown",
   "metadata": {
    "id": "utjCSaZOm5po",
    "tags": [
     "sk"
    ]
   },
   "source": [
    "### Zobrazenie výsledkov\n",
    "\n",
    "Nakoniec vizualizujeme tváre patriace do jednotlivých zhlukov. Prvý obrázok predstavuje tváre, ktoré nepatria do žiadneho zhluku.\n",
    "\n"
   ]
  },
  {
   "cell_type": "code",
   "execution_count": null,
   "metadata": {
    "colab": {
     "base_uri": "https://localhost:8080/"
    },
    "id": "IjgfgmplnLOl",
    "outputId": "8bb79863-c997-4ebc-c9be-5589f00bfe2c",
    "tags": [
     "sk"
    ]
   },
   "outputs": [],
   "source": [
    "labelIDs = np.unique(clusts)\n",
    "numUniqueFaces = len(np.where(labelIDs > -1)[0])\n",
    "print(\"Počet rozličných tvárí: {}\".format(numUniqueFaces))\n",
    "print(\"Fotografie sme hľadali podľa {} rozličných kľúčových slov.\".format(len(keywords)))"
   ]
  },
  {
   "cell_type": "code",
   "execution_count": null,
   "metadata": {
    "colab": {
     "base_uri": "https://localhost:8080/",
     "height": 1000
    },
    "id": "bsGbbRFaIhe1",
    "outputId": "0a442c92-12c9-45c2-cd22-c786d5412922"
   },
   "outputs": [],
   "source": [
    "figs = plot_clusters(face_extracted_img, clusts, labelIDs, verbose=0)\n",
    "\n",
    "for ifig, fig in enumerate(figs):\n",
    "    fig.savefig(\"output/clust_{}.pdf\".format(ifig),\n",
    "                bbox_inches=\"tight\", pad_inches=0)"
   ]
  },
  {
   "cell_type": "markdown",
   "metadata": {
    "id": "iSgcKbNun363",
    "tags": [
     "sk"
    ]
   },
   "source": [
    "---\n",
    "### Úloha 3: Znižovanie rozmeru pomocou UMAP\n",
    "\n",
    "**Použite metódu UMAP, aby ste znížili rozmer dát v poli `encodings` zo 128 na 2 – aby sa dáta dali vizualizovať. Aby bol obrázok dobre čitateľný, môže byť potrebné mierne vyladiť argumenty `min_dist` a `spread` (t.j. aby sa tváre príliš neprekrývali a pod.). Výsledné dáta uložte do poľa s názvom `embeds`.** \n",
    "\n",
    "---\n"
   ]
  },
  {
   "cell_type": "code",
   "execution_count": null,
   "metadata": {
    "id": "6jzEN-TTn3Wv",
    "tags": [
     "sk",
     "student"
    ]
   },
   "outputs": [],
   "source": [
    "\n",
    "\n",
    "\n",
    "# vykonajte znižovanie rozmeru dát\n",
    "\n",
    "\n",
    "\n",
    "\n",
    "embeds =          # sem priraďte dáta so zníženým rozmerom\n",
    "\n",
    "\n",
    "\n"
   ]
  },
  {
   "cell_type": "markdown",
   "metadata": {
    "id": "qXKRZSvvFAQG",
    "tags": [
     "sk"
    ]
   },
   "source": [
    "Dáta zníženého rozmeru normalizujeme do rozsahu <0, 1>.\n",
    "\n"
   ]
  },
  {
   "cell_type": "code",
   "execution_count": null,
   "metadata": {
    "id": "sB3MBcVwxvDI"
   },
   "outputs": [],
   "source": [
    "embeds -= embeds.min(axis=0)\n",
    "embeds /= embeds.max(axis=0)"
   ]
  },
  {
   "cell_type": "markdown",
   "metadata": {
    "id": "8Bj223Y3fIFc",
    "tags": [
     "sk"
    ]
   },
   "source": [
    "Vykreslíme tváre na embedovacích pozíciách.\n",
    "\n"
   ]
  },
  {
   "cell_type": "code",
   "execution_count": null,
   "metadata": {
    "colab": {
     "base_uri": "https://localhost:8080/",
     "height": 501
    },
    "id": "T3janEE3d67t",
    "outputId": "dc3a714e-3b24-40e7-8ac8-81b34481558a"
   },
   "outputs": [],
   "source": [
    "plt.figure(figsize=(10, 8))\n",
    "plot_faces(face_extracted_img, embeds)\n",
    "plt.xlabel('$d_1$')\n",
    "plt.ylabel('$d_2$')\n",
    "\n",
    "plt.savefig(\"output/faces_umap.pdf\",\n",
    "            bbox_inches=\"tight\", pad_inches=0)"
   ]
  },
  {
   "cell_type": "markdown",
   "metadata": {
    "id": "UU2Rf4EPoL-e",
    "tags": [
     "sk"
    ]
   },
   "source": [
    "### Zobrazenie v mriežke pomocou algoritmu Jonker-Volgenant\n",
    "\n",
    "V rámci vizualizácie vytvorenej pomocou UMAP vidno vzdialenosti medzi zhlukmi tvárí a podobne. Obrázky sa však navzájom prekrývajú, čo robí obrázok ťažko čitateľným. Preto pozície skúsime premietnuť do pravidelnej mriežky pomocou algoritmu Jonker-Volgenant.\n",
    "\n"
   ]
  },
  {
   "cell_type": "code",
   "execution_count": null,
   "metadata": {
    "id": "UzhsyFPBYErl"
   },
   "outputs": [],
   "source": [
    "sqrt_size = int(np.ceil(np.sqrt(len(embeds))))\n",
    "size = sqrt_size * sqrt_size\n",
    "grid = np.dstack(np.meshgrid(np.linspace(0, 1, sqrt_size), np.linspace(0, 1, sqrt_size))).reshape(-1, 2)\n",
    "\n",
    "padded_embeds = np.zeros((size, embeds.shape[1]))\n",
    "padded_embeds[:embeds.shape[0], :] = embeds\n",
    "\n",
    "cost_matrix = cdist(grid, padded_embeds, \"sqeuclidean\").astype(np.float32)\n",
    "cost_matrix = cost_matrix * (100000 / cost_matrix.max())\n",
    "row_as, col_as, _ = lapjv(cost_matrix)\n",
    "grid_jv = grid[col_as]"
   ]
  },
  {
   "cell_type": "markdown",
   "metadata": {
    "id": "2OinR1d9hrDL",
    "tags": [
     "sk"
    ]
   },
   "source": [
    "Nové pozície fotografií uložené v poli `grid_jv` použijeme na vykreslenie.\n",
    "\n"
   ]
  },
  {
   "cell_type": "code",
   "execution_count": null,
   "metadata": {
    "colab": {
     "base_uri": "https://localhost:8080/",
     "height": 683
    },
    "id": "dMspz5e_Y2jx",
    "outputId": "4a9cb12d-8314-4238-b40d-386e19befcbd"
   },
   "outputs": [],
   "source": [
    "plt.figure(figsize=(12, 12))\n",
    "plot_faces(face_extracted_img, grid_jv)\n",
    "plt.axis('off')\n",
    "plt.savefig(\"output/faces_grid.pdf\",\n",
    "            bbox_inches=\"tight\", pad_inches=0)"
   ]
  },
  {
   "cell_type": "code",
   "execution_count": null,
   "metadata": {
    "id": "LaMmGhqTulsV"
   },
   "outputs": [],
   "source": []
  }
 ],
 "metadata": {
  "accelerator": "GPU",
  "celltoolbar": "Tags",
  "colab": {
   "collapsed_sections": [],
   "name": "3_face_clustering.ipynb",
   "provenance": []
  },
  "kernelspec": {
   "display_name": "Python 3 (ipykernel)",
   "language": "python",
   "name": "python3"
  },
  "language_info": {
   "codemirror_mode": {
    "name": "ipython",
    "version": 3
   },
   "file_extension": ".py",
   "mimetype": "text/x-python",
   "name": "python",
   "nbconvert_exporter": "python",
   "pygments_lexer": "ipython3",
   "version": "3.9.7"
  }
 },
 "nbformat": 4,
 "nbformat_minor": 1
}
