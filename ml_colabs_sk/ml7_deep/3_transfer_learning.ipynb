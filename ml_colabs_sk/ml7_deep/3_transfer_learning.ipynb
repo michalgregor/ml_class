{
 "cells": [
  {
   "cell_type": "markdown",
   "metadata": {
    "colab_type": "text",
    "id": "pJzq1lYGmjvN",
    "tags": [
     "sk"
    ]
   },
   "source": [
    "**POZNÁMKA: Tento notebook je určený pre platformu Google Colab, ktorá zdarma poskytuje hardvérovú akceleráciu. Je však možné ho spustiť (možno s drobnými úpravami) aj ako štandardný Jupyter notebook, pomocou lokálnej grafickej karty.** \n",
    "\n"
   ]
  },
  {
   "cell_type": "code",
   "execution_count": null,
   "metadata": {},
   "outputs": [],
   "source": [
    "#@title -- Installation of Packages -- { display-mode: \"form\" }\n",
    "import sys\n",
    "!{sys.executable} -m pip install torchinfo\n",
    "!{sys.executable} -m pip install git+https://github.com/michalgregor/class_utils.git"
   ]
  },
  {
   "cell_type": "code",
   "execution_count": null,
   "metadata": {
    "colab": {},
    "colab_type": "code",
    "id": "y7-4YhzosUs8"
   },
   "outputs": [],
   "source": [
    "#@title -- Import of Necessary Packages -- { display-mode: \"form\" }\n",
    "import numpy as np\n",
    "import pandas as pd\n",
    "import matplotlib.pyplot as plt\n",
    "from sklearn.metrics import accuracy_score\n",
    "from class_utils.pytorch_utils import BestModelCheckpointer, freeze_except_last\n",
    "from torch.optim.lr_scheduler import ExponentialLR\n",
    "from torchvision import models, transforms\n",
    "from torch.utils.data import DataLoader\n",
    "from torchvision.datasets import ImageFolder\n",
    "import torchinfo\n",
    "import torch.nn as nn\n",
    "import torch"
   ]
  },
  {
   "cell_type": "code",
   "execution_count": null,
   "metadata": {
    "colab": {
     "base_uri": "https://localhost:8080/",
     "height": 90
    },
    "colab_type": "code",
    "id": "uxPlOyi3sUo_",
    "outputId": "0c8b07dc-86a0-4c7e-e27e-8ee3eb135dff"
   },
   "outputs": [],
   "source": [
    "#@title -- Downloading Data -- { display-mode: \"form\" }\n",
    "from class_utils.download import download_file_maybe_extract\n",
    "download_file_maybe_extract(\"https://www.dropbox.com/s/w4pg809npvatye0/food5v2.zip?dl=1\", directory=\"data/food5v2\")\n",
    "\n",
    "# also create a directory for storing any outputs\n",
    "import os\n",
    "os.makedirs(\"output\", exist_ok=True)"
   ]
  },
  {
   "cell_type": "markdown",
   "metadata": {
    "colab_type": "text",
    "id": "pmSE6788mjy1",
    "tags": [
     "sk"
    ]
   },
   "source": [
    "## Transfer učenie\n",
    "\n",
    "Transfer učenie budeme realizovať na dátovej množine **Food 5** : zmenšenej verzii dátovej množiny [Food 11](https://www.kaggle.com/vermaavi/food11). Iný príklad transfer učenia možné nájsť v [interaktívnom deme](https://storage.googleapis.com/tfjs-examples/webcam-transfer-learning/dist/index.html) pre tensorflow.js.\n",
    "\n",
    "Transfer učenie je veľmi užitočná technika. Za normálnych okolností si hlboké učenie vyžaduje obrovské množstvo dát a výpočtov. Ak ho chceme aplikovať na malú dátovú množinu, typicky sa nám nepodarí dosiahnuť, aby hlboká sieť dobre zovšeobecňovala. Problém súvisí s tým, že malá dátová množina nedokáže väčšinou dostatočne vystihnúť všetky možné variácie vzoriek, s ktorými sa je možné stretnúť. Povedzme v prípade rozpoznávania obrazu môže existovať v podstate nekonečný počet variácií fotografie psa: líšiť sa môžu prostredím, osvetlením, plemenom psa, uhlom, v ktorom je odfotografovaný a pod. Malá dátová množina potom s vysokou pravdepodobnosťou nepokryje dostatočne tento široký priestor.\n",
    "\n",
    "Jedným z riešení, ktoré umožňujú hlboké učenie predsa len aplikovať aj na pomerne malé dátové množiny, je **transfer učenie** . Ide o techniku, kde sa sieť najprv predtrénuje na veľkej, všeobecnejšej dátovej množine (v prípade spracovania obrazu to býva dátová množina ImageNet) – tam sa sieť naučí napríklad o tom, ako vyzerá prirodzený obraz a ako ho treba predspracovať. Následne sa už existujúca sieť dotrénuje na konkrétnu cieľovú úlohu.\n",
    "\n",
    "### Rámcový postup\n",
    "\n",
    "Rámcový postup transfer učenia pre spracovanie obrazu:\n",
    "\n",
    "* Predtrénovať sieť na dátovej množine ImageNet.\n",
    "\n",
    "\n",
    "* Z pôvodnej siete zmazať niekoľko posledných vrstiev a nahradiť ich novými. Nová výstupná vrstva bude už mať toľko výstupov, koľko je tried v novej dátovej množine.\n",
    "\n",
    "\n",
    "* Váhy predtrénovaných vrstiev sa zafixujú. Na novej dátovej množine sa trénujú najprv len nové vrstvy.\n",
    "\n",
    "\n",
    "* Keď sa nové vrstvy natrénovali, môžeme (nepovinný krok) odomknúť aj váhy predtrénovaných vrstiev a doladíme váhy celej siete. Použijeme omnoho nižšiu rýchlosť učenia – jednak preto, aby sme váhy priveľkými krokmi nerozladili, ale aj preto, že pri ladení všetkých váh sa už sieť veľmi ľahko preučí.\n",
    "\n",
    "\n",
    "### Príprava dátovej množiny\n",
    "\n",
    "Ako zvyčajne, začneme prípravou dátovej množiny. Pre väčšinu úloh rozpoznávania obrazu bude dátová množina príliš veľká na to, aby sa do pamäte zmestila celá naraz. Preto sa ju typicky nebudeme snažiť načítať celú naraz, ale využijeme `DataSet` a `DataLoader` abstrakcie z balíčka `PyTorch`. V našom aktuálnom príklade je dátová množina už predrozdelená na tréningové, validačné a testovacie dáta, pričom každá časť dát je uložená v osobitnom priečinku. Priečinky sú štruktúrované tak, že každá trieda má svoj vlastný podpriečinok. \n",
    "\n"
   ]
  },
  {
   "cell_type": "code",
   "execution_count": null,
   "metadata": {
    "colab": {
     "base_uri": "https://localhost:8080/",
     "height": 35
    },
    "colab_type": "code",
    "id": "p-Wiw8QHmjy5",
    "outputId": "02439698-ecbd-4fa9-899f-79b226db318e"
   },
   "outputs": [],
   "source": [
    "!ls data/food5v2"
   ]
  },
  {
   "cell_type": "code",
   "execution_count": null,
   "metadata": {
    "colab": {
     "base_uri": "https://localhost:8080/",
     "height": 35
    },
    "colab_type": "code",
    "id": "vt3NIEDKmjzC",
    "outputId": "f5d12ecb-9032-4f29-a142-0b834ea0c2ed"
   },
   "outputs": [],
   "source": [
    "!ls data/food5v2/training"
   ]
  },
  {
   "cell_type": "markdown",
   "metadata": {
    "colab_type": "text",
    "id": "v_O5QTipmjzS",
    "tags": [
     "sk"
    ]
   },
   "source": [
    "Keďže má dátová množina takúto štruktúru, môžeme použiť priamo triedu `ImageFolder` z `torchvision.datasets`.\n",
    "\n",
    "Každý obrázok bude potrebné predtým, ako ho vložíme na vstup neurónovej siete, predspracovať: bude potrebné upraviť jeho rozmery, orezať ho a normalizovať rovnakým spôsobom ako sa to dialo keď bola sieť predtrénovaná. Budeme používať predtrénovanú sieť ResNet50 s váhami `IMAGENET1K_V2`. Pozrime sa teda najprv, ako vyzerá postup predspracovania, s ktorým boli trénované tieto váhy.\n",
    "\n"
   ]
  },
  {
   "cell_type": "code",
   "execution_count": null,
   "metadata": {},
   "outputs": [],
   "source": [
    "device = \"cuda\" if torch.cuda.is_available() else \"cpu\"\n",
    "weights = models.ResNet50_Weights.IMAGENET1K_V2\n",
    "image_transforms = weights.transforms()\n",
    "image_transforms"
   ]
  },
  {
   "cell_type": "markdown",
   "metadata": {
    "colab_type": "text",
    "id": "v_O5QTipmjzS",
    "tags": [
     "sk"
    ]
   },
   "source": [
    "Toto predspracovanie je vcelku jednoduché. Vytvoríme na základe neho dva rozličné spôsoby predspracovania pre naše dáta. Prvý z nich bude len reprodukovať `image_transforms`, ako sme ho videli vyššie. Druhý však bude vykonávať aj **zväčšovanie dátovej množiny**  – bude obsahovať niekoľko náhodných operácií, ktoré upravia obrázok iným spôsobom pri každom načítaní. Toto pridá do našej tréningovej množiny viac rozmanitosti. Sieť v podstate nikdy neuvidí ten istý obrázok dvakrát. V praxi môžu byť procedúry na zväčšovanie dátovej množiny oveľa prepracovanejšie, napr. na obraz aplikovať rotáciu, priblíženie, posun kanálov a množstvo ďalších transformácií.\n",
    "\n"
   ]
  },
  {
   "cell_type": "code",
   "execution_count": null,
   "metadata": {
    "colab": {},
    "colab_type": "code",
    "id": "6P8XQEMCsgVX"
   },
   "outputs": [],
   "source": [
    "normal_preproc = transforms.Compose([\n",
    "    transforms.Resize(image_transforms.resize_size),\n",
    "    transforms.CenterCrop(image_transforms.crop_size),\n",
    "    transforms.ToTensor(),\n",
    "    transforms.Normalize(image_transforms.mean, image_transforms.std)\n",
    "])\n",
    "\n",
    "augment_preproc = transforms.Compose([\n",
    "    transforms.RandomResizedCrop(image_transforms.crop_size),\n",
    "    transforms.RandomHorizontalFlip(),\n",
    "    transforms.ToTensor(),\n",
    "    transforms.Normalize(image_transforms.mean, image_transforms.std)\n",
    "])"
   ]
  },
  {
   "cell_type": "markdown",
   "metadata": {
    "colab_type": "text",
    "id": "s4BPAc8Cmjzp",
    "tags": [
     "sk"
    ]
   },
   "source": [
    "Ďalej už môžeme zostrojiť samotné `ImageFolder` dátové množiny. Špecifikujeme cesty ku jednotlivým častiam dátovej množiny a tiež spôsob, akým sa majú obrázky pre každú časť predspracovať. Bežné predspracovanie aplikujeme na validačné a testovacie dáta a predspracovanie so zväčšovaním dátovej množiny aplikujeme na tréningové dáta.\n",
    "\n"
   ]
  },
  {
   "cell_type": "code",
   "execution_count": null,
   "metadata": {
    "colab": {},
    "colab_type": "code",
    "id": "DEMPcRIits1V"
   },
   "outputs": [],
   "source": [
    "train_dataset = ImageFolder(\n",
    "    \"data/food5v2/training\",\n",
    "    augment_preproc\n",
    ")\n",
    "\n",
    "train_dataloader = DataLoader(\n",
    "    train_dataset,\n",
    "    batch_size=32,\n",
    "    shuffle=True,\n",
    "    num_workers=4\n",
    ")\n",
    "\n",
    "valid_dataset = ImageFolder(\n",
    "    \"data/food5v2/validation\",\n",
    "    normal_preproc\n",
    ")\n",
    "\n",
    "valid_dataloader = DataLoader(\n",
    "    valid_dataset,\n",
    "    batch_size=32,\n",
    "    shuffle=True,\n",
    "    num_workers=4\n",
    ")\n",
    "\n",
    "test_dataset = ImageFolder(\n",
    "    \"data/food5v2/testing\",\n",
    "    normal_preproc\n",
    ")\n",
    "\n",
    "test_dataloader = DataLoader(\n",
    "    test_dataset,\n",
    "    batch_size=32,\n",
    "    shuffle=True,\n",
    "    num_workers=4\n",
    ")"
   ]
  },
  {
   "cell_type": "markdown",
   "metadata": {
    "colab_type": "text",
    "id": "Gdh6NATumjz-",
    "tags": [
     "sk"
    ]
   },
   "source": [
    "#### Zobrazenie niekoľkých vzoriek\n",
    "\n"
   ]
  },
  {
   "cell_type": "code",
   "execution_count": null,
   "metadata": {
    "cellView": "form",
    "colab": {
     "base_uri": "https://localhost:8080/",
     "height": 469
    },
    "colab_type": "code",
    "id": "QgmXBE6mmj0B",
    "outputId": "b563f713-82be-4675-ac26-94a979daa74a"
   },
   "outputs": [],
   "source": [
    "#@title -- Display Data Samples --\n",
    "disp_dataset = ImageFolder(\n",
    "    \"data/food5v2/training\",\n",
    "    transforms.ToTensor()\n",
    ")\n",
    "loader = DataLoader(disp_dataset, batch_size=1, shuffle=True)\n",
    "loader_iter = iter(loader)\n",
    "\n",
    "num_rows = 4; num_cols = 4\n",
    "fig, axes = plt.subplots(num_rows, num_cols, figsize=(10, 8))\n",
    "\n",
    "for row in axes:\n",
    "    for ax in row:\n",
    "        sample = next(loader_iter)[0][0].numpy().transpose((1, 2, 0))\n",
    "        ax.imshow(sample)\n",
    "        ax.set_xticks([])\n",
    "        ax.set_yticks([])"
   ]
  },
  {
   "cell_type": "markdown",
   "metadata": {
    "colab_type": "text",
    "id": "CrXCHsA0mj0t",
    "tags": [
     "sk"
    ]
   },
   "source": [
    "### Načítanie predtrénovanej siete\n",
    "\n",
    "Načítame predtrénovanú sieť s architektúrou ResNet50. Váhy predtrénované na dátovej množine ImageNet sa stiahnu automaticky.\n",
    "\n"
   ]
  },
  {
   "cell_type": "code",
   "execution_count": null,
   "metadata": {
    "colab": {
     "base_uri": "https://localhost:8080/",
     "height": 104,
     "referenced_widgets": [
      "80e98bc88f374275bedb82737935ab4d",
      "5a1034ec61384e90a57f3ca9f57e4bb6",
      "c8f6ae12235d4dfa864de5114a6e2bf5",
      "f5e66d097cd94fcd92c0167d0baac031",
      "d6e67658bddb41a1b6e1261a63603158",
      "d6995b2241ae46cca768574f8cccf2d6",
      "3db5a994401949858a1507e673cc87c9",
      "172ff158eadb4cd6bb7d13eb0b99bcf3"
     ]
    },
    "colab_type": "code",
    "id": "iSHPQsGVmj0v",
    "outputId": "9659afdc-3d49-4d41-85ae-a58f401e579f"
   },
   "outputs": [],
   "source": [
    "model = models.resnet50(weights=weights)"
   ]
  },
  {
   "cell_type": "markdown",
   "metadata": {
    "colab_type": "text",
    "id": "CrXCHsA0mj0t",
    "tags": [
     "sk"
    ]
   },
   "source": [
    "Aby sme získali predstavu o tom, ako vyzerá naša architektúra, použijeme funkciu `torchinfo.summary`. Poskytne nám informácie o hierarchickej štruktúre našej siete vrátane všetkých jej podmodulov a jednotlivých vrstiev. Zhrnutie úplne dole tiež ukazuje, koľko trénovateľných parametrov sieť obsahuje.\n",
    "\n"
   ]
  },
  {
   "cell_type": "code",
   "execution_count": null,
   "metadata": {},
   "outputs": [],
   "source": [
    "torchinfo.summary(model)"
   ]
  },
  {
   "cell_type": "markdown",
   "metadata": {
    "colab_type": "text",
    "id": "Y-wnZWllmj08",
    "tags": [
     "sk"
    ]
   },
   "source": [
    "### Modifikácia siete\n",
    "\n",
    "#### Nahradenie poslednej vrstvy\n",
    "\n",
    "Aby sme neurónovú sieť adaptovali na novú klasifikačnú úlohu, nahradíme jej poslednú vrstvu (úplne prepojenú lineárnu vrstvu `model.fc`) novým modulom.\n",
    "\n"
   ]
  },
  {
   "cell_type": "code",
   "execution_count": null,
   "metadata": {
    "colab": {},
    "colab_type": "code",
    "id": "Tmi9KFLfBIqZ"
   },
   "outputs": [],
   "source": [
    "class ModelTop(nn.Module):\n",
    "    def __init__(self, num_features, num_outputs):\n",
    "        super().__init__()\n",
    "        self.dropout = nn.Dropout(0.5)\n",
    "        self.fc = nn.Linear(num_features, num_outputs)\n",
    "\n",
    "    def set_dropout(self, p):\n",
    "        self.dropout.p = p\n",
    "    \n",
    "    def forward(self, x):\n",
    "        y = torch.flatten(x, 1)\n",
    "        y = self.dropout(y)\n",
    "        y = self.fc(y)\n",
    "        return y"
   ]
  },
  {
   "cell_type": "code",
   "execution_count": null,
   "metadata": {
    "colab": {},
    "colab_type": "code",
    "id": "-lut1-SsStUA"
   },
   "outputs": [],
   "source": [
    "num_features = model.fc.in_features\n",
    "top = ModelTop(num_features=num_features, num_outputs=10)\n",
    "model.fc = top\n",
    "model.to(device);"
   ]
  },
  {
   "cell_type": "markdown",
   "metadata": {
    "colab_type": "text",
    "id": "97FQYsramj1Z",
    "tags": [
     "sk"
    ]
   },
   "source": [
    "### Tréning nových vrstiev\n",
    "\n",
    "V tréningovej slučke použijeme checkpointovanie najlepších verzií modelu: budeme monitorovať validačnú chybu a zakaždým, keď sa zlepší, model uložíme. Na konci tréningu potom načítame späť najlepší uložený model.\n",
    "\n"
   ]
  },
  {
   "cell_type": "markdown",
   "metadata": {
    "colab_type": "text",
    "id": "97FQYsramj1Z",
    "tags": [
     "sk"
    ]
   },
   "source": [
    "#### Zmrazenie predtrénovaných vrstiev\n",
    "\n",
    "Pripomeňme, že na začiatku chceme trénovať len nové vrchné vrstvy a predtrénované vrstvy chceme ponechať v pôvodnom stave. V našom prípade budeme preto musieť uzamknúť všetky vrstvy okrem poslednej. Použijeme na to preddefinovanú pomocnú funkciu, tá však interne len prejde po vrstvách a nastaví príslušným spôsobom `requires_grad` atribút pre všetky ich parametre.\n",
    "\n"
   ]
  },
  {
   "cell_type": "code",
   "execution_count": null,
   "metadata": {
    "colab": {},
    "colab_type": "code",
    "id": "Ey8iP-hWY8bi"
   },
   "outputs": [],
   "source": [
    "freeze_except_last(model);"
   ]
  },
  {
   "cell_type": "markdown",
   "metadata": {
    "colab_type": "text",
    "id": "97FQYsramj1Z",
    "tags": [
     "sk"
    ]
   },
   "source": [
    "Teraz si znova zobrazme sumár modelu, aby sme sa uistili, že všetko prebehlo správne. Mali by sme vidieť, že počet trénovateľných parametrov je teraz podstatne nižší (len parametre finálnej vrstvy v našom novom module) a pribudlo veľa netrénovateľných (zmrazených) parametrov. Všimnite si tiež, že pre zmrazené vrstvy je teraz počet parametrov zobrazený v zátvorkách – týmto spôsobom môžete skontrolovať, či ste zmrazili správne vrstvy.\n",
    "\n"
   ]
  },
  {
   "cell_type": "code",
   "execution_count": null,
   "metadata": {},
   "outputs": [],
   "source": [
    "torchinfo.summary(model)"
   ]
  },
  {
   "cell_type": "markdown",
   "metadata": {
    "colab_type": "text",
    "id": "97FQYsramj1Z",
    "tags": [
     "sk"
    ]
   },
   "source": [
    "Aj keď na konci siete používame iba jednu lineárnu vrstvu pre 10 výstupných tried, stále máme dosť veľa trénovateľných parametrov: 20 490, ak používame ResNet50. Vzhľadom na to, že naša tréningová množina obsahuje len 200 vzoriek, je to obrovské množstvo parametrov. Dropout by mal so zovšeobecnením čiastočne pomôcť, no aj tak nemôžeme očakávať zázraky. Pre tento druh úlohy by nebolo ťažké získať viac dát – nechceme však, aby učenie v notebook-u trvalo príliš dlho, a preto pracujeme s malou dátovou množinou.\n",
    "\n"
   ]
  },
  {
   "cell_type": "markdown",
   "metadata": {
    "colab_type": "text",
    "id": "97FQYsramj1Z",
    "tags": [
     "sk"
    ]
   },
   "source": [
    "### Tréning nových vrstiev\n",
    "\n",
    "V tréningovej slučke použijeme checkpointovanie najlepších verzií modelu: budeme monitorovať validačnú chybu a zakaždým, keď sa zlepší, model uložíme. Na konci tréningu potom načítame späť najlepší uložený model.\n",
    "\n"
   ]
  },
  {
   "cell_type": "code",
   "execution_count": null,
   "metadata": {},
   "outputs": [],
   "source": [
    "criterion = nn.CrossEntropyLoss()\n",
    "optimizer = torch.optim.Adam(model.parameters(), lr=1e-2)\n",
    "schedule = ExponentialLR(optimizer, gamma=0.9)\n",
    "checkpointer = BestModelCheckpointer(checkpoint_path=\"output/best_model.pt\")\n",
    "loss_train = []\n",
    "loss_valid = []\n",
    "\n",
    "for epoch in range(30):\n",
    "    epoch_train_loss = []\n",
    "    epoch_valid_loss = []\n",
    "\n",
    "    model.train()\n",
    "    for X_batch, Y_batch in train_dataloader:\n",
    "        X_batch = X_batch.to(device)\n",
    "        Y_batch = Y_batch.to(device)\n",
    "        \n",
    "        y_batch = model(X_batch)\n",
    "        loss = criterion(y_batch, Y_batch)\n",
    "\n",
    "        optimizer.zero_grad()\n",
    "        loss.backward()\n",
    "        optimizer.step()\n",
    "\n",
    "        epoch_train_loss.append(loss.item())\n",
    "\n",
    "    loss_train.append(np.mean(epoch_train_loss))\n",
    "\n",
    "    model.eval()\n",
    "    for X_batch, Y_batch in valid_dataloader:\n",
    "        X_batch = X_batch.to(device)\n",
    "        Y_batch = Y_batch.to(device)\n",
    "        \n",
    "        with torch.no_grad():\n",
    "            y_batch = model(X_batch)\n",
    "            loss = criterion(y_batch, Y_batch)\n",
    "\n",
    "        epoch_valid_loss.append(loss.item())\n",
    "\n",
    "    loss_valid.append(np.mean(epoch_valid_loss))\n",
    "    checkpointer(loss_valid[-1], model)\n",
    "    schedule.step()\n",
    "\n",
    "    if epoch % 5 == 0:\n",
    "        print(f\"epoch {epoch}, train loss: {np.mean(loss_train[-5:])}, valid loss: {np.mean(loss_valid[-5:])}\")\n",
    "\n",
    "print(f\"epoch {epoch}, loss: {loss_train[-1]}\")"
   ]
  },
  {
   "cell_type": "code",
   "execution_count": null,
   "metadata": {},
   "outputs": [],
   "source": [
    "plt.plot(loss_train, label=\"train\")\n",
    "plt.plot(loss_valid, label=\"valid\")\n",
    "plt.xlabel(\"epoch\")\n",
    "plt.ylabel(\"loss\")\n",
    "plt.grid(ls='--')\n",
    "plt.legend()"
   ]
  },
  {
   "cell_type": "markdown",
   "metadata": {
    "colab_type": "text",
    "id": "97FQYsramj1Z",
    "tags": [
     "sk"
    ]
   },
   "source": [
    "#### Hodnotenie modelu na validačných dátach\n",
    "\n",
    "Ďalej si načítame z checkpoint-ového súboru najlepší uložený model a spustíme evaluáciu. Keďže sme s tréningom modelu ešte neskončili, budeme zatiaľ testovať len na **validačnej množine, nie na testovacej množine** .\n",
    "\n"
   ]
  },
  {
   "cell_type": "code",
   "execution_count": null,
   "metadata": {},
   "outputs": [],
   "source": [
    "model.load_state_dict(torch.load(\"output/best_model.pt\"));"
   ]
  },
  {
   "cell_type": "code",
   "execution_count": null,
   "metadata": {},
   "outputs": [],
   "source": [
    "eval_Y = []\n",
    "eval_y = []\n",
    "\n",
    "model.eval()\n",
    "for X_batch, Y_batch in valid_dataloader:\n",
    "    eval_Y.extend(Y_batch.numpy())\n",
    "    X_batch = X_batch.to(device)\n",
    "    Y_batch = Y_batch.to(device)\n",
    "    \n",
    "    with torch.no_grad():\n",
    "        y_batch = model(X_batch)\n",
    "\n",
    "    eval_y.extend(y_batch.argmax(dim=1).cpu().numpy())\n",
    "\n",
    "eval_Y = np.array(eval_Y)\n",
    "eval_y = np.array(eval_y)\n",
    "\n",
    "cm = pd.crosstab(\n",
    "    eval_Y, eval_y,\n",
    "    rownames=['actual'],\n",
    "    colnames=['predicted']\n",
    ")\n",
    "print(cm, '\\n')\n",
    "\n",
    "acc = accuracy_score(eval_Y, eval_y)\n",
    "print(\"Accuracy = {}\".format(acc))"
   ]
  },
  {
   "cell_type": "markdown",
   "metadata": {
    "colab_type": "text",
    "id": "RBMTNti1mj2M",
    "tags": [
     "sk"
    ]
   },
   "source": [
    "### Dolaďovanie (fine-tuning) predtrénovaných váh\n",
    "\n",
    "Keď už natrénujeme nové záverečné vrstvy modelu, často má zmysel rozmraziť ešte niekoľko ďalších vrstiev siete a doladiť aj ich váhy. Zvyčajne sa však v tom prípade rýchlosť učenia výrazne zníži a namiesto agresívnejších optimalizátorov, ako je napríklad Adam, sa zväčša používa konzervatívnejší optimalizátor, napríklad `SGD`. Cieľom je zabezpečiť, aby kroky, ktoré vykoná optimalizátor, nenarušili predtrénované príznaky a nezmazali tým celý efekt transfer učenia. Za zmienku stojí, že ani v tomto štádiu sa zvyčajne nerozmrazí úplne celá sieť.\n",
    "\n",
    "V našom prípade máme veľmi malé množstvo dát a je nepravdepodobné, že táto etapa dolaďovania skutočne pomôže zlepšiť výsledky. Môžeme sa však o to aspoň pokúsiť. Začneme tým, že rozmrazíme posledných 5 vrstiev.\n",
    "\n"
   ]
  },
  {
   "cell_type": "code",
   "execution_count": null,
   "metadata": {},
   "outputs": [],
   "source": [
    "freeze_except_last(model, num_last=5);\n",
    "torchinfo.summary(model)"
   ]
  },
  {
   "attachments": {},
   "cell_type": "markdown",
   "metadata": {
    "colab_type": "text",
    "id": "RBMTNti1mj2M",
    "tags": [
     "sk"
    ]
   },
   "source": [
    "---\n",
    "### Úloha 1: Realizujte doladenie váh\n",
    "\n",
    "**Následne modifikujte vyššie použitú tréningovú slučku na doladenie váh. Namiesto metódy `Adam` použite ako optimalizátor `SGD` a rýchlosť učenia nastavte na nižšiu hodnotu, napríklad 1e-7. Modifikujte aj checkpoint_path tak, aby checkpointy boli uložené v inom súbore, než predtým. Ak doladený model nepredstavuje zlepšenie oproti predchádzajúcej verzii, obnovte váhy predchádzajúcej verzie z príslušného checkpointu.** \n",
    "\n",
    "---\n"
   ]
  },
  {
   "cell_type": "code",
   "execution_count": null,
   "metadata": {
    "tags": [
     "student"
    ]
   },
   "outputs": [],
   "source": [
    "\n",
    "\n",
    "# ----\n",
    "\n"
   ]
  },
  {
   "cell_type": "markdown",
   "metadata": {
    "colab_type": "text",
    "id": "RBMTNti1mj2M",
    "tags": [
     "sk"
    ]
   },
   "source": [
    "#### Testovanie doladeného modelu\n",
    "\n",
    "Teraz načítame späť najlepšiu verziu nášho doladeného modelu a vyhodnotíme ju. Keďže máme veľmi málo dát, je pravdepodobné, že výsledky nebudú lepšie než u verzie, kde sme trénovali len nové vrstvy.\n",
    "\n"
   ]
  },
  {
   "cell_type": "code",
   "execution_count": null,
   "metadata": {},
   "outputs": [],
   "source": [
    "model.load_state_dict(torch.load(\"output/best_full_model.pt\"));"
   ]
  },
  {
   "cell_type": "code",
   "execution_count": null,
   "metadata": {},
   "outputs": [],
   "source": [
    "eval_Y = []\n",
    "eval_y = []\n",
    "\n",
    "model.eval()\n",
    "for X_batch, Y_batch in valid_dataloader:\n",
    "    eval_Y.extend(Y_batch.numpy())\n",
    "    X_batch = X_batch.to(device)\n",
    "    Y_batch = Y_batch.to(device)\n",
    "    \n",
    "    with torch.no_grad():\n",
    "        y_batch = model(X_batch)\n",
    "\n",
    "    eval_y.extend(y_batch.argmax(dim=1).cpu().numpy())\n",
    "\n",
    "eval_Y = np.array(eval_Y)\n",
    "eval_y = np.array(eval_y)\n",
    "\n",
    "cm = pd.crosstab(\n",
    "    eval_Y, eval_y,\n",
    "    rownames=['actual'],\n",
    "    colnames=['predicted']\n",
    ")\n",
    "print(cm, '\\n')\n",
    "\n",
    "acc = accuracy_score(eval_Y, eval_y)\n",
    "print(\"Accuracy = {}\".format(acc))"
   ]
  },
  {
   "cell_type": "markdown",
   "metadata": {
    "colab_type": "text",
    "id": "RBMTNti1mj2M",
    "tags": [
     "sk"
    ]
   },
   "source": [
    "Teraz môžeme model ohodnotiť aj na testovacej množine. Na týchto konkrétnych dátach môžeme očakávať, že výsledky na testovacej časti budú v skutočnosti o niečo lepšie – testovacia množina sa v tomto prípade náhodou zdá byť o niečo menej náročná, čo sa môže stať, keď pracujete s veľmi malými množstvami dát.\n",
    "\n"
   ]
  },
  {
   "cell_type": "code",
   "execution_count": null,
   "metadata": {},
   "outputs": [],
   "source": [
    "eval_Y = []\n",
    "eval_y = []\n",
    "\n",
    "model.eval()\n",
    "for X_batch, Y_batch in test_dataloader:\n",
    "    eval_Y.extend(Y_batch.numpy())\n",
    "    X_batch = X_batch.to(device)\n",
    "    Y_batch = Y_batch.to(device)\n",
    "    \n",
    "    with torch.no_grad():\n",
    "        y_batch = model(X_batch)\n",
    "\n",
    "    eval_y.extend(y_batch.argmax(dim=1).cpu().numpy())\n",
    "\n",
    "eval_Y = np.array(eval_Y)\n",
    "eval_y = np.array(eval_y)\n",
    "\n",
    "cm = pd.crosstab(\n",
    "    eval_Y, eval_y,\n",
    "    rownames=['actual'],\n",
    "    colnames=['predicted']\n",
    ")\n",
    "print(cm, '\\n')\n",
    "\n",
    "acc = accuracy_score(eval_Y, eval_y)\n",
    "print(\"Accuracy = {}\".format(acc))"
   ]
  },
  {
   "cell_type": "code",
   "execution_count": null,
   "metadata": {
    "colab": {},
    "colab_type": "code",
    "id": "QiJ5ur2v9xnz"
   },
   "outputs": [],
   "source": []
  }
 ],
 "metadata": {
  "accelerator": "GPU",
  "celltoolbar": "Tags",
  "colab": {
   "collapsed_sections": [],
   "name": "7_transfer_learning.ipynb",
   "provenance": []
  },
  "kernelspec": {
   "display_name": "Python 3.9.12 ('base')",
   "language": "python",
   "name": "python3"
  },
  "language_info": {
   "codemirror_mode": {
    "name": "ipython",
    "version": 3
   },
   "file_extension": ".py",
   "mimetype": "text/x-python",
   "name": "python",
   "nbconvert_exporter": "python",
   "pygments_lexer": "ipython3",
   "version": "3.9.16"
  },
  "vscode": {
   "interpreter": {
    "hash": "a351393365bb1b108989afa08de3243f72f5e58927baf5d192f3cca79a41cbc4"
   }
  },
  "widgets": {
   "application/vnd.jupyter.widget-state+json": {
    "172ff158eadb4cd6bb7d13eb0b99bcf3": {
     "model_module": "@jupyter-widgets/base",
     "model_name": "LayoutModel",
     "state": {
      "_model_module": "@jupyter-widgets/base",
      "_model_module_version": "1.2.0",
      "_model_name": "LayoutModel",
      "_view_count": null,
      "_view_module": "@jupyter-widgets/base",
      "_view_module_version": "1.2.0",
      "_view_name": "LayoutView",
      "align_content": null,
      "align_items": null,
      "align_self": null,
      "border": null,
      "bottom": null,
      "display": null,
      "flex": null,
      "flex_flow": null,
      "grid_area": null,
      "grid_auto_columns": null,
      "grid_auto_flow": null,
      "grid_auto_rows": null,
      "grid_column": null,
      "grid_gap": null,
      "grid_row": null,
      "grid_template_areas": null,
      "grid_template_columns": null,
      "grid_template_rows": null,
      "height": null,
      "justify_content": null,
      "justify_items": null,
      "left": null,
      "margin": null,
      "max_height": null,
      "max_width": null,
      "min_height": null,
      "min_width": null,
      "object_fit": null,
      "object_position": null,
      "order": null,
      "overflow": null,
      "overflow_x": null,
      "overflow_y": null,
      "padding": null,
      "right": null,
      "top": null,
      "visibility": null,
      "width": null
     }
    },
    "3db5a994401949858a1507e673cc87c9": {
     "model_module": "@jupyter-widgets/controls",
     "model_name": "DescriptionStyleModel",
     "state": {
      "_model_module": "@jupyter-widgets/controls",
      "_model_module_version": "1.5.0",
      "_model_name": "DescriptionStyleModel",
      "_view_count": null,
      "_view_module": "@jupyter-widgets/base",
      "_view_module_version": "1.2.0",
      "_view_name": "StyleView",
      "description_width": ""
     }
    },
    "5a1034ec61384e90a57f3ca9f57e4bb6": {
     "model_module": "@jupyter-widgets/base",
     "model_name": "LayoutModel",
     "state": {
      "_model_module": "@jupyter-widgets/base",
      "_model_module_version": "1.2.0",
      "_model_name": "LayoutModel",
      "_view_count": null,
      "_view_module": "@jupyter-widgets/base",
      "_view_module_version": "1.2.0",
      "_view_name": "LayoutView",
      "align_content": null,
      "align_items": null,
      "align_self": null,
      "border": null,
      "bottom": null,
      "display": null,
      "flex": null,
      "flex_flow": null,
      "grid_area": null,
      "grid_auto_columns": null,
      "grid_auto_flow": null,
      "grid_auto_rows": null,
      "grid_column": null,
      "grid_gap": null,
      "grid_row": null,
      "grid_template_areas": null,
      "grid_template_columns": null,
      "grid_template_rows": null,
      "height": null,
      "justify_content": null,
      "justify_items": null,
      "left": null,
      "margin": null,
      "max_height": null,
      "max_width": null,
      "min_height": null,
      "min_width": null,
      "object_fit": null,
      "object_position": null,
      "order": null,
      "overflow": null,
      "overflow_x": null,
      "overflow_y": null,
      "padding": null,
      "right": null,
      "top": null,
      "visibility": null,
      "width": null
     }
    },
    "80e98bc88f374275bedb82737935ab4d": {
     "model_module": "@jupyter-widgets/controls",
     "model_name": "HBoxModel",
     "state": {
      "_dom_classes": [],
      "_model_module": "@jupyter-widgets/controls",
      "_model_module_version": "1.5.0",
      "_model_name": "HBoxModel",
      "_view_count": null,
      "_view_module": "@jupyter-widgets/controls",
      "_view_module_version": "1.5.0",
      "_view_name": "HBoxView",
      "box_style": "",
      "children": [
       "IPY_MODEL_c8f6ae12235d4dfa864de5114a6e2bf5",
       "IPY_MODEL_f5e66d097cd94fcd92c0167d0baac031"
      ],
      "layout": "IPY_MODEL_5a1034ec61384e90a57f3ca9f57e4bb6"
     }
    },
    "c8f6ae12235d4dfa864de5114a6e2bf5": {
     "model_module": "@jupyter-widgets/controls",
     "model_name": "FloatProgressModel",
     "state": {
      "_dom_classes": [],
      "_model_module": "@jupyter-widgets/controls",
      "_model_module_version": "1.5.0",
      "_model_name": "FloatProgressModel",
      "_view_count": null,
      "_view_module": "@jupyter-widgets/controls",
      "_view_module_version": "1.5.0",
      "_view_name": "ProgressView",
      "bar_style": "success",
      "description": "100%",
      "description_tooltip": null,
      "layout": "IPY_MODEL_d6995b2241ae46cca768574f8cccf2d6",
      "max": 102502400,
      "min": 0,
      "orientation": "horizontal",
      "style": "IPY_MODEL_d6e67658bddb41a1b6e1261a63603158",
      "value": 102502400
     }
    },
    "d6995b2241ae46cca768574f8cccf2d6": {
     "model_module": "@jupyter-widgets/base",
     "model_name": "LayoutModel",
     "state": {
      "_model_module": "@jupyter-widgets/base",
      "_model_module_version": "1.2.0",
      "_model_name": "LayoutModel",
      "_view_count": null,
      "_view_module": "@jupyter-widgets/base",
      "_view_module_version": "1.2.0",
      "_view_name": "LayoutView",
      "align_content": null,
      "align_items": null,
      "align_self": null,
      "border": null,
      "bottom": null,
      "display": null,
      "flex": null,
      "flex_flow": null,
      "grid_area": null,
      "grid_auto_columns": null,
      "grid_auto_flow": null,
      "grid_auto_rows": null,
      "grid_column": null,
      "grid_gap": null,
      "grid_row": null,
      "grid_template_areas": null,
      "grid_template_columns": null,
      "grid_template_rows": null,
      "height": null,
      "justify_content": null,
      "justify_items": null,
      "left": null,
      "margin": null,
      "max_height": null,
      "max_width": null,
      "min_height": null,
      "min_width": null,
      "object_fit": null,
      "object_position": null,
      "order": null,
      "overflow": null,
      "overflow_x": null,
      "overflow_y": null,
      "padding": null,
      "right": null,
      "top": null,
      "visibility": null,
      "width": null
     }
    },
    "d6e67658bddb41a1b6e1261a63603158": {
     "model_module": "@jupyter-widgets/controls",
     "model_name": "ProgressStyleModel",
     "state": {
      "_model_module": "@jupyter-widgets/controls",
      "_model_module_version": "1.5.0",
      "_model_name": "ProgressStyleModel",
      "_view_count": null,
      "_view_module": "@jupyter-widgets/base",
      "_view_module_version": "1.2.0",
      "_view_name": "StyleView",
      "bar_color": null,
      "description_width": "initial"
     }
    },
    "f5e66d097cd94fcd92c0167d0baac031": {
     "model_module": "@jupyter-widgets/controls",
     "model_name": "HTMLModel",
     "state": {
      "_dom_classes": [],
      "_model_module": "@jupyter-widgets/controls",
      "_model_module_version": "1.5.0",
      "_model_name": "HTMLModel",
      "_view_count": null,
      "_view_module": "@jupyter-widgets/controls",
      "_view_module_version": "1.5.0",
      "_view_name": "HTMLView",
      "description": "",
      "description_tooltip": null,
      "layout": "IPY_MODEL_172ff158eadb4cd6bb7d13eb0b99bcf3",
      "placeholder": "​",
      "style": "IPY_MODEL_3db5a994401949858a1507e673cc87c9",
      "value": " 97.8M/97.8M [00:40&lt;00:00, 2.53MB/s]"
     }
    }
   }
  }
 },
 "nbformat": 4,
 "nbformat_minor": 1
}
