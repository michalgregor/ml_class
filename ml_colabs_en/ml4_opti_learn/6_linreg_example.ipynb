{
 "cells": [
  {
   "cell_type": "markdown",
   "metadata": {
    "colab_type": "text",
    "id": "EU19U45x2grI",
    "tags": [
     "en"
    ]
   },
   "source": [
    "**NOTE: This notebook is written for the Google Colab platform. However it can also be run (possibly with minor modifications) as a standard Jupyter notebook.** \n",
    "\n"
   ]
  },
  {
   "cell_type": "code",
   "execution_count": null,
   "metadata": {
    "colab": {
     "base_uri": "https://localhost:8080/",
     "height": 1000
    },
    "colab_type": "code",
    "id": "3onrsSZH2grd",
    "outputId": "0a4d9fef-90b6-49bf-8443-3e568fe3d5d1"
   },
   "outputs": [],
   "source": [
    "#@title -- Installation of Packages -- { display-mode: \"form\" }\n",
    "import sys\n",
    "!{sys.executable} -m pip install git+https://github.com/michalgregor/class_utils.git"
   ]
  },
  {
   "cell_type": "code",
   "execution_count": null,
   "metadata": {
    "colab": {
     "base_uri": "https://localhost:8080/",
     "height": 81
    },
    "colab_type": "code",
    "id": "lWRCCsr82gr2",
    "outputId": "18c0d5ac-7b3e-4e2a-b3a7-3dea212d958e"
   },
   "outputs": [],
   "source": [
    "#@title -- Import of Necessary Packages -- { display-mode: \"form\" }\n",
    "from sklearn.preprocessing import StandardScaler, OrdinalEncoder, KBinsDiscretizer\n",
    "from sklearn.model_selection import train_test_split\n",
    "from sklearn.metrics import (mean_squared_error,\n",
    "                             mean_absolute_error)\n",
    "from sklearn.linear_model import LinearRegression\n",
    "from sklearn.compose import make_column_transformer\n",
    "from sklearn.pipeline import make_pipeline\n",
    "from sklearn.impute import SimpleImputer\n",
    "from class_utils import corr_heatmap, error_histogram\n",
    "import matplotlib.pyplot as plt\n",
    "import numpy as np\n",
    "import pandas as pd"
   ]
  },
  {
   "cell_type": "code",
   "execution_count": null,
   "metadata": {
    "colab": {
     "base_uri": "https://localhost:8080/",
     "height": 384
    },
    "colab_type": "code",
    "id": "LTIZDJio2gsF",
    "outputId": "79358c51-6f46-4bf4-b2f7-db5474185256"
   },
   "outputs": [],
   "source": [
    "#@title -- Downloading Data -- { display-mode: \"form\" }\n",
    "from class_utils.download import download_file_maybe_extract\n",
    "download_file_maybe_extract(\"https://www.dropbox.com/s/8s0ivlo9yshhxkn/winequality.zip?dl=1\", directory=\"data\")\n",
    "\n",
    "# also create a directory for storing any outputs\n",
    "import os\n",
    "os.makedirs(\"output\", exist_ok=True)"
   ]
  },
  {
   "cell_type": "markdown",
   "metadata": {
    "colab_type": "text",
    "id": "15ZVvzFS2gse",
    "tags": [
     "en"
    ]
   },
   "source": [
    "### Linear Regression and Wine Quality\n",
    "\n",
    "In this example we will try to apply linear regression to a dataset concerning the quality of white wine.\n",
    "\n",
    "We will load the dataset from a CSV file:\n",
    "\n"
   ]
  },
  {
   "cell_type": "code",
   "execution_count": null,
   "metadata": {
    "colab": {
     "base_uri": "https://localhost:8080/",
     "height": 224
    },
    "colab_type": "code",
    "id": "WbXsvKP52gsn",
    "outputId": "a5a0b646-f6a9-4013-f1c7-c9de6a897a9d"
   },
   "outputs": [],
   "source": [
    "df = pd.read_csv(\"data/winequality-white.csv\")\n",
    "df.head()"
   ]
  },
  {
   "cell_type": "markdown",
   "metadata": {
    "colab_type": "text",
    "id": "I6Lo8cCs2gs1",
    "tags": [
     "en"
    ]
   },
   "source": [
    "#### Does the Dataset Contain Linear Relationships?\n",
    "\n",
    "In order to find out whether the dataset contains linear relationships, which we can model using linear regression, we will display the correlation matrix. Strongly correlated variables have a clear linear relationship. Strong negative correlation also means that the variables have a linear relationship, except that they are inversely proportional to one another. Some elements of the correlation matrix are white: this means that the correlation was not statistically significant and the numbers are not too informative.\n",
    "\n"
   ]
  },
  {
   "cell_type": "code",
   "execution_count": null,
   "metadata": {
    "colab": {
     "base_uri": "https://localhost:8080/",
     "height": 550
    },
    "colab_type": "code",
    "id": "UBr8INkx2gs8",
    "outputId": "c2a7b977-51f3-4caf-86fa-b2210f2d2334"
   },
   "outputs": [],
   "source": [
    "plt.figure(figsize=(10, 8))\n",
    "corr_heatmap(df)\n",
    "plt.savefig(\"output/wine_corr_matrix.pdf\", bbox_inches=\"tight\", pad_inches=0)"
   ]
  },
  {
   "cell_type": "markdown",
   "metadata": {
    "colab_type": "text",
    "id": "78YdIFf42gtJ",
    "tags": [
     "en"
    ]
   },
   "source": [
    "As the plot shows, there is a relatively strong correlation between variables `density` and `residual sugar`. These variables also have a weaker correlation with a bunch of other variables. We can therefore attempt to predict variable `density` from all the other variables using linear regression.\n",
    "\n",
    "If we wanted to predict wine quality, linear regression would probably not be our best bet: the only correlation that has any strength is that with the amount of alcohol.\n",
    "\n",
    "### Preprocessing\n",
    "\n",
    "Let us now split the dataset into train and test, stratifying by `density` and apply the standard preprocessing.\n",
    "\n"
   ]
  },
  {
   "cell_type": "code",
   "execution_count": null,
   "metadata": {
    "colab": {},
    "colab_type": "code",
    "id": "haqZpUG42gtR"
   },
   "outputs": [],
   "source": [
    "#@title -- Dataset Splittling: df_train, df_test -- { display-mode: \"form\" }\n",
    "kbins = KBinsDiscretizer(6, encode='ordinal')\n",
    "y_stratify = kbins.fit_transform(df[['density']])\n",
    "df_train, df_test = train_test_split(df, stratify=y_stratify,\n",
    "                                 test_size=0.3, random_state=4)"
   ]
  },
  {
   "cell_type": "code",
   "execution_count": null,
   "metadata": {
    "colab": {
     "base_uri": "https://localhost:8080/",
     "height": 224
    },
    "colab_type": "code",
    "id": "7PSPARgh2gtc",
    "outputId": "a5a92ec2-4cdd-4ef8-afee-caca6b9516c1"
   },
   "outputs": [],
   "source": [
    "df.head()"
   ]
  },
  {
   "cell_type": "markdown",
   "metadata": {
    "colab_type": "text",
    "id": "dULMvUZM2gtp",
    "tags": [
     "en"
    ]
   },
   "source": [
    "---\n",
    "### Task 1: Column Types\n",
    "\n",
    "**List categorical and numeric columns that should be used below.** \n",
    "\n",
    "---\n"
   ]
  },
  {
   "cell_type": "code",
   "execution_count": null,
   "metadata": {
    "colab": {},
    "colab_type": "code",
    "id": "AmOwlNU32gt-",
    "tags": [
     "student"
    ]
   },
   "outputs": [],
   "source": [
    "categorical_inputs = [           ]  # ----\n",
    "\n",
    "numeric_inputs = [               ]  # ----\n",
    "\n",
    "output = ['density']"
   ]
  },
  {
   "cell_type": "code",
   "execution_count": null,
   "metadata": {
    "colab": {},
    "colab_type": "code",
    "id": "2oF8EOaI2guK"
   },
   "outputs": [],
   "source": [
    "#@title -- Our Standard Preprocessing: X_train, Y_train, X_test, Y_test -- { display-mode: \"form\" }\n",
    "input_preproc = make_column_transformer(\n",
    "    (make_pipeline(\n",
    "        SimpleImputer(strategy=\"most_frequent\"),\n",
    "        OrdinalEncoder()),\n",
    "     categorical_inputs),\n",
    "    \n",
    "    (make_pipeline(\n",
    "        SimpleImputer(),\n",
    "        StandardScaler()),\n",
    "     numeric_inputs)\n",
    ")\n",
    "\n",
    "X_train = input_preproc.fit_transform(df_train)\n",
    "Y_train = df_train[output].values\n",
    "\n",
    "X_test = input_preproc.transform(df_test)\n",
    "Y_test = df_test[output].values"
   ]
  },
  {
   "cell_type": "markdown",
   "metadata": {
    "colab_type": "text",
    "id": "4fGmO5jV2guX",
    "tags": [
     "en"
    ]
   },
   "source": [
    "#### Parameter Fitting\n",
    "\n",
    "We will use the training data to fit the linear model:\n",
    "\n"
   ]
  },
  {
   "cell_type": "code",
   "execution_count": null,
   "metadata": {
    "colab": {},
    "colab_type": "code",
    "id": "ikEliheu2gue"
   },
   "outputs": [],
   "source": [
    "model = LinearRegression()\n",
    "model = model.fit(X_train, Y_train)"
   ]
  },
  {
   "cell_type": "markdown",
   "metadata": {
    "colab_type": "text",
    "id": "I48i3WH-2guq",
    "tags": [
     "en"
    ]
   },
   "source": [
    "#### Testing\n",
    "\n",
    "We test the model on testing data:\n",
    "\n"
   ]
  },
  {
   "cell_type": "code",
   "execution_count": null,
   "metadata": {
    "colab": {
     "base_uri": "https://localhost:8080/",
     "height": 423
    },
    "colab_type": "code",
    "id": "edepH8A92guw",
    "outputId": "39e17f5f-87a3-4102-9158-b5f6924b2d77"
   },
   "outputs": [],
   "source": [
    "#@title -- Testing -- { display-mode: \"form\" }\n",
    "y_test = model.predict(X_test)\n",
    "\n",
    "# we compute and display the MSE and the MAE\n",
    "mse = mean_squared_error(Y_test, y_test)\n",
    "print(\"MSE = {}\".format(mse))\n",
    "\n",
    "mae = mean_absolute_error(Y_test, y_test)\n",
    "print(\"MAE = {}\".format(mae))\n",
    "\n",
    "plt.figure(figsize=(8, 6))\n",
    "error_histogram(Y_test, y_test, Y_fit_scaling=Y_train)"
   ]
  },
  {
   "cell_type": "markdown",
   "metadata": {
    "colab_type": "text",
    "id": "r1--f2bx2gu8",
    "tags": [
     "en"
    ]
   },
   "source": [
    "#### Using Only `residual sugar` as Input\n",
    "\n"
   ]
  },
  {
   "cell_type": "code",
   "execution_count": null,
   "metadata": {
    "colab": {},
    "colab_type": "code",
    "id": "mmZ9D9FP2gvC"
   },
   "outputs": [],
   "source": [
    "categorical_inputs = []\n",
    "numeric_inputs = [\"residual sugar\"]\n",
    "output = ['density']"
   ]
  },
  {
   "cell_type": "code",
   "execution_count": null,
   "metadata": {
    "colab": {},
    "colab_type": "code",
    "id": "whdzIrQN2gvJ"
   },
   "outputs": [],
   "source": [
    "#@title -- Our Standard Preprocessing: X_train, Y_train, X_test, Y_test -- { display-mode: \"form\" }\n",
    "input_preproc = make_column_transformer(\n",
    "    (make_pipeline(\n",
    "        SimpleImputer(strategy=\"most_frequent\"),\n",
    "        OrdinalEncoder()),\n",
    "     categorical_inputs),\n",
    "    \n",
    "    (make_pipeline(\n",
    "        SimpleImputer(),\n",
    "        StandardScaler()),\n",
    "     numeric_inputs)\n",
    ")\n",
    "\n",
    "X_train = input_preproc.fit_transform(df_train)\n",
    "Y_train = df_train[output].values\n",
    "\n",
    "X_test = input_preproc.transform(df_test)\n",
    "Y_test = df_test[output].values"
   ]
  },
  {
   "cell_type": "code",
   "execution_count": null,
   "metadata": {
    "colab": {},
    "colab_type": "code",
    "id": "-JGPnHsE2gvT"
   },
   "outputs": [],
   "source": [
    "model = LinearRegression()\n",
    "model = model.fit(X_train, Y_train)"
   ]
  },
  {
   "cell_type": "code",
   "execution_count": null,
   "metadata": {
    "colab": {
     "base_uri": "https://localhost:8080/",
     "height": 423
    },
    "colab_type": "code",
    "id": "IuTDeOJN2gvd",
    "outputId": "8f1b756a-584c-49db-9669-eedb041f8e66"
   },
   "outputs": [],
   "source": [
    "#@title -- Testing -- { display-mode: \"form\" }\n",
    "y_test = model.predict(X_test)\n",
    "\n",
    "# we compute and display the MSE and the MAE\n",
    "mse = mean_squared_error(Y_test, y_test)\n",
    "print(\"MSE = {}\".format(mse))\n",
    "\n",
    "mae = mean_absolute_error(Y_test, y_test)\n",
    "print(\"MAE = {}\".format(mae))\n",
    "\n",
    "plt.figure(figsize=(8, 6))\n",
    "error_histogram(Y_test, y_test, Y_fit_scaling=Y_train)"
   ]
  },
  {
   "cell_type": "markdown",
   "metadata": {
    "colab_type": "text",
    "id": "C-Tzu6Sf2gvn",
    "tags": [
     "en"
    ]
   },
   "source": [
    "As we can see, the results are quite a bit worse in this case. It seems that the other columns include information about density, which cannot be extracted from column `residual sugar` alone.\n",
    "\n"
   ]
  },
  {
   "cell_type": "code",
   "execution_count": null,
   "metadata": {
    "colab": {},
    "colab_type": "code",
    "id": "lrZD1fox2gvs"
   },
   "outputs": [],
   "source": []
  }
 ],
 "metadata": {
  "celltoolbar": "Tags",
  "colab": {
   "name": "6_linreg_example.ipynb",
   "provenance": []
  },
  "kernelspec": {
   "display_name": "Python 3",
   "language": "python",
   "name": "python3"
  },
  "language_info": {
   "codemirror_mode": {
    "name": "ipython",
    "version": 3
   },
   "file_extension": ".py",
   "mimetype": "text/x-python",
   "name": "python",
   "nbconvert_exporter": "python",
   "pygments_lexer": "ipython3",
   "version": "3.8.8"
  }
 },
 "nbformat": 4,
 "nbformat_minor": 1
}
