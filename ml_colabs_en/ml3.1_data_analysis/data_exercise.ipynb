{
 "cells": [
  {
   "cell_type": "markdown",
   "metadata": {
    "tags": [
     "en"
    ]
   },
   "source": [
    "**NOTE: This notebook is written for the Google Colab platform. However it can also be run (possibly with minor modifications) as a standard Jupyter notebook.** \n",
    "\n"
   ]
  },
  {
   "cell_type": "code",
   "execution_count": null,
   "metadata": {},
   "outputs": [],
   "source": [
    "#@title -- Installation of Packages -- { display-mode: \"form\" }\n",
    "import sys\n",
    "!{sys.executable} -m pip install --quiet sweetviz\n",
    "!{sys.executable} -m pip install --quiet git+https://github.com/michalgregor/class_utils.git\n",
    "!{sys.executable} -m pip install umap_learn missingno"
   ]
  },
  {
   "cell_type": "code",
   "execution_count": null,
   "metadata": {},
   "outputs": [],
   "source": [
    "#@title -- Import of Necessary Packages -- { display-mode: \"form\" }\n",
    "import numpy as np\n",
    "import pandas as pd\n",
    "\n",
    "import seaborn as sns\n",
    "import matplotlib.pyplot as plt\n",
    "from class_utils import corr_heatmap, ColGrid, sorted_order, crosstab_plot, RainCloud\n",
    "from umap import UMAP\n",
    "import missingno as msno\n",
    "import sweetviz as sv"
   ]
  },
  {
   "cell_type": "code",
   "execution_count": null,
   "metadata": {},
   "outputs": [],
   "source": [
    "#@title -- Downloading Data -- { display-mode: \"form\" }\n",
    "DATA_HOME = \"https://github.com/michalgregor/ml_notebooks/blob/main/data/{}?raw=1\"\n",
    "\n",
    "from class_utils.download import download_file_maybe_extract\n",
    "download_file_maybe_extract(DATA_HOME.format(\"student.zip\"), directory=\"data/student\")\n",
    "\n",
    "# also create a directory for storing any outputs\n",
    "import os\n",
    "os.makedirs(\"output\", exist_ok=True)"
   ]
  },
  {
   "attachments": {},
   "cell_type": "markdown",
   "metadata": {},
   "source": [
    "Link to the dataset online: <https://archive-beta.ics.uci.edu/dataset/320/student+performance>\n",
    "\n"
   ]
  },
  {
   "cell_type": "code",
   "execution_count": null,
   "metadata": {},
   "outputs": [],
   "source": [
    "# display the dataset description\n",
    "with open(\"data/student/student.txt\") as f:\n",
    "  print(f.read())"
   ]
  },
  {
   "attachments": {},
   "cell_type": "markdown",
   "metadata": {},
   "source": [
    "### MAT\n",
    "\n"
   ]
  },
  {
   "cell_type": "code",
   "execution_count": null,
   "metadata": {},
   "outputs": [],
   "source": [
    "df = pd.read_csv(\"data/student/student-mat.csv\", sep=\";\")\n",
    "df.head()"
   ]
  },
  {
   "cell_type": "code",
   "execution_count": null,
   "metadata": {},
   "outputs": [],
   "source": []
  },
  {
   "attachments": {},
   "cell_type": "markdown",
   "metadata": {},
   "source": [
    "### Tasks\n",
    "\n",
    "* Divide the attributes into:* numerical;\n",
    "* nominal categorical;\n",
    "* ordinal categorical;\n",
    "* other;\n",
    "\n",
    "Display an automatic report using sweetviz, plot missingness, the correlation matrix and anything else you like.\n",
    "\n",
    "* Given the information you have, which variables do you think would be the best predictors of the final performance G3 – apart from G1 and G2? Explain why.\n",
    "#### What it Going on Here?\n",
    "\n",
    "* Odpovedzte na základe dát: prečo je silná korelácia medzi stĺpacami \"guardian\" a \"age\"?\n",
    "\n",
    "\n",
    "* Čomu by podľa vás mohli zodpovedať odľahlé body?\n",
    "* Aké G1, G2 a G3 dosahujú títo študenti v porovnaní s celou vzorkou?\n",
    "\n",
    "* What is the association between Medu, Fedu and address, traveltime?\n",
    "\n",
    "* Do students live in different areas / have different travel times depending on the education level of their parents?\n",
    "\n",
    "* Do kids whose parents are more educated choose the school for the same reason as kids whose parents are less educated?\n",
    "\n",
    "\n",
    "* Do kids whose parents are more educated spend more time studying? Do they spend less time?\n",
    "\n",
    "\n",
    "* What is the relationship between \"absences\" and \"guardian\"?\n",
    "\n",
    "\n",
    "* What is the relationship between \"sex\" and \"freetime\"?\n",
    "\n",
    "\n",
    "* What is the average G3 at each school? Is there a difference between the schools? If so, what could be the causes?\n",
    "\n",
    "* Is there any difference in the \"reason\" distribution between the two schools?\n",
    "\n",
    "* ...\n",
    "\n",
    "\n"
   ]
  },
  {
   "cell_type": "code",
   "execution_count": null,
   "metadata": {},
   "outputs": [],
   "source": []
  },
  {
   "cell_type": "code",
   "execution_count": null,
   "metadata": {},
   "outputs": [],
   "source": []
  },
  {
   "cell_type": "code",
   "execution_count": null,
   "metadata": {},
   "outputs": [],
   "source": []
  },
  {
   "cell_type": "code",
   "execution_count": null,
   "metadata": {},
   "outputs": [],
   "source": []
  }
 ],
 "metadata": {
  "kernelspec": {
   "display_name": "base",
   "language": "python",
   "name": "python3"
  },
  "language_info": {
   "codemirror_mode": {
    "name": "ipython",
    "version": 3
   },
   "file_extension": ".py",
   "mimetype": "text/x-python",
   "name": "python",
   "nbconvert_exporter": "python",
   "pygments_lexer": "ipython3",
   "version": "3.9.16"
  }
 },
 "nbformat": 4,
 "nbformat_minor": 2
}
