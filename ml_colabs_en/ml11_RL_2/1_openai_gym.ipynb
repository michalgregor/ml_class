{
 "cells": [
  {
   "cell_type": "markdown",
   "metadata": {
    "id": "4Hjbm4V9faQe",
    "tags": [
     "en"
    ]
   },
   "source": [
    "**NOTE: This notebook is written for the Google Colab platform, which provides free hardware acceleration. However it can also be run (possibly with minor modifications) as a standard Jupyter notebook, using a local GPU.** \n",
    "\n"
   ]
  },
  {
   "cell_type": "code",
   "execution_count": null,
   "metadata": {
    "colab": {
     "base_uri": "https://localhost:8080/"
    },
    "id": "h8O1zlAviemQ",
    "outputId": "569d41ac-c8d9-41db-ec0f-10fdb8cd17ef"
   },
   "outputs": [],
   "source": [
    "#@title -- Installation of Packages -- { display-mode: \"form\" }\n",
    "import sys\n",
    "import shutil\n",
    "USE_NBCAP = False\n",
    "\n",
    "if not shutil.which('apt') is None:\n",
    "    !apt update\n",
    "    !apt install -y xvfb x11-utils\n",
    "    !apt install swig\n",
    "    !{sys.executable} -m pip install pyscreenshot pyvirtualdisplay\n",
    "    !{sys.executable} -m pip install --upgrade pyglet\n",
    "    !{sys.executable} -m pip install git+https://github.com/michalgregor/nbcap.git\n",
    "\n",
    "    USE_NBCAP = True\n",
    "\n",
    "!{sys.executable} -m pip install gymnasium[box2d]\n",
    "!{sys.executable} -m pip install class_utils[tensorboard]@git+https://github.com/michalgregor/class_utils.git\n",
    "!{sys.executable} -m pip install pip install \"ray[rllib]\""
   ]
  },
  {
   "cell_type": "code",
   "execution_count": null,
   "metadata": {
    "id": "16qErcw2iemX"
   },
   "outputs": [],
   "source": [
    "#@title -- Import of Necessary Packages -- { display-mode: \"form\" }\n",
    "import shutil\n",
    "if shutil.which('apt') is None:\n",
    "    USE_NBCAP = False\n",
    "else:\n",
    "    USE_NBCAP = True\n",
    "\n",
    "    from nbcap import ShowVideoCallback, ScreenRecorder, OutputManager, DisplayProcess\n",
    "    from pyscreenshot import grab as img_grab  \n",
    "\n",
    "import gymnasium as gym\n",
    "from ray.tune.registry import register_env\n",
    "\n",
    "_lunar_max_episode_steps = 250\n",
    "\n",
    "def timed_lunar_lander(**kwargs):\n",
    "    env = gym.make('LunarLander-v2', **kwargs)\n",
    "    env = gym.wrappers.TimeLimit(env,\n",
    "        max_episode_steps=_lunar_max_episode_steps)\n",
    "    return env\n",
    "\n",
    "gym.envs.registration.register(\n",
    "     id='TimedLunarLander-v0',\n",
    "     entry_point='__main__:timed_lunar_lander',\n",
    " )\n",
    "\n",
    "register_env(\"TimedLunarLander-v0\", timed_lunar_lander)"
   ]
  },
  {
   "cell_type": "code",
   "execution_count": null,
   "metadata": {
    "id": "5aBNrFW3frgN"
   },
   "outputs": [],
   "source": [
    "#@title -- Auxiliary Functions -- { display-mode: \"form\" }\n",
    "\n",
    "if USE_NBCAP:\n",
    "    display_size=(600, 400)\n",
    "    show_video = ShowVideoCallback(dimensions=display_size)\n",
    "\n",
    "    # make sure that only one instance\n",
    "    # of the display is ever created\n",
    "    try:\n",
    "        DISP_PROC\n",
    "    except NameError:\n",
    "        DISP_PROC = DisplayProcess(display_size=display_size)\n",
    "\n",
    "    def make_screen_recorder(max_gui_outputs=3):\n",
    "        video_path=\"output\"\n",
    "        segment_time=10\n",
    "\n",
    "        output_manager = OutputManager(max_gui_outputs=max_gui_outputs)\n",
    "        video_callback=output_manager(show_video)\n",
    "        display = DISP_PROC.id\n",
    "\n",
    "        screen_recorder = ScreenRecorder(\n",
    "            display, display_size, video_path,\n",
    "            segment_time=segment_time, video_callback=video_callback\n",
    "        )\n",
    "        \n",
    "        return screen_recorder\n",
    "\n",
    "    SCREEN_RECORDER = make_screen_recorder()\n",
    "else:\n",
    "    from contextlib import suppress\n",
    "    SCREEN_RECORDER = suppress()\n",
    "\n",
    "    def img_grab():\n",
    "        pass"
   ]
  },
  {
   "cell_type": "markdown",
   "metadata": {
    "id": "geBKW6EqfzlH",
    "tags": [
     "en"
    ]
   },
   "source": [
    "## OpenAI Gym Environments\n",
    "\n",
    "Before we go and explore how deep reinforcement learning works, we are first going to play around with one OpenAI Gym environment: the [Lunar Lander](https://gym.openai.com/envs/LunarLander-v2/) from the [OpenAI's Gym package](https://gym.openai.com/). Gym contains a number of useful RL benchmark tasks, all with the same unified interface.\n",
    "\n",
    "To construct the environment, we are going to call `gym.make('LunarLander-v2')`. We specify `render_mode='human'` so that the environment also gets visualized.\n",
    "\n"
   ]
  },
  {
   "cell_type": "code",
   "execution_count": null,
   "metadata": {
    "id": "0UlRW_4uhYSh"
   },
   "outputs": [],
   "source": [
    "env = gym.make('TimedLunarLander-v0', render_mode='human')"
   ]
  },
  {
   "cell_type": "markdown",
   "metadata": {
    "id": "4NbZumXLjbBz",
    "tags": [
     "en"
    ]
   },
   "source": [
    "To start an episode and set up the initial state, we need to call `reset()`. This will return our initial observation and an info dict (which we are going to ignore here).\n",
    "\n",
    "We are not going to go into the details of what all the individual values in the observation mean just now. Just for instance though, the first two numbers correspond to the coordinates of our lunar lander.\n",
    "\n"
   ]
  },
  {
   "cell_type": "code",
   "execution_count": null,
   "metadata": {
    "colab": {
     "base_uri": "https://localhost:8080/"
    },
    "id": "-F8Bfb2VjQFB",
    "outputId": "e62c255c-41a2-469e-b1c0-575c2503d3a2"
   },
   "outputs": [],
   "source": [
    "obs, info = env.reset()\n",
    "obs"
   ]
  },
  {
   "cell_type": "markdown",
   "metadata": {
    "id": "qHh8iZ_QnK5a",
    "tags": [
     "en"
    ]
   },
   "source": [
    "We can inquire about the shape and bounds of the observation space programmatically using `env.observation_space`. In our case, this will tell us that observations are composed of 8 numbers.\n",
    "\n"
   ]
  },
  {
   "cell_type": "code",
   "execution_count": null,
   "metadata": {
    "colab": {
     "base_uri": "https://localhost:8080/"
    },
    "id": "Gj7oHcGCnXKU",
    "outputId": "12dcdc36-48e0-40e6-c8e7-100a152659c5"
   },
   "outputs": [],
   "source": [
    "env.observation_space.shape"
   ]
  },
  {
   "cell_type": "markdown",
   "metadata": {
    "id": "u1bWnzsont2y",
    "tags": [
     "en"
    ]
   },
   "source": [
    "They say that an image is worth a thousand words, so let's display the visualization of our initial state. The state already got rendered, but since we are running our code on a remote server, the rendering was done there. We can display the result by grabbing a screenshot of the remote screen using `img_grab`.\n",
    "\n"
   ]
  },
  {
   "cell_type": "code",
   "execution_count": null,
   "metadata": {
    "colab": {
     "base_uri": "https://localhost:8080/",
     "height": 417
    },
    "id": "lM8jklS0lKaT",
    "outputId": "ad8358b4-031f-4fb3-ae32-0e0a32930241"
   },
   "outputs": [],
   "source": [
    "img_grab()"
   ]
  },
  {
   "cell_type": "markdown",
   "metadata": {
    "id": "Yy8wvyADkE1D",
    "tags": [
     "en"
    ]
   },
   "source": [
    "As our next step, let's find out what actions our agent will be able to take. We can inquire about this using `env.action_space`. In our case, the action space is discrete and consists of 4 different actions – the meaning of these is as follows:\n",
    "\n",
    "* **0:**  do nothing;\n",
    "* **1:**  fire right orientation engine;\n",
    "* **2:**  fire main engine;\n",
    "* **3:**  fire left orientation engine.\n"
   ]
  },
  {
   "cell_type": "code",
   "execution_count": null,
   "metadata": {
    "colab": {
     "base_uri": "https://localhost:8080/"
    },
    "id": "jmQNGIcfjbn6",
    "outputId": "06c423d5-ef36-42ae-c5aa-641f53967f63"
   },
   "outputs": [],
   "source": [
    "env.action_space"
   ]
  },
  {
   "cell_type": "markdown",
   "metadata": {
    "id": "oAjj4X-vpBUn",
    "tags": [
     "en"
    ]
   },
   "source": [
    "Actions are executed by calling `env.step(action)`. The function takes care of performing the action and also returns a tuple with:\n",
    "\n",
    "* `obs`: the next observation;\n",
    "* `reward`: the immediate reward;\n",
    "* `terminated`: whether the environment has terminated naturally;\n",
    "* `truncated`: whether the environment's execution was truncated;\n",
    "* `info`: an environment-specific dictionary with additional info;\n",
    "Let's try doing nothing (action 0) for a few steps to see what happens to our lunar lander.\n",
    "\n"
   ]
  },
  {
   "cell_type": "code",
   "execution_count": null,
   "metadata": {
    "colab": {
     "base_uri": "https://localhost:8080/"
    },
    "id": "lAZyCDEDjblo",
    "outputId": "1bbfadf9-a1d3-4cab-c446-a2daabd9f543"
   },
   "outputs": [],
   "source": [
    "obs, reward, terminated, truncated, info = env.step(0)\n",
    "print(\"observation:\", obs)\n",
    "print(\"immediate reward:\", reward)"
   ]
  },
  {
   "cell_type": "markdown",
   "metadata": {
    "id": "ikwot_y7qGGi",
    "tags": [
     "en"
    ]
   },
   "source": [
    "To make the difference more obvious, we will run the same action several more times before inspecting the rendering. It should be obvious that the lunar lander has descended.\n",
    "\n"
   ]
  },
  {
   "cell_type": "code",
   "execution_count": null,
   "metadata": {
    "colab": {
     "base_uri": "https://localhost:8080/",
     "height": 417
    },
    "id": "rqufFCYOqFga",
    "outputId": "17b92b29-0ca9-4d03-92eb-480c4c4ef837"
   },
   "outputs": [],
   "source": [
    "for i in range(60):\n",
    "    env.step(0)\n",
    "\n",
    "img_grab()"
   ]
  },
  {
   "cell_type": "markdown",
   "metadata": {
    "id": "ZKLSkoN7QgnK",
    "tags": [
     "en"
    ]
   },
   "source": [
    "If you like, you can now experiment with the interface further and perhaps even try to design a rudimentary controller by hand.\n",
    "\n"
   ]
  },
  {
   "cell_type": "code",
   "execution_count": null,
   "metadata": {
    "id": "HfZweErEQgnK"
   },
   "outputs": [],
   "source": []
  }
 ],
 "metadata": {
  "colab": {
   "provenance": []
  },
  "interpreter": {
   "hash": "a351393365bb1b108989afa08de3243f72f5e58927baf5d192f3cca79a41cbc4"
  },
  "kernelspec": {
   "display_name": "Python 3.9.7 ('base')",
   "language": "python",
   "name": "python3"
  },
  "language_info": {
   "codemirror_mode": {
    "name": "ipython",
    "version": 3
   },
   "file_extension": ".py",
   "mimetype": "text/x-python",
   "name": "python",
   "nbconvert_exporter": "python",
   "pygments_lexer": "ipython3",
   "version": "3.9.7"
  }
 },
 "nbformat": 4,
 "nbformat_minor": 0
}
