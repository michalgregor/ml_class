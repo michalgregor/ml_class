{
 "cells": [
  {
   "cell_type": "markdown",
   "metadata": {
    "tags": [
     "en"
    ]
   },
   "source": [
    "**NOTE: This notebook is written for the Google Colab platform. However it can also be run (possibly with minor modifications) as a standard Jupyter notebook.** \n",
    "\n"
   ]
  },
  {
   "cell_type": "code",
   "execution_count": null,
   "metadata": {},
   "outputs": [],
   "source": [
    "#@title -- Installation of Packages -- { display-mode: \"form\" }\n",
    "import sys\n",
    "!{sys.executable} -m pip install umap-learn\n",
    "!{sys.executable} -m pip install git+https://github.com/michalgregor/class_utils.git"
   ]
  },
  {
   "cell_type": "code",
   "execution_count": null,
   "metadata": {},
   "outputs": [],
   "source": [
    "#@title -- Import of Necessary Packages -- { display-mode: \"form\" }\n",
    "import pandas as pd\n",
    "import numpy as np\n",
    "\n",
    "from sklearn.preprocessing import OrdinalEncoder\n",
    "from sklearn.neighbors import NearestNeighbors\n",
    "from umap import UMAP\n",
    "\n",
    "import matplotlib.pyplot as plt\n",
    "import matplotlib.patches as mpatches\n",
    "import numbers"
   ]
  },
  {
   "cell_type": "code",
   "execution_count": null,
   "metadata": {},
   "outputs": [],
   "source": [
    "#@title -- Downloading Data -- { display-mode: \"form\" }\n",
    "DATA_HOME = \"https://github.com/michalgregor/ml_notebooks/blob/main/data/{}?raw=1\"\n",
    "\n",
    "from class_utils.download import download_file_maybe_extract\n",
    "download_file_maybe_extract(DATA_HOME.format(\"iris.csv\"), directory=\"data\")\n",
    "\n",
    "# also create a directory for storing any outputs\n",
    "import os\n",
    "os.makedirs(\"output\", exist_ok=True)"
   ]
  },
  {
   "cell_type": "code",
   "execution_count": null,
   "metadata": {},
   "outputs": [],
   "source": [
    "#@title -- Auxiliary Functions -- { display-mode: \"form\" }\n",
    "cmap = 'viridis'\n",
    "\n",
    "def plot_data(data, colors, alpha=1.0, ax=None,\n",
    "              edgecolors=None, cmap=cmap, s=50):\n",
    "    if ax is None:\n",
    "        ax = plt.gca()\n",
    "    \n",
    "    ax.scatter(data[:, 0], data[:, 1], s=s,\n",
    "               c=colors, edgecolors=edgecolors,\n",
    "               alpha=alpha, cmap=cmap)\n",
    "\n",
    "    ax.grid(ls='--')\n",
    "    ax.set_axisbelow(True)\n",
    "    ax.set_xlabel(\"$d_1$\")\n",
    "    ax.set_ylabel(\"$d_2$\")\n",
    "    \n",
    "def make_legend(class_names, colors=None, cmap=cmap,\n",
    "                ax=None, alpha=1.0, num_colors=None):\n",
    "    if ax is None:\n",
    "        ax = plt.gca()\n",
    "        \n",
    "    if isinstance(alpha, numbers.Number):\n",
    "        alpha_seq = (alpha for i in range(len(class_names)))\n",
    "    else:\n",
    "        alpha_seq = alpha\n",
    "    \n",
    "    if num_colors is None:\n",
    "        num_colors = len(class_names)\n",
    "    \n",
    "    if colors is None:\n",
    "        colors = range(len(class_names))\n",
    "        \n",
    "    cm = plt.get_cmap(cmap, num_colors)\n",
    "\n",
    "    legend_handles = []\n",
    "    for ic, cn, al in zip(colors, class_names, alpha_seq):\n",
    "        legend_handles.append(\n",
    "            mpatches.Patch(color=cm(ic), label=cn, alpha=al)\n",
    "        )\n",
    "\n",
    "    ax.legend(handles=legend_handles)"
   ]
  },
  {
   "cell_type": "markdown",
   "metadata": {
    "colab_type": "text",
    "id": "a0rXU9xX06WP",
    "tags": [
     "en"
    ]
   },
   "source": [
    "## Classification using KNN: An Illustration\n",
    "\n",
    "This notebook is meant to illustrate in a graphical way how the $k$ nearest neighbours (KNN) method works. It is not meant to be a reference example of how to use KNN in practice (there is a different notebook for that).\n",
    "\n",
    "### The Dataset\n",
    "\n",
    "For the purposes of this illustration we will be using the well-known Iris dataset, which contains measurements of sepal and petal dimensions for 3 different kinds of iris flowers: setosa, virginica and versicolor. The task is to build a classifier, which will be able to tell these 3 different classes of irises apart.\n",
    "\n",
    "We will first read the data from the CSV file using `pandas`:\n",
    "\n"
   ]
  },
  {
   "cell_type": "code",
   "execution_count": null,
   "metadata": {
    "colab": {
     "base_uri": "https://localhost:8080/",
     "height": 206
    },
    "colab_type": "code",
    "id": "1SptOH_wo-X7",
    "outputId": "8035a986-8403-4326-fd6e-ae06f3a88fa3"
   },
   "outputs": [],
   "source": [
    "df = pd.read_csv(\"data/iris.csv\")\n",
    "df.head()"
   ]
  },
  {
   "cell_type": "markdown",
   "metadata": {
    "colab_type": "text",
    "id": "eT8foA0s2p2S",
    "tags": [
     "en"
    ]
   },
   "source": [
    "As we can see, the original data is 4-dimensional. Since in this illustrational example we will rely heavily on graphical visualizations, we will reduce the dimensionality of the data to 2 (using a method called UMAP, but let's not worry about that now) before we do anything else with it:\n",
    "\n"
   ]
  },
  {
   "cell_type": "code",
   "execution_count": null,
   "metadata": {
    "colab": {
     "base_uri": "https://localhost:8080/",
     "height": 106
    },
    "colab_type": "code",
    "id": "hoaH0j2n1ZzN",
    "outputId": "548ac858-d4f7-42bc-bd85-f2dce33d4f4a"
   },
   "outputs": [],
   "source": [
    "data_raw = df.iloc[:, :-1]\n",
    "umap = UMAP(spread=20.0)\n",
    "data = umap.fit_transform(data_raw)"
   ]
  },
  {
   "cell_type": "markdown",
   "metadata": {
    "colab_type": "text",
    "id": "Yn4H1iY1qw13",
    "tags": [
     "en"
    ]
   },
   "source": [
    "We will also extract the last column, which contains the name of the species. The names are given as strings. To make the later stages of processing easier, we will assign a numeric ID to each species and replace the strings with the numbers:\n",
    "\n"
   ]
  },
  {
   "cell_type": "code",
   "execution_count": null,
   "metadata": {
    "colab": {},
    "colab_type": "code",
    "id": "xeXkdFi2qwPo"
   },
   "outputs": [],
   "source": [
    "str_labels = df[['species']].values\n",
    "ordenc = OrdinalEncoder(dtype='int')\n",
    "num_labels = ordenc.fit_transform(str_labels).flatten()\n",
    "class_names = ordenc.categories_[0]"
   ]
  },
  {
   "cell_type": "markdown",
   "metadata": {
    "colab_type": "text",
    "id": "BK0gNYjur2kJ",
    "tags": [
     "en"
    ]
   },
   "source": [
    "Having done that, we are now ready to plot our data in a 2D scatter plot:\n",
    "\n"
   ]
  },
  {
   "cell_type": "code",
   "execution_count": null,
   "metadata": {
    "colab": {
     "base_uri": "https://localhost:8080/",
     "height": 287
    },
    "colab_type": "code",
    "id": "0CvBWYgGpC8K",
    "outputId": "35033b0a-6445-4244-c3a4-9806cfcdf257"
   },
   "outputs": [],
   "source": [
    "plot_data(data, num_labels)\n",
    "make_legend(class_names)\n",
    "plt.savefig('output/knn_algo_data.pdf', bbox_inches='tight', pad_inches=0)"
   ]
  },
  {
   "cell_type": "markdown",
   "metadata": {
    "colab_type": "text",
    "id": "jhSKJ01fsEOW",
    "tags": [
     "en"
    ]
   },
   "source": [
    "### $k$ Nearest Neighbours\n",
    "\n",
    "The idea behind the $k$ nearest neighbours method is very simple. Whenever we get a new point, we will look back at our dataset and find $k$ datapoints that are closest to our new point (its $k$ nearest neighbours in the input space). The class of the new point will then be determined by voting among these nearest neighbours.\n",
    "\n",
    "To illustrate this more concretely, let us now pick a new point and visualize its position using a black cross:\n",
    "\n"
   ]
  },
  {
   "cell_type": "code",
   "execution_count": null,
   "metadata": {
    "colab": {
     "base_uri": "https://localhost:8080/",
     "height": 287
    },
    "colab_type": "code",
    "id": "np7hw2XM3yXJ",
    "outputId": "129c7438-9162-4e6d-e769-2d101f1f5ca0"
   },
   "outputs": [],
   "source": [
    "point = [-8, -6]\n",
    "plot_data(data, num_labels)\n",
    "plt.scatter(point[0], point[1], marker='x', s=75, linewidth=3, c='k')\n",
    "plt.savefig('output/knn_algo_point.pdf', bbox_inches='tight', pad_inches=0)"
   ]
  },
  {
   "cell_type": "markdown",
   "metadata": {
    "colab_type": "text",
    "id": "DUSXHZlMtL8h",
    "tags": [
     "en"
    ]
   },
   "source": [
    "Note that before getting that new point, we did not do anything with the data. We did not preprocess it, we did not use to fit the parameters of a model – we just stored it for later use. This is why KNN will sometimes be referred to as a \"*lazy* \" or \"*non-parametric* \" method – that is what methods of this kind are called.\n",
    "\n",
    "In any case, let us now find the 3 nearest neighbours of our new point and highlight them:\n",
    "\n"
   ]
  },
  {
   "cell_type": "code",
   "execution_count": null,
   "metadata": {
    "colab": {
     "base_uri": "https://localhost:8080/",
     "height": 287
    },
    "colab_type": "code",
    "id": "ZMjvq4cz3yRx",
    "outputId": "0b6bf58d-39a6-4839-fe1c-0632cd4d315e"
   },
   "outputs": [],
   "source": [
    "knn = NearestNeighbors(n_neighbors=3).fit(data)\n",
    "dist, ind = knn.kneighbors([point])\n",
    "neigh_colors = num_labels[ind[0]]\n",
    "\n",
    "plot_data(data, num_labels, alpha=0.4)\n",
    "plt.scatter(point[0], point[1], marker='x', s=75, linewidth=3, c='k')\n",
    "plt.scatter(data[ind[0], 0], data[ind[0], 1], s=90,\n",
    "            c=num_labels[ind[0]], cmap=cmap,\n",
    "            edgecolors='k', linewidths=1.5,\n",
    "            vmin=0, vmax=len(class_names))\n",
    "plt.savefig('output/knn_algo_neighbours.pdf', bbox_inches='tight', pad_inches=0)"
   ]
  },
  {
   "cell_type": "markdown",
   "metadata": {
    "colab_type": "text",
    "id": "xqlmjBD5uviL",
    "tags": [
     "en"
    ]
   },
   "source": [
    "The class of our new point will be determined by voting: we will classify our point into whichever class is most frequent among the nearest neighbours.\n",
    "\n"
   ]
  },
  {
   "cell_type": "code",
   "execution_count": null,
   "metadata": {
    "colab": {
     "base_uri": "https://localhost:8080/",
     "height": 287
    },
    "colab_type": "code",
    "id": "zCh0WzLpr0ix",
    "outputId": "b34598a8-9e14-4b38-da5c-84e496513e2b"
   },
   "outputs": [],
   "source": [
    "point_color = np.bincount(neigh_colors).argmax()\n",
    "plot_data(data, num_labels, alpha=0.4, edgecolors=None)\n",
    "plt.scatter([point[0]], [point[1]], marker='x', s=75, linewidth=3,\n",
    "            c=[point_color], vmin=0, vmax=len(class_names))\n",
    "plt.savefig('output/knn_algo_class.pdf', bbox_inches='tight', pad_inches=0)"
   ]
  },
  {
   "cell_type": "code",
   "execution_count": null,
   "metadata": {
    "colab": {},
    "colab_type": "code",
    "id": "d79caulnuIEn"
   },
   "outputs": [],
   "source": []
  }
 ],
 "metadata": {
  "celltoolbar": "Tags",
  "colab": {
   "collapsed_sections": [],
   "name": "1_knn_illustration.ipynb",
   "provenance": []
  },
  "kernelspec": {
   "display_name": "Python 3",
   "language": "python",
   "name": "python3"
  },
  "language_info": {
   "codemirror_mode": {
    "name": "ipython",
    "version": 3
   },
   "file_extension": ".py",
   "mimetype": "text/x-python",
   "name": "python",
   "nbconvert_exporter": "python",
   "pygments_lexer": "ipython3",
   "version": "3.9.7"
  }
 },
 "nbformat": 4,
 "nbformat_minor": 1
}
