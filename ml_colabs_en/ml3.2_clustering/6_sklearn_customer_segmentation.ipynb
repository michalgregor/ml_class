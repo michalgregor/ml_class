{
 "cells": [
  {
   "cell_type": "markdown",
   "metadata": {
    "tags": [
     "en"
    ]
   },
   "source": [
    "**NOTE: This notebook is written for the Google Colab platform. However it can also be run (possibly with minor modifications) as a standard Jupyter notebook.** \n",
    "\n"
   ]
  },
  {
   "cell_type": "code",
   "execution_count": null,
   "metadata": {},
   "outputs": [],
   "source": [
    "#@title -- Installation of Packages -- { display-mode: \"form\" }\n",
    "import sys\n",
    "!{sys.executable} -m pip install yellowbrick\n",
    "!{sys.executable} -m pip install --quiet sweetviz\n",
    "!{sys.executable} -m pip install git+https://github.com/michalgregor/class_utils.git"
   ]
  },
  {
   "cell_type": "code",
   "execution_count": null,
   "metadata": {},
   "outputs": [],
   "source": [
    "#@title -- Import of Necessary Packages -- { display-mode: \"form\" }\n",
    "import pandas as pd\n",
    "from sklearn.preprocessing import StandardScaler, OneHotEncoder\n",
    "from sklearn.impute import SimpleImputer\n",
    "from sklearn.pipeline import make_pipeline\n",
    "import matplotlib.pyplot as plt\n",
    "from class_utils.sklearn import (\n",
    "    make_ext_column_transformer, transformer_extensions\n",
    ")\n",
    "from sklearn.cluster import KMeans\n",
    "\n",
    "import sweetviz as sv\n",
    "from class_utils.plots import crosstab_plot, ColGrid, RainCloud\n",
    "import seaborn as sns\n",
    "\n",
    "from yellowbrick.cluster import SilhouetteVisualizer, KElbowVisualizer\n",
    "# revert yellowbrick's invasive changes to matplotlib's\n",
    "# styling; also suppressing deprecation warnings\n",
    "import warnings\n",
    "import yellowbrick\n",
    "\n",
    "with warnings.catch_warnings(record=True) as w:\n",
    "    yellowbrick.style.rcmod.set_aesthetic('reset')\n",
    "    yellowbrick.style.rcmod.reset_orig()\n",
    "    \n",
    "cluster_colors = sns.color_palette()"
   ]
  },
  {
   "cell_type": "code",
   "execution_count": null,
   "metadata": {},
   "outputs": [],
   "source": [
    "#@title -- Downloading Data -- { display-mode: \"form\" }\n",
    "DATA_HOME = \"https://github.com/michalgregor/ml_notebooks/blob/main/data/{}?raw=1\"\n",
    "\n",
    "from class_utils.download import download_file_maybe_extract\n",
    "download_file_maybe_extract(DATA_HOME.format(\"Mall_Customers.csv\"), directory=\"data\")\n",
    "\n",
    "# also create a directory for storing any outputs\n",
    "import os\n",
    "os.makedirs(\"output\", exist_ok=True)"
   ]
  },
  {
   "cell_type": "markdown",
   "metadata": {
    "tags": [
     "en"
    ]
   },
   "source": [
    "## Customer Segmentation using Clustering\n",
    "\n",
    "As a further example, we are going to have a look at a dataset of mall customers and try to use clustering to identify customer segments, i.e. groups of customers who share some common characteristics. Knowing about customer segments can be very useful – it allows companies to e.g. use different marketing strategies when targeting different segments, etc.\n",
    "\n",
    "Let's start by loading the dataset. As we can see, it is not very complex – it only contains the gender, the age, the annual income and the spending score of each customer. We are going to see, though, that we can still draw upon it to gain some useful insights.\n",
    "\n"
   ]
  },
  {
   "cell_type": "code",
   "execution_count": null,
   "metadata": {},
   "outputs": [],
   "source": [
    "df = pd.read_csv(\"data/Mall_Customers.csv\")\n",
    "df.head()"
   ]
  },
  {
   "cell_type": "markdown",
   "metadata": {
    "tags": [
     "en"
    ]
   },
   "source": [
    "### Exploratory Analysis\n",
    "\n",
    "As a first step in our process, we are going to do some light exploratory analysis on the data. First, you can run `sv.analyze` to get the basic information about the type and distribution of columns, their correlations, missing data and such.\n",
    "\n"
   ]
  },
  {
   "cell_type": "code",
   "execution_count": null,
   "metadata": {},
   "outputs": [],
   "source": [
    "report = sv.analyze(df, target_feat='Spending Score (1-100)')\n",
    "report.show_notebook()"
   ]
  },
  {
   "cell_type": "markdown",
   "metadata": {
    "tags": [
     "en"
    ]
   },
   "source": [
    "Afterwards we might want to explore relationships between various pairs of variables. E.g. we could use violin plots to display distributions of numeric variables, conditioning on the gender of the customer.\n",
    "\n"
   ]
  },
  {
   "cell_type": "code",
   "execution_count": null,
   "metadata": {},
   "outputs": [],
   "source": [
    "g = ColGrid(df, 'Gender', [\"Age\", \"Annual Income (k$)\", \"Spending Score (1-100)\"], col_wrap=2)\n",
    "g.map_dataframe(sns.violinplot);\n",
    "plt.gcf().set_size_inches(10, 6)"
   ]
  },
  {
   "cell_type": "markdown",
   "metadata": {
    "tags": [
     "en"
    ]
   },
   "source": [
    "---\n",
    "### Task 1: Relationships of Numeric Variables with the Spending Score\n",
    "\n",
    "**To explore the relationships between the various numeric variables and the spending score, create a grid of scatter plots with those *numeric variables*  on the horizontal axis and the *spending score*  on the vertical axis.** \n",
    "\n",
    "---\n"
   ]
  },
  {
   "cell_type": "code",
   "execution_count": null,
   "metadata": {
    "tags": [
     "student"
    ]
   },
   "outputs": [],
   "source": [
    "g = ColGrid(      # ---\n",
    "    \n",
    "# ---"
   ]
  },
  {
   "cell_type": "markdown",
   "metadata": {
    "tags": [
     "en"
    ]
   },
   "source": [
    "---\n",
    "#### Task 2: Describing the Observed Segments\n",
    "\n",
    "Having displayed and visually inspected the scatter plots, you should observe 2 clusters in the *age*  vs. *spending score*  plot and 5 clusters in the *annual income*  vs. *spending score* . In the cell below, **describe what customer segment each of these clusters could correspond to – how it could be interpreted** .\n",
    "\n",
    "---\n"
   ]
  },
  {
   "cell_type": "markdown",
   "metadata": {
    "tags": [
     "student"
    ]
   },
   "source": []
  },
  {
   "cell_type": "markdown",
   "metadata": {
    "tags": [
     "en"
    ]
   },
   "source": [
    "### Preprocessing\n",
    "\n",
    "Having done some basic exploration, let's say that we now want to arrive at a certain number of interpretable clusters and then perhaps explore the properties of each of them further. You have already thought about and hopefully provided some interpretation of the five clusters that are present in the annual income vs. spending score plot. So let us try to capture those clusters now.\n",
    "\n",
    "To this end, we are now going to drop all columns apart from `Annual Income (k$)` and `Spending Score (1-100)` and apply some standard preprocessing to these two.\n",
    "\n"
   ]
  },
  {
   "cell_type": "code",
   "execution_count": null,
   "metadata": {},
   "outputs": [],
   "source": [
    "# all inputs are numeric\n",
    "categorical_inputs = [\n",
    "    # \"Gender\"\n",
    "]\n",
    "\n",
    "numeric_inputs = [\n",
    "    # \"Age\",\n",
    "    \"Annual Income (k$)\", \"Spending Score (1-100)\"\n",
    "]\n",
    "\n",
    "# the preprocessing pipeline\n",
    "input_preproc = make_ext_column_transformer(\n",
    "    (make_pipeline(\n",
    "        transformer_extensions(\n",
    "            SimpleImputer(strategy='constant', fill_value='MISSING')\n",
    "        ),\n",
    "        OneHotEncoder()),\n",
    "     categorical_inputs),\n",
    "    \n",
    "    (make_pipeline(\n",
    "        transformer_extensions(\n",
    "            SimpleImputer()\n",
    "        ),\n",
    "        StandardScaler()),\n",
    "     numeric_inputs),\n",
    "\n",
    "    inverse_dropped='ignore',\n",
    "    verbose_feature_names_out=False\n",
    ")\n",
    "\n",
    "# the preprocessed data and the classes\n",
    "X = input_preproc.fit_transform(df)"
   ]
  },
  {
   "cell_type": "markdown",
   "metadata": {
    "tags": [
     "en"
    ]
   },
   "source": [
    "---\n",
    "### Task 3: Applying $k$-means to the Data\n",
    "\n",
    "**As your next task, apply $k$-means clustering to the data. Assign the resulting cluster identifiers to a `clust` column in `df`.**  Note: To make the following cells work, also assign the `KMeans` object to `model`.\n",
    "\n",
    "---\n"
   ]
  },
  {
   "cell_type": "code",
   "execution_count": null,
   "metadata": {
    "tags": [
     "student"
    ]
   },
   "outputs": [],
   "source": [
    "model = # ---\n",
    "\n",
    "\n",
    "df[\"clust\"] = # ---\n"
   ]
  },
  {
   "cell_type": "markdown",
   "metadata": {
    "tags": [
     "en"
    ]
   },
   "source": [
    "One of the nice things about $k$-means is that with the clusters being ball-shaped, they can easily be represented by their centroids and this makes them relatively interpretable. When using scikit-learn's `KMeans` object, we can extract the cluster centers using `model.cluster_centers_`.\n",
    "\n",
    "These cluster centers are, of course, already standardized, which is not necessarily a good thing when trying to interpret them. We are therefore going to use `input_preproc` to transform them back onto the original scale (k$ for the annual income and 1-100 for the spending score) before we display them.\n",
    "\n"
   ]
  },
  {
   "cell_type": "code",
   "execution_count": null,
   "metadata": {},
   "outputs": [],
   "source": [
    "cluster_centers = input_preproc.inverse_transform(model.cluster_centers_)\n",
    "cluster_centers"
   ]
  },
  {
   "cell_type": "markdown",
   "metadata": {
    "tags": [
     "en"
    ]
   },
   "source": [
    "### Analysis of the Discovered Clusters\n",
    "\n",
    "Now that we have retrieved the clusters, we can do further analysis to get more insights about the customers in each of them. Given that we have been trying to capture the 5 clusters visible in the annual income vs. spending score plot, let's first make sure that this worked correctly.\n",
    "\n"
   ]
  },
  {
   "cell_type": "code",
   "execution_count": null,
   "metadata": {},
   "outputs": [],
   "source": [
    "sns.scatterplot(x=\"Annual Income (k$)\", y=\"Spending Score (1-100)\", data=df, s=20, hue=\"clust\", palette=cluster_colors[:cluster_centers.shape[0]])\n",
    "sns.scatterplot(x=\"Annual Income (k$)\", y=\"Spending Score (1-100)\", data=cluster_centers, s=100, color='k')\n",
    "plt.grid(ls='--')\n",
    "plt.gca().set_axisbelow(True)"
   ]
  },
  {
   "cell_type": "markdown",
   "metadata": {
    "tags": [
     "en"
    ]
   },
   "source": [
    "Next we can have a look at associations between the cluster number and other variables – in much the same way that we do during exploratory analysis. Let's display the violin plots of cluster vs. the three numeric variables we have.\n",
    "\n",
    "One thing we can observe is that the age distribution in two of the clusters is much more concentrated than in the others. E.g. in the group that earns a lot and spends a lot, the median age is 32, with the minimum being 27 and the maximum being 40. In the group that spends a lot in spite of having a low income, the ages are significantly lower with the median of 23.5 and the maximum of 35. The other clusters more or less span the entire range range of ages.\n",
    "\n",
    "As you can see, this already gives us new useful insights – it shows us, for instace, that in our sample, older people were less likely to spend irresponsibly than young people.\n",
    "\n"
   ]
  },
  {
   "cell_type": "code",
   "execution_count": null,
   "metadata": {},
   "outputs": [],
   "source": [
    "g = ColGrid(df, 'clust', [\"Age\", \"Annual Income (k$)\", \"Spending Score (1-100)\"], col_wrap=2)\n",
    "g.map_dataframe(sns.violinplot);\n",
    "plt.gcf().set_size_inches([12, 8])"
   ]
  },
  {
   "cell_type": "markdown",
   "metadata": {
    "tags": [
     "en"
    ]
   },
   "source": [
    "We can also display a matrix showing the association between gender and the clusters. One thing that strikes one here is that there is much less males than females in two of the clusters and these happen to be the clusters that correspond to low income customers.\n",
    "\n"
   ]
  },
  {
   "cell_type": "code",
   "execution_count": null,
   "metadata": {},
   "outputs": [],
   "source": [
    "plt.figure(figsize=(5, 5))\n",
    "crosstab_plot(x='Gender', y='clust', data=df);"
   ]
  },
  {
   "cell_type": "markdown",
   "metadata": {
    "tags": [
     "en"
    ]
   },
   "source": [
    "It seems that in our sample, women are a bit more likely to have low income than men (there is a bit more women than men in the low-income clusters). To analyze this further, we can have a look at the data for customers that earn less than 40k. Let's filter them out and count the number of men and women. This does indeed show that there is less men than women in this category\n",
    "\n"
   ]
  },
  {
   "cell_type": "code",
   "execution_count": null,
   "metadata": {},
   "outputs": [],
   "source": [
    "df_low = df[df[\"Annual Income (k$)\"] < 40]\n",
    "df_low_male = df_low[df_low[\"Gender\"] == \"Male\"]\n",
    "df_low_female = df_low[df_low[\"Gender\"] == \"Female\"]\n",
    "\n",
    "print(\n",
    "    f\"Number of males with <40k income: {len(df_low_male)};\\n\"\n",
    "    f\"Number of females with <40k income: {len(df_low_female)};\\n\"\n",
    "    f\"The ratio of males vs. females is: {len(df_low_male) / len(df_low_female)}\"\n",
    ")"
   ]
  },
  {
   "cell_type": "markdown",
   "metadata": {
    "tags": [
     "en"
    ]
   },
   "source": [
    "We can even make a raincloud plot to get a fuller idea of how the male/female customers in this income range are distributed.\n",
    "\n"
   ]
  },
  {
   "cell_type": "code",
   "execution_count": null,
   "metadata": {},
   "outputs": [],
   "source": [
    "RainCloud(x=\"Gender\", y=\"Annual Income (k$)\", data=df_low)"
   ]
  },
  {
   "cell_type": "code",
   "execution_count": null,
   "metadata": {},
   "outputs": [],
   "source": []
  }
 ],
 "metadata": {
  "celltoolbar": "Tags",
  "interpreter": {
   "hash": "b08d363ebb8492a302c7076da18bf168d910622d9da13f07c6e53914cde27110"
  },
  "kernelspec": {
   "display_name": "Python 3 (ipykernel)",
   "language": "python",
   "name": "python3"
  },
  "language_info": {
   "codemirror_mode": {
    "name": "ipython",
    "version": 3
   },
   "file_extension": ".py",
   "mimetype": "text/x-python",
   "name": "python",
   "nbconvert_exporter": "python",
   "pygments_lexer": "ipython3",
   "version": "3.9.7"
  }
 },
 "nbformat": 4,
 "nbformat_minor": 2
}
