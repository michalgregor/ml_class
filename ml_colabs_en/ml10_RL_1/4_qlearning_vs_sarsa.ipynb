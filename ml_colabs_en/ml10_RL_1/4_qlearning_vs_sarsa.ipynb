{
 "cells": [
  {
   "cell_type": "markdown",
   "id": "56d6baa5",
   "metadata": {
    "tags": [
     "en"
    ]
   },
   "source": [
    "**NOTE: This notebook is written for the Google Colab platform. However it can also be run (possibly with minor modifications) as a standard Jupyter notebook.** \n",
    "\n"
   ]
  },
  {
   "cell_type": "code",
   "execution_count": null,
   "id": "872025f4",
   "metadata": {},
   "outputs": [],
   "source": [
    "#@title -- Installation of Packages -- { display-mode: \"form\" }\n",
    "import sys\n",
    "!{sys.executable} -m pip install git+https://github.com/michalgregor/gym_plannable.git\n",
    "!{sys.executable} -m pip install git+https://github.com/michalgregor/rl_tabular.git"
   ]
  },
  {
   "cell_type": "code",
   "execution_count": null,
   "id": "301848c9",
   "metadata": {},
   "outputs": [],
   "source": [
    "#@title -- Import of Necessary Packages -- { display-mode: \"form\" }\n",
    "%matplotlib inline\n",
    "from gym_plannable.env import CliffWalkerEnv\n",
    "import numpy as np\n",
    "from rl_tabular import Trainer, seed\n",
    "from rl_tabular import ActionValueTable\n",
    "from rl_tabular.maze_env_plots import Plotter\n",
    "from rl_tabular import EpsGreedyPolicy\n",
    "from rl_tabular import qtable_control\n",
    "from rl_tabular import QLearning, SARSA\n",
    "from rl_tabular import ExponentialSchedule"
   ]
  },
  {
   "cell_type": "code",
   "execution_count": null,
   "id": "2ba6aa74",
   "metadata": {},
   "outputs": [],
   "source": [
    "#@title -- Auxiliary Functions -- { display-mode: \"form\" }\n",
    "\n",
    "class RewardLogger:\n",
    "    def __init__(self):\n",
    "        self.episodic_rewards = []\n",
    "        self._running_reward = 0\n",
    "        \n",
    "    def __call__(self, step, train_info):\n",
    "        self._running_reward += train_info.transition[2]\n",
    "        done = train_info.transition[4]\n",
    "        \n",
    "        if done:\n",
    "            self.episodic_rewards.append(self._running_reward)\n",
    "            self._running_reward = 0"
   ]
  },
  {
   "cell_type": "markdown",
   "id": "7d56a0ea",
   "metadata": {
    "tags": [
     "en"
    ]
   },
   "source": [
    "## Q-Learning vs. SARSA\n",
    "\n",
    "In this notebook we are going to have a look at the differences between two TD methods: **Q-learning**  (an **off-policy method** ) and **SARSA**  (an **on-policy method** ).\n",
    "\n",
    "### The Cliff-Walker Environment\n",
    "\n",
    "Our experiments will be done in the cliff walker environment, which is illustrated in the figure below.\n",
    "\n",
    "<img src=\"data:image/png;base64,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\" style=\"width: 450px\" width=\"334\" height=\"111\">\n",
    "\n",
    "In this environment the goal of the agent is to get from the start state to the goal state as quickly as possible. Unless anything else happens, the agent receives the reward of -1 at every time step. Once the agent gets to the goal state, the episode ends (total rewards stop decreasing).\n",
    "\n",
    "However, there is a cliff right next to the optimal path to the goal state. If the agent steps onto the cliff, the agent receives the reward of -100 and the episode ends.\n",
    "\n",
    "### Simple Q-Learning\n",
    "\n",
    "Let us first apply simple Q-learning without a replay buffer and with a constant exploration rate $\\varepsilon = 0.1$.\n",
    "\n",
    "Recall that under Q-learning we compute the temporal difference as:\n",
    "\n",
    "$$\n",
    "\\delta = r_{t+1} + \\gamma \\underset{a}{\\max} \\ Q(s_{t+1}, a)-Q(s_{t},a_{t})\n",
    "$$\n",
    "In this tiny environment, the agent should be able to discover the optimal policy soon.\n",
    "\n"
   ]
  },
  {
   "cell_type": "code",
   "execution_count": null,
   "id": "e38fc0d7",
   "metadata": {},
   "outputs": [],
   "source": [
    "seed(1)\n",
    "\n",
    "env = CliffWalkerEnv(\n",
    "    show_path=True,\n",
    "    show_path_kw=dict(show_arrows=False, show_visited=True)\n",
    ")\n",
    "\n",
    "plotter = Plotter(env, ActionValueTable, render_agent=False)\n",
    "reward_logger = RewardLogger()\n",
    "\n",
    "qtable = ActionValueTable(env.action_space.n)\n",
    "algo = QLearning(qtable, alpha=0.5, gamma=0.9)\n",
    "policy = EpsGreedyPolicy(qtable, env.action_space.n, epsilon=0.1)\n",
    "\n",
    "trainer = Trainer(\n",
    "    algo, policy, verbose=10,\n",
    "    on_end_step=[reward_logger],\n",
    "    on_end_episode=[lambda *args: plotter.plot(qtable)]\n",
    ")\n",
    "\n",
    "trainer.train(env, max_episodes=100, max_episode_steps=1000)\n",
    "print(f\"\\nThe mean episodic rewards during training: {np.mean(reward_logger.episodic_rewards)}\")"
   ]
  },
  {
   "cell_type": "code",
   "execution_count": null,
   "id": "dac5b3d4",
   "metadata": {},
   "outputs": [],
   "source": [
    "env = CliffWalkerEnv(show_path=True)\n",
    "qtable_control(env, qtable, max_steps=100)\n",
    "env.render()"
   ]
  },
  {
   "cell_type": "markdown",
   "id": "c5ab9768",
   "metadata": {
    "tags": [
     "en"
    ]
   },
   "source": [
    "### Simple SARSA\n",
    "\n",
    "Next, let us apply SARSA under the same conditions. Recall that the SARSA update is different in that it updates based on an action that the policy would actually take and not the max-Q action:\n",
    "\n",
    "$$\n",
    "\\delta = r_{t+1} + \\gamma \\ Q(s_{t+1}, a_{t+1})-Q(s_{t},a_{t})\n",
    "$$\n",
    "Now, the actual policy being followed is the $\\varepsilon$-greedy policy, which sometimes takes random actions. Under such policy, it is not exactly safe to walk right alongside the cliff, because the agent might decide randomly at any point that it is going to jump off the cliff. SARSA, being on-policy, takes this into account. It is, therefore, going to learn to move further away from the cliff – a path, where the agent is less likely to jumping off the cliff.\n",
    "\n",
    "This is why the mean episodic rewards accumulated by SARSA during learning, will be greater than those accumulated by Q learning: the SARSA agent will be less likely to jump off the cliff while following the $0.1$-greedy policy.\n",
    "\n"
   ]
  },
  {
   "cell_type": "code",
   "execution_count": null,
   "id": "501865c2",
   "metadata": {},
   "outputs": [],
   "source": [
    "seed(1)\n",
    "\n",
    "env = CliffWalkerEnv(\n",
    "    show_path=True,\n",
    "    show_path_kw=dict(show_arrows=False, show_visited=True)\n",
    ")\n",
    "\n",
    "plotter = Plotter(env, ActionValueTable, render_agent=False)\n",
    "reward_logger = RewardLogger()\n",
    "\n",
    "qtable = ActionValueTable(env.action_space.n)\n",
    "policy = EpsGreedyPolicy(qtable, env.action_space.n, epsilon=0.1)\n",
    "algo = SARSA(qtable, policy=policy, alpha=0.5, gamma=0.9)\n",
    "\n",
    "trainer = Trainer(\n",
    "    algo, policy, verbose=10,\n",
    "    on_end_step=[reward_logger],\n",
    "    on_end_episode=[lambda *args: plotter.plot(qtable)]\n",
    ")\n",
    "\n",
    "trainer.train(env, max_episodes=100, max_episode_steps=1000)\n",
    "print(f\"\\nThe mean episodic rewards during training: {np.mean(reward_logger.episodic_rewards)}\")"
   ]
  },
  {
   "cell_type": "code",
   "execution_count": null,
   "id": "57931719",
   "metadata": {},
   "outputs": [],
   "source": [
    "env = CliffWalkerEnv(show_path=True)\n",
    "qtable_control(env, qtable, max_steps=100)\n",
    "env.render()"
   ]
  },
  {
   "cell_type": "markdown",
   "id": "61fc33af",
   "metadata": {
    "tags": [
     "en"
    ]
   },
   "source": [
    "Okay, so **Q-learning**  learns the **optimal value function** : once we make the policy greedy ($\\varepsilon = 0$), the agent is going to behave optimally.\n",
    "\n",
    "**SARSA** , on the other hand, **assumes that we will continue to follow the $0.1$-greedy policy**  and optimizes for that scenario.\n",
    "\n",
    "So once we are done learning, Q-learning achieves greater rewards because it chooses the optimal path, whereas SARSA keeps following the safe path even though it is no longer necessary.\n",
    "\n",
    "### Annealing the Exploration Rate for SARSA\n",
    "\n",
    "Naturally, at the end of the day, what we usually really care about is learning the optimal policy. The good news is that **SARSA can also learn the optimal policy**  if we anneal the exploration rate so that the policy SARSA is learning about gradually approaches the greedy policy.\n",
    "\n",
    "We already know how to form an exponential schedule so let us create one, where the final value of $\\varepsilon$ is going to be very low, e.g. `1e-15`.\n",
    "\n"
   ]
  },
  {
   "cell_type": "code",
   "execution_count": null,
   "id": "d11d0bf5",
   "metadata": {},
   "outputs": [],
   "source": [
    "seed(1)\n",
    "\n",
    "env = CliffWalkerEnv(\n",
    "    show_path=True,\n",
    "    show_path_kw=dict(show_arrows=False, show_visited=True)\n",
    ")\n",
    "\n",
    "plotter = Plotter(env, ActionValueTable, render_agent=False)\n",
    "reward_logger = RewardLogger()\n",
    "\n",
    "qtable = ActionValueTable(env.action_space.n)\n",
    "policy = EpsGreedyPolicy(qtable, env.action_space.n)\n",
    "algo = SARSA(qtable, policy=policy, alpha=0.5, gamma=0.9)\n",
    "\n",
    "eps_schedule = ExponentialSchedule(\n",
    "    policy.set_epsilon,\n",
    "    init_val=1.0, final_val=1e-15,\n",
    "    first_step=5, final_step=100,\n",
    "    method='episode'\n",
    ")\n",
    "\n",
    "trainer = Trainer(\n",
    "    algo, policy, verbose=10,\n",
    "    on_begin_step=[eps_schedule],\n",
    "    on_end_step=[reward_logger],\n",
    "    on_end_episode=[lambda *args: plotter.plot(qtable)]\n",
    ")\n",
    "\n",
    "trainer.train(env, max_episodes=100, max_episode_steps=1000)\n",
    "print(f\"\\nThe mean episodic rewards during training: {np.mean(reward_logger.episodic_rewards)}\")"
   ]
  },
  {
   "cell_type": "code",
   "execution_count": null,
   "id": "9b96e9c9",
   "metadata": {},
   "outputs": [],
   "source": [
    "env = CliffWalkerEnv(show_path=True)\n",
    "qtable_control(env, qtable, max_steps=100)\n",
    "env.render()"
   ]
  },
  {
   "cell_type": "markdown",
   "id": "deb09c86",
   "metadata": {
    "tags": [
     "en"
    ]
   },
   "source": [
    "---\n",
    "### Task 1: Comparing against Q-Learning with Annealing\n",
    "\n",
    "**In the cell below, rerun the same experiment, but now with Q-Learning and the exponential schedule. What are the mean episodic rewards during training? How do they compare to those of SARSA?** \n",
    "\n",
    "---\n"
   ]
  },
  {
   "cell_type": "code",
   "execution_count": null,
   "id": "773ea405",
   "metadata": {
    "tags": [
     "student"
    ]
   },
   "outputs": [],
   "source": [
    "seed(1)\n",
    "\n",
    "env = CliffWalkerEnv(\n",
    "    show_path=True,\n",
    "    show_path_kw=dict(show_arrows=False, show_visited=True)\n",
    ")\n",
    "\n",
    "plotter = Plotter(env, ActionValueTable, render_agent=False)\n",
    "reward_logger = RewardLogger()\n",
    "\n",
    "\n",
    "                  \n",
    "# ---\n",
    "                  \n",
    "\n"
   ]
  },
  {
   "cell_type": "code",
   "execution_count": null,
   "id": "598ba25f",
   "metadata": {},
   "outputs": [],
   "source": []
  }
 ],
 "metadata": {
  "celltoolbar": "Tags",
  "interpreter": {
   "hash": "b08d363ebb8492a302c7076da18bf168d910622d9da13f07c6e53914cde27110"
  },
  "kernelspec": {
   "display_name": "Python 3 (ipykernel)",
   "language": "python",
   "name": "python3"
  },
  "language_info": {
   "codemirror_mode": {
    "name": "ipython",
    "version": 3
   },
   "file_extension": ".py",
   "mimetype": "text/x-python",
   "name": "python",
   "nbconvert_exporter": "python",
   "pygments_lexer": "ipython3",
   "version": "3.9.16"
  }
 },
 "nbformat": 4,
 "nbformat_minor": 5
}
