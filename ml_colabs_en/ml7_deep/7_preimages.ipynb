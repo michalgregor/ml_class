{
 "cells": [
  {
   "cell_type": "markdown",
   "metadata": {
    "id": "iGk-vd7faOlJ",
    "tags": [
     "en"
    ]
   },
   "source": [
    "**NOTE: This notebook is written for the Google Colab platform, which provides free hardware acceleration. However it can also be run (possibly with minor modifications) as a standard Jupyter notebook, using a local GPU.** \n",
    "\n"
   ]
  },
  {
   "cell_type": "code",
   "execution_count": null,
   "metadata": {
    "colab": {
     "base_uri": "https://localhost:8080/"
    },
    "id": "OBxDjTRmaWOF",
    "outputId": "8e09b3a2-16b9-430a-f923-0bfa8d4378e9"
   },
   "outputs": [],
   "source": [
    "#@title -- Installation of Packages -- { display-mode: \"form\" }\n",
    "import sys\n",
    "!{sys.executable} -m pip install --quiet git+https://github.com/michalgregor/class_utils.git\n",
    "!{sys.executable} -m pip install --quiet git+https://github.com/greentfrapp/lucent.git"
   ]
  },
  {
   "cell_type": "code",
   "execution_count": null,
   "metadata": {
    "id": "B6ZrMnmTaWuc"
   },
   "outputs": [],
   "source": [
    "#@title -- Import of Necessary Packages -- { display-mode: \"form\" }\n",
    "import torch\n",
    "from torchvision import models\n",
    "from lucent.modelzoo.util import get_model_layers\n",
    "from lucent.optvis import param, transform, objectives\n",
    "from lucent.optvis.render import render_vis\n",
    "from lucent.optvis.param import upconvGAN\n",
    "import matplotlib.pyplot as plt\n",
    "import numpy as np"
   ]
  },
  {
   "cell_type": "code",
   "execution_count": null,
   "metadata": {
    "id": "a68gC9sArSYI"
   },
   "outputs": [],
   "source": [
    "#@title -- Downloading Data -- { display-mode: \"form\" }\n",
    "from class_utils.download import download_file_maybe_extract\n",
    "download_file_maybe_extract(\n",
    "    \"https://www.dropbox.com/s/ma25i7w3jpqex2a/imagenet_classes?dl=1\",\n",
    "    directory=\"data\"\n",
    ")\n",
    "\n",
    "# also create a directory for storing any outputs\n",
    "import os\n",
    "os.makedirs(\"output\", exist_ok=True)"
   ]
  },
  {
   "cell_type": "code",
   "execution_count": null,
   "metadata": {
    "id": "8SAItpYSbKSH"
   },
   "outputs": [],
   "source": [
    "#@title -- Auxiliary Functions -- { display-mode: \"form\" }\n",
    "with open(\"data/imagenet_classes\", \"r\") as file:\n",
    "    class_names = [c[:-1] for c in file.readlines()]\n",
    "\n",
    "def total_variation_loss(img, beta=2):\n",
    "    bs_img, c_img, h_img, w_img = img.size()\n",
    "    tv_h = torch.pow(img[:,:,1:,:-1]-img[:,:,:-1,:-1], 2)\n",
    "    tv_w = torch.pow(img[:,:,:-1,1:]-img[:,:,:-1,:-1], 2)\n",
    "    tv = torch.pow(tv_h + tv_w, beta / 2).sum()\n",
    "    return tv/(bs_img*c_img*h_img*w_img)\n",
    "\n",
    "def lp_loss(img, p=6, ref=0):\n",
    "    if np.isinf(p):\n",
    "        return torch.max(img)\n",
    "    return torch.pow(torch.sum(torch.pow(torch.abs(img - ref), p)), 1/p)\n",
    "\n",
    "@objectives.wrap_objective()\n",
    "def tv_objective(beta=2, layer='input', batch=None):\n",
    "    @objectives.handle_batch(batch)\n",
    "    def inner(model):\n",
    "        return total_variation_loss(model(layer), beta=beta)\n",
    "    return inner\n",
    "\n",
    "@objectives.wrap_objective()\n",
    "def lp_objective(p=6, ref=0, layer='input', batch=None):\n",
    "    @objectives.handle_batch(batch)\n",
    "    def inner(model):\n",
    "        return lp_loss(model(layer), p=p, ref=ref)\n",
    "    return inner\n",
    "\n",
    "def show_images(imgs, figsize=(8, 8), cols=2, clip=False):\n",
    "    fig, axes = plt.subplots(int(np.ceil(len(imgs) / cols)), cols)\n",
    "    fig.set_size_inches(figsize)\n",
    "    axes = np.reshape(axes, -1)\n",
    "\n",
    "    for img, ax in zip(imgs, axes):\n",
    "        if clip:\n",
    "            img = np.clip(img*255, 0, 255).astype('uint8')\n",
    "        ax.imshow(img)\n",
    "        ax.axis('off')\n",
    "\n",
    "    for ax in axes[len(imgs):]:\n",
    "        ax.axis('off')\n",
    "\n",
    "    plt.tight_layout()\n",
    "    return fig\n",
    "\n",
    "_GANparam_GAN = None\n",
    "def GANparam(batch=1, sd=1):\n",
    "    global _GANparam_GAN\n",
    "    \n",
    "    if _GANparam_GAN is None:\n",
    "        G = _GANparam_GAN = upconvGAN(\"fc6\").to(device)\n",
    "    else:\n",
    "        G = _GANparam_GAN\n",
    "\n",
    "    code = (torch.randn((batch, G.codelen)) * sd).to(device).requires_grad_(True)\n",
    "    imagef = lambda:  G.visualize(code)\n",
    "    return [code], imagef"
   ]
  },
  {
   "cell_type": "markdown",
   "metadata": {
    "id": "EGhzp2Z6TnGn",
    "tags": [
     "en"
    ]
   },
   "source": [
    "## Visualizing Natural Pre-Images\n",
    "\n",
    "In this notebook, we are going to be using the `lucent` Python package (based on PyTorch), to visualize how a neural network \"imagines\" certain classes. In other words, we are going to generate images, which particular neurons in the network respond to strongly.\n",
    "\n",
    "### Activation Maximization and Preimages\n",
    "\n",
    "Apart from methods that can visualize which part of an existing input image a neural network's prediction is most sensitive to, there is also a group of approaches, which do not require an input image. What they do is pick one particular neuron (an output neuron corresponding to some class or even a hidden-layer neuron) and use optimization to create a synthetic image which maximizes that neuron's activation. These approaches are sometimes referred to as **activation maximization**  methods.\n",
    "\n",
    "The visualizations we get are sometimes referred to as **preimages**  [[preimages]](#preimages). Suppose we are thinking of the neural network as performing a certain transformation on its inputs. Under that transformation then, the network's output would be the image of the network's input. And for that reason, the input of a transformation is sometimes referred to as a preimage.\n",
    "\n",
    "Let us start by loading a pretrained ResNet50 and putting it into evaluation mode.\n",
    "\n"
   ]
  },
  {
   "cell_type": "code",
   "execution_count": null,
   "metadata": {
    "id": "ueI1iU80xPG5"
   },
   "outputs": [],
   "source": [
    "device = torch.device(\"cuda\" if torch.cuda.is_available() else \"cpu\")\n",
    "weights = models.ResNet50_Weights.IMAGENET1K_V1\n",
    "model = models.resnet50(weights=weights)\n",
    "model.to(device).eval();"
   ]
  },
  {
   "cell_type": "markdown",
   "metadata": {
    "id": "gKYZQ8vUzpDk",
    "tags": [
     "en"
    ]
   },
   "source": [
    "To generate an image that maximizes the activation of a neuron, we need to specify which neuron we are interested in. We can do this by specifying the layer and the position of the neuron in that layer. If the neuron we are interested in is an output neuron, we are in luck: in `lucent` there is a standard name for the output layer: it's `\"labels\"`. If we wanted a different layer, we could use `get_model_layers(model)` to get the list of their names.\n",
    "\n",
    "To pick the 9th neuron of the output layer, which corresponds to label \"ostrich\" in ImageNet, we would specify our objective as follows:\n",
    "\n",
    "```\n",
    "obj = objectives.channel(\"labels\", 9)\n",
    "```\n",
    "We also need to set up a parametrization, which determines the size of the image, the batch size (number of images that will be generated) and several other things, which we are going to discuss later: for now we are going to use parameterization\n",
    "\n",
    "```\n",
    "batch_param_f = lambda: param.image(224, batch=4, fft=False, decorrelate=False)\n",
    "```\n",
    "which sets the resolution of the image to 224 (which is standard for ImageNet) and the batch size to 4. There are also some more advanced parametrizations that we are going to discuss later and we are keeping the off for now.\n",
    "\n",
    "Finally, we need to call `render_vis`, which runs the actual optimization and returns the generated images, which we will display using the auxiliary function `show_images`. Most of the arguments are quite self-explanatory. Perhaps with the exception of `transforms`, which we are again turning off for now, but we are going to come back to later.\n",
    "\n"
   ]
  },
  {
   "cell_type": "code",
   "execution_count": null,
   "metadata": {
    "colab": {
     "base_uri": "https://localhost:8080/",
     "height": 602
    },
    "id": "tZOh2hhLznm2",
    "outputId": "a5f4e283-8e3f-490e-b994-e30dd8a5e366"
   },
   "outputs": [],
   "source": [
    "obj = objectives.channel(\"labels\", 9)\n",
    "batch_param_f = lambda: param.image(224, batch=4, fft=False, decorrelate=False)\n",
    "imgs = render_vis(model, obj, batch_param_f, transforms=[], show_inline=False)[0]\n",
    "fig = show_images(imgs)"
   ]
  },
  {
   "cell_type": "markdown",
   "metadata": {
    "id": "X84MX83q3JK2",
    "tags": [
     "en"
    ]
   },
   "source": [
    "Okay, so this is how ResNet50 imagines an ostrich: and the results are far from impressive. This is because while a deep classifier learns to discriminate among the classes very well, it actually has no idea of what natural images look like (the task it has been trained to perform does not require this). So while the output we got matches the ostrich class very well according to the deep network, to everyone else it just looks like a lot of noise.\n",
    "\n",
    "### Parametrization, Transforms and Natural Preimages\n",
    "\n",
    "Fortunately, it is possible to augment the optimization problem with regularization components that bias the solution towards images with more natural-like statistics. The following figure gives a schematic overview of the optimization problem with the additional components.\n",
    "\n",
    "<img src=\"data:image/png;base64,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\" width=\"512\" height=\"113\" />\n",
    "\n",
    "#### Parametrization\n",
    "\n",
    "Firstly, we do not have to optimize the image directly: we can instead optimize some parametrization of the image if we have some differentiable generator at our disposal: it is denoted with `\"param. func\"` in the figure.\n",
    "\n",
    "This generator can be as simple as the (inverse) fast Fourier transform (inverse **FFT** ; actually, when applying this, you also scale frequencies so that they all have the same energy), or as complicated as an adversarial generative network: (**GAN** ). It can also include other differentiable operations such as **colour decorrelation** .\n",
    "\n",
    "#### Transforms\n",
    "\n",
    "The image can also undergo some further transforms before it is passed to our deep network. The `lucent` package uses the following transforms by default:\n",
    "\n",
    "```\n",
    "standard_transforms = [\n",
    "    pad(12, mode=\"constant\", constant_value=0.5),\n",
    "    jitter(8),\n",
    "    random_scale([1 + (i - 5) / 50.0 for i in range(11)]),\n",
    "    random_rotate(list(range(-10, 11)) + 5 * [0]),\n",
    "    jitter(4),\n",
    "]\n",
    "```\n",
    "The interesting ones are especially:\n",
    "\n",
    "* **Jitter** , which randomly translates the image by a certain number of pixels (the parameter to `jitter` is the maximum number of pixels);\n",
    "* **Random scale** , which scales the image randomly;\n",
    "* **Random rotate** , which rotates it.\n",
    "This additional noise regularizes the optimization process and makes the resulting images crisper.\n",
    "\n",
    "#### Additional Objectives\n",
    "\n",
    "A further way to regularize is to add more components to the activation maximization objective. Examples may include:\n",
    "\n",
    "* **$L^p$ norm** : penalizes for the size of the image vector. This can help keep pixel values within reasonable ranges [[inverting](#inverting)]. Here we are using the following definition:\n",
    "$$\n",
    "|| \\textbf{x} - \\text{ref} ||*p = \\left(\\sum* {i} |x_i - \\text{ref} |^p \\right)^\\frac{1}{p},\n",
    "$$\n",
    "where $\\mathbf{ref} = 0.5$ is a reference value. Note that our pixels are represented by floats in the $[0, 1]$ range so by setting $\\text{ref} = 0.5$ the $L^p$ norm is pulling them towards the middle value of $0.5$. Also, in keeping with [[inverting](#inverting)], we use $p=6$.\n",
    "\n",
    "\n",
    "* **Total variation**  (TV): penalizes variation by adding up Euclidean distances between neighbouring pixels. Makes images smoother. For image $\\mathbf{x}$, the TV is defined as [[inverting](#inverting)]:\n",
    "$$\n",
    "TV^{\\beta}(\\mathbf{x}) = \\sum*{i,j} \\left(\n",
    "  \\left( x* {i,j+1} - x*{ij} \\right)^2 +\n",
    "  \\left( x* {i+1,j} - x_{ij} \\right)^2\n",
    "\\right)^{\\frac{\\beta}{2}},\n",
    "$$\n",
    "where $\\beta$ is a hyperparameter; we will be using $\\beta = 2$. For multi-channel images, the TV is computed separately for each channel and the results are summed up.\n",
    "\n",
    "\n",
    "### Example: Regularizing the Ostrich Preimages\n",
    "\n",
    "Now that we know about all these tricks, let us apply some of them to our ostrich preimage and see whether the results get any better.\n",
    "\n",
    "#### Transforms\n",
    "\n",
    "Let us start by using the default set of transformations (we only need to remove the `transforms=[]` parameter).\n",
    "\n"
   ]
  },
  {
   "cell_type": "code",
   "execution_count": null,
   "metadata": {
    "colab": {
     "base_uri": "https://localhost:8080/",
     "height": 602
    },
    "id": "PlLJRsjB76pg",
    "outputId": "33b1000a-052a-4ddd-a007-80ba35fd884b"
   },
   "outputs": [],
   "source": [
    "obj = objectives.channel(\"labels\", 9)\n",
    "batch_param_f = lambda: param.image(224, batch=4, fft=False, decorrelate=False)\n",
    "imgs = render_vis(model, obj, batch_param_f, show_inline=False)[0]\n",
    "fig = show_images(imgs)"
   ]
  },
  {
   "cell_type": "markdown",
   "metadata": {
    "id": "8SNULsEm994H",
    "tags": [
     "en"
    ]
   },
   "source": [
    "Well, that is definitely an improvement: we can see patterns that vaguely resemble ostrich bodies, their long necks and heads. But they are not very distinct and the colours are wrong.\n",
    "\n",
    "#### FFT and Colour Decorrelation\n",
    "\n",
    "Let us try to change the parametrization next and use the FFT and colour decorrelation. Again, these are on by default, so we just drop the parameters.\n",
    "\n"
   ]
  },
  {
   "cell_type": "code",
   "execution_count": null,
   "metadata": {
    "colab": {
     "base_uri": "https://localhost:8080/",
     "height": 602
    },
    "id": "E8M3W86QTe08",
    "outputId": "ced20435-1e1a-40d8-a984-8c816bb21ff8"
   },
   "outputs": [],
   "source": [
    "obj = objectives.channel(\"labels\", 9)\n",
    "batch_param_f = lambda: param.image(224, batch=4)\n",
    "imgs = render_vis(model, obj, batch_param_f, show_inline=False)[0]\n",
    "fig = show_images(imgs)"
   ]
  },
  {
   "cell_type": "markdown",
   "metadata": {
    "id": "PGkjLQBz-9kn",
    "tags": [
     "en"
    ]
   },
   "source": [
    "#### Additional Objectives\n",
    "\n",
    "Finally, let us add the LP norm and the TV loss to keep the colours less extreme and to smoothen the image out a little bit. Each objective will have a different weight: these were tuned experimentally.\n",
    "\n"
   ]
  },
  {
   "cell_type": "code",
   "execution_count": null,
   "metadata": {
    "colab": {
     "base_uri": "https://localhost:8080/",
     "height": 655
    },
    "id": "OZzVH88yTe8M",
    "outputId": "dbfb5b80-cce5-49de-c1e7-4b382b4996c9"
   },
   "outputs": [],
   "source": [
    "batch_param_f = lambda: param.image(224, batch=4)\n",
    "obj = objectives.channel(\"labels\", 9) + 500 * tv_objective() + 5*lp_objective(ref=0.5)\n",
    "imgs = render_vis(model, obj, batch_param_f, show_inline=False)[0]\n",
    "fig = show_images(imgs)"
   ]
  },
  {
   "cell_type": "markdown",
   "metadata": {
    "id": "D6gCEjW5AEH6",
    "tags": [
     "en"
    ]
   },
   "source": [
    "### Other Classes\n",
    "\n",
    "Now that we can produce preimages that actually show some patterns, let us examine some other classes. Neuron 949 corresponds to strawberries:\n",
    "\n"
   ]
  },
  {
   "cell_type": "code",
   "execution_count": null,
   "metadata": {
    "colab": {
     "base_uri": "https://localhost:8080/",
     "height": 602
    },
    "id": "k63tQk_XTfAH",
    "outputId": "bb5b3e48-9cc9-478e-c868-065685b5f036"
   },
   "outputs": [],
   "source": [
    "obj = objectives.channel(\"labels\", 949) + (500 * tv_objective() + 5*lp_objective(ref=0.5))\n",
    "batch_param_f = lambda: param.image(224, batch=4)\n",
    "imgs = render_vis(model, obj, batch_param_f, show_inline=False)[0]\n",
    "fig = show_images(imgs)"
   ]
  },
  {
   "cell_type": "markdown",
   "metadata": {
    "id": "BUrj7zQIAbiJ",
    "tags": [
     "en"
    ]
   },
   "source": [
    "What would bees (309) look like?\n",
    "\n"
   ]
  },
  {
   "cell_type": "code",
   "execution_count": null,
   "metadata": {
    "colab": {
     "base_uri": "https://localhost:8080/",
     "height": 602
    },
    "id": "TbMiQ8TDznpT",
    "outputId": "a2ed0848-dfed-40b8-85e8-98d8643f3b07"
   },
   "outputs": [],
   "source": [
    "obj = objectives.channel(\"labels\", 309) + (500 * tv_objective() + 5*lp_objective(ref=0.5))\n",
    "batch_param_f = lambda: param.image(224, batch=4)\n",
    "imgs = render_vis(model, obj, batch_param_f, show_inline=False)[0]\n",
    "fig = show_images(imgs)"
   ]
  },
  {
   "cell_type": "markdown",
   "metadata": {
    "id": "KHrP9QjeAlOV",
    "tags": [
     "en"
    ]
   },
   "source": [
    "---\n",
    "#### Task 1: Experiment with More Classes\n",
    "\n",
    "**Try to visualize preimages for some more classes.** \n",
    "\n",
    "Note: for reference, you can display the list of all the 1000 ImageNet classes using:\n",
    "\n",
    "```\n",
    "for ic, c in enumerate(class_names):\n",
    "    print('{}: {}; '.format(ic, c))\n",
    "```\n",
    "---\n"
   ]
  },
  {
   "cell_type": "code",
   "execution_count": null,
   "metadata": {
    "id": "iqC35As0xPP3"
   },
   "outputs": [],
   "source": []
  },
  {
   "cell_type": "markdown",
   "metadata": {
    "id": "cgOMVTg2Bu14",
    "tags": [
     "en"
    ]
   },
   "source": [
    "### Using a GAN Parametrization\n",
    "\n",
    "To get even more natural-looking images, we can use a GAN parametrization. That way we will be optimizing the input of a GAN network, which has already been trained to generate natural images and so it should have a much better idea of what they should look like. Our deep classifier will, in a sense, act as a guide to the GAN network: criticizing its output and telling it what to change in order to maximize the activation of the target neuron.\n",
    "\n",
    "For the ostrich example:\n",
    "\n"
   ]
  },
  {
   "cell_type": "code",
   "execution_count": null,
   "metadata": {
    "colab": {
     "base_uri": "https://localhost:8080/",
     "height": 650,
     "referenced_widgets": [
      "975adf4a313848f29e2e10e0bad690ac",
      "dff74b3fe5e34b5c8eb944dc97e5317e",
      "03ba83c90b8748c386b2fd25c4a70f07",
      "ba05928410b44a9b9528cbc116e7e49d",
      "2ec2225437db4a3ab252b177adab8667",
      "34dba9d48efc4beaa39aa7d7b4f84ac7",
      "a894b1765f034a11b67a88d4908bcaae",
      "57d0a556715f4ad3bc411730c43abaf3"
     ]
    },
    "id": "isYDZDX6a4tz",
    "outputId": "7be903ca-e9be-40ea-896f-26a0c0be1fd8"
   },
   "outputs": [],
   "source": [
    "obj = objectives.channel(\"labels\", 9)\n",
    "batch_param_f = lambda: GANparam(batch=4)\n",
    "imgs = render_vis(model, obj, batch_param_f, show_inline=False)[0]\n",
    "fig = show_images(imgs)"
   ]
  },
  {
   "cell_type": "markdown",
   "metadata": {
    "id": "EXHtCS0YDy47",
    "tags": [
     "en"
    ]
   },
   "source": [
    "For the strawberry example:\n",
    "\n"
   ]
  },
  {
   "cell_type": "code",
   "execution_count": null,
   "metadata": {
    "colab": {
     "base_uri": "https://localhost:8080/",
     "height": 602
    },
    "id": "TmznjEMhcqeV",
    "outputId": "5a43591f-0f79-404c-c833-0f8e0222ef02"
   },
   "outputs": [],
   "source": [
    "obj = objectives.channel(\"labels\", 949)\n",
    "batch_param_f = lambda: GANparam(batch=4)\n",
    "imgs = render_vis(model, obj, batch_param_f, show_inline=False)[0]\n",
    "fig = show_images(imgs)"
   ]
  },
  {
   "cell_type": "markdown",
   "metadata": {
    "id": "eiMNJdB3D3SI",
    "tags": [
     "en"
    ]
   },
   "source": [
    "For the bee example:\n",
    "\n"
   ]
  },
  {
   "cell_type": "code",
   "execution_count": null,
   "metadata": {
    "colab": {
     "base_uri": "https://localhost:8080/",
     "height": 602
    },
    "id": "9MVMNL9jeVCS",
    "outputId": "e54a60c1-73b8-4dfe-f3c0-70887d6f5ea3"
   },
   "outputs": [],
   "source": [
    "obj = objectives.channel(\"labels\", 309)\n",
    "batch_param_f = lambda: GANparam(batch=4)\n",
    "imgs = render_vis(model, obj, batch_param_f, show_inline=False)[0]\n",
    "fig = show_images(imgs)"
   ]
  },
  {
   "cell_type": "markdown",
   "metadata": {
    "id": "A6MOc0E4D_An",
    "tags": [
     "en"
    ]
   },
   "source": [
    "---\n",
    "#### Task 2: Experiment with More Classes\n",
    "\n",
    "**Try to visualize preimages for some more classes using the GAN parametrization.** \n",
    "\n",
    "Note: for reference, you can display the list of all the 1000 ImageNet classes using:\n",
    "\n",
    "```\n",
    "for ic, c in enumerate(class_names):\n",
    "    print('{}: {}; '.format(ic, c))\n",
    "```\n",
    "---\n"
   ]
  },
  {
   "cell_type": "code",
   "execution_count": null,
   "metadata": {},
   "outputs": [],
   "source": []
  },
  {
   "cell_type": "markdown",
   "metadata": {
    "id": "EFLfjcHpTzpc"
   },
   "source": [
    "<a id=\"preimages\">[preimages]</a> Mahendran, A. and Vedaldi, A., 2016. Visualizing deep convolutional neural networks using natural pre-images. International Journal of Computer Vision, 120(3), pp.233-255.\n",
    "\n",
    "<a id=\"inverting\">[inverting]</a> Mahendran, A. and Vedaldi, A., 2015. Understanding deep image representations by inverting them. In Proceedings of the IEEE conference on computer vision and pattern recognition (pp. 5188-5196).\n",
    "\n"
   ]
  },
  {
   "cell_type": "code",
   "execution_count": null,
   "metadata": {
    "id": "gXeIF7G7xay8"
   },
   "outputs": [],
   "source": []
  }
 ],
 "metadata": {
  "accelerator": "GPU",
  "celltoolbar": "Tags",
  "colab": {
   "collapsed_sections": [],
   "name": "2_preimages.ipynb",
   "provenance": []
  },
  "kernelspec": {
   "display_name": "Python 3",
   "language": "python",
   "name": "python3"
  },
  "language_info": {
   "codemirror_mode": {
    "name": "ipython",
    "version": 3
   },
   "file_extension": ".py",
   "mimetype": "text/x-python",
   "name": "python",
   "nbconvert_exporter": "python",
   "pygments_lexer": "ipython3",
   "version": "3.8.10"
  },
  "widgets": {
   "application/vnd.jupyter.widget-state+json": {
    "03ba83c90b8748c386b2fd25c4a70f07": {
     "model_module": "@jupyter-widgets/controls",
     "model_name": "FloatProgressModel",
     "state": {
      "_dom_classes": [],
      "_model_module": "@jupyter-widgets/controls",
      "_model_module_version": "1.5.0",
      "_model_name": "FloatProgressModel",
      "_view_count": null,
      "_view_module": "@jupyter-widgets/controls",
      "_view_module_version": "1.5.0",
      "_view_name": "ProgressView",
      "bar_style": "success",
      "description": "100%",
      "description_tooltip": null,
      "layout": "IPY_MODEL_34dba9d48efc4beaa39aa7d7b4f84ac7",
      "max": 224395283,
      "min": 0,
      "orientation": "horizontal",
      "style": "IPY_MODEL_2ec2225437db4a3ab252b177adab8667",
      "value": 224395283
     }
    },
    "2ec2225437db4a3ab252b177adab8667": {
     "model_module": "@jupyter-widgets/controls",
     "model_name": "ProgressStyleModel",
     "state": {
      "_model_module": "@jupyter-widgets/controls",
      "_model_module_version": "1.5.0",
      "_model_name": "ProgressStyleModel",
      "_view_count": null,
      "_view_module": "@jupyter-widgets/base",
      "_view_module_version": "1.2.0",
      "_view_name": "StyleView",
      "bar_color": null,
      "description_width": "initial"
     }
    },
    "34dba9d48efc4beaa39aa7d7b4f84ac7": {
     "model_module": "@jupyter-widgets/base",
     "model_name": "LayoutModel",
     "state": {
      "_model_module": "@jupyter-widgets/base",
      "_model_module_version": "1.2.0",
      "_model_name": "LayoutModel",
      "_view_count": null,
      "_view_module": "@jupyter-widgets/base",
      "_view_module_version": "1.2.0",
      "_view_name": "LayoutView",
      "align_content": null,
      "align_items": null,
      "align_self": null,
      "border": null,
      "bottom": null,
      "display": null,
      "flex": null,
      "flex_flow": null,
      "grid_area": null,
      "grid_auto_columns": null,
      "grid_auto_flow": null,
      "grid_auto_rows": null,
      "grid_column": null,
      "grid_gap": null,
      "grid_row": null,
      "grid_template_areas": null,
      "grid_template_columns": null,
      "grid_template_rows": null,
      "height": null,
      "justify_content": null,
      "justify_items": null,
      "left": null,
      "margin": null,
      "max_height": null,
      "max_width": null,
      "min_height": null,
      "min_width": null,
      "object_fit": null,
      "object_position": null,
      "order": null,
      "overflow": null,
      "overflow_x": null,
      "overflow_y": null,
      "padding": null,
      "right": null,
      "top": null,
      "visibility": null,
      "width": null
     }
    },
    "57d0a556715f4ad3bc411730c43abaf3": {
     "model_module": "@jupyter-widgets/base",
     "model_name": "LayoutModel",
     "state": {
      "_model_module": "@jupyter-widgets/base",
      "_model_module_version": "1.2.0",
      "_model_name": "LayoutModel",
      "_view_count": null,
      "_view_module": "@jupyter-widgets/base",
      "_view_module_version": "1.2.0",
      "_view_name": "LayoutView",
      "align_content": null,
      "align_items": null,
      "align_self": null,
      "border": null,
      "bottom": null,
      "display": null,
      "flex": null,
      "flex_flow": null,
      "grid_area": null,
      "grid_auto_columns": null,
      "grid_auto_flow": null,
      "grid_auto_rows": null,
      "grid_column": null,
      "grid_gap": null,
      "grid_row": null,
      "grid_template_areas": null,
      "grid_template_columns": null,
      "grid_template_rows": null,
      "height": null,
      "justify_content": null,
      "justify_items": null,
      "left": null,
      "margin": null,
      "max_height": null,
      "max_width": null,
      "min_height": null,
      "min_width": null,
      "object_fit": null,
      "object_position": null,
      "order": null,
      "overflow": null,
      "overflow_x": null,
      "overflow_y": null,
      "padding": null,
      "right": null,
      "top": null,
      "visibility": null,
      "width": null
     }
    },
    "975adf4a313848f29e2e10e0bad690ac": {
     "model_module": "@jupyter-widgets/controls",
     "model_name": "HBoxModel",
     "state": {
      "_dom_classes": [],
      "_model_module": "@jupyter-widgets/controls",
      "_model_module_version": "1.5.0",
      "_model_name": "HBoxModel",
      "_view_count": null,
      "_view_module": "@jupyter-widgets/controls",
      "_view_module_version": "1.5.0",
      "_view_name": "HBoxView",
      "box_style": "",
      "children": [
       "IPY_MODEL_03ba83c90b8748c386b2fd25c4a70f07",
       "IPY_MODEL_ba05928410b44a9b9528cbc116e7e49d"
      ],
      "layout": "IPY_MODEL_dff74b3fe5e34b5c8eb944dc97e5317e"
     }
    },
    "a894b1765f034a11b67a88d4908bcaae": {
     "model_module": "@jupyter-widgets/controls",
     "model_name": "DescriptionStyleModel",
     "state": {
      "_model_module": "@jupyter-widgets/controls",
      "_model_module_version": "1.5.0",
      "_model_name": "DescriptionStyleModel",
      "_view_count": null,
      "_view_module": "@jupyter-widgets/base",
      "_view_module_version": "1.2.0",
      "_view_name": "StyleView",
      "description_width": ""
     }
    },
    "ba05928410b44a9b9528cbc116e7e49d": {
     "model_module": "@jupyter-widgets/controls",
     "model_name": "HTMLModel",
     "state": {
      "_dom_classes": [],
      "_model_module": "@jupyter-widgets/controls",
      "_model_module_version": "1.5.0",
      "_model_name": "HTMLModel",
      "_view_count": null,
      "_view_module": "@jupyter-widgets/controls",
      "_view_module_version": "1.5.0",
      "_view_name": "HTMLView",
      "description": "",
      "description_tooltip": null,
      "layout": "IPY_MODEL_57d0a556715f4ad3bc411730c43abaf3",
      "placeholder": "​",
      "style": "IPY_MODEL_a894b1765f034a11b67a88d4908bcaae",
      "value": " 214M/214M [00:05&lt;00:00, 38.0MB/s]"
     }
    },
    "dff74b3fe5e34b5c8eb944dc97e5317e": {
     "model_module": "@jupyter-widgets/base",
     "model_name": "LayoutModel",
     "state": {
      "_model_module": "@jupyter-widgets/base",
      "_model_module_version": "1.2.0",
      "_model_name": "LayoutModel",
      "_view_count": null,
      "_view_module": "@jupyter-widgets/base",
      "_view_module_version": "1.2.0",
      "_view_name": "LayoutView",
      "align_content": null,
      "align_items": null,
      "align_self": null,
      "border": null,
      "bottom": null,
      "display": null,
      "flex": null,
      "flex_flow": null,
      "grid_area": null,
      "grid_auto_columns": null,
      "grid_auto_flow": null,
      "grid_auto_rows": null,
      "grid_column": null,
      "grid_gap": null,
      "grid_row": null,
      "grid_template_areas": null,
      "grid_template_columns": null,
      "grid_template_rows": null,
      "height": null,
      "justify_content": null,
      "justify_items": null,
      "left": null,
      "margin": null,
      "max_height": null,
      "max_width": null,
      "min_height": null,
      "min_width": null,
      "object_fit": null,
      "object_position": null,
      "order": null,
      "overflow": null,
      "overflow_x": null,
      "overflow_y": null,
      "padding": null,
      "right": null,
      "top": null,
      "visibility": null,
      "width": null
     }
    }
   }
  }
 },
 "nbformat": 4,
 "nbformat_minor": 1
}
