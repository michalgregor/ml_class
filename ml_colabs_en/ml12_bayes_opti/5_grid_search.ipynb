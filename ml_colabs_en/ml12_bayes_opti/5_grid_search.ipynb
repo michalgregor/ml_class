{
 "cells": [
  {
   "cell_type": "markdown",
   "metadata": {
    "tags": [
     "en"
    ]
   },
   "source": [
    "**NOTE: This notebook is written for the Google Colab platform. However it can also be run (possibly with minor modifications) as a standard Jupyter notebook.** \n",
    "\n"
   ]
  },
  {
   "cell_type": "code",
   "execution_count": null,
   "metadata": {},
   "outputs": [],
   "source": [
    "#@title -- Installation of Packages -- { display-mode: \"form\" }\n",
    "import sys\n",
    "!{sys.executable} -m pip install git+https://github.com/michalgregor/class_utils.git"
   ]
  },
  {
   "cell_type": "code",
   "execution_count": null,
   "metadata": {
    "colab": {},
    "colab_type": "code",
    "id": "0Ch8q9Pzy1-o"
   },
   "outputs": [],
   "source": [
    "#@title -- Import of Necessary Packages -- { display-mode: \"form\" }\n",
    "import time\n",
    "import numpy as np\n",
    "import pandas as pd\n",
    "from sklearn.model_selection import train_test_split\n",
    "from sklearn.preprocessing import StandardScaler, OrdinalEncoder\n",
    "from sklearn.impute import SimpleImputer\n",
    "from sklearn.compose import make_column_transformer\n",
    "from sklearn.pipeline import make_pipeline\n",
    "from sklearn.tree import DecisionTreeClassifier\n",
    "from sklearn.metrics import accuracy_score, precision_score, recall_score\n",
    "from sklearn.model_selection import GridSearchCV"
   ]
  },
  {
   "cell_type": "code",
   "execution_count": null,
   "metadata": {
    "colab": {
     "base_uri": "https://localhost:8080/",
     "height": 34
    },
    "colab_type": "code",
    "id": "9tNXv6tWzHfC",
    "outputId": "a700673d-c098-4f3a-e8b6-744116da9667"
   },
   "outputs": [],
   "source": [
    "#@title -- Downloading Data -- { display-mode: \"form\" }\n",
    "from class_utils.download import download_file_maybe_extract\n",
    "download_file_maybe_extract(\"https://www.dropbox.com/s/u8u7vcwy3sosbar/titanic.zip?dl=1\",\n",
    "                            directory=\"data/titanic\")\n",
    "\n",
    "# also create a directory for storing any outputs\n",
    "import os\n",
    "os.makedirs(\"output\", exist_ok=True)"
   ]
  },
  {
   "cell_type": "markdown",
   "metadata": {
    "tags": [
     "en"
    ]
   },
   "source": [
    "## Optimizing Hyperparameters Using Grid Search\n",
    "\n",
    "In our next notebook we will experiment with another simple method for hyperparameter optimization: it is called grid search.\n",
    "\n",
    "### Loading and Preprocessing the Data\n",
    "\n",
    "The loading and preprocessing of data will be identical to that from the previous notebook.\n",
    "\n"
   ]
  },
  {
   "cell_type": "code",
   "execution_count": null,
   "metadata": {
    "colab": {},
    "colab_type": "code",
    "id": "rAxn47cLy1_A"
   },
   "outputs": [],
   "source": [
    "#@title -- Loading and preprocessing: X_train, Y_train, X_test, Y_test -- { display-mode: \"form\" }\n",
    "df = pd.read_csv(\"data/titanic/train.csv\")\n",
    "df_train, df_test = train_test_split(df, test_size=0.25,\n",
    "                     stratify=df[\"Survived\"], random_state=4)\n",
    "\n",
    "# we split the columns into categorical and numeric inputs and the output\n",
    "categorical_inputs = [\"Pclass\", \"Sex\", \"Embarked\"]\n",
    "numeric_inputs = [\"Age\", \"SibSp\", 'Parch', 'Fare']\n",
    "output = [\"Survived\"]\n",
    "\n",
    "# we create our preprocessing pipeline\n",
    "input_preproc = make_column_transformer(\n",
    "    (make_pipeline(\n",
    "        SimpleImputer(strategy=\"most_frequent\"),\n",
    "        OrdinalEncoder(categories='auto')),\n",
    "     categorical_inputs),\n",
    "    \n",
    "    (make_pipeline(\n",
    "        SimpleImputer(),\n",
    "        StandardScaler()),\n",
    "     numeric_inputs)\n",
    ")\n",
    "\n",
    "# we fit the pipeline on the train set and then apply it to both train and test\n",
    "X_train = input_preproc.fit_transform(df_train[categorical_inputs + numeric_inputs])\n",
    "Y_train = df_train[output]\n",
    "\n",
    "X_test = input_preproc.transform(df_test[categorical_inputs + numeric_inputs])\n",
    "Y_test = df_test[output]"
   ]
  },
  {
   "cell_type": "markdown",
   "metadata": {
    "tags": [
     "en"
    ]
   },
   "source": [
    "### Grid Search\n",
    "\n",
    "When using grid search, we define the \"grid\" of all hyperparameter combinations, which and the resulting space is searched systematically and in full.\n",
    "\n",
    "Let us again display the docstring of class `DecisionTreeClassifier`, to refresh our memory as to what hyperparameters we will be tuning:\n",
    "\n"
   ]
  },
  {
   "cell_type": "code",
   "execution_count": null,
   "metadata": {
    "colab": {
     "base_uri": "https://localhost:8080/",
     "height": 1000
    },
    "colab_type": "code",
    "id": "j-Cdw2Dsy2AC",
    "outputId": "57663bcd-ac93-465e-e2e2-43c0b292682f"
   },
   "outputs": [],
   "source": [
    "?DecisionTreeClassifier"
   ]
  },
  {
   "cell_type": "markdown",
   "metadata": {
    "tags": [
     "en"
    ]
   },
   "source": [
    "---\n",
    "### Task 1: Setting up the Search Space\n",
    "\n",
    "**Use the next cell to define the search space `space` of decision tree hyperparameters.** \n",
    "\n",
    "---\n",
    "We will again need to set up the search space. In the case of grid search, the space needs to be discrete and, if possible, relatively small, since we are going to search it fully, testing all possible configurations.\n",
    "\n",
    "We will be using the `GridSearchCV` method from package `sklearn`. There the search space is defined as a dictionary, in which the keys are the hyperparameter names and values are the lists of possible hyperparameter values, e.g.:\n",
    "\n",
    "```\n",
    "space = {\n",
    "    # categorical variable:\n",
    "    'cat_var': [\"opt1\", \"opt2\", \"opt3\"],\n",
    "\n",
    "    # numeric variable: needs to be discretized\n",
    "    'num_var': [0.1, 0.5, 1.0]\n",
    "}\n",
    "```\n"
   ]
  },
  {
   "cell_type": "code",
   "execution_count": null,
   "metadata": {
    "tags": [
     "student"
    ]
   },
   "outputs": [],
   "source": [
    "grid = {\n",
    "\n",
    "\n",
    "    # ---\n",
    "\n",
    "    \n",
    "}"
   ]
  },
  {
   "cell_type": "markdown",
   "metadata": {
    "tags": [
     "en"
    ]
   },
   "source": [
    "### Running the Optimization\n",
    "\n",
    "Next we can run the optimization – using the `GridSearchCV` method.\n",
    "\n"
   ]
  },
  {
   "cell_type": "code",
   "execution_count": null,
   "metadata": {
    "colab": {
     "base_uri": "https://localhost:8080/",
     "height": 176
    },
    "colab_type": "code",
    "id": "5SmzuG_HHJro",
    "outputId": "c8895d38-8d3b-4250-b75e-64caa84b692e"
   },
   "outputs": [],
   "source": [
    "start = time.time()\n",
    "\n",
    "model = DecisionTreeClassifier()\n",
    "grid_search = GridSearchCV(model, grid, n_jobs=-1, cv=10,\n",
    "                           scoring='f1_macro', verbose=True)\n",
    "grid_search.fit(X_train, Y_train)\n",
    "\n",
    "end = time.time()\n",
    "print(end - start)"
   ]
  },
  {
   "cell_type": "markdown",
   "metadata": {
    "tags": [
     "en"
    ]
   },
   "source": [
    "We extract the best hyperparameters:\n",
    "\n"
   ]
  },
  {
   "cell_type": "code",
   "execution_count": null,
   "metadata": {
    "colab": {
     "base_uri": "https://localhost:8080/",
     "height": 139
    },
    "colab_type": "code",
    "id": "g80nZmwYJ32Y",
    "outputId": "a165c804-4ae5-4129-8b97-a99cf308cc11"
   },
   "outputs": [],
   "source": [
    "best_params = grid_search.best_params_\n",
    "best_params"
   ]
  },
  {
   "cell_type": "markdown",
   "metadata": {
    "tags": [
     "en"
    ]
   },
   "source": [
    "### Retraining the Model with the Best Hyperparameters\n",
    "\n",
    "Now that we have identified the best set of hyperparameters, we will use them to retrain the model: this time using the entire training set.\n",
    "\n"
   ]
  },
  {
   "cell_type": "code",
   "execution_count": null,
   "metadata": {
    "colab": {},
    "colab_type": "code",
    "id": "cg4jffZky2A6"
   },
   "outputs": [],
   "source": [
    "model = DecisionTreeClassifier(**best_params)\n",
    "model = model.fit(X_train, Y_train)"
   ]
  },
  {
   "cell_type": "markdown",
   "metadata": {
    "tags": [
     "en"
    ]
   },
   "source": [
    "### Testing\n",
    "\n",
    "And finally, we are ready to test the model on the test set. We will display the confusion matrix and our standard metrics.\n",
    "\n"
   ]
  },
  {
   "cell_type": "code",
   "execution_count": null,
   "metadata": {
    "colab": {},
    "colab_type": "code",
    "id": "cDVM_08jy2BC"
   },
   "outputs": [],
   "source": [
    "y_test = model.predict(X_test)"
   ]
  },
  {
   "cell_type": "code",
   "execution_count": null,
   "metadata": {
    "colab": {
     "base_uri": "https://localhost:8080/",
     "height": 86
    },
    "colab_type": "code",
    "id": "xMWRhiA-y2BI",
    "outputId": "607a82b4-9ae3-455a-b554-0637456f35e7"
   },
   "outputs": [],
   "source": [
    "cm = pd.crosstab(Y_test.values.reshape(-1), y_test,\n",
    "                 rownames=['actual'],\n",
    "                 colnames=['predicted'])\n",
    "print(cm)"
   ]
  },
  {
   "cell_type": "code",
   "execution_count": null,
   "metadata": {
    "colab": {
     "base_uri": "https://localhost:8080/",
     "height": 69
    },
    "colab_type": "code",
    "id": "BiqPdl5Ty2BO",
    "outputId": "6ed21328-220c-415c-8940-73bd3dc0cda1"
   },
   "outputs": [],
   "source": [
    "print(\"Accuracy = {}\".format(accuracy_score(Y_test, y_test)))\n",
    "print(\"Precision = {}\".format(precision_score(Y_test, y_test)))\n",
    "print(\"Recall = {}\".format(recall_score(Y_test, y_test)))"
   ]
  }
 ],
 "metadata": {
  "celltoolbar": "Tags",
  "colab": {
   "collapsed_sections": [],
   "name": "4_grid_search.ipynb",
   "provenance": [],
   "version": "0.3.2"
  },
  "kernelspec": {
   "display_name": "Python 3 (ipykernel)",
   "language": "python",
   "name": "python3"
  },
  "language_info": {
   "codemirror_mode": {
    "name": "ipython",
    "version": 3
   },
   "file_extension": ".py",
   "mimetype": "text/x-python",
   "name": "python",
   "nbconvert_exporter": "python",
   "pygments_lexer": "ipython3",
   "version": "3.9.7"
  }
 },
 "nbformat": 4,
 "nbformat_minor": 1
}
