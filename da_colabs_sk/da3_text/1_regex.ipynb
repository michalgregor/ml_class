{
 "cells": [
  {
   "cell_type": "markdown",
   "metadata": {
    "tags": [
     "sk"
    ]
   },
   "source": [
    "**POZNÁMKA: Tento notebook je určený pre platformu Google Colab. Je však možné ho spustiť (možno s drobnými úpravami) aj ako štandardný Jupyter notebook.** \n",
    "\n"
   ]
  },
  {
   "cell_type": "code",
   "execution_count": null,
   "metadata": {},
   "outputs": [],
   "source": [
    "#@title -- Installation of Packages -- { display-mode: \"form\" }\n",
    "import sys\n",
    "# !{sys.executable} -m pip install git+https://github.com/michalgregor/class_utils.git"
   ]
  },
  {
   "cell_type": "code",
   "execution_count": null,
   "metadata": {},
   "outputs": [],
   "source": [
    "#@title -- Import of Necessary Packages -- { display-mode: \"form\" }\n",
    "import re\n",
    "import string\n",
    "from IPython.display import HTML, display"
   ]
  },
  {
   "cell_type": "code",
   "execution_count": null,
   "metadata": {},
   "outputs": [],
   "source": [
    "#@title -- Downloading Data -- { display-mode: \"form\" }\n",
    "# also create a directory for storing any outputs\n",
    "import os\n",
    "os.makedirs(\"output\", exist_ok=True)\n",
    "\n",
    "phone_number_samples = [\n",
    "    (\"0903445772\", (None, 903445772)),\n",
    "    (\"(541) 754-3010\", (None, 5417543010)),\n",
    "    (\"554$117$22A\", None),\n",
    "    (\"die Kartoffel\", None),\n",
    "    (\"+1-541-754-3010\", (1, 5417543010)),\n",
    "    (\"001-541-754-3010\", (1, 5417543010)),\n",
    "    (\"+49-89-636-48018\", (49, 8963648018)),\n",
    "    (\"+421 903 445 231\", (421, 903445231)),\n",
    "    (\"4422-5588\", (None, 44225588)),\n",
    "    (\"41 510 4405\", (None, 415104405)),\n",
    "    (\"33 2187945\", (None, 332187945)),\n",
    "    (\"+31 33 2187945\", (31, 332187945)),\n",
    "    (\"(33) 445-88-76\", (None, 334458876)),\n",
    "    (\"+65-2234-1487\", (65, 22341487)),\n",
    "    (\"+65-XXXX-YYYY\", None)\n",
    "]"
   ]
  },
  {
   "cell_type": "markdown",
   "metadata": {
    "tags": [
     "sk"
    ]
   },
   "source": [
    "## Regulárne výrazy\n",
    "\n",
    "Pri spracovaní textu je často potrebné vyhľadávať zhody s určitým kľúčovým slovom alebo vzorom. Často tiež potrebujeme také vzory nájsť a nahradiť. Tieto operácie sú veľmi jednoduché pokiaľ hľadáme jedno konkrétne kľúčové slovo. Ak však potrebujeme vykonať flexibilnejšie vyhľadávanie zahŕňajúce zložitejšie vzory, potrebujeme spôsob ako vyjadriť, čo hľadáme. Jeden spôsob ako to urobiť, je použiť regulárne výrazy, čo budeme ilustrovať v tomto notebook-u. V záujme stručnosti sa nebudeme venovať formálnemu úvodu do problematiky, ale priamo praktickým príkladom.\n",
    "\n",
    "V notebook-u nepokryjeme celú syntax regulárnych výrazov – ďalšie informácie môžete nájsť napr. v: [Regular Expression HOWTO](https://docs.python.org/3/howto/regex.html) alebo v [re — Regular expression operations](https://docs.python.org/3/library/re.html).\n",
    "\n"
   ]
  },
  {
   "cell_type": "code",
   "execution_count": 4,
   "metadata": {
    "tags": [
     "keep"
    ]
   },
   "outputs": [
    {
     "data": {
      "text/html": [
       "\n",
       "<iframe width=\"560\" height=\"315\" src=\"https://www.youtube.com/embed/rhzKDrUiJVk\" frameborder=\"0\"\n",
       "allow=\"accelerometer; autoplay; clipboard-write; encrypted-media; gyroscope; picture-in-picture\"\n",
       "allowfullscreen></iframe>\n"
      ],
      "text/plain": [
       "<IPython.core.display.HTML object>"
      ]
     },
     "metadata": {},
     "output_type": "display_data"
    }
   ],
   "source": [
    "#@title [A YouTube Video](https://youtu.be/rhzKDrUiJVk) { display-mode: \"form\" }\n",
    "display(HTML(\"\"\"\n",
    "<iframe width=\"560\" height=\"315\" src=\"https://www.youtube.com/embed/rhzKDrUiJVk\" frameborder=\"0\"\n",
    "allow=\"accelerometer; autoplay; clipboard-write; encrypted-media; gyroscope; picture-in-picture\"\n",
    "allowfullscreen></iframe>\n",
    "\"\"\"))"
   ]
  },
  {
   "cell_type": "markdown",
   "metadata": {
    "tags": [
     "sk"
    ]
   },
   "source": [
    "### Jednoduché zhody\n",
    "\n",
    "#### Explicitná zhoda: `keyword`\n",
    "\n",
    "Ako prvý krok si ukážme, ako sa dá v Python-e vytvoriť náš prvý regulárny výraz. Aby sme veci nekomplikovali, budeme hľadať explicitnú zhodu, čo je to isté ako hľadať jednoducho podľa kľúčového slova. Budeme v texte (ktorý je tiež definovaný nižšie) hľadať slovo \"the\". Náš regulárny výraz bude jednoducho slovo, ktoré hľadáme: `the` a skompilujeme ho pomocou Python-ovej funkcie `re.compile`.\n",
    "\n"
   ]
  },
  {
   "cell_type": "code",
   "execution_count": null,
   "metadata": {},
   "outputs": [],
   "source": [
    "text = (\"The classic universal approximation theorem concerns \" +\n",
    "        \"the capacity of feedforward neural networks.\")\n",
    "\n",
    "print(text)"
   ]
  },
  {
   "cell_type": "code",
   "execution_count": null,
   "metadata": {},
   "outputs": [],
   "source": [
    "expr = re.compile(\"the\")\n",
    "list(expr.finditer(text))"
   ]
  },
  {
   "cell_type": "markdown",
   "metadata": {
    "tags": [
     "sk"
    ]
   },
   "source": [
    "Ako vidno, vyhľadávanie pomocou `expr.finditer` navrátilo interátor, ktorý sme transformovali na zoznam. Obsahuje celkovo dve zhody. Každá zhoda obsahuje jednak zhodujúci sa text a jednak jeho rozsah v pôvodnom texte.\n",
    "\n",
    "#### Alternácia: `alternative1|alternative2`\n",
    "\n",
    "Jedna vec, ktorú si môžeme v našom prvom príklade všimnúť, je, že prvé \"the\" v našom texte sa nezhodovalo, pretože to bolo v skutočnosti \"The\" a v regulárnych výrazoch sa malé a veľké písmená rozlišujú (aj keď to je možné zmeniť pomocou nepovinného parametra). Ak chceme nájsť zhodu s \"the\" aj \"The\", mohli by sme teda použiť operátor alternácie „|“ a napísať výraz, ktorý umožňuje dve alternatívne zhody: jednu pre \"the\" a druhú pre \"The\", tj `the|The`. Teraz budeme vedieť nájsť zhodu so všetkými tromi určitými členmi \"the\" v texte.\n",
    "\n"
   ]
  },
  {
   "cell_type": "code",
   "execution_count": null,
   "metadata": {},
   "outputs": [],
   "source": [
    "text = (\"The classic universal approximation theorem concerns \" +\n",
    "        \"the capacity of feedforward neural networks.\")"
   ]
  },
  {
   "cell_type": "code",
   "execution_count": null,
   "metadata": {},
   "outputs": [],
   "source": [
    "expr = re.compile(\"the|The\")\n",
    "list(expr.finditer(text))"
   ]
  },
  {
   "cell_type": "markdown",
   "metadata": {
    "tags": [
     "sk"
    ]
   },
   "source": [
    "Môžeme tiež kombinovať štandardnú zhodu s alternatívami, takže by sme mohli povedať, že existuje alternatíva medzi \"t\" a \"T\" a zvyšok sa musí presne rovnať \"he\". Alternatívu medzi \"t\" a \"T\" bude potrebné uviesť v zátvorke: `(t|T)he`.\n",
    "\n"
   ]
  },
  {
   "cell_type": "code",
   "execution_count": null,
   "metadata": {},
   "outputs": [],
   "source": [
    "text = (\"The classic universal approximation theorem concerns \" +\n",
    "        \"the capacity of feedforward neural networks.\")"
   ]
  },
  {
   "cell_type": "code",
   "execution_count": null,
   "metadata": {},
   "outputs": [],
   "source": [
    "expr = re.compile(\"(t|T)he\")\n",
    "list(expr.finditer(text))"
   ]
  },
  {
   "cell_type": "markdown",
   "metadata": {
    "tags": [
     "sk"
    ]
   },
   "source": [
    "#### Triedy znakov: `[cbaA]`, `[0-9a-zA-Z]`\n",
    "\n",
    "Ešte iný spôsob ako dosiahnuť to isté, je špecifikovať prvý znak prostredníctvom triedy znakov (character class). Ak niekoľko znakov obalíme do hranatých zátvoriek, znamená to, že je povolená zhoda s ktorýmkoľvek z nich, t.j. v našom prípade: `[tT]he`.\n",
    "\n"
   ]
  },
  {
   "cell_type": "code",
   "execution_count": null,
   "metadata": {},
   "outputs": [],
   "source": [
    "text = (\"The classic universal approximation theorem concerns \" +\n",
    "        \"the capacity of feedforward neural networks.\")"
   ]
  },
  {
   "cell_type": "code",
   "execution_count": null,
   "metadata": {},
   "outputs": [],
   "source": [
    "expr = re.compile(\"[tT]he\")\n",
    "list(expr.finditer(text))"
   ]
  },
  {
   "cell_type": "markdown",
   "metadata": {
    "tags": [
     "sk"
    ]
   },
   "source": [
    "Hoci sa toto môže javiť ako zbytočné cvičenie v uvádzaní rôznych syntaktických spôsobov ako vyjadriť ten istý koncept, triedy znakov sú v skutočnosti flexibilnejšie. Je napríklad možné vyjadriť pomocou nich aj určitý rozsah znakov. Aby sme napríklad pokryli celú abecedu, môžeme napísať `[a-zA-Z]`, čo pripúšťa zhodu so všetkými malými a veľkými písmenami. To isté by sme mohli spraviť aj s číslicami: `[0-9]`.\n",
    "\n",
    "Ak by sme napríklad chceli nájsť zhodu so všetkými 2-písmenkovými kombináciami začínajúcimi na \"n\", mohli by sme napísať `n[a-zA-Z]`.\n",
    "\n"
   ]
  },
  {
   "cell_type": "code",
   "execution_count": null,
   "metadata": {},
   "outputs": [],
   "source": [
    "text = (\"The classic universal approximation theorem concerns \" +\n",
    "        \"the capacity of feedforward neural networks.\")"
   ]
  },
  {
   "cell_type": "code",
   "execution_count": null,
   "metadata": {},
   "outputs": [],
   "source": [
    "expr = re.compile(\"n[a-zA-Z]\")\n",
    "list(expr.finditer(text))"
   ]
  },
  {
   "cell_type": "markdown",
   "metadata": {
    "tags": [
     "sk"
    ]
   },
   "source": [
    "#### Negatívne triedy znakov: `[^cbaA]`\n",
    "\n",
    "Ak chceme znakovú triedu, ktorá sa bude zhodovať s čímkoľvek okrem danej množiny znakov, začneme triedu operátorom `^`. Napr. `[^e]` sa bude zhodovať s čímkoľvek iným než s \"e\". Ak teda napíšeme `n[^e]`, vylúčime tým zhody s \"ne\", ktoré sme vyššie dostali, ale získame zase zhody s \"n \", pretože výraz teraz pripúšťa aj zhodu s bielymi znakmi.\n",
    "\n"
   ]
  },
  {
   "cell_type": "code",
   "execution_count": null,
   "metadata": {},
   "outputs": [],
   "source": [
    "text = (\"The classic universal approximation theorem concerns \" +\n",
    "        \"the capacity of feedforward neural networks.\")"
   ]
  },
  {
   "cell_type": "code",
   "execution_count": null,
   "metadata": {},
   "outputs": [],
   "source": [
    "expr = re.compile(\"n[^e]\")\n",
    "list(expr.finditer(text))"
   ]
  },
  {
   "cell_type": "markdown",
   "metadata": {
    "tags": [
     "sk"
    ]
   },
   "source": [
    "#### Zhoda s bielymi znakmi: `\\s`\n",
    "\n",
    "Keď už hovoríme o bielych znakoch, zhodu s ľubovoľným bielym znakom vieme vyjadriť pomocou `\\s`. Ak by sme teda chceli vylúčiť ešte aj zhody s \"n \" a ľubovoľnými inými bielymi znakmi, mohli by sme použiť `n[^e\\s]`.\n",
    "\n"
   ]
  },
  {
   "cell_type": "code",
   "execution_count": null,
   "metadata": {},
   "outputs": [],
   "source": [
    "text = (\"The classic universal approximation theorem concerns \" +\n",
    "        \"the capacity of feedforward neural networks.\")"
   ]
  },
  {
   "cell_type": "code",
   "execution_count": null,
   "metadata": {},
   "outputs": [],
   "source": [
    "expr = re.compile(\"n[^e\\s]\")\n",
    "list(expr.finditer(text))"
   ]
  },
  {
   "cell_type": "markdown",
   "metadata": {
    "tags": [
     "sk"
    ]
   },
   "source": [
    "#### Zhoda s ľubovoľným znakom: `.`\n",
    "\n",
    "Existuje aj notácia pre zhodu s akýmkoľvek znakom: `.`.\n",
    "\n"
   ]
  },
  {
   "cell_type": "code",
   "execution_count": null,
   "metadata": {},
   "outputs": [],
   "source": [
    "text = (\"The classic universal approximation theorem concerns \" +\n",
    "        \"the capacity of feedforward neural networks.\")"
   ]
  },
  {
   "cell_type": "code",
   "execution_count": null,
   "metadata": {},
   "outputs": [],
   "source": [
    "expr = re.compile(\"ne.\")\n",
    "list(expr.finditer(text))"
   ]
  },
  {
   "cell_type": "markdown",
   "metadata": {
    "tags": [
     "sk"
    ]
   },
   "source": [
    "#### Rušenie meta znakov: `\\.\\^\\+` a surové reťazce\n",
    "\n",
    "Pri všetkých týchto špeciálnych znakoch by už malo byť zrejmé, že ak budeme chcieť nájsť zhodu s niektorým z nich, budeme musieť jeho špeciálny význam nejako vyrušiť (escape). Rušenie sa robí pomocou spätných lomiek `\\`. Ak by sme teda chceli nájsť zhodu napríklad s doslovnou \".\", regulárny výraz by vyzeral takto: `\\.`. Ak však toto isté napíšeme v Python-e, v skutočnosti to nebude vždy správne fungovať, pretože `\\` sa v Python-ových reťazcoch už používa na označenie špeciálnych znakov ako je znak nového riadka `\\n`.\n",
    "\n",
    "Aby sme teda do Python-ového reťazca zapísali skutočné spätnú lomku, museli by sme napísať dve spätné spätné lomky. Pre potreby regulárneho výrazu by sa potom správali ako jedna lomka. V prípade, že budeme lomiek potrebovať reťaziť viacej, taký zápis začne byť rýchlo neprehľadný. Našťastie, ak pred textový reťazec v Python-e zapíšeme `r`, napr. `r\"\\.\"`, indikuje to, že ide o špeciálny surový reťazec. Keď používame surové reťazce, nie je už potrebné používať namiesto každej spätnej lomky dve – môžeme náš regulárny výraz zapísať priamo.\n",
    "\n",
    "Zoznam meta znakov, ktoré je potrebné rušiť ak ich chceme použiť v doslovnom význame nasleduje tu: `. ^ $ * + ? { } [ ] \\ | ( )`.\n",
    "\n",
    "Ak teda chceme vyhľadať napríklad dva ľubovoľné znaky nasledované bodkou, môžeme písať: `r\"..\\.\"`.\n",
    "\n"
   ]
  },
  {
   "cell_type": "code",
   "execution_count": null,
   "metadata": {},
   "outputs": [],
   "source": [
    "text = (\"The classic universal approximation theorem concerns \" +\n",
    "        \"the capacity of feedforward neural networks.\")"
   ]
  },
  {
   "cell_type": "code",
   "execution_count": null,
   "metadata": {},
   "outputs": [],
   "source": [
    "expr = re.compile(r\"..\\.\")\n",
    "list(expr.finditer(text))"
   ]
  },
  {
   "cell_type": "markdown",
   "metadata": {
    "tags": [
     "sk"
    ]
   },
   "source": [
    "### Opakovanie: `+*{n}?`\n",
    "\n",
    "Aby to bolo ešte zaujímavejšie, vieme tiež špecifikovať, či sa vzory smú opakovať a dokonca aj koľko ráz. Pozrime sa na niekoľko príkladov.\n",
    "\n",
    "#### Presný počet opakovaní: `expr{n}`\n",
    "\n",
    "Pridaním `{n}` na koniec výrazu (alebo podvýrazu, podľa potreby uzatvoreného v okrúhlych zátvorkách) špecifikujeme, že sa má opakovať presne `n` krát. Ak by sme teda cheli určiť, že hľadáme postupnosť ľubovoľných štyroch znakov okrem \"e\" a bielych znakov, mohli by sme písať `[^e\\s]{4}`.\n",
    "\n",
    "#### Ľubovoľný počet opakovaní: `expr*`\n",
    "\n",
    "Ak chcem dovoliť ľubovoľný počet opakovaní, môžeme použiť operátor hviezdička `*`.\n",
    "\n",
    "#### Jeden výskyt alebo viac: `expr+`\n",
    "\n",
    "Aby sme vyjadrili, že sa má výraz vyskytnúť aspoň raz, ale smie sa vyskytnúť aj viac než raz, používame operátor `+`.\n",
    "\n",
    "#### Nepovinný výraz: `expr?`\n",
    "\n",
    "Aby sme vyjadrili, že je výraz nepovinný (smie sa vyskytnúť, ale nemusí), môžeme použiť operátor `?`.\n",
    "\n",
    "#### Príklad: zhoda s ľubovoľným celým slovom\n",
    "\n",
    "Povedzme, že by sme hľadali zhodu s ľubovoľným celým slovom, t.j. ľubovoľnou súvislou postupnosťou písmen oddelenou od svojho kontextu bielymi znakmi.\n",
    "\n"
   ]
  },
  {
   "cell_type": "code",
   "execution_count": null,
   "metadata": {},
   "outputs": [],
   "source": [
    "sentence = \"The classic universal approximation theorem.\""
   ]
  },
  {
   "cell_type": "code",
   "execution_count": null,
   "metadata": {},
   "outputs": [],
   "source": [
    "expr = re.compile(r\"\\s[a-zA-Z]+\\s\")\n",
    "list(expr.finditer(sentence))"
   ]
  },
  {
   "cell_type": "markdown",
   "metadata": {
    "tags": [
     "sk"
    ]
   },
   "source": [
    "OK, zdá sa, že toto celkom nefunguje. To sa však pri písaní regulárnych výrazo stáva často: zabudneme na niektoré prípady, ktoré by mal výraz pokryť. Poďme to teda opraviť.\n",
    "\n",
    "#### Vylúčenie medzier; lookbehind, lookahead: `(?<=...)`, `(?=...)`\n",
    "\n",
    "Poďme najprv zo zhôd vylúčiť medzery. Je to potrebné spraviť, inak sa vzory pre susedné slová budú prekrývať a pri vyhľadávaní ich nenájdeme všetky.\n",
    "\n",
    "* **Lookbehind:**  Aby sme vykonali porovnanie so vzorom na začiatku výrazu, ale ho nezahrnuli do nájdenej zhody, môžeme použiť tzv. lookbehind: `(?<=...)`, kde `...` nahradíme naším vzorom.\n",
    "\n",
    "\n",
    "* **Lookahead:**  Podobne ak chceme porovnávať so vzorom na konci nášho výrazu, ale ho nechceme zahrnúť do nájdenej zhody, môžeme použiť lookahead: `(?=...)`.\n",
    "\n",
    "\n",
    "Pre náš príklad by sme teda mohli medzery z nájdených zhôd vylúčiť takto: `(?<=\\s)[a-zA-Z]+(?=\\s)`. Týmto spôsobom by sme už mali byť schopní nájsť o jedno slovo viac.\n",
    "\n"
   ]
  },
  {
   "cell_type": "code",
   "execution_count": null,
   "metadata": {},
   "outputs": [],
   "source": [
    "sentence = \"The classic universal approximation theorem.\""
   ]
  },
  {
   "cell_type": "code",
   "execution_count": null,
   "metadata": {},
   "outputs": [],
   "source": [
    "expr = re.compile(r\"(?<=\\s)[a-zA-Z]+(?=\\s)\")\n",
    "list(expr.finditer(sentence))"
   ]
  },
  {
   "cell_type": "markdown",
   "metadata": {
    "tags": [
     "sk"
    ]
   },
   "source": [
    "#### Použitie hraničného meta znaku\n",
    "\n",
    "To už je o trochu lepšie, lenže nám stále chýba prvé a posledné slovo: pretože tieto nie sú ohraničené medzerami. Mohli by sme to riešiť použitím špeciálnych meta znakov pre koniec (`$`) a začiatok (`^`) reťazca a tiež explicitným spôsobom pridať všetky interpunkčné znamienka. Výsledný výraz by však už bol pomerne zložitý. Našťastie vieme to isté dosiahnuť pomocou **hraničného meta znaku**  `\\b`, ktorý bude sledovať zhodu s hranicami slov:\n",
    "\n"
   ]
  },
  {
   "cell_type": "code",
   "execution_count": null,
   "metadata": {},
   "outputs": [],
   "source": [
    "sentence = \"The classic universal approximation theorem.\""
   ]
  },
  {
   "cell_type": "code",
   "execution_count": null,
   "metadata": {},
   "outputs": [],
   "source": [
    "expr = re.compile(r\"\\b[a-zA-Z]+\\b\")\n",
    "list(expr.finditer(sentence))"
   ]
  },
  {
   "cell_type": "markdown",
   "metadata": {
    "tags": [
     "sk"
    ]
   },
   "source": [
    "#### Začiatok a koniec reťazca `^$`\n",
    "\n",
    "Už sme spomenuli, že existujú meta znaky pre začiatok (`^`) a koniec (`$`) reťazca. Skúsme ich teda použiť na nájdenie prvého slova v reťazci. Použijeme jednoducho `^` nasledované vzorom, t.j.: `^[a-zA-Z]+`.\n",
    "\n"
   ]
  },
  {
   "cell_type": "code",
   "execution_count": null,
   "metadata": {},
   "outputs": [],
   "source": [
    "sentence = \"The classic universal approximation theorem.\""
   ]
  },
  {
   "cell_type": "code",
   "execution_count": null,
   "metadata": {},
   "outputs": [],
   "source": [
    "expr = re.compile(r\"^[a-zA-Z]+\")\n",
    "list(expr.finditer(sentence))"
   ]
  },
  {
   "cell_type": "markdown",
   "metadata": {
    "tags": [
     "sk"
    ]
   },
   "source": [
    "#### Zhody s interpunkciou\n",
    "\n",
    "Pri hľadaní zhôd s interpunkciou môžeme použiť reťazec `string.punctuation`, ktorý obsahuje všetky ASCII interpunkčné znamienka. Prirodzene, niektoré z týchto interpunkčných znamienok sa zároveň v regulárnych výrazoch používajú ako meta znaky, takže ich budeme potrebovať vyrušiť. To sa dá našťastie spraviť automaticky pomocou `re.escape`. Vytvorme si teda triedu znakov pre interpunkciu.\n",
    "\n"
   ]
  },
  {
   "cell_type": "code",
   "execution_count": null,
   "metadata": {},
   "outputs": [],
   "source": [
    "sentence = \"The classic? Universal; approximation. Theorem!\""
   ]
  },
  {
   "cell_type": "code",
   "execution_count": null,
   "metadata": {},
   "outputs": [],
   "source": [
    "punct = string.punctuation\n",
    "punct"
   ]
  },
  {
   "cell_type": "code",
   "execution_count": null,
   "metadata": {},
   "outputs": [],
   "source": [
    "punct_class = \"[\" + re.escape(punct) + \"]\"\n",
    "punct_class"
   ]
  },
  {
   "cell_type": "code",
   "execution_count": null,
   "metadata": {},
   "outputs": [],
   "source": [
    "expr = re.compile(punct_class)\n",
    "list(expr.finditer(sentence))"
   ]
  },
  {
   "cell_type": "markdown",
   "metadata": {
    "tags": [
     "sk"
    ]
   },
   "source": [
    "### Capture skupiny\n",
    "\n",
    "Zhody, ktoré získame pomocou regulárnych výrazov môžu byť aj štruktúrované: namiesto toho, aby sme získali len úplný text zhody, vieme získať aj jednotlivé zložky, ak ich uzavrieme do capture skupín. Tieto sa vytvárajú pomocou okrúhlych zátvoriek. Napr. ak chceme nájsť zhodu s ľubovoľnými dvoma slovami nasledujúcimi za \"the\" a extrahovať každé z nich osobitne, môžeme písať: `[Tt]he ([a-zA-Z]+) ([a-zA-Z]+)`.\n",
    "\n"
   ]
  },
  {
   "cell_type": "code",
   "execution_count": null,
   "metadata": {},
   "outputs": [],
   "source": [
    "sentence = \"The classic universal approximation theorem.\""
   ]
  },
  {
   "cell_type": "code",
   "execution_count": null,
   "metadata": {},
   "outputs": [],
   "source": [
    "expr = re.compile(r\"[Tt]he ([a-zA-Z]+) ([a-zA-Z]+)\")\n",
    "match = expr.search(sentence)\n",
    "match"
   ]
  },
  {
   "cell_type": "markdown",
   "metadata": {
    "tags": [
     "sk"
    ]
   },
   "source": [
    "Keď sme získali zhodu `match`, môžeme sa pomocou `match.group(n)` odkázať na jej rôzne capture skupiny. Skupina 0 sa bude vždy odkazovať na celkovú zhodu.\n",
    "\n"
   ]
  },
  {
   "cell_type": "code",
   "execution_count": null,
   "metadata": {},
   "outputs": [],
   "source": [
    "match.group(0)"
   ]
  },
  {
   "cell_type": "markdown",
   "metadata": {
    "tags": [
     "sk"
    ]
   },
   "source": [
    "Skupiny 1 a 2 budú v našom prípade zodpovedať prvému a druhému slovu.\n",
    "\n"
   ]
  },
  {
   "cell_type": "code",
   "execution_count": null,
   "metadata": {},
   "outputs": [],
   "source": [
    "print(match.group(1))\n",
    "print(match.group(2))"
   ]
  },
  {
   "cell_type": "markdown",
   "metadata": {
    "tags": [
     "sk"
    ]
   },
   "source": [
    "#### Necapture skupiny\n",
    "\n",
    "Fakt, že okrúhle zátvorky slúžia na dva účely: na ohraničenie čiastkových výrazov a na označenie capture skupín, môže mať nepríjemné dôsledky. Ak by sme napríklad napísali regulárny výraz `(T|t)he ([a-zA-Z]+) ([a-zA-Z]+)`, skupina 1 by teraz zodpovedala prvej dvojici zátvoriek, ktorá ohraničuje alternatívu medzi `T` aa `t`.\n",
    "\n"
   ]
  },
  {
   "cell_type": "code",
   "execution_count": null,
   "metadata": {},
   "outputs": [],
   "source": [
    "sentence = \"The classic universal approximation theorem.\""
   ]
  },
  {
   "cell_type": "code",
   "execution_count": null,
   "metadata": {},
   "outputs": [],
   "source": [
    "expr = re.compile(r\"(T|t)he ([a-zA-Z]+) ([a-zA-Z]+)\")\n",
    "match = expr.search(sentence)\n",
    "match.group(1)"
   ]
  },
  {
   "cell_type": "markdown",
   "metadata": {
    "tags": [
     "sk"
    ]
   },
   "source": [
    "Takéto správenie často nie je žiaduce. V takých prípadoch vieme zmeniť supinu na necapture skupinu pomocou `(?:...)`. Náš regulárny výraz by teda v tomto prípade vyzeral takto: `(?:T|t)he ([a-zA-Z]+) ([a-zA-Z]+)`. Skupina 1 bude teraz korešpondovať so slovom \"classic\" pretože \"T\" už nie je v capture skupine.\n",
    "\n"
   ]
  },
  {
   "cell_type": "code",
   "execution_count": null,
   "metadata": {},
   "outputs": [],
   "source": [
    "expr = re.compile(r\"(?:T|t)he ([a-zA-Z]+) ([a-zA-Z]+)\")\n",
    "match = expr.search(sentence)\n",
    "match.group(1)"
   ]
  },
  {
   "cell_type": "markdown",
   "metadata": {
    "tags": [
     "sk"
    ]
   },
   "source": [
    "### Nájsť a nahradiť\n",
    "\n",
    "Okrem hľadania zhôd sa regulárne výrazy často používajú aj na hľadanie a nahrádzanie. Predpokladajme, že by sme napríklad výskyt každého určitého člena vo vete chceli nahradiť reťazcom `\"XX\"`. V Python-e môžeme použiť funkciu `expr.subn(repl, string)` na nahradenie všetkých výskytov výrazu v reťazci `string` reťazcom `repl`. Funkcia `subn` navracia výsledný reťazec a počet náhrad, ktoré sa vykonali. My si zobrazíme len výsledný reťazec.\n",
    "\n"
   ]
  },
  {
   "cell_type": "code",
   "execution_count": null,
   "metadata": {},
   "outputs": [],
   "source": [
    "text = (\"The classic universal approximation theorem concerns \" +\n",
    "        \"the capacity of feedforward neural networks.\")"
   ]
  },
  {
   "cell_type": "code",
   "execution_count": null,
   "metadata": {},
   "outputs": [],
   "source": [
    "expr = re.compile(r\"\\b[tT]he\\b\")\n",
    "print(expr.subn(\"XX\", text)[0])"
   ]
  },
  {
   "cell_type": "markdown",
   "metadata": {
    "tags": [
     "sk"
    ]
   },
   "source": [
    "#### Použitie capture skupín v nahradzujúcom reťazci\n",
    "\n",
    "Dajme tomu, že chceme realizovať o niečo komplikovanejšiu úlohu: napr. vymeniť medzi sebou prvé a posledné slovo začínajúce na \"c\". Samozrejme už vieme ako nájsť zhodu so slovami začínajúcimi na \"c\", ale ak ich chceme medzi sebou aj vymeniť, budeme musieť zachytiť prvé \"c\" slovo, posledné \"c\" slovo, text medzi nimi a vložiť ich naspäť v opačnom poradí. Našťastie platí, že v nahradzujúcom reťazci sa vieme odkázať späť na capture skupinu `n` pomocou výrazu `\\n`. Takže jediné, čo musíme napísať je: `\\b(c[a-zA-Z]+)\\b` pre prvé \"c\" slovo, `(.*)` pre text medzi slovami a `\\b(c[a-zA-Z]+)\\b` pre posledné \"c\" slovo. Nahradzujúci reťazec bude jednoducho `\\3\\2\\1`.\n",
    "\n"
   ]
  },
  {
   "cell_type": "code",
   "execution_count": null,
   "metadata": {},
   "outputs": [],
   "source": [
    "text = (\"The classic universal approximation theorem concerns \" +\n",
    "        \"the capacity of feedforward neural networks.\")"
   ]
  },
  {
   "cell_type": "code",
   "execution_count": null,
   "metadata": {},
   "outputs": [],
   "source": [
    "expr = re.compile(r\"\\b(c[a-zA-Z]+)\\b(.*)\\b(c[a-zA-Z]+)\")\n",
    "print(expr.subn(r\"\\3\\2\\1\", text)[0])"
   ]
  },
  {
   "cell_type": "markdown",
   "metadata": {
    "tags": [
     "sk"
    ]
   },
   "source": [
    "### Nerekurzívne a rekurzívne vzory\n",
    "\n",
    "#### Príklad: odstránenie HTML tagov\n",
    "\n",
    "V ďalšom príklade sa pokúsime odstrániť z textu všetky HTML tagy. Táto úloha by mala byť pomerne priamočiara: potrebujeme jednoducho nájsť zhodu so všetkým medzi znakmi `<` a `>`. Treba však pamätať ma to, že regulárne výrazy sú lačné (greedy) a budú sa snažiť skonzumovať maximálny možný počet znakov. Musíme byť preto pri špecifikácii výrazu opatrní. Pozrime sa, čo by sa stalo, keby sme náš regulárny výraz špecifikovali ako `<.*>`.\n",
    "\n"
   ]
  },
  {
   "cell_type": "code",
   "execution_count": null,
   "metadata": {},
   "outputs": [],
   "source": [
    "text = \"\"\"\n",
    "text above\n",
    "<div>\n",
    "div 1 content\n",
    "<span>inner span</span>\n",
    "</div><div>\n",
    "div 2 content\n",
    "<span>inner span</span>\n",
    "</div>\n",
    "text below\n",
    "\"\"\""
   ]
  },
  {
   "cell_type": "code",
   "execution_count": null,
   "metadata": {},
   "outputs": [],
   "source": [
    "expr = re.compile(r\"<.*>\")\n",
    "print(expr.subn(\"\", text)[0])"
   ]
  },
  {
   "cell_type": "markdown",
   "metadata": {
    "tags": [
     "sk"
    ]
   },
   "source": [
    "Ako vidno, tento regulárny výraz neodstránil len tagy: odstránil aj obsah vnútorného `<span>` tagu, čo sme nemali v úmysle. Správny výraz by bol `<[^>]*>`. V tomto prípade nebude možné nájsť zhodu, ktorá by prekračovala uzatvárajúcu zátvorku `>`.\n",
    "\n"
   ]
  },
  {
   "cell_type": "code",
   "execution_count": null,
   "metadata": {},
   "outputs": [],
   "source": [
    "expr = re.compile(r\"<[^>]*>\")\n",
    "print(expr.subn(\"\", text)[0])"
   ]
  },
  {
   "cell_type": "markdown",
   "metadata": {
    "tags": [
     "sk"
    ]
   },
   "source": [
    "#### Regulárne výrazy nevedia vyjadriť rekurzívne vzory\n",
    "\n",
    "Ďalšou možnou úlohou by bolo odstrániť HTML tagy vrátane ich obsahu. To sa však nedá urobiť len s použitím regulárnych výrazov: nie sú dostatočne expresívne na to, aby vedeli sledovať otváranie a uzatváranie tagov, pretože nedokážu vyjadriť rekurzívne vzory.\n",
    "\n",
    "Na prácu so vzormi takého typu potrebujeme expresívnejšie jazyky a parsery: často založené na **bezkontextových gramatikách** .\n",
    "\n",
    "---\n",
    "### Úloha: telefónne čísla\n",
    "\n",
    "**Na základe nižšie uvedených vzoriek vytvorte funkciu `match_number(sample)`, ktorá pomocou regulárnych výrazov vyhodnotí zhodu vzorky s telefónnym číslom. Ak je vstupný reťazec `sample` nepredstavuje validné telefónne číslo, funkcia navráti `None`. Ak predstavuje validné telefónne číslo, funkcia navráti dvojicu celých čísel predstavujúcich kód krajiny (ak nie je uvedený, namiesto toho `None`) a samotné telefónne číslo.** \n",
    "\n",
    "Samples of numbers with formats from [[apache.org](https://stdcxx.apache.org/doc/stdlibug/26-1.html),[wikipedia.org](https://en.wikipedia.org/wiki/National_conventions_for_writing_telephone_numbers)]:\n",
    "\n",
    "* 754-3010: US, Local\n",
    "* (541) 754-3010: US, Domestic\n",
    "* +1-541-754-3010: US, International\n",
    "* 001-541-754-3010: US, International\n",
    "* +49-89-636-48018: German, International\n",
    "* +421 903 445 231: Slovak, International\n",
    "* 0903 445 231: Slovak, Domestic mobile\n",
    "* 41 510 4405: Slovak, Domestic landline\n",
    "* 4422-5588: Iceland, Domestic\n",
    "* 33 2187945: Netherlands, Domestic\n",
    "* +31 33 2187945: Netherlands, International\n",
    "* (33) 445-88-76: Poland, Domestic\n",
    "* +65-XXXX-YYYY: Singapore, International\n",
    "---\n",
    "Poznámky:\n",
    "\n",
    "* Aby ste zabezpečili, že zhoda sa bude vyhodnocovať s celým reťazcom a nie len s jeho časťou, namiesto funkcie `search` alebo `match` použite funkciu `fullmatch`.\n",
    "* Keď nájdete zhodu s číslom, zrejme z nej budete musieť pred konverziou na celé číslo pomocou funkcie `int` odstrániť znaky ako sú `'(', ')', '-'`. Nahradiť sa dajú napríklad pomocou `.replace` alebo `str.maketrans` a `.translate`.\n"
   ]
  },
  {
   "cell_type": "code",
   "execution_count": null,
   "metadata": {
    "tags": [
     "student"
    ]
   },
   "outputs": [],
   "source": [
    "expr = re.compile( # ---\n",
    "\n",
    "def match_number(sample):\n",
    "    \n",
    "    \n",
    "    # ---\n",
    "    \n",
    "    "
   ]
  },
  {
   "cell_type": "markdown",
   "metadata": {
    "tags": [
     "sk"
    ]
   },
   "source": [
    "#### Testovanie\n",
    "\n",
    "Teraz funkciu aplikujeme na niekoľko vzoriek a skontrolujeme výsledky.\n",
    "\n"
   ]
  },
  {
   "cell_type": "code",
   "execution_count": null,
   "metadata": {},
   "outputs": [],
   "source": [
    "num_correct = 0\n",
    "\n",
    "for sample, ret in phone_number_samples:\n",
    "    try:\n",
    "        retm = match_number(sample)\n",
    "        \n",
    "        if ret != retm:\n",
    "            print(\"Incorrect response for sample '{}'.'\".format(sample))\n",
    "            print(\"  - Expected: '{}'\".format(ret))\n",
    "            print(\"  - Got: '{}'\".format(retm))\n",
    "        else:\n",
    "            num_correct += 1\n",
    "    except:\n",
    "        print(\"Exception raised for sample '{}'.\".format(sample))\n",
    "        raise\n",
    "\n",
    "print(\"{} correct out of {} samples\".format(num_correct, len(phone_number_samples)))"
   ]
  },
  {
   "cell_type": "code",
   "execution_count": null,
   "metadata": {},
   "outputs": [],
   "source": []
  }
 ],
 "metadata": {
  "celltoolbar": "Tags",
  "kernelspec": {
   "display_name": "Python 3.9.12 ('base')",
   "language": "python",
   "name": "python3"
  },
  "language_info": {
   "codemirror_mode": {
    "name": "ipython",
    "version": 3
   },
   "file_extension": ".py",
   "mimetype": "text/x-python",
   "name": "python",
   "nbconvert_exporter": "python",
   "pygments_lexer": "ipython3",
   "version": "3.9.12"
  },
  "vscode": {
   "interpreter": {
    "hash": "a351393365bb1b108989afa08de3243f72f5e58927baf5d192f3cca79a41cbc4"
   }
  }
 },
 "nbformat": 4,
 "nbformat_minor": 4
}
