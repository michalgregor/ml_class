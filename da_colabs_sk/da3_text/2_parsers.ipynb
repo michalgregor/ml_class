{
 "cells": [
  {
   "cell_type": "markdown",
   "metadata": {
    "tags": [
     "sk"
    ]
   },
   "source": [
    "**POZNÁMKA: Tento notebook je určený pre platformu Google Colab. Je však možné ho spustiť (možno s drobnými úpravami) aj ako štandardný Jupyter notebook.** \n",
    "\n"
   ]
  },
  {
   "cell_type": "code",
   "execution_count": null,
   "metadata": {},
   "outputs": [],
   "source": [
    "#@title -- Installation of Packages -- { display-mode: \"form\" }\n",
    "import sys\n",
    "!{sys.executable} -m pip install parsley"
   ]
  },
  {
   "cell_type": "code",
   "execution_count": null,
   "metadata": {},
   "outputs": [],
   "source": [
    "#@title -- Import of Necessary Packages -- { display-mode: \"form\" }\n",
    "import parsley\n",
    "import numpy as np\n",
    "import networkx as nx\n",
    "import matplotlib.pyplot as plt"
   ]
  },
  {
   "cell_type": "code",
   "execution_count": null,
   "metadata": {},
   "outputs": [],
   "source": [
    "#@title -- Auxiliary Functions -- { display-mode: \"form\" }\n",
    "plot_kwds = dict(node_color='w',\n",
    "                 node_size=2000, linewidths=1,\n",
    "                 edgecolors='k', layout='dot')\n",
    "\n",
    "def add_node(G, AST, labels, parent=None):\n",
    "    if AST is None:\n",
    "        return\n",
    "    \n",
    "    nid = len(G.nodes)\n",
    "    \n",
    "    if parent is None:\n",
    "        G.add_node(nid)\n",
    "    else:\n",
    "        G.add_node(nid)\n",
    "        G.add_edge(parent, nid)\n",
    "\n",
    "    if isinstance(AST, tuple):\n",
    "        labels[nid] = AST[0]\n",
    "        for child in AST[1:]:\n",
    "            add_node(G, child, labels, nid)\n",
    "    elif isinstance(AST, list):\n",
    "        labels[nid] = 'LIST'\n",
    "        for child in AST:\n",
    "            add_node(G, child, labels, nid)\n",
    "    else:\n",
    "        labels[nid] = AST\n",
    "\n",
    "def draw(AST):\n",
    "    G = nx.DiGraph()\n",
    "    labels = {}\n",
    "    add_node(G, AST, labels)\n",
    "    G.graph['graph'] = {'rankdir': 'TD'}\n",
    "    pos = nx.drawing.nx_pydot.graphviz_layout(G, prog='dot')\n",
    "    return nx.draw(G, pos=pos, labels=labels, **plot_kwds)\n",
    "\n",
    "def ensure_list(e):\n",
    "    if isinstance(e, list):\n",
    "        return e\n",
    "    else:\n",
    "        return [e]"
   ]
  },
  {
   "cell_type": "markdown",
   "metadata": {
    "tags": [
     "sk"
    ]
   },
   "source": [
    "## Jazyky, gramatiky a parsery\n",
    "\n",
    "V predchádzajúcom notebook-u sme sa venovali regulárnym výrazom. Regulárne výrazy opisujú regulárne jazyky, ktoré však predstavujú len jeden špeciálny typ formálnych jazykov. Formálnym jazykom $L$ všeobecne rozumieme **množinu reťazcov**  (viet). Hovoríme, že vety patria do jazyka $L$. Reťazce pozostávajú zo symbolov. Množinu týchto symbolov $\\Sigma$ nazývame **abecedou jazyka**  $L$ [[intro_langs]](#intro_langs).\n",
    "\n",
    "### Množinový opis jazyka\n",
    "\n",
    "Keďže formálny jazyk je vlastne reprezentovaný množinou, prvým spôsobom, ako opísať formálny jazyk, je množinový zápis. Ak napríklad abeceda jazyka bude $\\Sigma = \\{ a, b \\}$, potom vety sa budú skladať z rôznych kombinácií znakov $a$ a $b$ [[intro_langs]](#intro_langs). Jazyk by mohol potom vyzerať napríklad takto:\n",
    "\n",
    "$$\n",
    "L = \\{ a, b, aa, bb \\}.\n",
    "$$\n",
    "Prázdny reťazec \"\" sa v kontexte formálnych jazykov zvykne označovať $\\lambda$ [[intro_langs]](#intro_langs). Ak by sme teda chceli, aby do jazyka patril aj  prázdny reťazec, mohli by sme písať:\n",
    "\n",
    "$$\n",
    "L = \\{ \\lambda, a, b, aa, bb \\}.\n",
    "$$\n",
    "Pri množinových zápisoch jazykov sa tiež dá vyjadriť dovolený počet opakovaní znakov a pod., napr.:\n",
    "\n",
    "$$\n",
    "L = \\{ a^n b^n | n \\geq 0 \\}\n",
    "$$\n",
    "by vyjadrovalo, že znaky $a$ a $b$ sa smú opakovať $n$ ráz, pričom $n \\geq 0$ [[intro_langs]](#intro_langs).\n",
    "\n",
    "### Opis jazyka cez gramatiky\n",
    "\n",
    "Množinový opis formálnych jazykov v žiadnom prípadne nepredstavuje jedinú možnosť, ako ich opísať — spôsobov je viacero. Jedným veľmi silným spôsobom je opis pomocou gramatík. Gramatikou $G$ rozumieme $n$-ticu $\\langle V, T, S, P \\rangle$, pričom [[intro_langs]](#intro_langs):\n",
    "\n",
    "* $V$ je konečná množina premenných;\n",
    "* $T$ je konečná množina terminálnych symbolov;\n",
    "* $S \\in V$ je počiatočná premenná (start variable);\n",
    "* $P$ je konečná množina **produkčných pravidiel** .\n",
    "Vety patriace do jazyka $L$ opísaného gramatikou $G$ sú potom tie, ktoré vieme získať, ak začneme s počiatočnou premennou a budeme ľubovoľný počet ráz a v ľubovoľnom poradí aplikovať produkčné pravidlá – tak, aby sme získali postupnosť obsahujúcu len terminály.\n",
    "\n",
    "Súvisiace koncepty bude najjednoduchšie ilustrovať na malom príklade. Dajme tomu, že máme gramatiku\n",
    "$G = \\langle \\{ S \\}, \\{ a, b \\}, S, P \\rangle$, pričom $P$ obsahuje dve produkčné pravidlá [[intro_langs]](#intro_langs):\n",
    "\n",
    "$$\n",
    "\\begin{aligned}\n",
    "S &\\rightarrow aSb \\\\\n",
    "S &\\rightarrow \\lambda\n",
    "\\end{aligned}\n",
    "$$\n",
    "Pravidlá hovoria, že $S$ smieme nahradiť buď prázdnym reťazcom $\\lambda$ alebo kombináciou $aSb$. Ak by sme teda začali od počiatočnej premennej $S$ a aplikovali druhé produkčné pravidlo, zistíme, že jazyk $L$ obsahuje prázdny reťazec $\\lambda$. Ak by sme najprv aplikovali pravidlo 1 a potom pravidlo 2, získali by sme ďalšiu možnú vetu: $ab$. A tak by sme mohli pokračovať ďalej, takže ekvivalentný množinový zápis by bol v tomto prípade evidentne\n",
    "\n",
    "$$\n",
    "L = \\{ a^n b^n | n \\geq 0 \\},\n",
    "$$\n",
    "t.j. jazyk, s ktorým sme sa už stretli vyššie.\n",
    "\n",
    "#### Parsery\n",
    "\n",
    "Ak vieme pre jazyk definovať gramatiku, existujú nástroje, ktoré vedia pre ňu automaticky vytvoriť parser. Parser vie overiť či postupnosť symbolov patrí do jazyka zodpovedajúceho danej gramatike a tiež vie na postupnosti vykonať iné potrebné operácie: napríklad ju transformovať do formy abstraktných syntaktických stromov, s ktorou pracujú kompilátory.\n",
    "\n",
    "#### Lexery\n",
    "\n",
    "V kontexte programovacích jazykov neoperujú väčšinou parsery priamo na surovom texte – väčšinou sa text najprv predspracuje lexerom, ktorý ho rozdelí na symboly (tokens) zodpovedajúce napr. numerickým literálom, indentifikátorom a pod.: lexery sú typicky založené na regulárnych výrazoch.\n",
    "\n",
    "### Gramatika pre kalkulačku; Parsley\n",
    "\n",
    "Ak sa má parsovať väčší objem textov, je vhodné použiť nástroje ako sú Lex a Yacc alebo Flex a Bison, ktoré vedia z definície symbolov a gramatiky automaticky vygenerovať rýchly lexer a parser v jazyku C alebo C++. Pre naše (najmä pedagogické) potreby však použijeme omnoho jednoduchší nástroj: Python-ový balíček `parsley`, ktorý kombinuje funkciu lexera aj parsera v jednoduchom Python-ovom rozhraní.\n",
    "\n",
    "Ako príklad si zadefinujeme gramatiku pre jednoduchú kalkulačku.\n",
    "\n",
    "#### Celé a reálne čísla\n",
    "\n",
    "V prvom kroku si napíšeme gramatiku na parsovanie celých a reálnych čísel. Práve túto časť úlohy by tradične riešil lexer. Na vytvorenie gramatiky použijeme funkciu `parsley.makeGrammar`, ktorej dáme na vstup reťazec opisujúci jej pravidlá. Aby sme mohli pohodlne písať viacriadkový zápis, reťazec obalíme do troch párov úvodzoviek. V rámci balíčka `parsley` vieme definovať zhodu buď priamo s jednotlivými znakmi – v tom prípade ich v rámci pravidla obalíme do úvodzoviek – alebo vieme použiť niektoré z už preddefinovaných základných pravidiel [[parsley_ref]](#parsley_ref):\n",
    "\n",
    "* **anything:**  zhoduje sa s ľubovoľným jedným vstupným znakom;\n",
    "* **letter:**  zhoduje sa s jedným ASCII písmenom;\n",
    "* **digit:**  zhoduje sa s ľubovoľnou desiatkovou číslicou;\n",
    "* **letterOrDigit:**  kombinuje predchádzajúce 2 vzory;\n",
    "* **end:**  zhoduje sa s koncom reťazca;\n",
    "* **ws:**  zhoduje sa s nula alebo viacerými medzerami, tabulátormi a znakmi nového riadka.\n",
    "Podobne ako v regulárnych výrazoch vieme tiež definovať opakovanie pomocou operátorov `+`, `*`, `{n}`, prípadne alternatívy pomocou operátora `|`. Ďalšiu notáciu, ktorá je k dispozícii, je možné nájsť v [[parsley_ref]](#parsley_ref).\n",
    "\n",
    "My si teda ako prvé definujme pravidlo `int`, ktoré identifikuje celé číslo, t.j. postupnosť jednej alebo viacerých číslic a skúsme ho aplikovať na testovací reťazec:\n",
    "\n"
   ]
  },
  {
   "cell_type": "code",
   "execution_count": null,
   "metadata": {},
   "outputs": [],
   "source": [
    "G = parsley.makeGrammar(\"\"\"\n",
    "int = digit+\n",
    "\"\"\", {})\n",
    "\n",
    "G(\"123\").int()"
   ]
  },
  {
   "cell_type": "markdown",
   "metadata": {
    "tags": [
     "sk"
    ]
   },
   "source": [
    "Ako vidno, z pravidiel gramatiky generuje `parsley` Python-ové funkcie s rovnakým názvom, ktoré môžeme zavolať potom, ako dáme na vstup gramatiky nejaký reťazec. Pravidlá bežne fungujú tak, že navracajú zhodu v rámci posledného symbolu pravidla. V tomto prípade to je symbol `digit+`. Keďže ide o symbol s opakovaním, pravidlo nám vracia zoznam celej zhodujúcej sa postupnosti.\n",
    "\n",
    "Keďže dosť často potrebujeme získať nejakú časť zhody naspäť v podobe textového reťazca, existuje na to v `parsley` špeciálna notácia: príslušnú časť pravidla stačí obaliť do špicatých zátvoriek:\n",
    "\n"
   ]
  },
  {
   "cell_type": "code",
   "execution_count": null,
   "metadata": {},
   "outputs": [],
   "source": [
    "G = parsley.makeGrammar(\"\"\"\n",
    "int = <digit+>\n",
    "\"\"\", {})\n",
    "\n",
    "G(\"123\").int()"
   ]
  },
  {
   "cell_type": "markdown",
   "metadata": {
    "tags": [
     "sk"
    ]
   },
   "source": [
    "Teraz sme namiesto zoznamu získali textový reťazec zodpovedajúci danému celému číslu. Lepšie by však bolo získať číslo rovno v numerickom tvare. Našťastie vieme do pravidiel zapísať aj inline Python-ový kód, ktorý umožňuje návratovú hodnotu ľubovoľne spracovať. Píše sa na koniec príslušnej časti pravidla a oddeľuje sa značením `->`. Aby sme v rámci kódu mohli pracovať so zhodami nájdenými v rámci pravidla, môžeme si ich pomenovať tak, že za ne napíšeme dvojboku a identifikátor. V našom prípade by teda mohli konvertovať reťazec na celé číslo pomocou funkcie `int` takto:\n",
    "\n"
   ]
  },
  {
   "cell_type": "code",
   "execution_count": null,
   "metadata": {},
   "outputs": [],
   "source": [
    "G = parsley.makeGrammar(\"\"\"\n",
    "int = <digit+>:x -> int(x)\n",
    "\"\"\", {})\n",
    "\n",
    "G(\"123\").int()"
   ]
  },
  {
   "cell_type": "markdown",
   "metadata": {
    "tags": [
     "sk"
    ]
   },
   "source": [
    "Na dovysvetlenie: časť `<digit+>:x` teraz priraďuje príslušnú zhodu do premennej `x` a časť `-> int(x)` hovorí, že má pravidlo navrátiť hodnotu `int(x)`.\n",
    "\n",
    "Ďalej si skúsme definovať pravidlo pre reálne čísla: bude podobné ako pre celé čísla, ibaže v zápise bude práve jedna desatinná bodka:\n",
    "\n"
   ]
  },
  {
   "cell_type": "code",
   "execution_count": null,
   "metadata": {},
   "outputs": [],
   "source": [
    "G = parsley.makeGrammar(\"\"\"\n",
    "float = <digit+ '.' digit+>:x -> float(x)\n",
    "\"\"\", {})\n",
    "\n",
    "G(\"3.14\").float()"
   ]
  },
  {
   "cell_type": "markdown",
   "metadata": {
    "tags": [
     "sk"
    ]
   },
   "source": [
    "Vo všeobecnosti môže gramatika samozrejme obsahovať aj viacero pravidiel, ktoré sa jedno na druhé odvolávajú. Dajme tomu, že by v rámci gramatiky mali už vytvorené pravidlá `int` a `float` a pridali by sme ďalšie pravidlo `number` vyjadrujúce, že  číslo môže byť buď `int` alebo `float`:\n",
    "\n"
   ]
  },
  {
   "cell_type": "code",
   "execution_count": null,
   "metadata": {},
   "outputs": [],
   "source": [
    "G = parsley.makeGrammar(\"\"\"\n",
    "number = float|int\n",
    "int = <digit+>:x -> int(x)\n",
    "float = <digit+ '.' digit+>:x -> float(x)\n",
    "\"\"\", {})\n",
    "\n",
    "print(G(\"123\").number())\n",
    "print(G(\"3.14\").number())"
   ]
  },
  {
   "cell_type": "markdown",
   "metadata": {
    "tags": [
     "sk"
    ]
   },
   "source": [
    "#### Sčítanie\n",
    "\n",
    "V ďalšom kroku môžeme pridať podporu sčítania. Pridáme ďalšie pravidlo, ktoré vyjadrí, že sa smú v jazyku vyskytovať aj viaceré čísla spojené symbolom `+` a že návratovou hodnotou bude v takom prípade súčet oboch čísel. Alternatívne dovolíme, aby sa zadalo aj jedno samotné číslo, preto bude nové pravidlo `addExpr` mať dve alternatívne definície, ktoré môžeme vyjadriť buď pomocou operátor `|` alebo zodpovedajúcimi definíciami `addExpr` v dvoch osobitných riadkoch:\n",
    "\n"
   ]
  },
  {
   "cell_type": "code",
   "execution_count": null,
   "metadata": {},
   "outputs": [],
   "source": [
    "G = parsley.makeGrammar(\"\"\"\n",
    "addExpr = number:x1 '+' number:x2 -> x1 + x2\n",
    "addExpr = number\n",
    "number = float|int\n",
    "int = <digit+>:x -> int(x)\n",
    "float = <digit+ '.' digit+>:x -> float(x)\n",
    "\"\"\", {})\n",
    "\n",
    "print(G(\"2+3\").addExpr())\n",
    "print(G(\"123\").addExpr())"
   ]
  },
  {
   "cell_type": "markdown",
   "metadata": {
    "tags": [
     "sk"
    ]
   },
   "source": [
    "Táto gramatika nám zatial neumožňuje sčítať viac než dve čísla — taká veta nie je v rámci definovaného jazyka prípustná. Môžeme ju ale doplniť zavedením rekurzívneho pravidla takto:\n",
    "\n"
   ]
  },
  {
   "cell_type": "code",
   "execution_count": null,
   "metadata": {},
   "outputs": [],
   "source": [
    "G = parsley.makeGrammar(\"\"\"\n",
    "addExpr = addExpr:x1 '+' addExpr:x2 -> x1 + x2\n",
    "addExpr = number\n",
    "number = float|int\n",
    "int = <digit+>:x -> int(x)\n",
    "float = <digit+ '.' digit+>:x -> float(x)\n",
    "\"\"\", {})\n",
    "\n",
    "print(G(\"2+3+4\").addExpr())"
   ]
  },
  {
   "cell_type": "markdown",
   "metadata": {
    "tags": [
     "sk"
    ]
   },
   "source": [
    "#### Odčítanie\n",
    "\n",
    "Doplniť odčítanie bude jednoduché. Samotné výpočty kvôli zjednodušeniu zápisu vykonáme pomocou na to definovanej funkcie `calc`, ktorá bude mať na vstupe operátor a dve čísla:\n",
    "\n"
   ]
  },
  {
   "cell_type": "code",
   "execution_count": null,
   "metadata": {},
   "outputs": [],
   "source": [
    "def calc(op, x1, x2):\n",
    "    if op == '+':\n",
    "        return x1 + x2\n",
    "    elif op == '-':\n",
    "        return x1 - x2\n",
    "    elif op == '*':\n",
    "        return x1 * x2\n",
    "    elif op == '/':\n",
    "        return x1 / x2\n",
    "    else:\n",
    "        raise RuntimeError(\"Uknown operator '{}'.\".format(op))"
   ]
  },
  {
   "cell_type": "markdown",
   "metadata": {
    "tags": [
     "sk"
    ]
   },
   "source": [
    "Samotný operátor odčítania stačí potom v rámci pravidla jednoducho pridať ako ďalšiu alternatívu. Samozrejme budeme potrebovať vedieť, ktorý operátor sa použil, takže zhodu priradíme do premennej `op`.\n",
    "\n",
    "Aby sme mohli v rámci gramatiky použiť vlastnú funkciu, treba ju tiež zaregistrovať pomocou slovníka, ktorý dávame na vstup funkcie `parsley.makeGrammar`. Povieme, že v gramatike funkcii s názvom `'calc'` zodpovedá Python-ová funkcia `calc`, t.j. `{'calc': calc}`.\n",
    "\n"
   ]
  },
  {
   "cell_type": "code",
   "execution_count": null,
   "metadata": {},
   "outputs": [],
   "source": [
    "G = parsley.makeGrammar(\"\"\"\n",
    "addExpr = addExpr:x1 ('+'|'-'):op addExpr:x2 -> calc(op, x1, x2)\n",
    "addExpr = number\n",
    "number = float|int\n",
    "int = <digit+>:x -> int(x)\n",
    "float = <digit+ '.' digit+>:x -> float(x)\n",
    "\"\"\", {'calc': calc})\n",
    "\n",
    "print(G(\"2+3-4\").addExpr())"
   ]
  },
  {
   "cell_type": "markdown",
   "metadata": {
    "tags": [
     "sk"
    ]
   },
   "source": [
    "#### Násobenie a delenie\n",
    "\n",
    "Podstatne zložitejšie bude doplniť násobenie a delenie: pretože tie majú podľa konvencie prioritu oproti sčítaniu a odčítaniu. Vyriešime to pridaním nového typu výrazu (pravidla) `multExpr`, pričom dáme pozor, aby sme pravidlá kombinovali takým spôsobom a definovali v takom poradí, aby sa všetko násobenie a delenie muselo zrealizovať ešte predtým než sa budú dať dané výrazy dosadiť do pravidla `addExpr`.\n",
    "\n"
   ]
  },
  {
   "cell_type": "code",
   "execution_count": null,
   "metadata": {},
   "outputs": [],
   "source": [
    "G = parsley.makeGrammar(\"\"\"\n",
    "expr = addExpr\n",
    "addExpr = addExpr:x1 ('+' | '-'):op multExpr:x2 -> calc(op, x1, x2)\n",
    "addExpr = multExpr\n",
    "multExpr = multExpr:x1 ('*' | '/'):op multExpr:x2 -> calc(op, x1, x2)\n",
    "multExpr = number\n",
    "number = float|int\n",
    "int = <digit+>:x -> int(x)\n",
    "float = <digit+ '.' digit+>:x -> float(x)\n",
    "\"\"\", {'calc': calc})\n",
    "\n",
    "print(G(\"2*3+4\").expr())\n",
    "print(G(\"4+2*3\").expr())"
   ]
  },
  {
   "cell_type": "markdown",
   "metadata": {
    "tags": [
     "sk"
    ]
   },
   "source": [
    "Ak táto gramatika narazí najprv na operátor `+` (alebo `-`; pravidlo `addExpr`), nemôže sa aplikovať hneď, pretože pravidlo je definované tak, že jeden alebo oba sčítance musia vyhovovať `multExpr`: musí sa teda najprv overiť či to platí a v rámci toho kroku sa vykonajú príslušné násobenia.\n",
    "\n",
    "#### Doplnenie zátvoriek\n",
    "\n",
    "Ak chceme prioritu operácií explicitne zmeniť, dá sa to urobiť pomocou zátvoriek. Doplniť by sme ich mohli ako ďalšiu možnú alternatívu pravidla `multExpr`:\n",
    "\n"
   ]
  },
  {
   "cell_type": "code",
   "execution_count": null,
   "metadata": {},
   "outputs": [],
   "source": [
    "G = parsley.makeGrammar(\"\"\"\n",
    "expr = addExpr\n",
    "addExpr = addExpr:x1 ('+' | '-'):op multExpr:x2 -> calc(op, x1, x2)\n",
    "addExpr = multExpr\n",
    "multExpr = multExpr:x1 ('*' | '/'):op multExpr:x2 -> calc(op, x1, x2)\n",
    "multExpr = number\n",
    "multExpr = '(' addExpr:x ')' -> x\n",
    "number = float|int\n",
    "int = <digit+>:x -> int(x)\n",
    "float = <digit+ '.' digit+>:x -> float(x)\n",
    "\"\"\", {'calc': calc})\n",
    "\n",
    "print(G(\"2*(3+4)\").expr())\n",
    "print(G(\"(3+4)*2\").expr())"
   ]
  },
  {
   "cell_type": "markdown",
   "metadata": {
    "tags": [
     "sk"
    ]
   },
   "source": [
    "### Abstraktné syntaktické stromy\n",
    "\n",
    "V praxi sa často stretávame s tým, že nad výsledkami parsovania chceme vykonať zložitejšie analýzy: v kontexte kompilátorov sa napríklad realizuje pred prekladom do strojového kódu optimalizácia. Zo zdrojového kódu sa teda pomocou parsera vytvorí tzv. abstraktný syntaktický strom, ktorý sa ľahšie analyzuje.\n",
    "\n",
    "Na ilustráciu teraz skúsime prepísať gramatiku vyššie vytvorenej kalkulačky tak, aby namiesto priamych výpočtov vytvorila abstraktný syntaktický strom, ktorý si následne vizualizujeme. Urobíme to tak, že namiesto operácie `calc` budeme vytvárať trojice `(op, x1, x2)` obsahujúce operátor `op` a ľavý a pravý výraz, na ktoré sa operátor aplikuje. Vznikne nám tak jednoduchý strom zložený z vnorených trojíc.\n",
    "\n"
   ]
  },
  {
   "cell_type": "code",
   "execution_count": null,
   "metadata": {},
   "outputs": [],
   "source": [
    "G = parsley.makeGrammar(\"\"\"\n",
    "expr = addExpr\n",
    "addExpr = ( addExpr:x1 ('+' | '-'):op multExpr:x2 -> (op, x1, x2)\n",
    "          | multExpr)\n",
    "multExpr = ( multExpr:x1 ('*' | '/'):op number:x2 -> (op, x1, x2)\n",
    "           | number | '(' expr:x ')' -> x)\n",
    "number = float|int\n",
    "int = <digit+>:x -> int(x)\n",
    "float = <digit+ '.' digit+>:x -> float(x)\n",
    "\"\"\", {})\n",
    "\n",
    "AST = G(\"(2*2+3*2)*4\").expr()\n",
    "print(AST)\n",
    "draw(AST)"
   ]
  },
  {
   "cell_type": "markdown",
   "metadata": {
    "tags": [
     "sk"
    ]
   },
   "source": [
    "### Parsovanie HTML\n",
    "\n",
    "V notebook-u o regulárnych výrazoch sme ukázali, ako sa dajú z textu odstrániť HTML tagy, povedali sme však, že na to, aby sme odstránili HTML tag-y aj s ich obsahom nie sú regulárne výrazy dostatočne expresívne: keďže nevedia vyjadriť rekurzívne vzory, nepodarilo by sa nám pomocou nich sledovať otváranie a uzatváranie tagov.\n",
    "\n",
    "V ďalšom príklade si definujeme gramatiku, ktorá umožní parsovať HTML a zobrazíme výsledný abstraktný syntaktický strom. Pre zjednodušenie budeme predpokladať, že všetky použité tagy budú párové (bolo by možné samozrejme pracovať aj s nepárovými tagmi, ale pre naše potreby by to úlohu zbytočne skomplikovalo).\n",
    "\n",
    "#### Text okrem znakov `<` a `>`\n",
    "\n",
    "Ako prvé si vytvorme pravidlo na zhodu s ľubovoľným textom okrem znakov `<` a `>` označujúcich tagy. Použijeme na to špeciálny zápis `?(condition)`, ktorý nám umožňuje zhodu vyhodnotiť pomocou inline Python-ového kódu.\n",
    "\n"
   ]
  },
  {
   "cell_type": "code",
   "execution_count": null,
   "metadata": {},
   "outputs": [],
   "source": [
    "G = parsley.makeGrammar(\"\"\"\n",
    "except_angle = :x ?(not x in '<>')\n",
    "text = <except_angle+>\n",
    "\"\"\", {})\n",
    "\n",
    "print(G(\"abcd\").text())"
   ]
  },
  {
   "cell_type": "markdown",
   "metadata": {
    "tags": [
     "sk"
    ]
   },
   "source": [
    "#### Otvárajúci a uzatvárajúci tag\n",
    "\n",
    "Ďalej si vytvorme pravidlá pre otvárajúci a uzatvárajúci tag:\n",
    "\n"
   ]
  },
  {
   "cell_type": "code",
   "execution_count": null,
   "metadata": {},
   "outputs": [],
   "source": [
    "G = parsley.makeGrammar(\"\"\"\n",
    "except_angle = :x ?(not x in '<>')\n",
    "closing_tag = '</' <except_angle+>:c '>' -> c\n",
    "opening_tag = '<' <except_angle+>:c '>' -> c\n",
    "\"\"\", {})\n",
    "\n",
    "print(G(\"<tag>\").opening_tag())\n",
    "print(G(\"</tag>\").closing_tag())"
   ]
  },
  {
   "cell_type": "markdown",
   "metadata": {
    "tags": [
     "sk"
    ]
   },
   "source": [
    "#### Páry tagov\n",
    "\n",
    "Ďalej zadefinujme páry tagov. Pár musí obsahovať otvárajúci a uzatvárajúci tag a oba tagy sa musia zhodovať. Medzi tagmi môže byť text alebo ďalší tag.\n",
    "\n"
   ]
  },
  {
   "cell_type": "code",
   "execution_count": null,
   "metadata": {},
   "outputs": [],
   "source": [
    "G = parsley.makeGrammar(\"\"\"\n",
    "except_angle = :x ?(not x in '<>')\n",
    "closing_tag = '</' <except_angle+>:c '>' -> c\n",
    "opening_tag = '<' <except_angle+>:c '>' -> c\n",
    "expr = opening_tag:t1 expr:e closing_tag:t2 ?(t1 == t2) -> ('<' + t1 + '>', e)\n",
    "expr = <except_angle+>\n",
    "\"\"\", {})\n",
    "\n",
    "print(G(\"<b>content</b>\").expr())\n",
    "print(G(\"<b><div>content</div></b>\").expr())"
   ]
  },
  {
   "cell_type": "markdown",
   "metadata": {
    "tags": [
     "sk"
    ]
   },
   "source": [
    "#### Reťazenie výrazov\n",
    "\n",
    "Tagy môžu byť obklopené aj textom, ďalšími tagmi a rovnako môžu kombináciu viacerých tagov aj textov aj obsahovať. Vytvoríme preto pravidlo `expr = expr:e1 expr:e2`, ktoré umožní výrazy reťaziť. Použijeme pomocnú funkciu `ensure_list`, ktorá výrazy v prípade potreby obalí do zoznamov a spojí ich dokopy: v dôsledku toho budú všetky výrazy (tagy aj text) na tej istej úrovni spojené do jedného zoznamu.\n",
    "\n"
   ]
  },
  {
   "cell_type": "code",
   "execution_count": null,
   "metadata": {},
   "outputs": [],
   "source": [
    "text = \"\"\"\n",
    "text above\n",
    "<div>\n",
    "div 1 content\n",
    "<span>inner span 1</span>\n",
    "<span>inner span 2</span>\n",
    "</div><div>\n",
    "div 2 content\n",
    "<span>inner span</span>\n",
    "</div>\n",
    "text below\n",
    "\"\"\""
   ]
  },
  {
   "cell_type": "code",
   "execution_count": null,
   "metadata": {},
   "outputs": [],
   "source": [
    "G = parsley.makeGrammar(\"\"\"\n",
    "except_angle = :x ?(not x in '<>')\n",
    "closing_tag = '</' <except_angle+>:c '>' -> c\n",
    "opening_tag = '<' <except_angle+>:c '>' -> c\n",
    "expr = opening_tag:t1 expr:e closing_tag:t2 ?(t1 == t2) -> ('<' + t1 + '>', e)\n",
    "expr = expr:e1 expr:e2 -> ensure_list(e1) + ensure_list(e2)\n",
    "expr = <except_angle+> -> \"txt\"\n",
    "\"\"\", {'ensure_list': ensure_list})\n",
    "\n",
    "AST = G(text).expr()\n",
    "plt.figure(figsize=(10, 5))\n",
    "draw(AST)"
   ]
  },
  {
   "cell_type": "markdown",
   "metadata": {
    "tags": [
     "sk"
    ]
   },
   "source": [
    "#### Odstránenie HTML tagov a ich obsahu\n",
    "\n",
    "V ďalšom kroku ešte prepracujme gramatiku tak, aby sme splnili úlohu z predchádzajúceho notebook-u. Odstránime všetky HTML tagy aj s ich obsahom.\n",
    "\n"
   ]
  },
  {
   "cell_type": "code",
   "execution_count": null,
   "metadata": {},
   "outputs": [],
   "source": [
    "text = \"\"\"\n",
    "text above\n",
    "<div>\n",
    "div 1 content\n",
    "<span>inner span 1</span>\n",
    "<span>inner span 2</span>\n",
    "</div><div>\n",
    "div 2 content\n",
    "<span>inner span</span>\n",
    "</div>\n",
    "text below\n",
    "\"\"\""
   ]
  },
  {
   "cell_type": "code",
   "execution_count": null,
   "metadata": {},
   "outputs": [],
   "source": [
    "G = parsley.makeGrammar(\"\"\"\n",
    "except_angle = :x ?(not x in '<>')\n",
    "closing_tag = '</' <except_angle+>:c '>' -> c\n",
    "opening_tag = '<' <except_angle+>:c '>' -> c\n",
    "expr = opening_tag:t1 expr:e closing_tag:t2 ?(t1 == t2) -> ('')\n",
    "expr = expr:e1 expr:e2 -> e1 + e2\n",
    "expr = <except_angle+>\n",
    "\"\"\", {})\n",
    "\n",
    "print(G(text).expr())"
   ]
  },
  {
   "cell_type": "markdown",
   "metadata": {
    "tags": [
     "sk"
    ]
   },
   "source": [
    "---\n",
    "### Úloha: parsovanie zoznamu\n",
    "\n",
    "**Nasledujúca bunka definuje premennú `text`, ktorá obsahuje textovú reprezentáciu zoznamu. Napíšte gramatiku `G` s hlavným pravidlom `list`, ktorá `text` sparsuje späť do podoby zoznamu reťazcov.** \n",
    "\n",
    "---\n"
   ]
  },
  {
   "cell_type": "code",
   "execution_count": null,
   "metadata": {},
   "outputs": [],
   "source": [
    "lst = [\"abcd\", \"efg\", \"hij\", \"klmn\"]\n",
    "text = \",\".join(lst)\n",
    "print(text)"
   ]
  },
  {
   "cell_type": "code",
   "execution_count": null,
   "metadata": {
    "tags": [
     "student"
    ]
   },
   "outputs": [],
   "source": [
    "G = parsley.makeGrammar(\"\"\"\n",
    "\n",
    "\n",
    "# ---\n",
    "\n",
    "\n",
    "\"\"\", {})"
   ]
  },
  {
   "cell_type": "markdown",
   "metadata": {
    "tags": [
     "sk"
    ]
   },
   "source": [
    "#### Testovanie\n",
    "\n",
    "A teraz skontrolujme, či sa list sparsoval korektne.\n",
    "\n"
   ]
  },
  {
   "cell_type": "code",
   "execution_count": null,
   "metadata": {},
   "outputs": [],
   "source": [
    "l = G(text).list()\n",
    "\n",
    "if l == lst:\n",
    "    print(\"List parsed correctly.\")\n",
    "else:\n",
    "    print(\"List parsed correctly.\")\n",
    "    print(\"-- Expected: {}\".format(l))\n",
    "    print(\"-- Got: {}\".format(lst))"
   ]
  },
  {
   "cell_type": "markdown",
   "metadata": {},
   "source": [
    "### References\n",
    "\n",
    "<a id=\"intro_langs\">[intro_langs]</a> Linz, P., 2006. An introduction to formal languages and automata. Jones & Bartlett Learning.\n",
    "\n",
    "<a id=\"parsley_ref\">[parsley_ref]</a> Parsley Reference. URL: <https://parsley.readthedocs.io/en/latest/reference.html>\n",
    "\n"
   ]
  }
 ],
 "metadata": {
  "celltoolbar": "Tags",
  "kernelspec": {
   "display_name": "Python 3",
   "language": "python",
   "name": "python3"
  },
  "language_info": {
   "codemirror_mode": {
    "name": "ipython",
    "version": 3
   },
   "file_extension": ".py",
   "mimetype": "text/x-python",
   "name": "python",
   "nbconvert_exporter": "python",
   "pygments_lexer": "ipython3",
   "version": "3.8.3"
  }
 },
 "nbformat": 4,
 "nbformat_minor": 4
}
